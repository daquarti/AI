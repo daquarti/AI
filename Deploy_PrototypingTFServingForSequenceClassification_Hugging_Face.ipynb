{
  "nbformat": 4,
  "nbformat_minor": 0,
  "metadata": {
    "colab": {
      "name": "Copy of Deploy PrototypingTFServingForSequenceClassification Hugging Face_JAVI.ipynb",
      "provenance": [],
      "collapsed_sections": [],
      "include_colab_link": true
    },
    "kernelspec": {
      "name": "python3",
      "display_name": "Python 3"
    },
    "accelerator": "GPU",
    "widgets": {
      "application/vnd.jupyter.widget-state+json": {
        "9f7ad8b188da4325817b83d0a4127e00": {
          "model_module": "@jupyter-widgets/controls",
          "model_name": "HBoxModel",
          "state": {
            "_view_name": "HBoxView",
            "_dom_classes": [],
            "_model_name": "HBoxModel",
            "_view_module": "@jupyter-widgets/controls",
            "_model_module_version": "1.5.0",
            "_view_count": null,
            "_view_module_version": "1.5.0",
            "box_style": "",
            "layout": "IPY_MODEL_24abd94a4c9e440a84c77e20c7815e69",
            "_model_module": "@jupyter-widgets/controls",
            "children": [
              "IPY_MODEL_bad7a4b4b7e8422093f8962e6b333f41",
              "IPY_MODEL_9c937450fbb0485b9d625c07cbf0252b"
            ]
          }
        },
        "24abd94a4c9e440a84c77e20c7815e69": {
          "model_module": "@jupyter-widgets/base",
          "model_name": "LayoutModel",
          "state": {
            "_view_name": "LayoutView",
            "grid_template_rows": null,
            "right": null,
            "justify_content": null,
            "_view_module": "@jupyter-widgets/base",
            "overflow": null,
            "_model_module_version": "1.2.0",
            "_view_count": null,
            "flex_flow": null,
            "width": null,
            "min_width": null,
            "border": null,
            "align_items": null,
            "bottom": null,
            "_model_module": "@jupyter-widgets/base",
            "top": null,
            "grid_column": null,
            "overflow_y": null,
            "overflow_x": null,
            "grid_auto_flow": null,
            "grid_area": null,
            "grid_template_columns": null,
            "flex": null,
            "_model_name": "LayoutModel",
            "justify_items": null,
            "grid_row": null,
            "max_height": null,
            "align_content": null,
            "visibility": null,
            "align_self": null,
            "height": null,
            "min_height": null,
            "padding": null,
            "grid_auto_rows": null,
            "grid_gap": null,
            "max_width": null,
            "order": null,
            "_view_module_version": "1.2.0",
            "grid_template_areas": null,
            "object_position": null,
            "object_fit": null,
            "grid_auto_columns": null,
            "margin": null,
            "display": null,
            "left": null
          }
        },
        "bad7a4b4b7e8422093f8962e6b333f41": {
          "model_module": "@jupyter-widgets/controls",
          "model_name": "FloatProgressModel",
          "state": {
            "_view_name": "ProgressView",
            "style": "IPY_MODEL_f4c0b9b5d54a4a64be73ef044276672d",
            "_dom_classes": [],
            "description": "Downloading: 100%",
            "_model_name": "FloatProgressModel",
            "bar_style": "success",
            "max": 466,
            "_view_module": "@jupyter-widgets/controls",
            "_model_module_version": "1.5.0",
            "value": 466,
            "_view_count": null,
            "_view_module_version": "1.5.0",
            "orientation": "horizontal",
            "min": 0,
            "description_tooltip": null,
            "_model_module": "@jupyter-widgets/controls",
            "layout": "IPY_MODEL_6fc31ed6a0fe40d1a36bdeb4f39c16bd"
          }
        },
        "9c937450fbb0485b9d625c07cbf0252b": {
          "model_module": "@jupyter-widgets/controls",
          "model_name": "HTMLModel",
          "state": {
            "_view_name": "HTMLView",
            "style": "IPY_MODEL_398ced388a684b63ba630045c1f38355",
            "_dom_classes": [],
            "description": "",
            "_model_name": "HTMLModel",
            "placeholder": "​",
            "_view_module": "@jupyter-widgets/controls",
            "_model_module_version": "1.5.0",
            "value": " 466/466 [00:01&lt;00:00, 321B/s]",
            "_view_count": null,
            "_view_module_version": "1.5.0",
            "description_tooltip": null,
            "_model_module": "@jupyter-widgets/controls",
            "layout": "IPY_MODEL_af27205a8d5b4c68b2ffd3dfb44c50e8"
          }
        },
        "f4c0b9b5d54a4a64be73ef044276672d": {
          "model_module": "@jupyter-widgets/controls",
          "model_name": "ProgressStyleModel",
          "state": {
            "_view_name": "StyleView",
            "_model_name": "ProgressStyleModel",
            "description_width": "initial",
            "_view_module": "@jupyter-widgets/base",
            "_model_module_version": "1.5.0",
            "_view_count": null,
            "_view_module_version": "1.2.0",
            "bar_color": null,
            "_model_module": "@jupyter-widgets/controls"
          }
        },
        "6fc31ed6a0fe40d1a36bdeb4f39c16bd": {
          "model_module": "@jupyter-widgets/base",
          "model_name": "LayoutModel",
          "state": {
            "_view_name": "LayoutView",
            "grid_template_rows": null,
            "right": null,
            "justify_content": null,
            "_view_module": "@jupyter-widgets/base",
            "overflow": null,
            "_model_module_version": "1.2.0",
            "_view_count": null,
            "flex_flow": null,
            "width": null,
            "min_width": null,
            "border": null,
            "align_items": null,
            "bottom": null,
            "_model_module": "@jupyter-widgets/base",
            "top": null,
            "grid_column": null,
            "overflow_y": null,
            "overflow_x": null,
            "grid_auto_flow": null,
            "grid_area": null,
            "grid_template_columns": null,
            "flex": null,
            "_model_name": "LayoutModel",
            "justify_items": null,
            "grid_row": null,
            "max_height": null,
            "align_content": null,
            "visibility": null,
            "align_self": null,
            "height": null,
            "min_height": null,
            "padding": null,
            "grid_auto_rows": null,
            "grid_gap": null,
            "max_width": null,
            "order": null,
            "_view_module_version": "1.2.0",
            "grid_template_areas": null,
            "object_position": null,
            "object_fit": null,
            "grid_auto_columns": null,
            "margin": null,
            "display": null,
            "left": null
          }
        },
        "398ced388a684b63ba630045c1f38355": {
          "model_module": "@jupyter-widgets/controls",
          "model_name": "DescriptionStyleModel",
          "state": {
            "_view_name": "StyleView",
            "_model_name": "DescriptionStyleModel",
            "description_width": "",
            "_view_module": "@jupyter-widgets/base",
            "_model_module_version": "1.5.0",
            "_view_count": null,
            "_view_module_version": "1.2.0",
            "_model_module": "@jupyter-widgets/controls"
          }
        },
        "af27205a8d5b4c68b2ffd3dfb44c50e8": {
          "model_module": "@jupyter-widgets/base",
          "model_name": "LayoutModel",
          "state": {
            "_view_name": "LayoutView",
            "grid_template_rows": null,
            "right": null,
            "justify_content": null,
            "_view_module": "@jupyter-widgets/base",
            "overflow": null,
            "_model_module_version": "1.2.0",
            "_view_count": null,
            "flex_flow": null,
            "width": null,
            "min_width": null,
            "border": null,
            "align_items": null,
            "bottom": null,
            "_model_module": "@jupyter-widgets/base",
            "top": null,
            "grid_column": null,
            "overflow_y": null,
            "overflow_x": null,
            "grid_auto_flow": null,
            "grid_area": null,
            "grid_template_columns": null,
            "flex": null,
            "_model_name": "LayoutModel",
            "justify_items": null,
            "grid_row": null,
            "max_height": null,
            "align_content": null,
            "visibility": null,
            "align_self": null,
            "height": null,
            "min_height": null,
            "padding": null,
            "grid_auto_rows": null,
            "grid_gap": null,
            "max_width": null,
            "order": null,
            "_view_module_version": "1.2.0",
            "grid_template_areas": null,
            "object_position": null,
            "object_fit": null,
            "grid_auto_columns": null,
            "margin": null,
            "display": null,
            "left": null
          }
        },
        "f4777d0abd9e4324ac3bd4225278055c": {
          "model_module": "@jupyter-widgets/controls",
          "model_name": "HBoxModel",
          "state": {
            "_view_name": "HBoxView",
            "_dom_classes": [],
            "_model_name": "HBoxModel",
            "_view_module": "@jupyter-widgets/controls",
            "_model_module_version": "1.5.0",
            "_view_count": null,
            "_view_module_version": "1.5.0",
            "box_style": "",
            "layout": "IPY_MODEL_156fa62d8ccc46d685527c5141975a57",
            "_model_module": "@jupyter-widgets/controls",
            "children": [
              "IPY_MODEL_c48587baf8a142e887e089787d0e4619",
              "IPY_MODEL_85013efceafe4975aaa301837a3ebeda"
            ]
          }
        },
        "156fa62d8ccc46d685527c5141975a57": {
          "model_module": "@jupyter-widgets/base",
          "model_name": "LayoutModel",
          "state": {
            "_view_name": "LayoutView",
            "grid_template_rows": null,
            "right": null,
            "justify_content": null,
            "_view_module": "@jupyter-widgets/base",
            "overflow": null,
            "_model_module_version": "1.2.0",
            "_view_count": null,
            "flex_flow": null,
            "width": null,
            "min_width": null,
            "border": null,
            "align_items": null,
            "bottom": null,
            "_model_module": "@jupyter-widgets/base",
            "top": null,
            "grid_column": null,
            "overflow_y": null,
            "overflow_x": null,
            "grid_auto_flow": null,
            "grid_area": null,
            "grid_template_columns": null,
            "flex": null,
            "_model_name": "LayoutModel",
            "justify_items": null,
            "grid_row": null,
            "max_height": null,
            "align_content": null,
            "visibility": null,
            "align_self": null,
            "height": null,
            "min_height": null,
            "padding": null,
            "grid_auto_rows": null,
            "grid_gap": null,
            "max_width": null,
            "order": null,
            "_view_module_version": "1.2.0",
            "grid_template_areas": null,
            "object_position": null,
            "object_fit": null,
            "grid_auto_columns": null,
            "margin": null,
            "display": null,
            "left": null
          }
        },
        "c48587baf8a142e887e089787d0e4619": {
          "model_module": "@jupyter-widgets/controls",
          "model_name": "FloatProgressModel",
          "state": {
            "_view_name": "ProgressView",
            "style": "IPY_MODEL_893c0f6b6d7241488d9a3161fa1161dc",
            "_dom_classes": [],
            "description": "Downloading: 100%",
            "_model_name": "FloatProgressModel",
            "bar_style": "success",
            "max": 995526,
            "_view_module": "@jupyter-widgets/controls",
            "_model_module_version": "1.5.0",
            "value": 995526,
            "_view_count": null,
            "_view_module_version": "1.5.0",
            "orientation": "horizontal",
            "min": 0,
            "description_tooltip": null,
            "_model_module": "@jupyter-widgets/controls",
            "layout": "IPY_MODEL_bbbdded68a7245dcb6f3945717a8ab8b"
          }
        },
        "85013efceafe4975aaa301837a3ebeda": {
          "model_module": "@jupyter-widgets/controls",
          "model_name": "HTMLModel",
          "state": {
            "_view_name": "HTMLView",
            "style": "IPY_MODEL_84fd8e3d03a1434c997d130eb3f92079",
            "_dom_classes": [],
            "description": "",
            "_model_name": "HTMLModel",
            "placeholder": "​",
            "_view_module": "@jupyter-widgets/controls",
            "_model_module_version": "1.5.0",
            "value": " 996k/996k [00:00&lt;00:00, 1.57MB/s]",
            "_view_count": null,
            "_view_module_version": "1.5.0",
            "description_tooltip": null,
            "_model_module": "@jupyter-widgets/controls",
            "layout": "IPY_MODEL_83fe68b438a2471792f59f24f7334195"
          }
        },
        "893c0f6b6d7241488d9a3161fa1161dc": {
          "model_module": "@jupyter-widgets/controls",
          "model_name": "ProgressStyleModel",
          "state": {
            "_view_name": "StyleView",
            "_model_name": "ProgressStyleModel",
            "description_width": "initial",
            "_view_module": "@jupyter-widgets/base",
            "_model_module_version": "1.5.0",
            "_view_count": null,
            "_view_module_version": "1.2.0",
            "bar_color": null,
            "_model_module": "@jupyter-widgets/controls"
          }
        },
        "bbbdded68a7245dcb6f3945717a8ab8b": {
          "model_module": "@jupyter-widgets/base",
          "model_name": "LayoutModel",
          "state": {
            "_view_name": "LayoutView",
            "grid_template_rows": null,
            "right": null,
            "justify_content": null,
            "_view_module": "@jupyter-widgets/base",
            "overflow": null,
            "_model_module_version": "1.2.0",
            "_view_count": null,
            "flex_flow": null,
            "width": null,
            "min_width": null,
            "border": null,
            "align_items": null,
            "bottom": null,
            "_model_module": "@jupyter-widgets/base",
            "top": null,
            "grid_column": null,
            "overflow_y": null,
            "overflow_x": null,
            "grid_auto_flow": null,
            "grid_area": null,
            "grid_template_columns": null,
            "flex": null,
            "_model_name": "LayoutModel",
            "justify_items": null,
            "grid_row": null,
            "max_height": null,
            "align_content": null,
            "visibility": null,
            "align_self": null,
            "height": null,
            "min_height": null,
            "padding": null,
            "grid_auto_rows": null,
            "grid_gap": null,
            "max_width": null,
            "order": null,
            "_view_module_version": "1.2.0",
            "grid_template_areas": null,
            "object_position": null,
            "object_fit": null,
            "grid_auto_columns": null,
            "margin": null,
            "display": null,
            "left": null
          }
        },
        "84fd8e3d03a1434c997d130eb3f92079": {
          "model_module": "@jupyter-widgets/controls",
          "model_name": "DescriptionStyleModel",
          "state": {
            "_view_name": "StyleView",
            "_model_name": "DescriptionStyleModel",
            "description_width": "",
            "_view_module": "@jupyter-widgets/base",
            "_model_module_version": "1.5.0",
            "_view_count": null,
            "_view_module_version": "1.2.0",
            "_model_module": "@jupyter-widgets/controls"
          }
        },
        "83fe68b438a2471792f59f24f7334195": {
          "model_module": "@jupyter-widgets/base",
          "model_name": "LayoutModel",
          "state": {
            "_view_name": "LayoutView",
            "grid_template_rows": null,
            "right": null,
            "justify_content": null,
            "_view_module": "@jupyter-widgets/base",
            "overflow": null,
            "_model_module_version": "1.2.0",
            "_view_count": null,
            "flex_flow": null,
            "width": null,
            "min_width": null,
            "border": null,
            "align_items": null,
            "bottom": null,
            "_model_module": "@jupyter-widgets/base",
            "top": null,
            "grid_column": null,
            "overflow_y": null,
            "overflow_x": null,
            "grid_auto_flow": null,
            "grid_area": null,
            "grid_template_columns": null,
            "flex": null,
            "_model_name": "LayoutModel",
            "justify_items": null,
            "grid_row": null,
            "max_height": null,
            "align_content": null,
            "visibility": null,
            "align_self": null,
            "height": null,
            "min_height": null,
            "padding": null,
            "grid_auto_rows": null,
            "grid_gap": null,
            "max_width": null,
            "order": null,
            "_view_module_version": "1.2.0",
            "grid_template_areas": null,
            "object_position": null,
            "object_fit": null,
            "grid_auto_columns": null,
            "margin": null,
            "display": null,
            "left": null
          }
        }
      }
    }
  },
  "cells": [
    {
      "cell_type": "markdown",
      "metadata": {
        "id": "view-in-github",
        "colab_type": "text"
      },
      "source": [
        "<a href=\"https://colab.research.google.com/github/daquarti/AI/blob/main/Deploy_PrototypingTFServingForSequenceClassification_Hugging_Face.ipynb\" target=\"_parent\"><img src=\"https://colab.research.google.com/assets/colab-badge.svg\" alt=\"Open In Colab\"/></a>"
      ]
    },
    {
      "cell_type": "code",
      "metadata": {
        "id": "0nIBn2T3eQcI",
        "colab": {
          "base_uri": "https://localhost:8080/"
        },
        "outputId": "466c48f2-fe50-41e2-c61c-8b02d3520518"
      },
      "source": [
        "!pip install transformers\n",
        "!pip install requests"
      ],
      "execution_count": null,
      "outputs": [
        {
          "output_type": "stream",
          "text": [
            "Collecting transformers\n",
            "\u001b[?25l  Downloading https://files.pythonhosted.org/packages/9c/34/fb092588df61bf33f113ade030d1cbe74fb73a0353648f8dd938a223dce7/transformers-3.5.0-py3-none-any.whl (1.3MB)\n",
            "\u001b[K     |████████████████████████████████| 1.3MB 14.4MB/s \n",
            "\u001b[?25hCollecting sentencepiece==0.1.91\n",
            "\u001b[?25l  Downloading https://files.pythonhosted.org/packages/d4/a4/d0a884c4300004a78cca907a6ff9a5e9fe4f090f5d95ab341c53d28cbc58/sentencepiece-0.1.91-cp36-cp36m-manylinux1_x86_64.whl (1.1MB)\n",
            "\u001b[K     |████████████████████████████████| 1.1MB 48.4MB/s \n",
            "\u001b[?25hRequirement already satisfied: regex!=2019.12.17 in /usr/local/lib/python3.6/dist-packages (from transformers) (2019.12.20)\n",
            "Requirement already satisfied: protobuf in /usr/local/lib/python3.6/dist-packages (from transformers) (3.12.4)\n",
            "Requirement already satisfied: tqdm>=4.27 in /usr/local/lib/python3.6/dist-packages (from transformers) (4.41.1)\n",
            "Collecting sacremoses\n",
            "\u001b[?25l  Downloading https://files.pythonhosted.org/packages/7d/34/09d19aff26edcc8eb2a01bed8e98f13a1537005d31e95233fd48216eed10/sacremoses-0.0.43.tar.gz (883kB)\n",
            "\u001b[K     |████████████████████████████████| 890kB 48.5MB/s \n",
            "\u001b[?25hRequirement already satisfied: requests in /usr/local/lib/python3.6/dist-packages (from transformers) (2.23.0)\n",
            "Collecting tokenizers==0.9.3\n",
            "\u001b[?25l  Downloading https://files.pythonhosted.org/packages/4c/34/b39eb9994bc3c999270b69c9eea40ecc6f0e97991dba28282b9fd32d44ee/tokenizers-0.9.3-cp36-cp36m-manylinux1_x86_64.whl (2.9MB)\n",
            "\u001b[K     |████████████████████████████████| 2.9MB 46.0MB/s \n",
            "\u001b[?25hRequirement already satisfied: packaging in /usr/local/lib/python3.6/dist-packages (from transformers) (20.4)\n",
            "Requirement already satisfied: numpy in /usr/local/lib/python3.6/dist-packages (from transformers) (1.18.5)\n",
            "Requirement already satisfied: filelock in /usr/local/lib/python3.6/dist-packages (from transformers) (3.0.12)\n",
            "Requirement already satisfied: dataclasses; python_version < \"3.7\" in /usr/local/lib/python3.6/dist-packages (from transformers) (0.7)\n",
            "Requirement already satisfied: six>=1.9 in /usr/local/lib/python3.6/dist-packages (from protobuf->transformers) (1.15.0)\n",
            "Requirement already satisfied: setuptools in /usr/local/lib/python3.6/dist-packages (from protobuf->transformers) (50.3.2)\n",
            "Requirement already satisfied: click in /usr/local/lib/python3.6/dist-packages (from sacremoses->transformers) (7.1.2)\n",
            "Requirement already satisfied: joblib in /usr/local/lib/python3.6/dist-packages (from sacremoses->transformers) (0.17.0)\n",
            "Requirement already satisfied: urllib3!=1.25.0,!=1.25.1,<1.26,>=1.21.1 in /usr/local/lib/python3.6/dist-packages (from requests->transformers) (1.24.3)\n",
            "Requirement already satisfied: certifi>=2017.4.17 in /usr/local/lib/python3.6/dist-packages (from requests->transformers) (2020.6.20)\n",
            "Requirement already satisfied: idna<3,>=2.5 in /usr/local/lib/python3.6/dist-packages (from requests->transformers) (2.10)\n",
            "Requirement already satisfied: chardet<4,>=3.0.2 in /usr/local/lib/python3.6/dist-packages (from requests->transformers) (3.0.4)\n",
            "Requirement already satisfied: pyparsing>=2.0.2 in /usr/local/lib/python3.6/dist-packages (from packaging->transformers) (2.4.7)\n",
            "Building wheels for collected packages: sacremoses\n",
            "  Building wheel for sacremoses (setup.py) ... \u001b[?25l\u001b[?25hdone\n",
            "  Created wheel for sacremoses: filename=sacremoses-0.0.43-cp36-none-any.whl size=893257 sha256=3bd605f4fd52066ddfc4aed937d778ebefcfa5bdc9dffced8bf3a6d410459c19\n",
            "  Stored in directory: /root/.cache/pip/wheels/29/3c/fd/7ce5c3f0666dab31a50123635e6fb5e19ceb42ce38d4e58f45\n",
            "Successfully built sacremoses\n",
            "Installing collected packages: sentencepiece, sacremoses, tokenizers, transformers\n",
            "Successfully installed sacremoses-0.0.43 sentencepiece-0.1.91 tokenizers-0.9.3 transformers-3.5.0\n",
            "Requirement already satisfied: requests in /usr/local/lib/python3.6/dist-packages (2.23.0)\n",
            "Requirement already satisfied: urllib3!=1.25.0,!=1.25.1,<1.26,>=1.21.1 in /usr/local/lib/python3.6/dist-packages (from requests) (1.24.3)\n",
            "Requirement already satisfied: idna<3,>=2.5 in /usr/local/lib/python3.6/dist-packages (from requests) (2.10)\n",
            "Requirement already satisfied: certifi>=2017.4.17 in /usr/local/lib/python3.6/dist-packages (from requests) (2020.6.20)\n",
            "Requirement already satisfied: chardet<4,>=3.0.2 in /usr/local/lib/python3.6/dist-packages (from requests) (3.0.4)\n"
          ],
          "name": "stdout"
        }
      ]
    },
    {
      "cell_type": "code",
      "metadata": {
        "id": "YhDMLSK86bLd"
      },
      "source": [
        ""
      ],
      "execution_count": null,
      "outputs": []
    },
    {
      "cell_type": "code",
      "metadata": {
        "id": "Lmj1Fi7Mgo-b",
        "colab": {
          "base_uri": "https://localhost:8080/"
        },
        "outputId": "4759a00f-2787-4d68-c3d5-38099632bbe3"
      },
      "source": [
        "# Load the Drive helper and mount\n",
        "from google.colab import drive\n",
        "\n",
        "# This will prompt for authorization.menos de 48hs de evolución\n",
        "drive.mount('/content/drive')"
      ],
      "execution_count": null,
      "outputs": [
        {
          "output_type": "stream",
          "text": [
            "Mounted at /content/drive\n"
          ],
          "name": "stdout"
        }
      ]
    },
    {
      "cell_type": "code",
      "metadata": {
        "id": "ax0pTT8Zg2LF"
      },
      "source": [
        "path = \"/content/drive/My Drive/Emergencias/Consultas/\""
      ],
      "execution_count": null,
      "outputs": []
    },
    {
      "cell_type": "code",
      "metadata": {
        "id": "ks7gkKao6bcw"
      },
      "source": [
        ""
      ],
      "execution_count": null,
      "outputs": []
    },
    {
      "cell_type": "code",
      "metadata": {
        "id": "idDTevj76blC"
      },
      "source": [
        ""
      ],
      "execution_count": null,
      "outputs": []
    },
    {
      "cell_type": "code",
      "metadata": {
        "id": "EUK9Frn7eLC9"
      },
      "source": [
        "PRETRAINED_MODEL = path + \"destil_v4\""
      ],
      "execution_count": null,
      "outputs": []
    },
    {
      "cell_type": "code",
      "metadata": {
        "id": "2oq0TROSQMAx"
      },
      "source": [
        "saved_model_path = \"./tfx_saved_model/distilbert-sst2-english/3\""
      ],
      "execution_count": null,
      "outputs": []
    },
    {
      "cell_type": "code",
      "metadata": {
        "id": "FYvzXob_7i4O",
        "colab": {
          "base_uri": "https://localhost:8080/",
          "height": 34
        },
        "outputId": "60d2f3e5-1557-41fb-e9b6-5de07896f82c"
      },
      "source": [
        "saved_model_path"
      ],
      "execution_count": null,
      "outputs": [
        {
          "output_type": "execute_result",
          "data": {
            "application/vnd.google.colaboratory.intrinsic+json": {
              "type": "string"
            },
            "text/plain": [
              "'./tfx_saved_model/distilbert-sst2-english/3'"
            ]
          },
          "metadata": {
            "tags": []
          },
          "execution_count": 6
        }
      ]
    },
    {
      "cell_type": "code",
      "metadata": {
        "id": "pI4vcWtynipd",
        "colab": {
          "base_uri": "https://localhost:8080/"
        },
        "outputId": "20372ee2-072a-4d26-ab67-9bb5243dfc07"
      },
      "source": [
        "import tensorflow as tf\n",
        "from transformers import *\n",
        "\n",
        "class WrappedModel(tf.Module):\n",
        "\tdef __init__(self):\n",
        "\t\tsuper(WrappedModel, self).__init__()\n",
        "\t\tconfig = AutoConfig.from_pretrained(PRETRAINED_MODEL)\n",
        "\t\tself.model = TFAutoModelForSequenceClassification.from_pretrained(PRETRAINED_MODEL, config=config)\n",
        "\t@tf.function\n",
        "\tdef __call__(self, x):\n",
        "\t\treturn self.model(x)\n",
        "\n",
        "model = WrappedModel()\n",
        "\n",
        "# call = model.__call__.get_concrete_function(tf.TensorSpec([None, None], tf.int32, name='input_ids'))\n",
        "call = model.__call__.get_concrete_function((tf.TensorSpec([None, None], tf.int32, \n",
        "                                                          name='input_ids'), tf.TensorSpec([None, None], tf.int32, name='attention_mask')))\n",
        "tf.saved_model.save(model, saved_model_path, signatures=call, )"
      ],
      "execution_count": null,
      "outputs": [
        {
          "output_type": "stream",
          "text": [
            "All model checkpoint layers were used when initializing TFDistilBertForSequenceClassification.\n",
            "\n",
            "All the layers of TFDistilBertForSequenceClassification were initialized from the model checkpoint at /content/drive/My Drive/Emergencias/Consultas/destil_v4.\n",
            "If your task is similar to the task the model of the checkpoint was trained on, you can already use TFDistilBertForSequenceClassification for predictions without further training.\n"
          ],
          "name": "stderr"
        },
        {
          "output_type": "stream",
          "text": [
            "WARNING:tensorflow:Skipping full serialization of Keras layer <tensorflow.python.keras.layers.core.Dropout object at 0x7fb71da4b160>, because it is not built.\n",
            "WARNING:tensorflow:Skipping full serialization of Keras layer <tensorflow.python.keras.layers.core.Dropout object at 0x7fb71d9d91d0>, because it is not built.\n",
            "WARNING:tensorflow:Skipping full serialization of Keras layer <tensorflow.python.keras.layers.core.Dropout object at 0x7fb71030a7b8>, because it is not built.\n",
            "WARNING:tensorflow:Skipping full serialization of Keras layer <tensorflow.python.keras.layers.core.Dropout object at 0x7fb710316da0>, because it is not built.\n",
            "WARNING:tensorflow:Skipping full serialization of Keras layer <tensorflow.python.keras.layers.core.Dropout object at 0x7fb7102b23c8>, because it is not built.\n",
            "WARNING:tensorflow:Skipping full serialization of Keras layer <tensorflow.python.keras.layers.core.Dropout object at 0x7fb7102bf9b0>, because it is not built.\n",
            "WARNING:tensorflow:From /usr/local/lib/python3.6/dist-packages/tensorflow/python/training/tracking/tracking.py:111: Model.state_updates (from tensorflow.python.keras.engine.training) is deprecated and will be removed in a future version.\n",
            "Instructions for updating:\n",
            "This property should not be used in TensorFlow 2.0, as updates are applied automatically.\n",
            "WARNING:tensorflow:From /usr/local/lib/python3.6/dist-packages/tensorflow/python/training/tracking/tracking.py:111: Layer.updates (from tensorflow.python.keras.engine.base_layer) is deprecated and will be removed in a future version.\n",
            "Instructions for updating:\n",
            "This property should not be used in TensorFlow 2.0, as updates are applied automatically.\n",
            "INFO:tensorflow:Assets written to: ./tfx_saved_model/distilbert-sst2-english/3/assets\n"
          ],
          "name": "stdout"
        }
      ]
    },
    {
      "cell_type": "code",
      "metadata": {
        "id": "6XD73RCk1cr6",
        "colab": {
          "base_uri": "https://localhost:8080/"
        },
        "outputId": "8f0ff62a-054c-46cc-8603-7821380cf78f"
      },
      "source": [
        "!saved_model_cli show --dir ./tfx_saved_model/distilbert-sst2-english/3 --tag_set serve --signature_def serving_default"
      ],
      "execution_count": null,
      "outputs": [
        {
          "output_type": "stream",
          "text": [
            "The given SavedModel SignatureDef contains the following input(s):\n",
            "  inputs['attention_mask'] tensor_info:\n",
            "      dtype: DT_INT32\n",
            "      shape: (-1, -1)\n",
            "      name: serving_default_attention_mask:0\n",
            "  inputs['input_ids'] tensor_info:\n",
            "      dtype: DT_INT32\n",
            "      shape: (-1, -1)\n",
            "      name: serving_default_input_ids:0\n",
            "The given SavedModel SignatureDef contains the following output(s):\n",
            "  outputs['output_0'] tensor_info:\n",
            "      dtype: DT_FLOAT\n",
            "      shape: (-1, 95)\n",
            "      name: StatefulPartitionedCall:0\n",
            "Method name is: tensorflow/serving/predict\n"
          ],
          "name": "stdout"
        }
      ]
    },
    {
      "cell_type": "code",
      "metadata": {
        "id": "lfkZAaOhhmvN",
        "colab": {
          "base_uri": "https://localhost:8080/"
        },
        "outputId": "3ff585eb-fcb8-42ad-faab-1d06ae8beeee"
      },
      "source": [
        "!saved_model_cli show --dir ./tfx_saved_model/distilbert-sst2-english/3 --all"
      ],
      "execution_count": null,
      "outputs": [
        {
          "output_type": "stream",
          "text": [
            "\n",
            "MetaGraphDef with tag-set: 'serve' contains the following SignatureDefs:\n",
            "\n",
            "signature_def['__saved_model_init_op']:\n",
            "  The given SavedModel SignatureDef contains the following input(s):\n",
            "  The given SavedModel SignatureDef contains the following output(s):\n",
            "    outputs['__saved_model_init_op'] tensor_info:\n",
            "        dtype: DT_INVALID\n",
            "        shape: unknown_rank\n",
            "        name: NoOp\n",
            "  Method name is: \n",
            "\n",
            "signature_def['serving_default']:\n",
            "  The given SavedModel SignatureDef contains the following input(s):\n",
            "    inputs['attention_mask'] tensor_info:\n",
            "        dtype: DT_INT32\n",
            "        shape: (-1, -1)\n",
            "        name: serving_default_attention_mask:0\n",
            "    inputs['input_ids'] tensor_info:\n",
            "        dtype: DT_INT32\n",
            "        shape: (-1, -1)\n",
            "        name: serving_default_input_ids:0\n",
            "  The given SavedModel SignatureDef contains the following output(s):\n",
            "    outputs['output_0'] tensor_info:\n",
            "        dtype: DT_FLOAT\n",
            "        shape: (-1, 95)\n",
            "        name: StatefulPartitionedCall:0\n",
            "  Method name is: tensorflow/serving/predict\n",
            "WARNING: Logging before flag parsing goes to stderr.\n",
            "W1113 15:24:40.903388 140473372800896 deprecation.py:506] From /usr/local/lib/python2.7/dist-packages/tensorflow_core/python/ops/resource_variable_ops.py:1786: calling __init__ (from tensorflow.python.ops.resource_variable_ops) with constraint is deprecated and will be removed in a future version.\n",
            "Instructions for updating:\n",
            "If using Keras pass *_constraint arguments to layers.\n",
            "\n",
            "Defined Functions:\n",
            "  Function Name: '__call__'\n",
            "    Option #1\n",
            "      Callable with:\n",
            "        Argument #1\n",
            "          DType: tuple\n",
            "          Value: [TensorSpec(shape=(None, None), dtype=tf.int32, name=u'input_ids'), TensorSpec(shape=(None, None), dtype=tf.int32, name=u'attention_mask'), \b\b]\n"
          ],
          "name": "stdout"
        }
      ]
    },
    {
      "cell_type": "code",
      "metadata": {
        "id": "ZbXxsx6V2U5x",
        "colab": {
          "base_uri": "https://localhost:8080/"
        },
        "outputId": "5c16ba0f-c568-425d-cc9b-3e1bb0339831"
      },
      "source": [
        "!echo \"deb http://storage.googleapis.com/tensorflow-serving-apt stable tensorflow-model-server tensorflow-model-server-universal\" | tee /etc/apt/sources.list.d/tensorflow-serving.list && \\\n",
        "curl https://storage.googleapis.com/tensorflow-serving-apt/tensorflow-serving.release.pub.gpg | apt-key add -\n",
        "!apt update"
      ],
      "execution_count": null,
      "outputs": [
        {
          "output_type": "stream",
          "text": [
            "deb http://storage.googleapis.com/tensorflow-serving-apt stable tensorflow-model-server tensorflow-model-server-universal\n",
            "  % Total    % Received % Xferd  Average Speed   Time    Time     Time  Current\n",
            "                                 Dload  Upload   Total   Spent    Left  Speed\n",
            "100  2943  100  2943    0     0   6511      0 --:--:-- --:--:-- --:--:--  6511\n",
            "OK\n",
            "Get:1 http://ppa.launchpad.net/c2d4u.team/c2d4u4.0+/ubuntu bionic InRelease [15.9 kB]\n",
            "Hit:2 http://archive.ubuntu.com/ubuntu bionic InRelease\n",
            "Get:3 http://ppa.launchpad.net/graphics-drivers/ppa/ubuntu bionic InRelease [21.3 kB]\n",
            "Get:4 https://cloud.r-project.org/bin/linux/ubuntu bionic-cran40/ InRelease [3,626 B]\n",
            "Get:5 http://security.ubuntu.com/ubuntu bionic-security InRelease [88.7 kB]\n",
            "Ign:6 https://developer.download.nvidia.com/compute/cuda/repos/ubuntu1804/x86_64  InRelease\n",
            "Get:7 http://ppa.launchpad.net/c2d4u.team/c2d4u4.0+/ubuntu bionic/main Sources [1,688 kB]\n",
            "Get:8 http://ppa.launchpad.net/c2d4u.team/c2d4u4.0+/ubuntu bionic/main amd64 Packages [864 kB]\n",
            "Get:9 http://archive.ubuntu.com/ubuntu bionic-updates InRelease [88.7 kB]\n",
            "Ign:10 https://developer.download.nvidia.com/compute/machine-learning/repos/ubuntu1804/x86_64  InRelease\n",
            "Get:11 https://developer.download.nvidia.com/compute/cuda/repos/ubuntu1804/x86_64  Release [697 B]\n",
            "Get:12 https://developer.download.nvidia.com/compute/machine-learning/repos/ubuntu1804/x86_64  Release [564 B]\n",
            "Get:13 http://storage.googleapis.com/tensorflow-serving-apt stable InRelease [3,012 B]\n",
            "Get:14 https://developer.download.nvidia.com/compute/cuda/repos/ubuntu1804/x86_64  Release.gpg [836 B]\n",
            "Get:15 https://developer.download.nvidia.com/compute/machine-learning/repos/ubuntu1804/x86_64  Release.gpg [833 B]\n",
            "Get:16 http://archive.ubuntu.com/ubuntu bionic-backports InRelease [74.6 kB]\n",
            "Get:17 http://ppa.launchpad.net/graphics-drivers/ppa/ubuntu bionic/main amd64 Packages [46.6 kB]\n",
            "Get:18 http://security.ubuntu.com/ubuntu bionic-security/universe amd64 Packages [1,365 kB]\n",
            "Ign:19 https://developer.download.nvidia.com/compute/cuda/repos/ubuntu1804/x86_64  Packages\n",
            "Get:20 https://developer.download.nvidia.com/compute/machine-learning/repos/ubuntu1804/x86_64  Packages [58.5 kB]\n",
            "Get:19 https://developer.download.nvidia.com/compute/cuda/repos/ubuntu1804/x86_64  Packages [407 kB]\n",
            "Get:21 http://security.ubuntu.com/ubuntu bionic-security/multiverse amd64 Packages [15.8 kB]\n",
            "Get:22 http://security.ubuntu.com/ubuntu bionic-security/restricted amd64 Packages [222 kB]\n",
            "Get:23 http://security.ubuntu.com/ubuntu bionic-security/main amd64 Packages [1,781 kB]\n",
            "Get:24 http://storage.googleapis.com/tensorflow-serving-apt stable/tensorflow-model-server-universal amd64 Packages [349 B]\n",
            "Get:25 http://storage.googleapis.com/tensorflow-serving-apt stable/tensorflow-model-server amd64 Packages [341 B]\n",
            "Get:26 http://archive.ubuntu.com/ubuntu bionic-updates/restricted amd64 Packages [247 kB]\n",
            "Get:27 http://archive.ubuntu.com/ubuntu bionic-updates/universe amd64 Packages [2,129 kB]\n",
            "Get:28 http://archive.ubuntu.com/ubuntu bionic-updates/multiverse amd64 Packages [46.3 kB]\n",
            "Get:29 http://archive.ubuntu.com/ubuntu bionic-updates/main amd64 Packages [2,198 kB]\n",
            "Fetched 11.4 MB in 4s (2,982 kB/s)\n",
            "Reading package lists... Done\n",
            "Building dependency tree       \n",
            "Reading state information... Done\n",
            "40 packages can be upgraded. Run 'apt list --upgradable' to see them.\n"
          ],
          "name": "stdout"
        }
      ]
    },
    {
      "cell_type": "code",
      "metadata": {
        "id": "MF4zxYFrz8fK",
        "colab": {
          "base_uri": "https://localhost:8080/"
        },
        "outputId": "0a5b0008-4ca2-4548-c618-42340bd76806"
      },
      "source": [
        "!apt-get install tensorflow-model-server"
      ],
      "execution_count": null,
      "outputs": [
        {
          "output_type": "stream",
          "text": [
            "Reading package lists... Done\n",
            "Building dependency tree       \n",
            "Reading state information... Done\n",
            "The following NEW packages will be installed:\n",
            "  tensorflow-model-server\n",
            "0 upgraded, 1 newly installed, 0 to remove and 40 not upgraded.\n",
            "Need to get 210 MB of archives.\n",
            "After this operation, 0 B of additional disk space will be used.\n",
            "Get:1 http://storage.googleapis.com/tensorflow-serving-apt stable/tensorflow-model-server amd64 tensorflow-model-server all 2.3.0 [210 MB]\n",
            "Fetched 210 MB in 4s (49.5 MB/s)\n",
            "Selecting previously unselected package tensorflow-model-server.\n",
            "(Reading database ... 144786 files and directories currently installed.)\n",
            "Preparing to unpack .../tensorflow-model-server_2.3.0_all.deb ...\n",
            "Unpacking tensorflow-model-server (2.3.0) ...\n",
            "Setting up tensorflow-model-server (2.3.0) ...\n"
          ],
          "name": "stdout"
        }
      ]
    },
    {
      "cell_type": "code",
      "metadata": {
        "id": "oRpm4EDCl8xk",
        "colab": {
          "base_uri": "https://localhost:8080/"
        },
        "outputId": "778479bf-514b-4521-ff72-42db33e427bb"
      },
      "source": [
        "%%bash --bg \n",
        "nohup tensorflow_model_server \\\n",
        "  --rest_api_port=8501 \\\n",
        "  --model_name=sentiment_analysis_distilbert_sst2 \\\n",
        "  --model_base_path=\"/content/tfx_saved_model/distilbert-sst2-english\"  >server.log 2>&1"
      ],
      "execution_count": null,
      "outputs": [
        {
          "output_type": "stream",
          "text": [
            "Starting job # 0 in a separate thread.\n"
          ],
          "name": "stdout"
        }
      ]
    },
    {
      "cell_type": "code",
      "metadata": {
        "id": "UgPkhJY5bZWa",
        "colab": {
          "base_uri": "https://localhost:8080/"
        },
        "outputId": "7a5157b3-6338-4278-c918-290698c4f96c"
      },
      "source": [
        "!tail server.log"
      ],
      "execution_count": null,
      "outputs": [
        {
          "output_type": "stream",
          "text": [
            "2020-11-13 15:25:00.137611: I tensorflow_serving/model_servers/server.cc:87] Building single TensorFlow model file config:  model_name: sentiment_analysis_distilbert_sst2 model_base_path: /content/tfx_saved_model/distilbert-sst2-english\n",
            "2020-11-13 15:25:00.137942: I tensorflow_serving/model_servers/server_core.cc:464] Adding/updating models.\n",
            "2020-11-13 15:25:00.137982: I tensorflow_serving/model_servers/server_core.cc:575]  (Re-)adding model: sentiment_analysis_distilbert_sst2\n",
            "2020-11-13 15:25:00.139597: I tensorflow_serving/core/basic_manager.cc:739] Successfully reserved resources to load servable {name: sentiment_analysis_distilbert_sst2 version: 3}\n",
            "2020-11-13 15:25:00.139629: I tensorflow_serving/core/loader_harness.cc:66] Approving load for servable version {name: sentiment_analysis_distilbert_sst2 version: 3}\n",
            "2020-11-13 15:25:00.139644: I tensorflow_serving/core/loader_harness.cc:74] Loading servable version {name: sentiment_analysis_distilbert_sst2 version: 3}\n",
            "2020-11-13 15:25:00.139694: I external/org_tensorflow/tensorflow/cc/saved_model/reader.cc:31] Reading SavedModel from: /content/tfx_saved_model/distilbert-sst2-english/3\n"
          ],
          "name": "stdout"
        }
      ]
    },
    {
      "cell_type": "code",
      "metadata": {
        "id": "p2ltRXTalFIC"
      },
      "source": [
        "post_request_distilbert = \"http://localhost:8501/v1/models/sentiment_analysis_distilbert_sst2:predict\""
      ],
      "execution_count": null,
      "outputs": []
    },
    {
      "cell_type": "code",
      "metadata": {
        "id": "M4OHs7jy02fX",
        "colab": {
          "base_uri": "https://localhost:8080/",
          "height": 116,
          "referenced_widgets": [
            "9f7ad8b188da4325817b83d0a4127e00",
            "24abd94a4c9e440a84c77e20c7815e69",
            "bad7a4b4b7e8422093f8962e6b333f41",
            "9c937450fbb0485b9d625c07cbf0252b",
            "f4c0b9b5d54a4a64be73ef044276672d",
            "6fc31ed6a0fe40d1a36bdeb4f39c16bd",
            "398ced388a684b63ba630045c1f38355",
            "af27205a8d5b4c68b2ffd3dfb44c50e8",
            "f4777d0abd9e4324ac3bd4225278055c",
            "156fa62d8ccc46d685527c5141975a57",
            "c48587baf8a142e887e089787d0e4619",
            "85013efceafe4975aaa301837a3ebeda",
            "893c0f6b6d7241488d9a3161fa1161dc",
            "bbbdded68a7245dcb6f3945717a8ab8b",
            "84fd8e3d03a1434c997d130eb3f92079",
            "83fe68b438a2471792f59f24f7334195"
          ]
        },
        "outputId": "dbe47ab4-78e8-492a-f943-c8a0ead3ca28"
      },
      "source": [
        "import json\n",
        "import numpy\n",
        "import numpy as np\n",
        "import requests\n",
        "\n",
        "tokenizer = AutoTokenizer.from_pretrained('distilbert-base-multilingual-cased')\n",
        "my_features = {\"input_ids\": tokenizer.encode(\"A man inspects the uniform of a figure in some East Asian country.\", add_special_tokens=True)}"
      ],
      "execution_count": null,
      "outputs": [
        {
          "output_type": "display_data",
          "data": {
            "application/vnd.jupyter.widget-view+json": {
              "model_id": "9f7ad8b188da4325817b83d0a4127e00",
              "version_minor": 0,
              "version_major": 2
            },
            "text/plain": [
              "HBox(children=(FloatProgress(value=0.0, description='Downloading', max=466.0, style=ProgressStyle(description_…"
            ]
          },
          "metadata": {
            "tags": []
          }
        },
        {
          "output_type": "stream",
          "text": [
            "\n"
          ],
          "name": "stdout"
        },
        {
          "output_type": "display_data",
          "data": {
            "application/vnd.jupyter.widget-view+json": {
              "model_id": "f4777d0abd9e4324ac3bd4225278055c",
              "version_minor": 0,
              "version_major": 2
            },
            "text/plain": [
              "HBox(children=(FloatProgress(value=0.0, description='Downloading', max=995526.0, style=ProgressStyle(descripti…"
            ]
          },
          "metadata": {
            "tags": []
          }
        },
        {
          "output_type": "stream",
          "text": [
            "\n"
          ],
          "name": "stdout"
        }
      ]
    },
    {
      "cell_type": "code",
      "metadata": {
        "id": "jSLAwz8uOATD",
        "colab": {
          "base_uri": "https://localhost:8080/"
        },
        "outputId": "41759738-95ab-4e14-f2e2-f9db29a2c434"
      },
      "source": [
        "my_features"
      ],
      "execution_count": null,
      "outputs": [
        {
          "output_type": "execute_result",
          "data": {
            "text/plain": [
              "{'input_ids': [101,\n",
              "  138,\n",
              "  10817,\n",
              "  15498,\n",
              "  92385,\n",
              "  10105,\n",
              "  51135,\n",
              "  10108,\n",
              "  169,\n",
              "  17527,\n",
              "  10106,\n",
              "  11152,\n",
              "  11830,\n",
              "  16900,\n",
              "  12723,\n",
              "  119,\n",
              "  102]}"
            ]
          },
          "metadata": {
            "tags": []
          },
          "execution_count": 16
        }
      ]
    },
    {
      "cell_type": "code",
      "metadata": {
        "id": "tUU0ZC9uGmeZ",
        "colab": {
          "base_uri": "https://localhost:8080/",
          "height": 269
        },
        "outputId": "d7a39bc0-8f04-44c8-ee72-1665a4e7da01"
      },
      "source": [
        "import json\n",
        "import numpy as np\n",
        "import requests\n",
        "\n",
        "sentences = [\n",
        "             \"this is absolutely great\",\n",
        "             \"this is bad\"\n",
        "]\n",
        "\n",
        "my_features = [{\"input_ids\": tokenizer.encode(sentence, add_special_tokens=True)} for sentence in sentences]\n",
        "print(my_features)\n",
        "\n",
        "data = json.dumps({\"signature_name\": \"serving_default\",\n",
        "                   \"instances\": my_features})\n",
        "headers = {\"content-type\": \"application/json\"}\n",
        "json_response = requests.post(post_request_distilbert,\n",
        "                              data=data, headers=headers)\n",
        "print(json_response)\n",
        "predictions = numpy.array(json.loads(json_response.text)[\"predictions\"])\n",
        "print(predictions)\n",
        "for prediction in predictions:\n",
        "  np.argmax(prediction)"
      ],
      "execution_count": null,
      "outputs": [
        {
          "output_type": "stream",
          "text": [
            "[{'input_ids': [101, 10531, 10124, 48573, 10454, 14772, 102]}, {'input_ids': [101, 10531, 10124, 15838, 102]}]\n",
            "<Response [400]>\n"
          ],
          "name": "stdout"
        },
        {
          "output_type": "error",
          "ename": "KeyError",
          "evalue": "ignored",
          "traceback": [
            "\u001b[0;31m---------------------------------------------------------------------------\u001b[0m",
            "\u001b[0;31mKeyError\u001b[0m                                  Traceback (most recent call last)",
            "\u001b[0;32m<ipython-input-17-0a5b79bca333>\u001b[0m in \u001b[0;36m<module>\u001b[0;34m()\u001b[0m\n\u001b[1;32m     17\u001b[0m                               data=data, headers=headers)\n\u001b[1;32m     18\u001b[0m \u001b[0mprint\u001b[0m\u001b[0;34m(\u001b[0m\u001b[0mjson_response\u001b[0m\u001b[0;34m)\u001b[0m\u001b[0;34m\u001b[0m\u001b[0;34m\u001b[0m\u001b[0m\n\u001b[0;32m---> 19\u001b[0;31m \u001b[0mpredictions\u001b[0m \u001b[0;34m=\u001b[0m \u001b[0mnumpy\u001b[0m\u001b[0;34m.\u001b[0m\u001b[0marray\u001b[0m\u001b[0;34m(\u001b[0m\u001b[0mjson\u001b[0m\u001b[0;34m.\u001b[0m\u001b[0mloads\u001b[0m\u001b[0;34m(\u001b[0m\u001b[0mjson_response\u001b[0m\u001b[0;34m.\u001b[0m\u001b[0mtext\u001b[0m\u001b[0;34m)\u001b[0m\u001b[0;34m[\u001b[0m\u001b[0;34m\"predictions\"\u001b[0m\u001b[0;34m]\u001b[0m\u001b[0;34m)\u001b[0m\u001b[0;34m\u001b[0m\u001b[0;34m\u001b[0m\u001b[0m\n\u001b[0m\u001b[1;32m     20\u001b[0m \u001b[0mprint\u001b[0m\u001b[0;34m(\u001b[0m\u001b[0mpredictions\u001b[0m\u001b[0;34m)\u001b[0m\u001b[0;34m\u001b[0m\u001b[0;34m\u001b[0m\u001b[0m\n\u001b[1;32m     21\u001b[0m \u001b[0;32mfor\u001b[0m \u001b[0mprediction\u001b[0m \u001b[0;32min\u001b[0m \u001b[0mpredictions\u001b[0m\u001b[0;34m:\u001b[0m\u001b[0;34m\u001b[0m\u001b[0;34m\u001b[0m\u001b[0m\n",
            "\u001b[0;31mKeyError\u001b[0m: 'predictions'"
          ]
        }
      ]
    },
    {
      "cell_type": "code",
      "metadata": {
        "id": "jgYV1TJ3jQeV",
        "colab": {
          "base_uri": "https://localhost:8080/",
          "height": 269
        },
        "outputId": "5ad7bd26-f879-4d6f-8be6-6d4bdc16fe26"
      },
      "source": [
        "import json\n",
        "import numpy as np\n",
        "import requests\n",
        "\n",
        "sentences = [\n",
        "             \"this is absolutely great\"\n",
        "]\n",
        "\n",
        "my_features = [{\"input_ids\": tokenizer.encode(sentence, add_special_tokens=True)} for sentence in sentences]\n",
        "print(my_features)\n",
        "\n",
        "features = [{'input_ids': [101, 2023, 2003, 7078, 2307, 102]}]\n",
        "\n",
        "data = json.dumps({\"signature_name\": \"serving_default\",\n",
        "                   \"instances\": features})\n",
        "headers = {\"content-type\": \"application/json\"}\n",
        "json_response = requests.post(post_request_distilbert,\n",
        "                              data=data, headers=headers)\n",
        "print(json_response)\n",
        "predictions = numpy.array(json.loads(json_response.text)[\"predictions\"])\n",
        "print(predictions)\n",
        "for prediction in predictions:\n",
        "  np.argmax(prediction)"
      ],
      "execution_count": null,
      "outputs": [
        {
          "output_type": "stream",
          "text": [
            "[{'input_ids': [101, 10531, 10124, 48573, 10454, 14772, 102]}]\n",
            "<Response [400]>\n"
          ],
          "name": "stdout"
        },
        {
          "output_type": "error",
          "ename": "KeyError",
          "evalue": "ignored",
          "traceback": [
            "\u001b[0;31m---------------------------------------------------------------------------\u001b[0m",
            "\u001b[0;31mKeyError\u001b[0m                                  Traceback (most recent call last)",
            "\u001b[0;32m<ipython-input-18-c4abb33dbab4>\u001b[0m in \u001b[0;36m<module>\u001b[0;34m()\u001b[0m\n\u001b[1;32m     18\u001b[0m                               data=data, headers=headers)\n\u001b[1;32m     19\u001b[0m \u001b[0mprint\u001b[0m\u001b[0;34m(\u001b[0m\u001b[0mjson_response\u001b[0m\u001b[0;34m)\u001b[0m\u001b[0;34m\u001b[0m\u001b[0;34m\u001b[0m\u001b[0m\n\u001b[0;32m---> 20\u001b[0;31m \u001b[0mpredictions\u001b[0m \u001b[0;34m=\u001b[0m \u001b[0mnumpy\u001b[0m\u001b[0;34m.\u001b[0m\u001b[0marray\u001b[0m\u001b[0;34m(\u001b[0m\u001b[0mjson\u001b[0m\u001b[0;34m.\u001b[0m\u001b[0mloads\u001b[0m\u001b[0;34m(\u001b[0m\u001b[0mjson_response\u001b[0m\u001b[0;34m.\u001b[0m\u001b[0mtext\u001b[0m\u001b[0;34m)\u001b[0m\u001b[0;34m[\u001b[0m\u001b[0;34m\"predictions\"\u001b[0m\u001b[0;34m]\u001b[0m\u001b[0;34m)\u001b[0m\u001b[0;34m\u001b[0m\u001b[0;34m\u001b[0m\u001b[0m\n\u001b[0m\u001b[1;32m     21\u001b[0m \u001b[0mprint\u001b[0m\u001b[0;34m(\u001b[0m\u001b[0mpredictions\u001b[0m\u001b[0;34m)\u001b[0m\u001b[0;34m\u001b[0m\u001b[0;34m\u001b[0m\u001b[0m\n\u001b[1;32m     22\u001b[0m \u001b[0;32mfor\u001b[0m \u001b[0mprediction\u001b[0m \u001b[0;32min\u001b[0m \u001b[0mpredictions\u001b[0m\u001b[0;34m:\u001b[0m\u001b[0;34m\u001b[0m\u001b[0;34m\u001b[0m\u001b[0m\n",
            "\u001b[0;31mKeyError\u001b[0m: 'predictions'"
          ]
        }
      ]
    },
    {
      "cell_type": "code",
      "metadata": {
        "id": "bRnLQlyPyTPo",
        "colab": {
          "base_uri": "https://localhost:8080/"
        },
        "outputId": "7401d62d-4e70-4628-839f-96e57dd90fdf"
      },
      "source": [
        "sentences = [\n",
        "             \"ME FALTA EL AIRE, PACIENTE CON DISNEA\"\n",
        "]\n",
        "\n",
        "examples = ({'idx': tf.constant(i, dtype=tf.int64), 'label': tf.constant(0, dtype=tf.int64) ,\n",
        "           'sentence': tf.constant(sentence, dtype=tf.string)} for i, sentence in enumerate(sentences))\n",
        "\n",
        "def gen():\n",
        "  for i, sentence in enumerate(sentences):\n",
        "    yield(\n",
        "        {'idx': tf.constant(i, dtype=tf.int64), 'label': tf.constant(0, dtype=tf.int64) ,\n",
        "           'sentence': tf.constant(sentence, dtype=tf.string)}\n",
        "    )\n",
        "ds = tf.data.Dataset.from_generator(gen, \n",
        "                                    ({\"sentence\": tf.string, \"idx\": tf.int64, \"label\": tf.int64})\n",
        "                                    )\n",
        "\n",
        "feature_ds = glue_convert_examples_to_features(ds, tokenizer, max_length=512, task='sst-2')\n",
        "feature_dataset = feature_ds.batch(1)\n",
        "\n",
        "instances = [{\"input_ids\": feature_batch[0][\"input_ids\"].numpy().tolist()[0], \n",
        "              \"attention_mask\": feature_batch[0][\"attention_mask\"].numpy().tolist()[0]} for feature_batch in feature_dataset.take(-1)]\n",
        "print(instances)\n",
        "\n",
        "data = json.dumps({\"signature_name\": \"serving_default\",\n",
        "                   \"instances\": instances})\n",
        "headers = {\"content-type\": \"application/json\"}\n",
        "json_response = requests.post(post_request_distilbert,\n",
        "                              data=data, headers=headers)\n",
        "print(json_response)\n",
        "predictions = numpy.array(json.loads(json_response.text)[\"predictions\"])\n",
        "print(predictions[0])"
      ],
      "execution_count": null,
      "outputs": [
        {
          "output_type": "stream",
          "text": [
            "/usr/local/lib/python3.6/dist-packages/transformers/data/processors/glue.py:67: FutureWarning: This function will be removed from the library soon, preprocessing should be handled with the 🤗 Datasets library. You can have a look at this example script for pointers: https://github.com/huggingface/transformers/blob/master/examples/text-classification/run_glue.py\n",
            "  warnings.warn(DEPRECATION_WARNING.format(\"function\"), FutureWarning)\n",
            "/usr/local/lib/python3.6/dist-packages/transformers/data/processors/glue.py:331: FutureWarning: This processor will be removed from the library soon, preprocessing should be handled with the 🤗 Datasets library. You can have a look at this example script for pointers: https://github.com/huggingface/transformers/blob/master/examples/text-classification/run_glue.py\n",
            "  warnings.warn(DEPRECATION_WARNING.format(\"processor\"), FutureWarning)\n"
          ],
          "name": "stderr"
        },
        {
          "output_type": "stream",
          "text": [
            "[{'input_ids': [101, 47430, 20794, 11369, 24951, 69765, 62405, 66014, 117, 32349, 89955, 50655, 29833, 32992, 11537, 110014, 10731, 93280, 10738, 102, 0, 0, 0, 0, 0, 0, 0, 0, 0, 0, 0, 0, 0, 0, 0, 0, 0, 0, 0, 0, 0, 0, 0, 0, 0, 0, 0, 0, 0, 0, 0, 0, 0, 0, 0, 0, 0, 0, 0, 0, 0, 0, 0, 0, 0, 0, 0, 0, 0, 0, 0, 0, 0, 0, 0, 0, 0, 0, 0, 0, 0, 0, 0, 0, 0, 0, 0, 0, 0, 0, 0, 0, 0, 0, 0, 0, 0, 0, 0, 0, 0, 0, 0, 0, 0, 0, 0, 0, 0, 0, 0, 0, 0, 0, 0, 0, 0, 0, 0, 0, 0, 0, 0, 0, 0, 0, 0, 0, 0, 0, 0, 0, 0, 0, 0, 0, 0, 0, 0, 0, 0, 0, 0, 0, 0, 0, 0, 0, 0, 0, 0, 0, 0, 0, 0, 0, 0, 0, 0, 0, 0, 0, 0, 0, 0, 0, 0, 0, 0, 0, 0, 0, 0, 0, 0, 0, 0, 0, 0, 0, 0, 0, 0, 0, 0, 0, 0, 0, 0, 0, 0, 0, 0, 0, 0, 0, 0, 0, 0, 0, 0, 0, 0, 0, 0, 0, 0, 0, 0, 0, 0, 0, 0, 0, 0, 0, 0, 0, 0, 0, 0, 0, 0, 0, 0, 0, 0, 0, 0, 0, 0, 0, 0, 0, 0, 0, 0, 0, 0, 0, 0, 0, 0, 0, 0, 0, 0, 0, 0, 0, 0, 0, 0, 0, 0, 0, 0, 0, 0, 0, 0, 0, 0, 0, 0, 0, 0, 0, 0, 0, 0, 0, 0, 0, 0, 0, 0, 0, 0, 0, 0, 0, 0, 0, 0, 0, 0, 0, 0, 0, 0, 0, 0, 0, 0, 0, 0, 0, 0, 0, 0, 0, 0, 0, 0, 0, 0, 0, 0, 0, 0, 0, 0, 0, 0, 0, 0, 0, 0, 0, 0, 0, 0, 0, 0, 0, 0, 0, 0, 0, 0, 0, 0, 0, 0, 0, 0, 0, 0, 0, 0, 0, 0, 0, 0, 0, 0, 0, 0, 0, 0, 0, 0, 0, 0, 0, 0, 0, 0, 0, 0, 0, 0, 0, 0, 0, 0, 0, 0, 0, 0, 0, 0, 0, 0, 0, 0, 0, 0, 0, 0, 0, 0, 0, 0, 0, 0, 0, 0, 0, 0, 0, 0, 0, 0, 0, 0, 0, 0, 0, 0, 0, 0, 0, 0, 0, 0, 0, 0, 0, 0, 0, 0, 0, 0, 0, 0, 0, 0, 0, 0, 0, 0, 0, 0, 0, 0, 0, 0, 0, 0, 0, 0, 0, 0, 0, 0, 0, 0, 0, 0, 0, 0, 0, 0, 0, 0, 0, 0, 0, 0, 0, 0, 0, 0, 0, 0, 0, 0, 0, 0, 0, 0, 0, 0, 0, 0, 0, 0, 0, 0, 0, 0, 0, 0, 0, 0, 0, 0, 0, 0, 0, 0, 0, 0, 0, 0, 0, 0, 0, 0, 0, 0, 0, 0, 0, 0, 0, 0, 0, 0, 0, 0, 0, 0, 0, 0, 0, 0, 0, 0, 0], 'attention_mask': [1, 1, 1, 1, 1, 1, 1, 1, 1, 1, 1, 1, 1, 1, 1, 1, 1, 1, 1, 1, 0, 0, 0, 0, 0, 0, 0, 0, 0, 0, 0, 0, 0, 0, 0, 0, 0, 0, 0, 0, 0, 0, 0, 0, 0, 0, 0, 0, 0, 0, 0, 0, 0, 0, 0, 0, 0, 0, 0, 0, 0, 0, 0, 0, 0, 0, 0, 0, 0, 0, 0, 0, 0, 0, 0, 0, 0, 0, 0, 0, 0, 0, 0, 0, 0, 0, 0, 0, 0, 0, 0, 0, 0, 0, 0, 0, 0, 0, 0, 0, 0, 0, 0, 0, 0, 0, 0, 0, 0, 0, 0, 0, 0, 0, 0, 0, 0, 0, 0, 0, 0, 0, 0, 0, 0, 0, 0, 0, 0, 0, 0, 0, 0, 0, 0, 0, 0, 0, 0, 0, 0, 0, 0, 0, 0, 0, 0, 0, 0, 0, 0, 0, 0, 0, 0, 0, 0, 0, 0, 0, 0, 0, 0, 0, 0, 0, 0, 0, 0, 0, 0, 0, 0, 0, 0, 0, 0, 0, 0, 0, 0, 0, 0, 0, 0, 0, 0, 0, 0, 0, 0, 0, 0, 0, 0, 0, 0, 0, 0, 0, 0, 0, 0, 0, 0, 0, 0, 0, 0, 0, 0, 0, 0, 0, 0, 0, 0, 0, 0, 0, 0, 0, 0, 0, 0, 0, 0, 0, 0, 0, 0, 0, 0, 0, 0, 0, 0, 0, 0, 0, 0, 0, 0, 0, 0, 0, 0, 0, 0, 0, 0, 0, 0, 0, 0, 0, 0, 0, 0, 0, 0, 0, 0, 0, 0, 0, 0, 0, 0, 0, 0, 0, 0, 0, 0, 0, 0, 0, 0, 0, 0, 0, 0, 0, 0, 0, 0, 0, 0, 0, 0, 0, 0, 0, 0, 0, 0, 0, 0, 0, 0, 0, 0, 0, 0, 0, 0, 0, 0, 0, 0, 0, 0, 0, 0, 0, 0, 0, 0, 0, 0, 0, 0, 0, 0, 0, 0, 0, 0, 0, 0, 0, 0, 0, 0, 0, 0, 0, 0, 0, 0, 0, 0, 0, 0, 0, 0, 0, 0, 0, 0, 0, 0, 0, 0, 0, 0, 0, 0, 0, 0, 0, 0, 0, 0, 0, 0, 0, 0, 0, 0, 0, 0, 0, 0, 0, 0, 0, 0, 0, 0, 0, 0, 0, 0, 0, 0, 0, 0, 0, 0, 0, 0, 0, 0, 0, 0, 0, 0, 0, 0, 0, 0, 0, 0, 0, 0, 0, 0, 0, 0, 0, 0, 0, 0, 0, 0, 0, 0, 0, 0, 0, 0, 0, 0, 0, 0, 0, 0, 0, 0, 0, 0, 0, 0, 0, 0, 0, 0, 0, 0, 0, 0, 0, 0, 0, 0, 0, 0, 0, 0, 0, 0, 0, 0, 0, 0, 0, 0, 0, 0, 0, 0, 0, 0, 0, 0, 0, 0, 0, 0, 0, 0, 0, 0, 0, 0, 0, 0, 0, 0, 0, 0, 0, 0, 0, 0, 0, 0, 0, 0, 0, 0, 0, 0, 0, 0, 0, 0, 0, 0, 0, 0, 0, 0, 0, 0, 0, 0, 0, 0, 0]}]\n",
            "<Response [200]>\n",
            "[ -2.55397081  -3.18239212  -4.75505877  -6.59895134  -4.76441526\n",
            "  -5.23084879  -2.99487948  -7.11187553  -4.51290894  -6.90330839\n",
            "  -7.1703229   -7.1558218   -7.68981886  -8.61352444  -4.40295887\n",
            "  -3.05367303  -4.63271713  -6.74978971  -6.52086496  -5.13131285\n",
            "  -4.59616184  -6.02656746  -5.97824764  -4.20966482  -6.81862545\n",
            "  -4.79810333  -4.17531586  -5.18068409  -6.08380604  -6.3885808\n",
            "  -5.98675919  -8.48075104  -6.05541325  -6.29614592  -6.02168608\n",
            "  -5.84647083  -7.98293686  -7.77712107  -1.65307271  -2.80198979\n",
            "  -2.78329253  -2.90671468  -3.94931221  -6.03894806  -3.7839129\n",
            "  -3.86831164  -5.69506025  -2.54837656  -3.291013    -1.3386209\n",
            "  -6.78012371  -3.95326734  -4.6524272   -3.85650659  -4.61655188\n",
            "  -5.7463336   -5.94203663  -2.93723202  -3.8484695   -3.64145494\n",
            "  -3.00235319  -6.63813543  -3.91659665  -5.32445383  -5.30207062\n",
            "  -5.19165134  -4.71723747  -3.58003187  -0.52671742  -2.43488407\n",
            "  -1.95113945  -1.03531718  -6.15031385  -0.67455363  -1.76081824\n",
            "  -2.73565817  -4.25458527  -1.36971152  -3.34945512   1.11030185\n",
            "   2.29208     -4.19544172  -2.80120707  -2.63839483  -3.85644913\n",
            "   0.37075579  -1.68402362  -1.38467538  -5.92094707  -6.26789\n",
            " -10.7407598   -4.70074892  -8.84372711  -6.31908178  -6.49914646]\n"
          ],
          "name": "stdout"
        }
      ]
    },
    {
      "cell_type": "code",
      "metadata": {
        "id": "75QFEUm9OxiO",
        "colab": {
          "base_uri": "https://localhost:8080/"
        },
        "outputId": "f5e1f37b-d180-47b0-ac92-4418c253653f"
      },
      "source": [
        "predictions[0]"
      ],
      "execution_count": null,
      "outputs": [
        {
          "output_type": "execute_result",
          "data": {
            "text/plain": [
              "array([ -2.55397081,  -3.18239212,  -4.75505877,  -6.59895134,\n",
              "        -4.76441526,  -5.23084879,  -2.99487948,  -7.11187553,\n",
              "        -4.51290894,  -6.90330839,  -7.1703229 ,  -7.1558218 ,\n",
              "        -7.68981886,  -8.61352444,  -4.40295887,  -3.05367303,\n",
              "        -4.63271713,  -6.74978971,  -6.52086496,  -5.13131285,\n",
              "        -4.59616184,  -6.02656746,  -5.97824764,  -4.20966482,\n",
              "        -6.81862545,  -4.79810333,  -4.17531586,  -5.18068409,\n",
              "        -6.08380604,  -6.3885808 ,  -5.98675919,  -8.48075104,\n",
              "        -6.05541325,  -6.29614592,  -6.02168608,  -5.84647083,\n",
              "        -7.98293686,  -7.77712107,  -1.65307271,  -2.80198979,\n",
              "        -2.78329253,  -2.90671468,  -3.94931221,  -6.03894806,\n",
              "        -3.7839129 ,  -3.86831164,  -5.69506025,  -2.54837656,\n",
              "        -3.291013  ,  -1.3386209 ,  -6.78012371,  -3.95326734,\n",
              "        -4.6524272 ,  -3.85650659,  -4.61655188,  -5.7463336 ,\n",
              "        -5.94203663,  -2.93723202,  -3.8484695 ,  -3.64145494,\n",
              "        -3.00235319,  -6.63813543,  -3.91659665,  -5.32445383,\n",
              "        -5.30207062,  -5.19165134,  -4.71723747,  -3.58003187,\n",
              "        -0.52671742,  -2.43488407,  -1.95113945,  -1.03531718,\n",
              "        -6.15031385,  -0.67455363,  -1.76081824,  -2.73565817,\n",
              "        -4.25458527,  -1.36971152,  -3.34945512,   1.11030185,\n",
              "         2.29208   ,  -4.19544172,  -2.80120707,  -2.63839483,\n",
              "        -3.85644913,   0.37075579,  -1.68402362,  -1.38467538,\n",
              "        -5.92094707,  -6.26789   , -10.7407598 ,  -4.70074892,\n",
              "        -8.84372711,  -6.31908178,  -6.49914646])"
            ]
          },
          "metadata": {
            "tags": []
          },
          "execution_count": 55
        }
      ]
    },
    {
      "cell_type": "code",
      "metadata": {
        "id": "aDXSaEW3PGJ-",
        "colab": {
          "base_uri": "https://localhost:8080/"
        },
        "outputId": "f1fe705c-1d30-4de9-eb40-c69b561d0a7b"
      },
      "source": [
        "tf_prediction = tf.nn.softmax(predictions, axis=1).numpy()[0]\n",
        "print(tf_prediction)"
      ],
      "execution_count": null,
      "outputs": [
        {
          "output_type": "stream",
          "text": [
            "[4.15969869e-03 2.21892164e-03 4.60406577e-04 7.28365137e-05\n",
            " 4.56118877e-04 2.86093861e-04 2.67656424e-03 4.36102930e-05\n",
            " 5.86551100e-04 5.37240275e-05 4.11344443e-05 4.17352849e-05\n",
            " 2.44676019e-05 9.71473972e-06 6.54721439e-04 2.52373620e-03\n",
            " 5.20323951e-04 6.26384321e-05 7.87520076e-05 3.16035921e-04\n",
            " 5.39696471e-04 1.29101804e-04 1.35493151e-04 7.94333907e-04\n",
            " 5.84717237e-05 4.41009052e-04 8.22092460e-04 3.00811746e-04\n",
            " 1.21919707e-04 8.98901106e-05 1.34344788e-04 1.10941472e-05\n",
            " 1.25430959e-04 9.85952229e-05 1.29733540e-04 1.54577857e-04\n",
            " 1.82512190e-05 2.24221130e-05 1.02404006e-02 3.24600063e-03\n",
            " 3.30726288e-03 2.92325807e-03 1.03055886e-03 1.27513300e-04\n",
            " 1.21591947e-03 1.11750868e-03 1.79847358e-04 4.18303430e-03\n",
            " 1.99052904e-03 1.40243142e-02 6.07668871e-05 1.02649092e-03\n",
            " 5.10168739e-04 1.13077910e-03 5.28803470e-04 1.70858398e-04\n",
            " 1.40489408e-04 2.83539550e-03 1.13990389e-03 1.40208233e-03\n",
            " 2.65663494e-03 7.00376743e-05 1.06483175e-03 2.60529188e-04\n",
            " 2.66426421e-04 2.97530693e-04 4.78153237e-04 1.49090241e-03\n",
            " 3.15854328e-02 4.68576590e-03 7.60095580e-03 1.89934897e-02\n",
            " 1.14074858e-04 2.72447221e-02 9.19440560e-03 3.46861466e-03\n",
            " 7.59441626e-04 1.35949980e-02 1.87753234e-03 1.62343637e-01\n",
            " 5.29267223e-01 8.05712526e-04 3.24854233e-03 3.82293565e-03\n",
            " 1.13084407e-03 7.74915768e-02 9.92830563e-03 1.33930789e-02\n",
            " 1.43483732e-04 1.01420854e-04 1.15766950e-06 4.86102648e-04\n",
            " 7.71712296e-06 9.63595927e-05 8.04810917e-05]\n"
          ],
          "name": "stdout"
        }
      ]
    },
    {
      "cell_type": "code",
      "metadata": {
        "id": "ravxn0bMPzI4",
        "colab": {
          "base_uri": "https://localhost:8080/"
        },
        "outputId": "1531d563-e363-4be2-d0bf-fac5d430af55"
      },
      "source": [
        "import numpy as np\n",
        "le.inverse_transform([np.argmax(tf_prediction)])"
      ],
      "execution_count": null,
      "outputs": [
        {
          "output_type": "execute_result",
          "data": {
            "text/plain": [
              "array(['RESP   Fatiga respiratoria disnea   (337)'], dtype='<U93')"
            ]
          },
          "metadata": {
            "tags": []
          },
          "execution_count": 57
        }
      ]
    },
    {
      "cell_type": "code",
      "metadata": {
        "id": "gAEecLCRPzXR",
        "colab": {
          "base_uri": "https://localhost:8080/",
          "height": 282
        },
        "outputId": "33fde1e1-1d10-43a3-8830-71a5e86e9917"
      },
      "source": [
        "array_invertido = np.argsort(tf_prediction)[::-1]\n",
        "diagnosticos = le.inverse_transform(array_invertido)\n",
        "probabilidad = np.sort (tf_prediction)[::-1]\n",
        "list_of_tuples = list(zip(diagnosticos, probabilidad))[:10]\n",
        "df = pd.DataFrame(list_of_tuples, columns = ['diagnostico', 'probabilidad']) \n",
        "df.head(10).plot.barh(x='diagnostico')"
      ],
      "execution_count": null,
      "outputs": [
        {
          "output_type": "execute_result",
          "data": {
            "text/plain": [
              "<matplotlib.axes._subplots.AxesSubplot at 0x7fb632b80860>"
            ]
          },
          "metadata": {
            "tags": []
          },
          "execution_count": 58
        },
        {
          "output_type": "display_data",
          "data": {
            "image/png": "[encoded data removed]",
            "text/plain": [
              "<Figure size 432x288 with 1 Axes>"
            ]
          },
          "metadata": {
            "tags": [],
            "needs_background": "light"
          }
        }
      ]
    },
    {
      "cell_type": "code",
      "metadata": {
        "id": "e-UUmzsgO9O-",
        "colab": {
          "base_uri": "https://localhost:8080/"
        },
        "outputId": "19fab65e-da61-479a-cd3b-7d66d87b4677"
      },
      "source": [
        "import pandas as pd\n",
        "pd.set_option('display.max_colwidth', -1)\n",
        "df = pd.read_csv (path + 'input_distil_v1')\n",
        "df.info()"
      ],
      "execution_count": null,
      "outputs": [
        {
          "output_type": "stream",
          "text": [
            "/usr/local/lib/python3.6/dist-packages/ipykernel_launcher.py:2: FutureWarning: Passing a negative integer is deprecated in version 1.0 and will not be supported in future version. Instead, use None to not limit the column width.\n",
            "  \n"
          ],
          "name": "stderr"
        },
        {
          "output_type": "stream",
          "text": [
            "<class 'pandas.core.frame.DataFrame'>\n",
            "RangeIndex: 99329 entries, 0 to 99328\n",
            "Data columns (total 2 columns):\n",
            " #   Column       Non-Null Count  Dtype \n",
            "---  ------       --------------  ----- \n",
            " 0   resumen      99329 non-null  object\n",
            " 1   diagnostico  99329 non-null  object\n",
            "dtypes: object(2)\n",
            "memory usage: 1.5+ MB\n"
          ],
          "name": "stdout"
        }
      ]
    },
    {
      "cell_type": "code",
      "metadata": {
        "id": "RHkkODVgJwV2",
        "colab": {
          "base_uri": "https://localhost:8080/"
        },
        "outputId": "2d8647c7-375f-4cb0-abce-d54b2a506a71"
      },
      "source": [
        "df.info()"
      ],
      "execution_count": null,
      "outputs": [
        {
          "output_type": "stream",
          "text": [
            "<class 'pandas.core.frame.DataFrame'>\n",
            "RangeIndex: 99329 entries, 0 to 99328\n",
            "Data columns (total 2 columns):\n",
            " #   Column       Non-Null Count  Dtype \n",
            "---  ------       --------------  ----- \n",
            " 0   resumen      99329 non-null  object\n",
            " 1   diagnostico  99329 non-null  object\n",
            "dtypes: object(2)\n",
            "memory usage: 1.5+ MB\n"
          ],
          "name": "stdout"
        }
      ]
    },
    {
      "cell_type": "code",
      "metadata": {
        "id": "fsfATFWS2l4W"
      },
      "source": [
        "y = df.diagnostico.to_list()\n",
        "X = df.resumen.to_list()"
      ],
      "execution_count": null,
      "outputs": []
    },
    {
      "cell_type": "code",
      "metadata": {
        "id": "mogwPCLL5Asu"
      },
      "source": [
        "from sklearn import preprocessing\n",
        "le = preprocessing.LabelEncoder()\n",
        "le.fit(y)\n",
        "\n",
        "y_encoder = le.transform(y)\n",
        "#len(y_encoder)\n",
        "#len(le.classes_)\n",
        "y = le.transform(y)\n"
      ],
      "execution_count": null,
      "outputs": []
    },
    {
      "cell_type": "code",
      "metadata": {
        "id": "Z92-SRPFABUq"
      },
      "source": [
        ""
      ],
      "execution_count": null,
      "outputs": []
    }
  ]
}