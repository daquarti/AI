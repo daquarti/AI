{
  "nbformat": 4,
  "nbformat_minor": 0,
  "metadata": {
    "colab": {
      "name": "Copy of transcripciones_fraude_medicos.ipynb",
      "provenance": [],
      "authorship_tag": "ABX9TyOYxz4lkq08DSsGetVGy/Mj",
      "include_colab_link": true
    },
    "kernelspec": {
      "display_name": "Python 3",
      "name": "python3"
    }
  },
  "cells": [
    {
      "cell_type": "markdown",
      "metadata": {
        "id": "view-in-github",
        "colab_type": "text"
      },
      "source": [
        "<a href=\"https://colab.research.google.com/github/daquarti/AI/blob/main/fraud_identification_pca_dbscan.ipynb\" target=\"_parent\"><img src=\"https://colab.research.google.com/assets/colab-badge.svg\" alt=\"Open In Colab\"/></a>"
      ]
    },
    {
      "cell_type": "code",
      "metadata": {
        "id": "kQX8AU5mgCT_"
      },
      "source": [
        ""
      ],
      "execution_count": null,
      "outputs": []
    },
    {
      "cell_type": "code",
      "metadata": {
        "id": "rXzYUqhFCZ__"
      },
      "source": [
        ""
      ],
      "execution_count": null,
      "outputs": []
    },
    {
      "cell_type": "code",
      "metadata": {
        "id": "Lmj1Fi7Mgo-b",
        "colab": {
          "base_uri": "https://localhost:8080/"
        },
        "outputId": "61f0bbf7-f629-4cab-acc8-ad1668109958"
      },
      "source": [
        "# Load the Drive helper and mount\n",
        "from google.colab import drive\n",
        "\n",
        "# This will prompt for authorization.menos de 48hs de evolución\n",
        "drive.mount('/content/drive')"
      ],
      "execution_count": null,
      "outputs": [
        {
          "output_type": "stream",
          "text": [
            "Mounted at /content/drive\n"
          ],
          "name": "stdout"
        }
      ]
    },
    {
      "cell_type": "code",
      "metadata": {
        "id": "ax0pTT8Zg2LF"
      },
      "source": [
        "path = \"/content/drive/My Drive/NLP/GPT2/autonomous/\""
      ],
      "execution_count": null,
      "outputs": []
    },
    {
      "cell_type": "code",
      "metadata": {
        "id": "hpsweoIGgj5r"
      },
      "source": [
        "path2 = \"/content/drive/My Drive/NLP/summary/\""
      ],
      "execution_count": null,
      "outputs": []
    },
    {
      "cell_type": "code",
      "metadata": {
        "id": "VMA_t2aMgITg"
      },
      "source": [
        "import pandas as pd"
      ],
      "execution_count": null,
      "outputs": []
    },
    {
      "cell_type": "code",
      "metadata": {
        "colab": {
          "base_uri": "https://localhost:8080/",
          "height": 185
        },
        "id": "PMQVEJyBgZLU",
        "outputId": "9cc685dc-b618-4845-e213-11bf6d7b8554"
      },
      "source": [
        "\n",
        "df = pd.read_csv (path + 'uma_18_01_2021.csv')"
      ],
      "execution_count": null,
      "outputs": [
        {
          "output_type": "error",
          "ename": "TypeError",
          "evalue": "ignored",
          "traceback": [
            "\u001b[0;31m---------------------------------------------------------------------------\u001b[0m",
            "\u001b[0;31mTypeError\u001b[0m                                 Traceback (most recent call last)",
            "\u001b[0;32m<ipython-input-25-1e048a48a425>\u001b[0m in \u001b[0;36m<module>\u001b[0;34m()\u001b[0m\n\u001b[1;32m      1\u001b[0m \u001b[0;34m\u001b[0m\u001b[0m\n\u001b[0;32m----> 2\u001b[0;31m \u001b[0mdf\u001b[0m \u001b[0;34m=\u001b[0m \u001b[0mpd\u001b[0m\u001b[0;34m.\u001b[0m\u001b[0mread_csv\u001b[0m \u001b[0;34m(\u001b[0m\u001b[0mpath\u001b[0m \u001b[0;34m+\u001b[0m \u001b[0;34m'uma_18_01_2021.csv'\u001b[0m\u001b[0;34m)\u001b[0m\u001b[0;34m\u001b[0m\u001b[0;34m\u001b[0m\u001b[0m\n\u001b[0m",
            "\u001b[0;31mTypeError\u001b[0m: 'str' object is not callable"
          ]
        }
      ]
    },
    {
      "cell_type": "code",
      "metadata": {
        "id": "bPnAtR6ygwZ6"
      },
      "source": [
        "import pandas as pd\n",
        "df2 = pd.read_json (path2 + 'speech_text.json')"
      ],
      "execution_count": null,
      "outputs": []
    },
    {
      "cell_type": "code",
      "metadata": {
        "colab": {
          "base_uri": "https://localhost:8080/"
        },
        "id": "_i8YByw-ggvN",
        "outputId": "43324e43-0ce5-46c5-a47a-0a3a3fb46352"
      },
      "source": [
        "df2.info()"
      ],
      "execution_count": null,
      "outputs": [
        {
          "output_type": "stream",
          "text": [
            "<class 'pandas.core.frame.DataFrame'>\n",
            "RangeIndex: 582331 entries, 0 to 582330\n",
            "Data columns (total 2 columns):\n",
            " #   Column  Non-Null Count   Dtype \n",
            "---  ------  --------------   ----- \n",
            " 0   id      582331 non-null  object\n",
            " 1   text    582331 non-null  object\n",
            "dtypes: object(2)\n",
            "memory usage: 8.9+ MB\n"
          ],
          "name": "stdout"
        }
      ]
    },
    {
      "cell_type": "code",
      "metadata": {
        "colab": {
          "base_uri": "https://localhost:8080/"
        },
        "id": "PvqL2Mq9RnCs",
        "outputId": "1e48332b-9bdf-4834-ba2f-9d4293a6e266"
      },
      "source": [
        "df.incidente_id"
      ],
      "execution_count": null,
      "outputs": [
        {
          "output_type": "execute_result",
          "data": {
            "text/plain": [
              "0         2021-01-18_03-59-29-445596\n",
              "1         2021-01-18_04-00-54-846906\n",
              "2         2021-01-18_04-15-18-482347\n",
              "3         2021-01-17_22-06-06-099388\n",
              "4         2021-01-17_23-29-38-571878\n",
              "                     ...            \n",
              "559926    2020-09-18_20-21-19-073520\n",
              "559927    2020-09-18_14-48-46-679891\n",
              "559928    2020-09-18_23-13-03-056712\n",
              "559929    2020-09-20_11-40-29-072923\n",
              "559930    2020-09-17_17-01-30-865950\n",
              "Name: incidente_id, Length: 559931, dtype: object"
            ]
          },
          "metadata": {
            "tags": []
          },
          "execution_count": 62
        }
      ]
    },
    {
      "cell_type": "code",
      "metadata": {
        "id": "IXY0eulXhLSh"
      },
      "source": [
        "df_3 = df.set_index('assignation_id').join(df2.set_index('id'))"
      ],
      "execution_count": null,
      "outputs": []
    },
    {
      "cell_type": "code",
      "metadata": {
        "id": "gwexaB1onl4U"
      },
      "source": [
        "df3_3 = df_3.drop_duplicates()"
      ],
      "execution_count": null,
      "outputs": []
    },
    {
      "cell_type": "code",
      "metadata": {
        "id": "Fdn-a221asIh"
      },
      "source": [
        "df_3['texto_edit'] = df_3.text.str.len()"
      ],
      "execution_count": null,
      "outputs": []
    },
    {
      "cell_type": "code",
      "metadata": {
        "id": "xp50o67_RZnB"
      },
      "source": [
        "df_3['texto_edit'] = df_3.texto_edit.fillna(0)"
      ],
      "execution_count": null,
      "outputs": []
    },
    {
      "cell_type": "code",
      "metadata": {
        "id": "uk852FD7qvYr"
      },
      "source": [
        "df_3['mr_epicrisis_edit'] = df_3.mr_epicrisis.str.len()"
      ],
      "execution_count": null,
      "outputs": []
    },
    {
      "cell_type": "code",
      "metadata": {
        "id": "-rcEL50Fqvkj"
      },
      "source": [
        "df_3['mr_epicrisis_edit'] = df_3.mr_epicrisis_edit.fillna(0)"
      ],
      "execution_count": null,
      "outputs": []
    },
    {
      "cell_type": "code",
      "metadata": {
        "colab": {
          "base_uri": "https://localhost:8080/"
        },
        "id": "bwt6Mtbha7Ho",
        "outputId": "eccf0bce-779b-44b1-be0e-19e7a6d3e907"
      },
      "source": [
        "df_3.mr_epicrisis_edit.sample(10)"
      ],
      "execution_count": null,
      "outputs": [
        {
          "output_type": "execute_result",
          "data": {
            "text/plain": [
              "2020-07-21_17-37-34-132196    271.0\n",
              "2020-11-12_20-25-02-818618    127.0\n",
              "2021-01-09_19-18-23-901096    147.0\n",
              "2020-05-19_09-16-41-930631    188.0\n",
              "2020-10-17_20-07-59-135758    152.0\n",
              "2020-09-01_03-13-03-765961     46.0\n",
              "2021-01-08_10-39-15-601078     86.0\n",
              "2020-10-06_08-58-54-909276    217.0\n",
              "2020-10-05_00-48-09-865098    102.0\n",
              "2020-08-27_20-42-33-277829    162.0\n",
              "Name: mr_epicrisis_edit, dtype: float64"
            ]
          },
          "metadata": {
            "tags": []
          },
          "execution_count": 69
        }
      ]
    },
    {
      "cell_type": "code",
      "metadata": {
        "id": "XSc9g8fCT2h1"
      },
      "source": [
        "df4 = df_3[['provider_cuit', 'mr_dt_cierre', 'mr_preds_pre_clasif', 'mr_reposo',\n",
        "       'mr_epicrisis', 'mr_epicrisis_edit', 'mr_destino_final', 'mr_receta', 'texto_edit']]"
      ],
      "execution_count": null,
      "outputs": []
    },
    {
      "cell_type": "code",
      "metadata": {
        "id": "NM07B9641Ofk"
      },
      "source": [
        "dummy2 = pd.get_dummies(df4['mr_destino_final'], prefix='destino')\n",
        "df4 = pd.concat([df4, dummy2], axis = 1)\n"
      ],
      "execution_count": null,
      "outputs": []
    },
    {
      "cell_type": "code",
      "metadata": {
        "id": "VIhaCZPvj1yO"
      },
      "source": [
        "#convierto a datime las variables temporales y genero la variable \"duración_consulta_segundos\"\n",
        "df4['ts_cierre'] = pd.to_datetime(df4[\"mr_dt_cierre\"], errors='coerce')\n",
        "df4['ts_inicio'] = pd.to_datetime(df4[\"mr_preds_pre_clasif\"], errors='coerce')\n",
        "df4['tiempo_consulta'] = df4.ts_cierre - df4.ts_inicio\n",
        "df4['duración_consulta_segundos'] = df4.tiempo_consulta.dt.total_seconds()"
      ],
      "execution_count": null,
      "outputs": []
    },
    {
      "cell_type": "code",
      "metadata": {
        "id": "ZSj9e58CfqIe"
      },
      "source": [
        "df5 = df4.drop_duplicates()"
      ],
      "execution_count": null,
      "outputs": []
    },
    {
      "cell_type": "code",
      "metadata": {
        "colab": {
          "base_uri": "https://localhost:8080/"
        },
        "id": "_jWe3f-krYSc",
        "outputId": "90ecbb70-a2b8-4c84-99ba-0b9fb9689aaa"
      },
      "source": [
        "df5.columns"
      ],
      "execution_count": null,
      "outputs": [
        {
          "output_type": "execute_result",
          "data": {
            "text/plain": [
              "Index(['provider_cuit', 'mr_dt_cierre', 'mr_preds_pre_clasif', 'mr_reposo',\n",
              "       'mr_epicrisis', 'mr_epicrisis_edit', 'mr_destino_final', 'mr_receta',\n",
              "       'texto_edit', 'destino_Anula el paciente',\n",
              "       'destino_Anula por falla de conexión',\n",
              "       'destino_En domicilio con instrucciones',\n",
              "       'destino_En domicilio con monitoreo',\n",
              "       'destino_En domicilio con seguimiento',\n",
              "       'destino_Evaluación en amarillo', 'destino_Evaluación en rojo',\n",
              "       'destino_Evaluación en verde VMD',\n",
              "       'destino_Indico concurrir a guardia externa',\n",
              "       'destino_Indico seguimiento por consultorio externo',\n",
              "       'destino_Paciente ausente', 'destino_Traslado protocolo pandemia',\n",
              "       'destino_USER CANCEL', 'ts_cierre', 'ts_inicio', 'tiempo_consulta',\n",
              "       'duración_consulta_segundos'],\n",
              "      dtype='object')"
            ]
          },
          "metadata": {
            "tags": []
          },
          "execution_count": 74
        }
      ]
    },
    {
      "cell_type": "code",
      "metadata": {
        "id": "gpRNZUgAoLOb"
      },
      "source": [
        "df6 = df5"
      ],
      "execution_count": null,
      "outputs": []
    },
    {
      "cell_type": "code",
      "metadata": {
        "colab": {
          "base_uri": "https://localhost:8080/"
        },
        "id": "jm1IkxKqUkzI",
        "outputId": "28036ede-78fc-41fc-98c0-29cc0ebedb23"
      },
      "source": [
        "pd.set_option('display.max_colwidth', -1)"
      ],
      "execution_count": null,
      "outputs": [
        {
          "output_type": "stream",
          "text": [
            "/usr/local/lib/python3.6/dist-packages/ipykernel_launcher.py:1: FutureWarning: Passing a negative integer is deprecated in version 1.0 and will not be supported in future version. Instead, use None to not limit the column width.\n",
            "  \"\"\"Entry point for launching an IPython kernel.\n"
          ],
          "name": "stderr"
        }
      ]
    },
    {
      "cell_type": "code",
      "metadata": {
        "colab": {
          "base_uri": "https://localhost:8080/",
          "height": 1000
        },
        "id": "9z5hbfXF2hIW",
        "outputId": "966aa0ca-a659-47bd-f52a-ebcaeabbb7f4"
      },
      "source": [
        "df6.sample(10)"
      ],
      "execution_count": null,
      "outputs": [
        {
          "output_type": "execute_result",
          "data": {
            "text/html": [
              "<div>\n",
              "<style scoped>\n",
              "    .dataframe tbody tr th:only-of-type {\n",
              "        vertical-align: middle;\n",
              "    }\n",
              "\n",
              "    .dataframe tbody tr th {\n",
              "        vertical-align: top;\n",
              "    }\n",
              "\n",
              "    .dataframe thead th {\n",
              "        text-align: right;\n",
              "    }\n",
              "</style>\n",
              "<table border=\"1\" class=\"dataframe\">\n",
              "  <thead>\n",
              "    <tr style=\"text-align: right;\">\n",
              "      <th></th>\n",
              "      <th>provider_cuit</th>\n",
              "      <th>mr_dt_cierre</th>\n",
              "      <th>mr_preds_pre_clasif</th>\n",
              "      <th>mr_reposo</th>\n",
              "      <th>mr_epicrisis</th>\n",
              "      <th>mr_epicrisis_edit</th>\n",
              "      <th>mr_destino_final</th>\n",
              "      <th>mr_receta</th>\n",
              "      <th>texto_edit</th>\n",
              "      <th>destino_Anula el paciente</th>\n",
              "      <th>destino_Anula por falla de conexión</th>\n",
              "      <th>destino_En domicilio con instrucciones</th>\n",
              "      <th>destino_En domicilio con monitoreo</th>\n",
              "      <th>destino_En domicilio con seguimiento</th>\n",
              "      <th>destino_Evaluación en amarillo</th>\n",
              "      <th>destino_Evaluación en rojo</th>\n",
              "      <th>destino_Evaluación en verde VMD</th>\n",
              "      <th>destino_Indico concurrir a guardia externa</th>\n",
              "      <th>destino_Indico seguimiento por consultorio externo</th>\n",
              "      <th>destino_Paciente ausente</th>\n",
              "      <th>destino_Traslado protocolo pandemia</th>\n",
              "      <th>destino_USER CANCEL</th>\n",
              "      <th>ts_cierre</th>\n",
              "      <th>ts_inicio</th>\n",
              "      <th>tiempo_consulta</th>\n",
              "      <th>duración_consulta_segundos</th>\n",
              "    </tr>\n",
              "  </thead>\n",
              "  <tbody>\n",
              "    <tr>\n",
              "      <th>529721</th>\n",
              "      <td>20957529330</td>\n",
              "      <td>2021-01-08 11:18:23</td>\n",
              "      <td>2021-01-08 10:47:20</td>\n",
              "      <td>0</td>\n",
              "      <td>NaN</td>\n",
              "      <td>0.0</td>\n",
              "      <td>Paciente ausente</td>\n",
              "      <td>NaN</td>\n",
              "      <td>0.0</td>\n",
              "      <td>0</td>\n",
              "      <td>0</td>\n",
              "      <td>0</td>\n",
              "      <td>0</td>\n",
              "      <td>0</td>\n",
              "      <td>0</td>\n",
              "      <td>0</td>\n",
              "      <td>0</td>\n",
              "      <td>0</td>\n",
              "      <td>0</td>\n",
              "      <td>1</td>\n",
              "      <td>0</td>\n",
              "      <td>0</td>\n",
              "      <td>2021-01-08 11:18:23</td>\n",
              "      <td>2021-01-08 10:47:20</td>\n",
              "      <td>0 days 00:31:03</td>\n",
              "      <td>1863.0</td>\n",
              "    </tr>\n",
              "    <tr>\n",
              "      <th>193927</th>\n",
              "      <td>27939679036</td>\n",
              "      <td>2020-07-30 14:48:20</td>\n",
              "      <td>2020-07-30 13:59:39</td>\n",
              "      <td>1</td>\n",
              "      <td>Paciente femenino, 35 años de edad,  en contacto estrecho con covid positivo, presenta tos seca, congestion nasa de 72 horas de evolucion,, lse indica aislamiento y realizacion de hisopado</td>\n",
              "      <td>188.0</td>\n",
              "      <td>En domicilio con monitoreo</td>\n",
              "      <td>[]</td>\n",
              "      <td>1327.0</td>\n",
              "      <td>0</td>\n",
              "      <td>0</td>\n",
              "      <td>0</td>\n",
              "      <td>1</td>\n",
              "      <td>0</td>\n",
              "      <td>0</td>\n",
              "      <td>0</td>\n",
              "      <td>0</td>\n",
              "      <td>0</td>\n",
              "      <td>0</td>\n",
              "      <td>0</td>\n",
              "      <td>0</td>\n",
              "      <td>0</td>\n",
              "      <td>2020-07-30 14:48:20</td>\n",
              "      <td>2020-07-30 13:59:39</td>\n",
              "      <td>0 days 00:48:41</td>\n",
              "      <td>2921.0</td>\n",
              "    </tr>\n",
              "    <tr>\n",
              "      <th>422601</th>\n",
              "      <td>27949184558</td>\n",
              "      <td>2020-10-07 14:49:32</td>\n",
              "      <td>2020-10-07 14:34:21</td>\n",
              "      <td>0</td>\n",
              "      <td>paciente con sintomas compatibles con COVID 19 , pareja tambien. no disnea.</td>\n",
              "      <td>78.0</td>\n",
              "      <td>Traslado protocolo pandemia</td>\n",
              "      <td>[]</td>\n",
              "      <td>917.0</td>\n",
              "      <td>0</td>\n",
              "      <td>0</td>\n",
              "      <td>0</td>\n",
              "      <td>0</td>\n",
              "      <td>0</td>\n",
              "      <td>0</td>\n",
              "      <td>0</td>\n",
              "      <td>0</td>\n",
              "      <td>0</td>\n",
              "      <td>0</td>\n",
              "      <td>0</td>\n",
              "      <td>1</td>\n",
              "      <td>0</td>\n",
              "      <td>2020-10-07 14:49:32</td>\n",
              "      <td>2020-10-07 14:34:21</td>\n",
              "      <td>0 days 00:15:11</td>\n",
              "      <td>911.0</td>\n",
              "    </tr>\n",
              "    <tr>\n",
              "      <th>544552</th>\n",
              "      <td>20290402280</td>\n",
              "      <td>2021-01-13 11:39:12</td>\n",
              "      <td>2021-01-13 11:26:32</td>\n",
              "      <td>1</td>\n",
              "      <td>Paciente con discopatía activa y en tratamiento fisiátrico solicita reposo por hoy ya que mañana verá al especialista.</td>\n",
              "      <td>119.0</td>\n",
              "      <td>En domicilio con instrucciones</td>\n",
              "      <td>NaN</td>\n",
              "      <td>540.0</td>\n",
              "      <td>0</td>\n",
              "      <td>0</td>\n",
              "      <td>1</td>\n",
              "      <td>0</td>\n",
              "      <td>0</td>\n",
              "      <td>0</td>\n",
              "      <td>0</td>\n",
              "      <td>0</td>\n",
              "      <td>0</td>\n",
              "      <td>0</td>\n",
              "      <td>0</td>\n",
              "      <td>0</td>\n",
              "      <td>0</td>\n",
              "      <td>2021-01-13 11:39:12</td>\n",
              "      <td>2021-01-13 11:26:32</td>\n",
              "      <td>0 days 00:12:40</td>\n",
              "      <td>760.0</td>\n",
              "    </tr>\n",
              "    <tr>\n",
              "      <th>235150</th>\n",
              "      <td>27368065221</td>\n",
              "      <td>2020-08-11 18:17:04</td>\n",
              "      <td>2020-08-11 16:38:12</td>\n",
              "      <td>0</td>\n",
              "      <td>NaN</td>\n",
              "      <td>0.0</td>\n",
              "      <td>Paciente ausente</td>\n",
              "      <td>[]</td>\n",
              "      <td>651.0</td>\n",
              "      <td>0</td>\n",
              "      <td>0</td>\n",
              "      <td>0</td>\n",
              "      <td>0</td>\n",
              "      <td>0</td>\n",
              "      <td>0</td>\n",
              "      <td>0</td>\n",
              "      <td>0</td>\n",
              "      <td>0</td>\n",
              "      <td>0</td>\n",
              "      <td>1</td>\n",
              "      <td>0</td>\n",
              "      <td>0</td>\n",
              "      <td>2020-08-11 18:17:04</td>\n",
              "      <td>2020-08-11 16:38:12</td>\n",
              "      <td>0 days 01:38:52</td>\n",
              "      <td>5932.0</td>\n",
              "    </tr>\n",
              "    <tr>\n",
              "      <th>70810</th>\n",
              "      <td>20955349378</td>\n",
              "      <td>2020-06-08 17:39:54</td>\n",
              "      <td>2020-06-08 17:25:43</td>\n",
              "      <td>0</td>\n",
              "      <td>NaN</td>\n",
              "      <td>0.0</td>\n",
              "      <td>Paciente ausente</td>\n",
              "      <td>[]</td>\n",
              "      <td>0.0</td>\n",
              "      <td>0</td>\n",
              "      <td>0</td>\n",
              "      <td>0</td>\n",
              "      <td>0</td>\n",
              "      <td>0</td>\n",
              "      <td>0</td>\n",
              "      <td>0</td>\n",
              "      <td>0</td>\n",
              "      <td>0</td>\n",
              "      <td>0</td>\n",
              "      <td>1</td>\n",
              "      <td>0</td>\n",
              "      <td>0</td>\n",
              "      <td>2020-06-08 17:39:54</td>\n",
              "      <td>2020-06-08 17:25:43</td>\n",
              "      <td>0 days 00:14:11</td>\n",
              "      <td>851.0</td>\n",
              "    </tr>\n",
              "    <tr>\n",
              "      <th>255299</th>\n",
              "      <td>27955020974</td>\n",
              "      <td>2020-08-17 18:21:10</td>\n",
              "      <td>2020-08-17 17:58:47</td>\n",
              "      <td>0</td>\n",
              "      <td>FEMENINA DE 25 AÑOS\\nCONSULTA , DOLOR ESPALDA, CUELLO , MIALGIA , CEFALEA, MIALGIA , ODINOFAGIA</td>\n",
              "      <td>95.0</td>\n",
              "      <td>En domicilio con instrucciones</td>\n",
              "      <td>[]</td>\n",
              "      <td>1263.0</td>\n",
              "      <td>0</td>\n",
              "      <td>0</td>\n",
              "      <td>1</td>\n",
              "      <td>0</td>\n",
              "      <td>0</td>\n",
              "      <td>0</td>\n",
              "      <td>0</td>\n",
              "      <td>0</td>\n",
              "      <td>0</td>\n",
              "      <td>0</td>\n",
              "      <td>0</td>\n",
              "      <td>0</td>\n",
              "      <td>0</td>\n",
              "      <td>2020-08-17 18:21:10</td>\n",
              "      <td>2020-08-17 17:58:47</td>\n",
              "      <td>0 days 00:22:23</td>\n",
              "      <td>1343.0</td>\n",
              "    </tr>\n",
              "    <tr>\n",
              "      <th>153440</th>\n",
              "      <td>27218524902</td>\n",
              "      <td>2020-07-17 07:46:39</td>\n",
              "      <td>2020-07-17 07:31:25</td>\n",
              "      <td>0</td>\n",
              "      <td>NaN</td>\n",
              "      <td>0.0</td>\n",
              "      <td>Paciente ausente</td>\n",
              "      <td>[]</td>\n",
              "      <td>0.0</td>\n",
              "      <td>0</td>\n",
              "      <td>0</td>\n",
              "      <td>0</td>\n",
              "      <td>0</td>\n",
              "      <td>0</td>\n",
              "      <td>0</td>\n",
              "      <td>0</td>\n",
              "      <td>0</td>\n",
              "      <td>0</td>\n",
              "      <td>0</td>\n",
              "      <td>1</td>\n",
              "      <td>0</td>\n",
              "      <td>0</td>\n",
              "      <td>2020-07-17 07:46:39</td>\n",
              "      <td>2020-07-17 07:31:25</td>\n",
              "      <td>0 days 00:15:14</td>\n",
              "      <td>914.0</td>\n",
              "    </tr>\n",
              "    <tr>\n",
              "      <th>328531</th>\n",
              "      <td>20143917429</td>\n",
              "      <td>2020-09-07 18:26:50</td>\n",
              "      <td>2020-09-07 18:20:29</td>\n",
              "      <td>1</td>\n",
              "      <td>refiere cefalea, odinofagia y fiebre</td>\n",
              "      <td>36.0</td>\n",
              "      <td>En domicilio con monitoreo</td>\n",
              "      <td>[]</td>\n",
              "      <td>1762.0</td>\n",
              "      <td>0</td>\n",
              "      <td>0</td>\n",
              "      <td>0</td>\n",
              "      <td>1</td>\n",
              "      <td>0</td>\n",
              "      <td>0</td>\n",
              "      <td>0</td>\n",
              "      <td>0</td>\n",
              "      <td>0</td>\n",
              "      <td>0</td>\n",
              "      <td>0</td>\n",
              "      <td>0</td>\n",
              "      <td>0</td>\n",
              "      <td>2020-09-07 18:26:50</td>\n",
              "      <td>2020-09-07 18:20:29</td>\n",
              "      <td>0 days 00:06:21</td>\n",
              "      <td>381.0</td>\n",
              "    </tr>\n",
              "    <tr>\n",
              "      <th>501633</th>\n",
              "      <td>20950663198</td>\n",
              "      <td>2020-11-14 11:39:03</td>\n",
              "      <td>2020-11-14 11:29:34</td>\n",
              "      <td>1</td>\n",
              "      <td>Paciente que solicita servicio medico para control clínico y realización de prescripción medica por síntomas respiratorios.\\nSe realizan indicaciones médicas junto con recomendaciones más pautas de alarma.</td>\n",
              "      <td>204.0</td>\n",
              "      <td>En domicilio con instrucciones</td>\n",
              "      <td>NaN</td>\n",
              "      <td>0.0</td>\n",
              "      <td>0</td>\n",
              "      <td>0</td>\n",
              "      <td>1</td>\n",
              "      <td>0</td>\n",
              "      <td>0</td>\n",
              "      <td>0</td>\n",
              "      <td>0</td>\n",
              "      <td>0</td>\n",
              "      <td>0</td>\n",
              "      <td>0</td>\n",
              "      <td>0</td>\n",
              "      <td>0</td>\n",
              "      <td>0</td>\n",
              "      <td>2020-11-14 11:39:03</td>\n",
              "      <td>2020-11-14 11:29:34</td>\n",
              "      <td>0 days 00:09:29</td>\n",
              "      <td>569.0</td>\n",
              "    </tr>\n",
              "  </tbody>\n",
              "</table>\n",
              "</div>"
            ],
            "text/plain": [
              "       provider_cuit  ... duración_consulta_segundos\n",
              "529721  20957529330   ...  1863.0                   \n",
              "193927  27939679036   ...  2921.0                   \n",
              "422601  27949184558   ...  911.0                    \n",
              "544552  20290402280   ...  760.0                    \n",
              "235150  27368065221   ...  5932.0                   \n",
              "70810   20955349378   ...  851.0                    \n",
              "255299  27955020974   ...  1343.0                   \n",
              "153440  27218524902   ...  914.0                    \n",
              "328531  20143917429   ...  381.0                    \n",
              "501633  20950663198   ...  569.0                    \n",
              "\n",
              "[10 rows x 26 columns]"
            ]
          },
          "metadata": {
            "tags": []
          },
          "execution_count": 102
        }
      ]
    },
    {
      "cell_type": "code",
      "metadata": {
        "id": "wLBKyCgaV0ZB"
      },
      "source": [
        "df6.to_csv(path2 + 'fraude_medicos.csv', index=False )"
      ],
      "execution_count": null,
      "outputs": []
    },
    {
      "cell_type": "code",
      "metadata": {
        "id": "YpBgfgpIXEDN",
        "colab": {
          "base_uri": "https://localhost:8080/"
        },
        "outputId": "f7276595-1c36-497a-89ba-d290efa29efb"
      },
      "source": [
        "df6 = pd.read_csv (path2 + 'fraude_medicos.csv' )"
      ],
      "execution_count": null,
      "outputs": [
        {
          "output_type": "stream",
          "text": [
            "/usr/local/lib/python3.6/dist-packages/IPython/core/interactiveshell.py:2718: DtypeWarning: Columns (0) have mixed types.Specify dtype option on import or set low_memory=False.\n",
            "  interactivity=interactivity, compiler=compiler, result=result)\n"
          ],
          "name": "stderr"
        }
      ]
    },
    {
      "cell_type": "code",
      "metadata": {
        "colab": {
          "base_uri": "https://localhost:8080/"
        },
        "id": "zPtclWAGYDsS",
        "outputId": "2165c1d8-9e13-4040-934e-9b2b11eb8cb4"
      },
      "source": [
        "df6.columns"
      ],
      "execution_count": null,
      "outputs": [
        {
          "output_type": "execute_result",
          "data": {
            "text/plain": [
              "Index(['provider_cuit', 'mr_dt_cierre', 'mr_preds_pre_clasif', 'mr_reposo',\n",
              "       'mr_epicrisis', 'mr_epicrisis_edit', 'mr_destino_final', 'mr_receta',\n",
              "       'texto_edit', 'destino_Anula el paciente',\n",
              "       'destino_Anula por falla de conexión',\n",
              "       'destino_En domicilio con instrucciones',\n",
              "       'destino_En domicilio con monitoreo',\n",
              "       'destino_En domicilio con seguimiento',\n",
              "       'destino_Evaluación en amarillo', 'destino_Evaluación en rojo',\n",
              "       'destino_Evaluación en verde VMD',\n",
              "       'destino_Indico concurrir a guardia externa',\n",
              "       'destino_Indico seguimiento por consultorio externo',\n",
              "       'destino_Paciente ausente', 'destino_Traslado protocolo pandemia',\n",
              "       'destino_USER CANCEL', 'ts_cierre', 'ts_inicio', 'tiempo_consulta',\n",
              "       'duración_consulta_segundos'],\n",
              "      dtype='object')"
            ]
          },
          "metadata": {
            "tags": []
          },
          "execution_count": 8
        }
      ]
    },
    {
      "cell_type": "code",
      "metadata": {
        "id": "kv0m7ygGLKsx"
      },
      "source": [
        "df6_filter = df6[['provider_cuit', 'mr_reposo',\n",
        "      'mr_epicrisis_edit', 'mr_receta',\n",
        "       'texto_edit', 'destino_Anula el paciente',\n",
        "       'destino_Anula por falla de conexión',\n",
        "       'destino_En domicilio con instrucciones',\n",
        "       'destino_En domicilio con monitoreo',\n",
        "       'destino_En domicilio con seguimiento',\n",
        "       'destino_Evaluación en amarillo', 'destino_Evaluación en rojo',\n",
        "       'destino_Evaluación en verde VMD',\n",
        "       'destino_Indico concurrir a guardia externa',\n",
        "       'destino_Indico seguimiento por consultorio externo',\n",
        "       'destino_Paciente ausente', 'destino_Traslado protocolo pandemia',\n",
        "       'destino_USER CANCEL',\n",
        "       'duración_consulta_segundos']]"
      ],
      "execution_count": null,
      "outputs": []
    },
    {
      "cell_type": "code",
      "metadata": {
        "colab": {
          "base_uri": "https://localhost:8080/",
          "height": 467
        },
        "id": "FV5zLMxYLb3d",
        "outputId": "bd379d1c-32d4-4d86-b00a-a997717b715b"
      },
      "source": [
        "df6_filter.sample(10)"
      ],
      "execution_count": null,
      "outputs": [
        {
          "output_type": "execute_result",
          "data": {
            "text/html": [
              "<div>\n",
              "<style scoped>\n",
              "    .dataframe tbody tr th:only-of-type {\n",
              "        vertical-align: middle;\n",
              "    }\n",
              "\n",
              "    .dataframe tbody tr th {\n",
              "        vertical-align: top;\n",
              "    }\n",
              "\n",
              "    .dataframe thead th {\n",
              "        text-align: right;\n",
              "    }\n",
              "</style>\n",
              "<table border=\"1\" class=\"dataframe\">\n",
              "  <thead>\n",
              "    <tr style=\"text-align: right;\">\n",
              "      <th></th>\n",
              "      <th>provider_cuit</th>\n",
              "      <th>mr_reposo</th>\n",
              "      <th>mr_epicrisis_edit</th>\n",
              "      <th>mr_receta</th>\n",
              "      <th>texto_edit</th>\n",
              "      <th>destino_Anula el paciente</th>\n",
              "      <th>destino_Anula por falla de conexión</th>\n",
              "      <th>destino_En domicilio con instrucciones</th>\n",
              "      <th>destino_En domicilio con monitoreo</th>\n",
              "      <th>destino_En domicilio con seguimiento</th>\n",
              "      <th>destino_Evaluación en amarillo</th>\n",
              "      <th>destino_Evaluación en rojo</th>\n",
              "      <th>destino_Evaluación en verde VMD</th>\n",
              "      <th>destino_Indico concurrir a guardia externa</th>\n",
              "      <th>destino_Indico seguimiento por consultorio externo</th>\n",
              "      <th>destino_Paciente ausente</th>\n",
              "      <th>destino_Traslado protocolo pandemia</th>\n",
              "      <th>destino_USER CANCEL</th>\n",
              "      <th>duración_consulta_segundos</th>\n",
              "    </tr>\n",
              "  </thead>\n",
              "  <tbody>\n",
              "    <tr>\n",
              "      <th>494802</th>\n",
              "      <td>20301453443</td>\n",
              "      <td>NaN</td>\n",
              "      <td>56.0</td>\n",
              "      <td>NaN</td>\n",
              "      <td>0.0</td>\n",
              "      <td>0</td>\n",
              "      <td>0</td>\n",
              "      <td>0</td>\n",
              "      <td>0</td>\n",
              "      <td>0</td>\n",
              "      <td>0</td>\n",
              "      <td>0</td>\n",
              "      <td>1</td>\n",
              "      <td>0</td>\n",
              "      <td>0</td>\n",
              "      <td>0</td>\n",
              "      <td>0</td>\n",
              "      <td>0</td>\n",
              "      <td>240.0</td>\n",
              "    </tr>\n",
              "    <tr>\n",
              "      <th>530603</th>\n",
              "      <td>27104788756</td>\n",
              "      <td>NaN</td>\n",
              "      <td>27.0</td>\n",
              "      <td>[{\"indicaciones\": \"\", \"prescriptionDate\": \"202...</td>\n",
              "      <td>0.0</td>\n",
              "      <td>0</td>\n",
              "      <td>0</td>\n",
              "      <td>1</td>\n",
              "      <td>0</td>\n",
              "      <td>0</td>\n",
              "      <td>0</td>\n",
              "      <td>0</td>\n",
              "      <td>0</td>\n",
              "      <td>0</td>\n",
              "      <td>0</td>\n",
              "      <td>0</td>\n",
              "      <td>0</td>\n",
              "      <td>0</td>\n",
              "      <td>226.0</td>\n",
              "    </tr>\n",
              "    <tr>\n",
              "      <th>417440</th>\n",
              "      <td>27949184558</td>\n",
              "      <td>NaN</td>\n",
              "      <td>0.0</td>\n",
              "      <td>[]</td>\n",
              "      <td>169.0</td>\n",
              "      <td>0</td>\n",
              "      <td>0</td>\n",
              "      <td>0</td>\n",
              "      <td>0</td>\n",
              "      <td>0</td>\n",
              "      <td>0</td>\n",
              "      <td>0</td>\n",
              "      <td>0</td>\n",
              "      <td>0</td>\n",
              "      <td>0</td>\n",
              "      <td>1</td>\n",
              "      <td>0</td>\n",
              "      <td>0</td>\n",
              "      <td>1294.0</td>\n",
              "    </tr>\n",
              "    <tr>\n",
              "      <th>362281</th>\n",
              "      <td>27955020974</td>\n",
              "      <td>NaN</td>\n",
              "      <td>109.0</td>\n",
              "      <td>[]</td>\n",
              "      <td>459.0</td>\n",
              "      <td>0</td>\n",
              "      <td>0</td>\n",
              "      <td>0</td>\n",
              "      <td>1</td>\n",
              "      <td>0</td>\n",
              "      <td>0</td>\n",
              "      <td>0</td>\n",
              "      <td>0</td>\n",
              "      <td>0</td>\n",
              "      <td>0</td>\n",
              "      <td>0</td>\n",
              "      <td>0</td>\n",
              "      <td>0</td>\n",
              "      <td>211.0</td>\n",
              "    </tr>\n",
              "    <tr>\n",
              "      <th>367298</th>\n",
              "      <td>27207074719</td>\n",
              "      <td>NaN</td>\n",
              "      <td>142.0</td>\n",
              "      <td>[]</td>\n",
              "      <td>6354.0</td>\n",
              "      <td>0</td>\n",
              "      <td>0</td>\n",
              "      <td>0</td>\n",
              "      <td>0</td>\n",
              "      <td>0</td>\n",
              "      <td>0</td>\n",
              "      <td>0</td>\n",
              "      <td>0</td>\n",
              "      <td>1</td>\n",
              "      <td>0</td>\n",
              "      <td>0</td>\n",
              "      <td>0</td>\n",
              "      <td>0</td>\n",
              "      <td>1430.0</td>\n",
              "    </tr>\n",
              "    <tr>\n",
              "      <th>435938</th>\n",
              "      <td>27959169972</td>\n",
              "      <td>NaN</td>\n",
              "      <td>304.0</td>\n",
              "      <td>[{\"selected_logo\": \"https://firebasestorage.go...</td>\n",
              "      <td>3197.0</td>\n",
              "      <td>0</td>\n",
              "      <td>0</td>\n",
              "      <td>1</td>\n",
              "      <td>0</td>\n",
              "      <td>0</td>\n",
              "      <td>0</td>\n",
              "      <td>0</td>\n",
              "      <td>0</td>\n",
              "      <td>0</td>\n",
              "      <td>0</td>\n",
              "      <td>0</td>\n",
              "      <td>0</td>\n",
              "      <td>0</td>\n",
              "      <td>739.0</td>\n",
              "    </tr>\n",
              "    <tr>\n",
              "      <th>325963</th>\n",
              "      <td>20947957091</td>\n",
              "      <td>NaN</td>\n",
              "      <td>131.0</td>\n",
              "      <td>[]</td>\n",
              "      <td>525.0</td>\n",
              "      <td>0</td>\n",
              "      <td>0</td>\n",
              "      <td>0</td>\n",
              "      <td>0</td>\n",
              "      <td>0</td>\n",
              "      <td>1</td>\n",
              "      <td>0</td>\n",
              "      <td>0</td>\n",
              "      <td>0</td>\n",
              "      <td>0</td>\n",
              "      <td>0</td>\n",
              "      <td>0</td>\n",
              "      <td>0</td>\n",
              "      <td>695.0</td>\n",
              "    </tr>\n",
              "    <tr>\n",
              "      <th>182298</th>\n",
              "      <td>20953156068</td>\n",
              "      <td>72</td>\n",
              "      <td>105.0</td>\n",
              "      <td>[]</td>\n",
              "      <td>1398.0</td>\n",
              "      <td>0</td>\n",
              "      <td>0</td>\n",
              "      <td>1</td>\n",
              "      <td>0</td>\n",
              "      <td>0</td>\n",
              "      <td>0</td>\n",
              "      <td>0</td>\n",
              "      <td>0</td>\n",
              "      <td>0</td>\n",
              "      <td>0</td>\n",
              "      <td>0</td>\n",
              "      <td>0</td>\n",
              "      <td>0</td>\n",
              "      <td>1399.0</td>\n",
              "    </tr>\n",
              "    <tr>\n",
              "      <th>165936</th>\n",
              "      <td>27954430419</td>\n",
              "      <td>NaN</td>\n",
              "      <td>176.0</td>\n",
              "      <td>[]</td>\n",
              "      <td>4456.0</td>\n",
              "      <td>0</td>\n",
              "      <td>0</td>\n",
              "      <td>1</td>\n",
              "      <td>0</td>\n",
              "      <td>0</td>\n",
              "      <td>0</td>\n",
              "      <td>0</td>\n",
              "      <td>0</td>\n",
              "      <td>0</td>\n",
              "      <td>0</td>\n",
              "      <td>0</td>\n",
              "      <td>0</td>\n",
              "      <td>0</td>\n",
              "      <td>2810.0</td>\n",
              "    </tr>\n",
              "    <tr>\n",
              "      <th>309914</th>\n",
              "      <td>27957411652</td>\n",
              "      <td>alta</td>\n",
              "      <td>254.0</td>\n",
              "      <td>[]</td>\n",
              "      <td>1245.0</td>\n",
              "      <td>0</td>\n",
              "      <td>0</td>\n",
              "      <td>1</td>\n",
              "      <td>0</td>\n",
              "      <td>0</td>\n",
              "      <td>0</td>\n",
              "      <td>0</td>\n",
              "      <td>0</td>\n",
              "      <td>0</td>\n",
              "      <td>0</td>\n",
              "      <td>0</td>\n",
              "      <td>0</td>\n",
              "      <td>0</td>\n",
              "      <td>399.0</td>\n",
              "    </tr>\n",
              "  </tbody>\n",
              "</table>\n",
              "</div>"
            ],
            "text/plain": [
              "       provider_cuit mr_reposo  ...  destino_USER CANCEL duración_consulta_segundos\n",
              "494802   20301453443       NaN  ...                    0                      240.0\n",
              "530603   27104788756       NaN  ...                    0                      226.0\n",
              "417440   27949184558       NaN  ...                    0                     1294.0\n",
              "362281   27955020974       NaN  ...                    0                      211.0\n",
              "367298   27207074719       NaN  ...                    0                     1430.0\n",
              "435938   27959169972       NaN  ...                    0                      739.0\n",
              "325963   20947957091       NaN  ...                    0                      695.0\n",
              "182298   20953156068        72  ...                    0                     1399.0\n",
              "165936   27954430419       NaN  ...                    0                     2810.0\n",
              "309914   27957411652      alta  ...                    0                      399.0\n",
              "\n",
              "[10 rows x 19 columns]"
            ]
          },
          "metadata": {
            "tags": []
          },
          "execution_count": 10
        }
      ]
    },
    {
      "cell_type": "code",
      "metadata": {
        "id": "4cMYfTXuYMxb"
      },
      "source": [
        "df2 = df6_filter"
      ],
      "execution_count": null,
      "outputs": []
    },
    {
      "cell_type": "code",
      "metadata": {
        "colab": {
          "base_uri": "https://localhost:8080/"
        },
        "id": "YWx4Ah9iztde",
        "outputId": "5f159df0-c1ce-40c0-b175-7bcad0d9ec8c"
      },
      "source": [
        "#Remplazo los NaN de recetas y los que tuvieron emisión les asigno 1\n",
        "df2.mr_receta = df2.mr_receta.fillna(0)\n",
        "df2['receta'] = df2['mr_receta'].replace('[]', 0)\n",
        "df2.receta[df2.receta != 0] = 1"
      ],
      "execution_count": null,
      "outputs": [
        {
          "output_type": "stream",
          "text": [
            "/usr/local/lib/python3.6/dist-packages/pandas/core/generic.py:5170: SettingWithCopyWarning: \n",
            "A value is trying to be set on a copy of a slice from a DataFrame.\n",
            "Try using .loc[row_indexer,col_indexer] = value instead\n",
            "\n",
            "See the caveats in the documentation: https://pandas.pydata.org/pandas-docs/stable/user_guide/indexing.html#returning-a-view-versus-a-copy\n",
            "  self[name] = value\n",
            "/usr/local/lib/python3.6/dist-packages/ipykernel_launcher.py:3: SettingWithCopyWarning: \n",
            "A value is trying to be set on a copy of a slice from a DataFrame.\n",
            "Try using .loc[row_indexer,col_indexer] = value instead\n",
            "\n",
            "See the caveats in the documentation: https://pandas.pydata.org/pandas-docs/stable/user_guide/indexing.html#returning-a-view-versus-a-copy\n",
            "  This is separate from the ipykernel package so we can avoid doing imports until\n",
            "/usr/local/lib/python3.6/dist-packages/ipykernel_launcher.py:4: SettingWithCopyWarning: \n",
            "A value is trying to be set on a copy of a slice from a DataFrame\n",
            "\n",
            "See the caveats in the documentation: https://pandas.pydata.org/pandas-docs/stable/user_guide/indexing.html#returning-a-view-versus-a-copy\n",
            "  after removing the cwd from sys.path.\n",
            "/usr/local/lib/python3.6/dist-packages/pandas/core/series.py:1021: SettingWithCopyWarning: \n",
            "A value is trying to be set on a copy of a slice from a DataFrame\n",
            "\n",
            "See the caveats in the documentation: https://pandas.pydata.org/pandas-docs/stable/user_guide/indexing.html#returning-a-view-versus-a-copy\n",
            "  self._where(~key, value, inplace=True)\n"
          ],
          "name": "stderr"
        }
      ]
    },
    {
      "cell_type": "code",
      "metadata": {
        "colab": {
          "base_uri": "https://localhost:8080/"
        },
        "id": "GZE4SR2MogwC",
        "outputId": "1b1cb8a1-c53c-4725-9d8f-811c54f45ee4"
      },
      "source": [
        "#remplazo los NaN por O y si tiene asignado reposo asigno 1\n",
        "df2.mr_reposo = df2.mr_reposo.fillna(0)\n",
        "df2.mr_reposo[df2.mr_reposo != 0] = 1"
      ],
      "execution_count": null,
      "outputs": [
        {
          "output_type": "stream",
          "text": [
            "/usr/local/lib/python3.6/dist-packages/pandas/core/generic.py:5170: SettingWithCopyWarning: \n",
            "A value is trying to be set on a copy of a slice from a DataFrame.\n",
            "Try using .loc[row_indexer,col_indexer] = value instead\n",
            "\n",
            "See the caveats in the documentation: https://pandas.pydata.org/pandas-docs/stable/user_guide/indexing.html#returning-a-view-versus-a-copy\n",
            "  self[name] = value\n",
            "/usr/local/lib/python3.6/dist-packages/ipykernel_launcher.py:3: SettingWithCopyWarning: \n",
            "A value is trying to be set on a copy of a slice from a DataFrame\n",
            "\n",
            "See the caveats in the documentation: https://pandas.pydata.org/pandas-docs/stable/user_guide/indexing.html#returning-a-view-versus-a-copy\n",
            "  This is separate from the ipykernel package so we can avoid doing imports until\n",
            "/usr/local/lib/python3.6/dist-packages/pandas/core/series.py:1021: SettingWithCopyWarning: \n",
            "A value is trying to be set on a copy of a slice from a DataFrame\n",
            "\n",
            "See the caveats in the documentation: https://pandas.pydata.org/pandas-docs/stable/user_guide/indexing.html#returning-a-view-versus-a-copy\n",
            "  self._where(~key, value, inplace=True)\n"
          ],
          "name": "stderr"
        }
      ]
    },
    {
      "cell_type": "code",
      "metadata": {
        "id": "YdSSZqrC4cNG",
        "colab": {
          "base_uri": "https://localhost:8080/"
        },
        "outputId": "fa3514d2-6705-4228-81b6-58d829805d5e"
      },
      "source": [
        "#Genro la variable \"piscofarmacos\"\n",
        "lista_recetas = df2.mr_receta.to_list()\n",
        "import ast\n",
        "lista_final = []\n",
        "for x in lista_recetas:\n",
        "  try:\n",
        "    a = ast.literal_eval(x)\n",
        "    lista_final.append (a)\n",
        "  except:\n",
        "    lista_final.append ([])\n",
        "\n",
        "duplicado = []\n",
        "for x in lista_final:\n",
        "  if x != []:\n",
        "    if x != 0:\n",
        "      try:\n",
        "        duplicados = []\n",
        "        for y in x:\n",
        "          duplicados.append (int(y['duplicado']))\n",
        "      except:\n",
        "        duplicados = []\n",
        "    else:\n",
        "      duplicados = []\n",
        "  else:\n",
        "    duplicados = []\n",
        "  duplicado.append (duplicados)\n",
        "  \n",
        "psico = []\n",
        "for x in duplicado:\n",
        " psico.append (sum (x))\n",
        " \n",
        "df2 ['psicofarmacos'] = psico"
      ],
      "execution_count": null,
      "outputs": [
        {
          "output_type": "stream",
          "text": [
            "/usr/local/lib/python3.6/dist-packages/ipykernel_launcher.py:32: SettingWithCopyWarning: \n",
            "A value is trying to be set on a copy of a slice from a DataFrame.\n",
            "Try using .loc[row_indexer,col_indexer] = value instead\n",
            "\n",
            "See the caveats in the documentation: https://pandas.pydata.org/pandas-docs/stable/user_guide/indexing.html#returning-a-view-versus-a-copy\n"
          ],
          "name": "stderr"
        }
      ]
    },
    {
      "cell_type": "code",
      "metadata": {
        "colab": {
          "base_uri": "https://localhost:8080/"
        },
        "id": "L5B9NGSzvhEm",
        "outputId": "5fb262d2-4917-40d4-da4a-082bcc35ff39"
      },
      "source": [
        "df2.columns"
      ],
      "execution_count": null,
      "outputs": [
        {
          "output_type": "execute_result",
          "data": {
            "text/plain": [
              "Index(['provider_cuit', 'mr_reposo', 'mr_epicrisis_edit', 'mr_receta',\n",
              "       'texto_edit', 'destino_Anula el paciente',\n",
              "       'destino_Anula por falla de conexión',\n",
              "       'destino_En domicilio con instrucciones',\n",
              "       'destino_En domicilio con monitoreo',\n",
              "       'destino_En domicilio con seguimiento',\n",
              "       'destino_Evaluación en amarillo', 'destino_Evaluación en rojo',\n",
              "       'destino_Evaluación en verde VMD',\n",
              "       'destino_Indico concurrir a guardia externa',\n",
              "       'destino_Indico seguimiento por consultorio externo',\n",
              "       'destino_Paciente ausente', 'destino_Traslado protocolo pandemia',\n",
              "       'destino_USER CANCEL', 'duración_consulta_segundos', 'receta',\n",
              "       'psicofarmacos'],\n",
              "      dtype='object')"
            ]
          },
          "metadata": {
            "tags": []
          },
          "execution_count": 176
        }
      ]
    },
    {
      "cell_type": "code",
      "metadata": {
        "id": "jytlq9DcsV_a"
      },
      "source": [
        "#Genero la variable \"consultas\" con el número de consultas que realizó cada provider \n",
        "#consultas = pd.DataFrame(df2.provider_cuit.value_counts().reset_index())\n",
        "#consultas.columns = ['provider_cuit', 'consultas']\n",
        "#merged = pd.merge(df2, consultas, on='provider_cuit')"
      ],
      "execution_count": null,
      "outputs": []
    },
    {
      "cell_type": "code",
      "metadata": {
        "id": "hRJExlvG35K_"
      },
      "source": [
        "#renombro el dataset\r\n",
        "df_restore = df2"
      ],
      "execution_count": null,
      "outputs": []
    },
    {
      "cell_type": "code",
      "metadata": {
        "colab": {
          "base_uri": "https://localhost:8080/",
          "height": 670
        },
        "id": "TEC5pgZAMQW6",
        "outputId": "a2577b1b-a3df-4fe8-904b-39ad66f5352e"
      },
      "source": [
        "df_restore.sample(10)"
      ],
      "execution_count": null,
      "outputs": [
        {
          "output_type": "execute_result",
          "data": {
            "text/html": [
              "<div>\n",
              "<style scoped>\n",
              "    .dataframe tbody tr th:only-of-type {\n",
              "        vertical-align: middle;\n",
              "    }\n",
              "\n",
              "    .dataframe tbody tr th {\n",
              "        vertical-align: top;\n",
              "    }\n",
              "\n",
              "    .dataframe thead th {\n",
              "        text-align: right;\n",
              "    }\n",
              "</style>\n",
              "<table border=\"1\" class=\"dataframe\">\n",
              "  <thead>\n",
              "    <tr style=\"text-align: right;\">\n",
              "      <th></th>\n",
              "      <th>provider_cuit</th>\n",
              "      <th>mr_reposo</th>\n",
              "      <th>mr_epicrisis_edit</th>\n",
              "      <th>mr_receta</th>\n",
              "      <th>texto_edit</th>\n",
              "      <th>destino_Anula el paciente</th>\n",
              "      <th>destino_Anula por falla de conexión</th>\n",
              "      <th>destino_En domicilio con instrucciones</th>\n",
              "      <th>destino_En domicilio con monitoreo</th>\n",
              "      <th>destino_En domicilio con seguimiento</th>\n",
              "      <th>destino_Evaluación en amarillo</th>\n",
              "      <th>destino_Evaluación en rojo</th>\n",
              "      <th>destino_Evaluación en verde VMD</th>\n",
              "      <th>destino_Indico concurrir a guardia externa</th>\n",
              "      <th>destino_Indico seguimiento por consultorio externo</th>\n",
              "      <th>destino_Paciente ausente</th>\n",
              "      <th>destino_Traslado protocolo pandemia</th>\n",
              "      <th>destino_USER CANCEL</th>\n",
              "      <th>duración_consulta_segundos</th>\n",
              "      <th>receta</th>\n",
              "      <th>psicofarmacos</th>\n",
              "    </tr>\n",
              "  </thead>\n",
              "  <tbody>\n",
              "    <tr>\n",
              "      <th>292320</th>\n",
              "      <td>20173446889</td>\n",
              "      <td>1</td>\n",
              "      <td>123.0</td>\n",
              "      <td>[]</td>\n",
              "      <td>6464.0</td>\n",
              "      <td>0</td>\n",
              "      <td>0</td>\n",
              "      <td>1</td>\n",
              "      <td>0</td>\n",
              "      <td>0</td>\n",
              "      <td>0</td>\n",
              "      <td>0</td>\n",
              "      <td>0</td>\n",
              "      <td>0</td>\n",
              "      <td>0</td>\n",
              "      <td>0</td>\n",
              "      <td>0</td>\n",
              "      <td>0</td>\n",
              "      <td>26697.0</td>\n",
              "      <td>0</td>\n",
              "      <td>0</td>\n",
              "    </tr>\n",
              "    <tr>\n",
              "      <th>352135</th>\n",
              "      <td>23187241774</td>\n",
              "      <td>1</td>\n",
              "      <td>162.0</td>\n",
              "      <td>[{\"drugIDMonoDro\": 6624, \"drugName\": \"naproxeno 550             mg                                                \", \"prescriptionId\": 1600122101406, \"presentationName\": \"550 mg comp.rec.ran.x 20\", \"laboratorio\": \"Andromaco\", \"alfabetRegisterNum\": 41755, \"prescriptionDate\": \"2020-09-14\", \"habitual\": \"no\", \"prescriptionNumber\": \"9200919214067\", \"indicaciones\": \"Naprux Rapid  1 comp cada 8 hs\", \"cantidad\": 1, \"productName\": \"naprux rapid analgesico antiinflam.\", \"duplicado\": \"0\", \"selected_logo\": \"https://firebasestorage.googleapis.com/v0/b/uma-v2/o/onlinedoctor%2Frecipe_logos%2Fuma_icon.png?alt=media&amp;token=7413b620-901b-4e0b-ac82-1923f9e6761d\", \"tipo_venta\": \"2\"}]</td>\n",
              "      <td>0.0</td>\n",
              "      <td>0</td>\n",
              "      <td>0</td>\n",
              "      <td>1</td>\n",
              "      <td>0</td>\n",
              "      <td>0</td>\n",
              "      <td>0</td>\n",
              "      <td>0</td>\n",
              "      <td>0</td>\n",
              "      <td>0</td>\n",
              "      <td>0</td>\n",
              "      <td>0</td>\n",
              "      <td>0</td>\n",
              "      <td>0</td>\n",
              "      <td>1061.0</td>\n",
              "      <td>1</td>\n",
              "      <td>0</td>\n",
              "    </tr>\n",
              "    <tr>\n",
              "      <th>70018</th>\n",
              "      <td>27942202615</td>\n",
              "      <td>0</td>\n",
              "      <td>305.0</td>\n",
              "      <td>[]</td>\n",
              "      <td>0.0</td>\n",
              "      <td>0</td>\n",
              "      <td>0</td>\n",
              "      <td>0</td>\n",
              "      <td>0</td>\n",
              "      <td>0</td>\n",
              "      <td>0</td>\n",
              "      <td>0</td>\n",
              "      <td>1</td>\n",
              "      <td>0</td>\n",
              "      <td>0</td>\n",
              "      <td>0</td>\n",
              "      <td>0</td>\n",
              "      <td>0</td>\n",
              "      <td>585.0</td>\n",
              "      <td>0</td>\n",
              "      <td>0</td>\n",
              "    </tr>\n",
              "    <tr>\n",
              "      <th>130676</th>\n",
              "      <td>27954520507</td>\n",
              "      <td>1</td>\n",
              "      <td>191.0</td>\n",
              "      <td>[]</td>\n",
              "      <td>5895.0</td>\n",
              "      <td>0</td>\n",
              "      <td>0</td>\n",
              "      <td>1</td>\n",
              "      <td>0</td>\n",
              "      <td>0</td>\n",
              "      <td>0</td>\n",
              "      <td>0</td>\n",
              "      <td>0</td>\n",
              "      <td>0</td>\n",
              "      <td>0</td>\n",
              "      <td>0</td>\n",
              "      <td>0</td>\n",
              "      <td>0</td>\n",
              "      <td>673.0</td>\n",
              "      <td>0</td>\n",
              "      <td>0</td>\n",
              "    </tr>\n",
              "    <tr>\n",
              "      <th>116022</th>\n",
              "      <td>20953618614</td>\n",
              "      <td>1</td>\n",
              "      <td>74.0</td>\n",
              "      <td>[]</td>\n",
              "      <td>1923.0</td>\n",
              "      <td>0</td>\n",
              "      <td>0</td>\n",
              "      <td>1</td>\n",
              "      <td>0</td>\n",
              "      <td>0</td>\n",
              "      <td>0</td>\n",
              "      <td>0</td>\n",
              "      <td>0</td>\n",
              "      <td>0</td>\n",
              "      <td>0</td>\n",
              "      <td>0</td>\n",
              "      <td>0</td>\n",
              "      <td>0</td>\n",
              "      <td>533.0</td>\n",
              "      <td>0</td>\n",
              "      <td>0</td>\n",
              "    </tr>\n",
              "    <tr>\n",
              "      <th>548946</th>\n",
              "      <td>20301453443</td>\n",
              "      <td>0</td>\n",
              "      <td>126.0</td>\n",
              "      <td>0</td>\n",
              "      <td>0.0</td>\n",
              "      <td>0</td>\n",
              "      <td>0</td>\n",
              "      <td>0</td>\n",
              "      <td>1</td>\n",
              "      <td>0</td>\n",
              "      <td>0</td>\n",
              "      <td>0</td>\n",
              "      <td>0</td>\n",
              "      <td>0</td>\n",
              "      <td>0</td>\n",
              "      <td>0</td>\n",
              "      <td>0</td>\n",
              "      <td>0</td>\n",
              "      <td>341.0</td>\n",
              "      <td>0</td>\n",
              "      <td>0</td>\n",
              "    </tr>\n",
              "    <tr>\n",
              "      <th>453049</th>\n",
              "      <td>27954520507</td>\n",
              "      <td>1</td>\n",
              "      <td>186.0</td>\n",
              "      <td>[]</td>\n",
              "      <td>2677.0</td>\n",
              "      <td>0</td>\n",
              "      <td>0</td>\n",
              "      <td>1</td>\n",
              "      <td>0</td>\n",
              "      <td>0</td>\n",
              "      <td>0</td>\n",
              "      <td>0</td>\n",
              "      <td>0</td>\n",
              "      <td>0</td>\n",
              "      <td>0</td>\n",
              "      <td>0</td>\n",
              "      <td>0</td>\n",
              "      <td>0</td>\n",
              "      <td>189.0</td>\n",
              "      <td>0</td>\n",
              "      <td>0</td>\n",
              "    </tr>\n",
              "    <tr>\n",
              "      <th>203005</th>\n",
              "      <td>27957001039</td>\n",
              "      <td>0</td>\n",
              "      <td>0.0</td>\n",
              "      <td>[]</td>\n",
              "      <td>147.0</td>\n",
              "      <td>0</td>\n",
              "      <td>0</td>\n",
              "      <td>0</td>\n",
              "      <td>0</td>\n",
              "      <td>0</td>\n",
              "      <td>0</td>\n",
              "      <td>0</td>\n",
              "      <td>0</td>\n",
              "      <td>0</td>\n",
              "      <td>0</td>\n",
              "      <td>1</td>\n",
              "      <td>0</td>\n",
              "      <td>0</td>\n",
              "      <td>4171.0</td>\n",
              "      <td>0</td>\n",
              "      <td>0</td>\n",
              "    </tr>\n",
              "    <tr>\n",
              "      <th>385720</th>\n",
              "      <td>27947930589</td>\n",
              "      <td>0</td>\n",
              "      <td>148.0</td>\n",
              "      <td>[]</td>\n",
              "      <td>3025.0</td>\n",
              "      <td>0</td>\n",
              "      <td>0</td>\n",
              "      <td>0</td>\n",
              "      <td>1</td>\n",
              "      <td>0</td>\n",
              "      <td>0</td>\n",
              "      <td>0</td>\n",
              "      <td>0</td>\n",
              "      <td>0</td>\n",
              "      <td>0</td>\n",
              "      <td>0</td>\n",
              "      <td>0</td>\n",
              "      <td>0</td>\n",
              "      <td>643.0</td>\n",
              "      <td>0</td>\n",
              "      <td>0</td>\n",
              "    </tr>\n",
              "    <tr>\n",
              "      <th>46181</th>\n",
              "      <td>20301453443</td>\n",
              "      <td>1</td>\n",
              "      <td>47.0</td>\n",
              "      <td>[]</td>\n",
              "      <td>805.0</td>\n",
              "      <td>0</td>\n",
              "      <td>0</td>\n",
              "      <td>0</td>\n",
              "      <td>0</td>\n",
              "      <td>0</td>\n",
              "      <td>0</td>\n",
              "      <td>0</td>\n",
              "      <td>0</td>\n",
              "      <td>0</td>\n",
              "      <td>0</td>\n",
              "      <td>0</td>\n",
              "      <td>1</td>\n",
              "      <td>0</td>\n",
              "      <td>422.0</td>\n",
              "      <td>0</td>\n",
              "      <td>0</td>\n",
              "    </tr>\n",
              "  </tbody>\n",
              "</table>\n",
              "</div>"
            ],
            "text/plain": [
              "       provider_cuit  mr_reposo  ...  receta psicofarmacos\n",
              "292320  20173446889   1          ...  0       0           \n",
              "352135  23187241774   1          ...  1       0           \n",
              "70018   27942202615   0          ...  0       0           \n",
              "130676  27954520507   1          ...  0       0           \n",
              "116022  20953618614   1          ...  0       0           \n",
              "548946  20301453443   0          ...  0       0           \n",
              "453049  27954520507   1          ...  0       0           \n",
              "203005  27957001039   0          ...  0       0           \n",
              "385720  27947930589   0          ...  0       0           \n",
              "46181   20301453443   1          ...  0       0           \n",
              "\n",
              "[10 rows x 21 columns]"
            ]
          },
          "metadata": {
            "tags": []
          },
          "execution_count": 179
        }
      ]
    },
    {
      "cell_type": "code",
      "metadata": {
        "id": "MbTXJGWGCRyf"
      },
      "source": [
        "#extraigo las variables de duración de las consultas de cada paciente\n",
        "df_tiempo = df_restore.groupby('provider_cuit').duración_consulta_segundos.agg(['mean', 'median'])\n",
        "df_tiempo.columns = ['mean_tiempo', 'median_tiempo']"
      ],
      "execution_count": null,
      "outputs": []
    },
    {
      "cell_type": "code",
      "metadata": {
        "id": "_uVGk9p8NZ0V"
      },
      "source": [
        "#Genero la variable \"consultas\" con el número de consultas que realizó cada provider \n",
        "consultas = pd.DataFrame(df2.provider_cuit.value_counts().reset_index())\n",
        "consultas.columns = ['provider_cuit', 'consultas']\n",
        "merged = pd.merge(consultas, df_tiempo, on='provider_cuit')"
      ],
      "execution_count": null,
      "outputs": []
    },
    {
      "cell_type": "code",
      "metadata": {
        "id": "J-eg2WhtxLyK"
      },
      "source": [
        "df_texto = df_restore.groupby('provider_cuit').texto_edit.agg(['mean', 'median'])\n",
        "df_texto.columns = ['mean_texto', 'median_texto']\n",
        "merged_1 = pd.merge(merged, df_texto, on='provider_cuit')"
      ],
      "execution_count": null,
      "outputs": []
    },
    {
      "cell_type": "code",
      "metadata": {
        "id": "plwlsPB5xbfz"
      },
      "source": [
        "df_epicrisis = df_restore.groupby('provider_cuit').mr_epicrisis_edit.agg(['mean', 'median'])\n",
        "df_epicrisis.columns = ['mean_epicrisis', 'median_epicrisis']\n",
        "merged_2 = pd.merge(merged_1, df_epicrisis, on='provider_cuit')"
      ],
      "execution_count": null,
      "outputs": []
    },
    {
      "cell_type": "code",
      "metadata": {
        "id": "_j4nfTPRGqAK"
      },
      "source": [
        "# sumo los pedidos de psicofarmacos de cada paciente y lo agrego al dataset anterior\n",
        "df_psico = df_restore.groupby('provider_cuit').psicofarmacos.agg(['sum'])\n",
        "df_psico.columns = ['psicofarmaco']\n",
        "merged_3 = pd.merge(merged_2, df_psico, on='provider_cuit')"
      ],
      "execution_count": null,
      "outputs": []
    },
    {
      "cell_type": "code",
      "metadata": {
        "id": "x7aVzNBEL7jN"
      },
      "source": [
        "#sumo las recetas de cada paciente \n",
        "df_recetas = df_restore.groupby('provider_cuit').receta.agg(['sum'])\n",
        "df_recetas.columns = ['recetas']\n",
        "merged_4 = pd.merge(merged_3, df_recetas, on='provider_cuit')"
      ],
      "execution_count": null,
      "outputs": []
    },
    {
      "cell_type": "code",
      "metadata": {
        "id": "rTX8Wb_XQK2E"
      },
      "source": [
        "#sumo los pedidos de reposo y los agrego al dataframe anterior\n",
        "df_reposo = df_restore.groupby('provider_cuit').mr_reposo.agg(['sum'])\n",
        "df_reposo.columns = ['reposo']\n",
        "merged_5 = pd.merge(merged_4, df_reposo, on='provider_cuit')"
      ],
      "execution_count": null,
      "outputs": []
    },
    {
      "cell_type": "code",
      "metadata": {
        "colab": {
          "base_uri": "https://localhost:8080/"
        },
        "id": "fXl_nmLBSrhl",
        "outputId": "fd14fe52-33fd-4e5a-e207-86420db33cc5"
      },
      "source": [
        "df_restore.columns"
      ],
      "execution_count": null,
      "outputs": [
        {
          "output_type": "execute_result",
          "data": {
            "text/plain": [
              "Index(['provider_cuit', 'mr_reposo', 'mr_epicrisis_edit', 'mr_receta',\n",
              "       'texto_edit', 'destino_Anula el paciente',\n",
              "       'destino_Anula por falla de conexión',\n",
              "       'destino_En domicilio con instrucciones',\n",
              "       'destino_En domicilio con monitoreo',\n",
              "       'destino_En domicilio con seguimiento',\n",
              "       'destino_Evaluación en amarillo', 'destino_Evaluación en rojo',\n",
              "       'destino_Evaluación en verde VMD',\n",
              "       'destino_Indico concurrir a guardia externa',\n",
              "       'destino_Indico seguimiento por consultorio externo',\n",
              "       'destino_Paciente ausente', 'destino_Traslado protocolo pandemia',\n",
              "       'destino_USER CANCEL', 'duración_consulta_segundos', 'receta',\n",
              "       'psicofarmacos'],\n",
              "      dtype='object')"
            ]
          },
          "metadata": {
            "tags": []
          },
          "execution_count": 190
        }
      ]
    },
    {
      "cell_type": "code",
      "metadata": {
        "id": "GvVejo_iTfR9"
      },
      "source": [
        "df_ausente = df_restore.groupby('provider_cuit')['destino_Paciente ausente'].agg(['sum'])\n",
        "df_ausente.columns = ['ausente']\n",
        "merged_6 = pd.merge(merged_5, df_ausente, on='provider_cuit')"
      ],
      "execution_count": null,
      "outputs": []
    },
    {
      "cell_type": "code",
      "metadata": {
        "id": "95VRV6mRSY5P"
      },
      "source": [
        "df_conexion = df_restore.groupby('provider_cuit')['destino_Anula por falla de conexión'].agg(['sum'])\n",
        "df_conexion.columns = ['conexion']\n",
        "merged_7 = pd.merge(merged_6, df_conexion, on='provider_cuit')"
      ],
      "execution_count": null,
      "outputs": []
    },
    {
      "cell_type": "code",
      "metadata": {
        "id": "_cZZv4JGUk7C"
      },
      "source": [
        "def variable (colum, name, merge):\n",
        "  df = 'df_' + name\n",
        "  df = df_restore.groupby('provider_cuit')[str(colum)].agg(['sum'])\n",
        "  df.columns = [str(name)]\n",
        "  merged = pd.merge(merge, df, on='provider_cuit')\n",
        "  return merged"
      ],
      "execution_count": null,
      "outputs": []
    },
    {
      "cell_type": "code",
      "metadata": {
        "id": "UWAdw5PdV5bE"
      },
      "source": [
        "merged_8 = variable ('destino_En domicilio con instrucciones', 'domicilio', merged_7)"
      ],
      "execution_count": null,
      "outputs": []
    },
    {
      "cell_type": "code",
      "metadata": {
        "id": "IHsdWTL7XFvk"
      },
      "source": [
        "merged_9 = variable ('destino_Evaluación en amarillo', 'amarillo', merged_8)"
      ],
      "execution_count": null,
      "outputs": []
    },
    {
      "cell_type": "code",
      "metadata": {
        "id": "W_2KdqJvXrMf"
      },
      "source": [
        "merged_10 = variable ('destino_Evaluación en rojo', 'rojo', merged_9)"
      ],
      "execution_count": null,
      "outputs": []
    },
    {
      "cell_type": "code",
      "metadata": {
        "id": "rKguFTdsYjdi"
      },
      "source": [
        "merged_11 = variable ('destino_Evaluación en verde VMD', 'verde', merged_10)"
      ],
      "execution_count": null,
      "outputs": []
    },
    {
      "cell_type": "code",
      "metadata": {
        "id": "fSVg4Mr7SAYF"
      },
      "source": [
        "fraude = merged_11.dropna()"
      ],
      "execution_count": null,
      "outputs": []
    },
    {
      "cell_type": "code",
      "metadata": {
        "colab": {
          "base_uri": "https://localhost:8080/",
          "height": 376
        },
        "id": "v3rPOWJ0zcQl",
        "outputId": "4c44adea-360f-4832-e268-b930e1adc236"
      },
      "source": [
        "fraude.head(10)"
      ],
      "execution_count": null,
      "outputs": [
        {
          "output_type": "execute_result",
          "data": {
            "text/html": [
              "<div>\n",
              "<style scoped>\n",
              "    .dataframe tbody tr th:only-of-type {\n",
              "        vertical-align: middle;\n",
              "    }\n",
              "\n",
              "    .dataframe tbody tr th {\n",
              "        vertical-align: top;\n",
              "    }\n",
              "\n",
              "    .dataframe thead th {\n",
              "        text-align: right;\n",
              "    }\n",
              "</style>\n",
              "<table border=\"1\" class=\"dataframe\">\n",
              "  <thead>\n",
              "    <tr style=\"text-align: right;\">\n",
              "      <th></th>\n",
              "      <th>provider_cuit</th>\n",
              "      <th>consultas</th>\n",
              "      <th>mean_tiempo</th>\n",
              "      <th>median_tiempo</th>\n",
              "      <th>mean_texto</th>\n",
              "      <th>median_texto</th>\n",
              "      <th>mean_epicrisis</th>\n",
              "      <th>median_epicrisis</th>\n",
              "      <th>psicofarmaco</th>\n",
              "      <th>recetas</th>\n",
              "      <th>reposo</th>\n",
              "      <th>ausente</th>\n",
              "      <th>conexion</th>\n",
              "      <th>domicilio</th>\n",
              "      <th>amarillo</th>\n",
              "      <th>rojo</th>\n",
              "      <th>verde</th>\n",
              "    </tr>\n",
              "  </thead>\n",
              "  <tbody>\n",
              "    <tr>\n",
              "      <th>0</th>\n",
              "      <td>27955020974</td>\n",
              "      <td>14980</td>\n",
              "      <td>1011.204139</td>\n",
              "      <td>512.0</td>\n",
              "      <td>728.839386</td>\n",
              "      <td>648.5</td>\n",
              "      <td>117.104740</td>\n",
              "      <td>109.0</td>\n",
              "      <td>169</td>\n",
              "      <td>2640</td>\n",
              "      <td>4705</td>\n",
              "      <td>630</td>\n",
              "      <td>62</td>\n",
              "      <td>9055</td>\n",
              "      <td>2157</td>\n",
              "      <td>187</td>\n",
              "      <td>363</td>\n",
              "    </tr>\n",
              "    <tr>\n",
              "      <th>1</th>\n",
              "      <td>20953156068</td>\n",
              "      <td>11571</td>\n",
              "      <td>1364.495376</td>\n",
              "      <td>761.0</td>\n",
              "      <td>781.649468</td>\n",
              "      <td>607.0</td>\n",
              "      <td>61.265059</td>\n",
              "      <td>59.0</td>\n",
              "      <td>195</td>\n",
              "      <td>1401</td>\n",
              "      <td>5166</td>\n",
              "      <td>1201</td>\n",
              "      <td>280</td>\n",
              "      <td>6378</td>\n",
              "      <td>597</td>\n",
              "      <td>23</td>\n",
              "      <td>708</td>\n",
              "    </tr>\n",
              "    <tr>\n",
              "      <th>2</th>\n",
              "      <td>27952457425</td>\n",
              "      <td>11532</td>\n",
              "      <td>1611.346687</td>\n",
              "      <td>514.0</td>\n",
              "      <td>1247.766302</td>\n",
              "      <td>1111.0</td>\n",
              "      <td>144.072407</td>\n",
              "      <td>153.0</td>\n",
              "      <td>110</td>\n",
              "      <td>1516</td>\n",
              "      <td>3916</td>\n",
              "      <td>1019</td>\n",
              "      <td>91</td>\n",
              "      <td>6624</td>\n",
              "      <td>362</td>\n",
              "      <td>36</td>\n",
              "      <td>797</td>\n",
              "    </tr>\n",
              "    <tr>\n",
              "      <th>3</th>\n",
              "      <td>20345174762</td>\n",
              "      <td>10520</td>\n",
              "      <td>22277.156669</td>\n",
              "      <td>875.0</td>\n",
              "      <td>1168.623479</td>\n",
              "      <td>927.0</td>\n",
              "      <td>34.432985</td>\n",
              "      <td>0.0</td>\n",
              "      <td>103</td>\n",
              "      <td>974</td>\n",
              "      <td>3200</td>\n",
              "      <td>1033</td>\n",
              "      <td>76</td>\n",
              "      <td>5893</td>\n",
              "      <td>478</td>\n",
              "      <td>140</td>\n",
              "      <td>1357</td>\n",
              "    </tr>\n",
              "    <tr>\n",
              "      <th>4</th>\n",
              "      <td>27190202165</td>\n",
              "      <td>10450</td>\n",
              "      <td>1667.371770</td>\n",
              "      <td>784.0</td>\n",
              "      <td>858.123445</td>\n",
              "      <td>701.0</td>\n",
              "      <td>110.047656</td>\n",
              "      <td>115.0</td>\n",
              "      <td>161</td>\n",
              "      <td>2220</td>\n",
              "      <td>3902</td>\n",
              "      <td>703</td>\n",
              "      <td>93</td>\n",
              "      <td>6907</td>\n",
              "      <td>587</td>\n",
              "      <td>30</td>\n",
              "      <td>437</td>\n",
              "    </tr>\n",
              "    <tr>\n",
              "      <th>5</th>\n",
              "      <td>27947930589</td>\n",
              "      <td>10384</td>\n",
              "      <td>1942.477947</td>\n",
              "      <td>712.0</td>\n",
              "      <td>1317.929988</td>\n",
              "      <td>1091.0</td>\n",
              "      <td>145.052196</td>\n",
              "      <td>162.0</td>\n",
              "      <td>117</td>\n",
              "      <td>1524</td>\n",
              "      <td>2894</td>\n",
              "      <td>1028</td>\n",
              "      <td>158</td>\n",
              "      <td>5753</td>\n",
              "      <td>578</td>\n",
              "      <td>121</td>\n",
              "      <td>586</td>\n",
              "    </tr>\n",
              "    <tr>\n",
              "      <th>6</th>\n",
              "      <td>27265886073</td>\n",
              "      <td>9588</td>\n",
              "      <td>1692.128807</td>\n",
              "      <td>721.0</td>\n",
              "      <td>1584.075094</td>\n",
              "      <td>1351.0</td>\n",
              "      <td>180.741343</td>\n",
              "      <td>177.0</td>\n",
              "      <td>111</td>\n",
              "      <td>2161</td>\n",
              "      <td>5901</td>\n",
              "      <td>498</td>\n",
              "      <td>117</td>\n",
              "      <td>6307</td>\n",
              "      <td>545</td>\n",
              "      <td>33</td>\n",
              "      <td>449</td>\n",
              "    </tr>\n",
              "    <tr>\n",
              "      <th>7</th>\n",
              "      <td>20947957091</td>\n",
              "      <td>9223</td>\n",
              "      <td>2103.828039</td>\n",
              "      <td>949.0</td>\n",
              "      <td>903.610756</td>\n",
              "      <td>473.0</td>\n",
              "      <td>147.539412</td>\n",
              "      <td>152.0</td>\n",
              "      <td>130</td>\n",
              "      <td>1235</td>\n",
              "      <td>2424</td>\n",
              "      <td>941</td>\n",
              "      <td>163</td>\n",
              "      <td>4990</td>\n",
              "      <td>848</td>\n",
              "      <td>108</td>\n",
              "      <td>501</td>\n",
              "    </tr>\n",
              "    <tr>\n",
              "      <th>8</th>\n",
              "      <td>27954160756</td>\n",
              "      <td>9075</td>\n",
              "      <td>1241.568375</td>\n",
              "      <td>533.0</td>\n",
              "      <td>919.890358</td>\n",
              "      <td>143.0</td>\n",
              "      <td>110.268209</td>\n",
              "      <td>79.0</td>\n",
              "      <td>121</td>\n",
              "      <td>1275</td>\n",
              "      <td>1683</td>\n",
              "      <td>303</td>\n",
              "      <td>2142</td>\n",
              "      <td>4669</td>\n",
              "      <td>692</td>\n",
              "      <td>48</td>\n",
              "      <td>298</td>\n",
              "    </tr>\n",
              "    <tr>\n",
              "      <th>9</th>\n",
              "      <td>23187241774</td>\n",
              "      <td>8782</td>\n",
              "      <td>3265.447734</td>\n",
              "      <td>1057.0</td>\n",
              "      <td>1481.109428</td>\n",
              "      <td>983.0</td>\n",
              "      <td>155.770326</td>\n",
              "      <td>159.0</td>\n",
              "      <td>574</td>\n",
              "      <td>2496</td>\n",
              "      <td>3295</td>\n",
              "      <td>500</td>\n",
              "      <td>65</td>\n",
              "      <td>5488</td>\n",
              "      <td>351</td>\n",
              "      <td>35</td>\n",
              "      <td>205</td>\n",
              "    </tr>\n",
              "  </tbody>\n",
              "</table>\n",
              "</div>"
            ],
            "text/plain": [
              "  provider_cuit  consultas   mean_tiempo  ...  amarillo  rojo  verde\n",
              "0  27955020974   14980      1011.204139   ...  2157      187   363  \n",
              "1  20953156068   11571      1364.495376   ...  597       23    708  \n",
              "2  27952457425   11532      1611.346687   ...  362       36    797  \n",
              "3  20345174762   10520      22277.156669  ...  478       140   1357 \n",
              "4  27190202165   10450      1667.371770   ...  587       30    437  \n",
              "5  27947930589   10384      1942.477947   ...  578       121   586  \n",
              "6  27265886073   9588       1692.128807   ...  545       33    449  \n",
              "7  20947957091   9223       2103.828039   ...  848       108   501  \n",
              "8  27954160756   9075       1241.568375   ...  692       48    298  \n",
              "9  23187241774   8782       3265.447734   ...  351       35    205  \n",
              "\n",
              "[10 rows x 17 columns]"
            ]
          },
          "metadata": {
            "tags": []
          },
          "execution_count": 223
        }
      ]
    },
    {
      "cell_type": "code",
      "metadata": {
        "id": "ms9FG_OdoaY3"
      },
      "source": [
        "fraude.to_csv(path + 'fraude_dataset')"
      ],
      "execution_count": null,
      "outputs": []
    },
    {
      "cell_type": "code",
      "metadata": {
        "colab": {
          "base_uri": "https://localhost:8080/",
          "height": 416
        },
        "id": "smZ4gdhdoiBC",
        "outputId": "c267af58-53f1-4136-c12f-30881086c0a6"
      },
      "source": [
        "fraude"
      ],
      "execution_count": null,
      "outputs": [
        {
          "output_type": "execute_result",
          "data": {
            "text/html": [
              "<div>\n",
              "<style scoped>\n",
              "    .dataframe tbody tr th:only-of-type {\n",
              "        vertical-align: middle;\n",
              "    }\n",
              "\n",
              "    .dataframe tbody tr th {\n",
              "        vertical-align: top;\n",
              "    }\n",
              "\n",
              "    .dataframe thead th {\n",
              "        text-align: right;\n",
              "    }\n",
              "</style>\n",
              "<table border=\"1\" class=\"dataframe\">\n",
              "  <thead>\n",
              "    <tr style=\"text-align: right;\">\n",
              "      <th></th>\n",
              "      <th>provider_cuit</th>\n",
              "      <th>consultas</th>\n",
              "      <th>mean_tiempo</th>\n",
              "      <th>median_tiempo</th>\n",
              "      <th>mean_texto</th>\n",
              "      <th>median_texto</th>\n",
              "      <th>mean_epicrisis</th>\n",
              "      <th>median_epicrisis</th>\n",
              "      <th>psicofarmaco</th>\n",
              "      <th>recetas</th>\n",
              "      <th>reposo</th>\n",
              "      <th>ausente</th>\n",
              "      <th>conexion</th>\n",
              "      <th>domicilio</th>\n",
              "      <th>amarillo</th>\n",
              "      <th>rojo</th>\n",
              "    </tr>\n",
              "  </thead>\n",
              "  <tbody>\n",
              "    <tr>\n",
              "      <th>0</th>\n",
              "      <td>27955020974</td>\n",
              "      <td>14980</td>\n",
              "      <td>1011.204139</td>\n",
              "      <td>512.0</td>\n",
              "      <td>728.839386</td>\n",
              "      <td>648.5</td>\n",
              "      <td>117.104740</td>\n",
              "      <td>109.0</td>\n",
              "      <td>169</td>\n",
              "      <td>2640</td>\n",
              "      <td>4705</td>\n",
              "      <td>630</td>\n",
              "      <td>62</td>\n",
              "      <td>9055</td>\n",
              "      <td>2157</td>\n",
              "      <td>187</td>\n",
              "    </tr>\n",
              "    <tr>\n",
              "      <th>1</th>\n",
              "      <td>20953156068</td>\n",
              "      <td>11571</td>\n",
              "      <td>1364.495376</td>\n",
              "      <td>761.0</td>\n",
              "      <td>781.649468</td>\n",
              "      <td>607.0</td>\n",
              "      <td>61.265059</td>\n",
              "      <td>59.0</td>\n",
              "      <td>195</td>\n",
              "      <td>1401</td>\n",
              "      <td>5166</td>\n",
              "      <td>1201</td>\n",
              "      <td>280</td>\n",
              "      <td>6378</td>\n",
              "      <td>597</td>\n",
              "      <td>23</td>\n",
              "    </tr>\n",
              "    <tr>\n",
              "      <th>2</th>\n",
              "      <td>27952457425</td>\n",
              "      <td>11532</td>\n",
              "      <td>1611.346687</td>\n",
              "      <td>514.0</td>\n",
              "      <td>1247.766302</td>\n",
              "      <td>1111.0</td>\n",
              "      <td>144.072407</td>\n",
              "      <td>153.0</td>\n",
              "      <td>110</td>\n",
              "      <td>1516</td>\n",
              "      <td>3916</td>\n",
              "      <td>1019</td>\n",
              "      <td>91</td>\n",
              "      <td>6624</td>\n",
              "      <td>362</td>\n",
              "      <td>36</td>\n",
              "    </tr>\n",
              "    <tr>\n",
              "      <th>3</th>\n",
              "      <td>20345174762</td>\n",
              "      <td>10520</td>\n",
              "      <td>22277.156669</td>\n",
              "      <td>875.0</td>\n",
              "      <td>1168.623479</td>\n",
              "      <td>927.0</td>\n",
              "      <td>34.432985</td>\n",
              "      <td>0.0</td>\n",
              "      <td>103</td>\n",
              "      <td>974</td>\n",
              "      <td>3200</td>\n",
              "      <td>1033</td>\n",
              "      <td>76</td>\n",
              "      <td>5893</td>\n",
              "      <td>478</td>\n",
              "      <td>140</td>\n",
              "    </tr>\n",
              "    <tr>\n",
              "      <th>4</th>\n",
              "      <td>27190202165</td>\n",
              "      <td>10450</td>\n",
              "      <td>1667.371770</td>\n",
              "      <td>784.0</td>\n",
              "      <td>858.123445</td>\n",
              "      <td>701.0</td>\n",
              "      <td>110.047656</td>\n",
              "      <td>115.0</td>\n",
              "      <td>161</td>\n",
              "      <td>2220</td>\n",
              "      <td>3902</td>\n",
              "      <td>703</td>\n",
              "      <td>93</td>\n",
              "      <td>6907</td>\n",
              "      <td>587</td>\n",
              "      <td>30</td>\n",
              "    </tr>\n",
              "    <tr>\n",
              "      <th>...</th>\n",
              "      <td>...</td>\n",
              "      <td>...</td>\n",
              "      <td>...</td>\n",
              "      <td>...</td>\n",
              "      <td>...</td>\n",
              "      <td>...</td>\n",
              "      <td>...</td>\n",
              "      <td>...</td>\n",
              "      <td>...</td>\n",
              "      <td>...</td>\n",
              "      <td>...</td>\n",
              "      <td>...</td>\n",
              "      <td>...</td>\n",
              "      <td>...</td>\n",
              "      <td>...</td>\n",
              "      <td>...</td>\n",
              "    </tr>\n",
              "    <tr>\n",
              "      <th>483</th>\n",
              "      <td>20351743787</td>\n",
              "      <td>1</td>\n",
              "      <td>131.000000</td>\n",
              "      <td>131.0</td>\n",
              "      <td>0.000000</td>\n",
              "      <td>0.0</td>\n",
              "      <td>7.000000</td>\n",
              "      <td>7.0</td>\n",
              "      <td>0</td>\n",
              "      <td>0</td>\n",
              "      <td>0</td>\n",
              "      <td>0</td>\n",
              "      <td>0</td>\n",
              "      <td>1</td>\n",
              "      <td>0</td>\n",
              "      <td>0</td>\n",
              "    </tr>\n",
              "    <tr>\n",
              "      <th>484</th>\n",
              "      <td>20393421143</td>\n",
              "      <td>1</td>\n",
              "      <td>415271.000000</td>\n",
              "      <td>415271.0</td>\n",
              "      <td>0.000000</td>\n",
              "      <td>0.0</td>\n",
              "      <td>0.000000</td>\n",
              "      <td>0.0</td>\n",
              "      <td>0</td>\n",
              "      <td>0</td>\n",
              "      <td>0</td>\n",
              "      <td>1</td>\n",
              "      <td>0</td>\n",
              "      <td>0</td>\n",
              "      <td>0</td>\n",
              "      <td>0</td>\n",
              "    </tr>\n",
              "    <tr>\n",
              "      <th>486</th>\n",
              "      <td>27343842835</td>\n",
              "      <td>1</td>\n",
              "      <td>1838.000000</td>\n",
              "      <td>1838.0</td>\n",
              "      <td>3098.000000</td>\n",
              "      <td>3098.0</td>\n",
              "      <td>168.000000</td>\n",
              "      <td>168.0</td>\n",
              "      <td>0</td>\n",
              "      <td>0</td>\n",
              "      <td>0</td>\n",
              "      <td>0</td>\n",
              "      <td>0</td>\n",
              "      <td>1</td>\n",
              "      <td>0</td>\n",
              "      <td>0</td>\n",
              "    </tr>\n",
              "    <tr>\n",
              "      <th>487</th>\n",
              "      <td>20078288257</td>\n",
              "      <td>1</td>\n",
              "      <td>1252.000000</td>\n",
              "      <td>1252.0</td>\n",
              "      <td>0.000000</td>\n",
              "      <td>0.0</td>\n",
              "      <td>0.000000</td>\n",
              "      <td>0.0</td>\n",
              "      <td>0</td>\n",
              "      <td>0</td>\n",
              "      <td>0</td>\n",
              "      <td>0</td>\n",
              "      <td>1</td>\n",
              "      <td>0</td>\n",
              "      <td>0</td>\n",
              "      <td>0</td>\n",
              "    </tr>\n",
              "    <tr>\n",
              "      <th>490</th>\n",
              "      <td>20954682022</td>\n",
              "      <td>1</td>\n",
              "      <td>1741.000000</td>\n",
              "      <td>1741.0</td>\n",
              "      <td>0.000000</td>\n",
              "      <td>0.0</td>\n",
              "      <td>296.000000</td>\n",
              "      <td>296.0</td>\n",
              "      <td>0</td>\n",
              "      <td>0</td>\n",
              "      <td>1</td>\n",
              "      <td>0</td>\n",
              "      <td>0</td>\n",
              "      <td>1</td>\n",
              "      <td>0</td>\n",
              "      <td>0</td>\n",
              "    </tr>\n",
              "  </tbody>\n",
              "</table>\n",
              "<p>389 rows × 16 columns</p>\n",
              "</div>"
            ],
            "text/plain": [
              "    provider_cuit  consultas    mean_tiempo  ...  domicilio  amarillo  rojo\n",
              "0    27955020974   14980      1011.204139    ...  9055       2157      187 \n",
              "1    20953156068   11571      1364.495376    ...  6378       597       23  \n",
              "2    27952457425   11532      1611.346687    ...  6624       362       36  \n",
              "3    20345174762   10520      22277.156669   ...  5893       478       140 \n",
              "4    27190202165   10450      1667.371770    ...  6907       587       30  \n",
              "..           ...     ...              ...    ...   ...       ...       ..  \n",
              "483  20351743787   1          131.000000     ...  1          0         0   \n",
              "484  20393421143   1          415271.000000  ...  0          0         0   \n",
              "486  27343842835   1          1838.000000    ...  1          0         0   \n",
              "487  20078288257   1          1252.000000    ...  0          0         0   \n",
              "490  20954682022   1          1741.000000    ...  1          0         0   \n",
              "\n",
              "[389 rows x 16 columns]"
            ]
          },
          "metadata": {
            "tags": []
          },
          "execution_count": 219
        }
      ]
    },
    {
      "cell_type": "code",
      "metadata": {
        "id": "QAnWIszFFdVP"
      },
      "source": [
        "df_metrics = pd.read_csv (path + 'providers_metrics.csv')"
      ],
      "execution_count": null,
      "outputs": []
    },
    {
      "cell_type": "code",
      "metadata": {
        "id": "78M4Mr5sF5AK"
      },
      "source": [
        "df_metrics = df_metrics[['cuit', 'metrics_puntualidad', 'metrics_stars',\n",
        "       'metrics_sum_puntualidad', 'metrics_sum_stars']]"
      ],
      "execution_count": null,
      "outputs": []
    },
    {
      "cell_type": "code",
      "metadata": {
        "id": "0jotp2EkGFX5"
      },
      "source": [
        "df_metrics.columns = ['provider_cuit', 'metrics_puntualidad', 'metrics_stars',\n",
        "       'metrics_sum_puntualidad', 'metrics_sum_stars']"
      ],
      "execution_count": null,
      "outputs": []
    },
    {
      "cell_type": "code",
      "metadata": {
        "id": "7uQRbpMfFsTq"
      },
      "source": [
        "fraude_merged = pd.merge(fraude, df_metrics, on='provider_cuit')"
      ],
      "execution_count": null,
      "outputs": []
    },
    {
      "cell_type": "code",
      "metadata": {
        "id": "D4-aqArMFscE"
      },
      "source": [
        "fraud_merged = fraude_merged.drop_duplicates()"
      ],
      "execution_count": null,
      "outputs": []
    },
    {
      "cell_type": "code",
      "metadata": {
        "id": "UZGMVv5wGVAw"
      },
      "source": [
        "fraud_merged2 = fraud_merged.dropna()"
      ],
      "execution_count": null,
      "outputs": []
    },
    {
      "cell_type": "code",
      "metadata": {
        "colab": {
          "base_uri": "https://localhost:8080/",
          "height": 222
        },
        "id": "WPZXEHyxGZOC",
        "outputId": "9dd18cbd-e7df-4d8d-aa12-da3521275a48"
      },
      "source": [
        "fraud_merged2.head()"
      ],
      "execution_count": null,
      "outputs": [
        {
          "output_type": "execute_result",
          "data": {
            "text/html": [
              "<div>\n",
              "<style scoped>\n",
              "    .dataframe tbody tr th:only-of-type {\n",
              "        vertical-align: middle;\n",
              "    }\n",
              "\n",
              "    .dataframe tbody tr th {\n",
              "        vertical-align: top;\n",
              "    }\n",
              "\n",
              "    .dataframe thead th {\n",
              "        text-align: right;\n",
              "    }\n",
              "</style>\n",
              "<table border=\"1\" class=\"dataframe\">\n",
              "  <thead>\n",
              "    <tr style=\"text-align: right;\">\n",
              "      <th></th>\n",
              "      <th>provider_cuit</th>\n",
              "      <th>consultas</th>\n",
              "      <th>mean_tiempo</th>\n",
              "      <th>median_tiempo</th>\n",
              "      <th>mean_texto</th>\n",
              "      <th>median_texto</th>\n",
              "      <th>mean_epicrisis</th>\n",
              "      <th>median_epicrisis</th>\n",
              "      <th>psicofarmaco</th>\n",
              "      <th>recetas</th>\n",
              "      <th>reposo</th>\n",
              "      <th>ausente</th>\n",
              "      <th>conexion</th>\n",
              "      <th>domicilio</th>\n",
              "      <th>amarillo</th>\n",
              "      <th>rojo</th>\n",
              "      <th>verde</th>\n",
              "      <th>metrics_puntualidad</th>\n",
              "      <th>metrics_stars</th>\n",
              "      <th>metrics_sum_puntualidad</th>\n",
              "      <th>metrics_sum_stars</th>\n",
              "    </tr>\n",
              "  </thead>\n",
              "  <tbody>\n",
              "    <tr>\n",
              "      <th>0</th>\n",
              "      <td>27955020974</td>\n",
              "      <td>14980</td>\n",
              "      <td>1011.204139</td>\n",
              "      <td>512.0</td>\n",
              "      <td>728.839386</td>\n",
              "      <td>648.5</td>\n",
              "      <td>117.104740</td>\n",
              "      <td>109.0</td>\n",
              "      <td>169</td>\n",
              "      <td>2640</td>\n",
              "      <td>4705</td>\n",
              "      <td>630</td>\n",
              "      <td>62</td>\n",
              "      <td>9055</td>\n",
              "      <td>2157</td>\n",
              "      <td>187</td>\n",
              "      <td>363</td>\n",
              "      <td>1.3</td>\n",
              "      <td>4.7</td>\n",
              "      <td>2887.0</td>\n",
              "      <td>27491.0</td>\n",
              "    </tr>\n",
              "    <tr>\n",
              "      <th>1</th>\n",
              "      <td>20953156068</td>\n",
              "      <td>11571</td>\n",
              "      <td>1364.495376</td>\n",
              "      <td>761.0</td>\n",
              "      <td>781.649468</td>\n",
              "      <td>607.0</td>\n",
              "      <td>61.265059</td>\n",
              "      <td>59.0</td>\n",
              "      <td>195</td>\n",
              "      <td>1401</td>\n",
              "      <td>5166</td>\n",
              "      <td>1201</td>\n",
              "      <td>280</td>\n",
              "      <td>6378</td>\n",
              "      <td>597</td>\n",
              "      <td>23</td>\n",
              "      <td>708</td>\n",
              "      <td>0.1</td>\n",
              "      <td>4.8</td>\n",
              "      <td>1369.0</td>\n",
              "      <td>23678.0</td>\n",
              "    </tr>\n",
              "    <tr>\n",
              "      <th>2</th>\n",
              "      <td>27952457425</td>\n",
              "      <td>11532</td>\n",
              "      <td>1611.346687</td>\n",
              "      <td>514.0</td>\n",
              "      <td>1247.766302</td>\n",
              "      <td>1111.0</td>\n",
              "      <td>144.072407</td>\n",
              "      <td>153.0</td>\n",
              "      <td>110</td>\n",
              "      <td>1516</td>\n",
              "      <td>3916</td>\n",
              "      <td>1019</td>\n",
              "      <td>91</td>\n",
              "      <td>6624</td>\n",
              "      <td>362</td>\n",
              "      <td>36</td>\n",
              "      <td>797</td>\n",
              "      <td>0.2</td>\n",
              "      <td>4.9</td>\n",
              "      <td>2352.0</td>\n",
              "      <td>17347.0</td>\n",
              "    </tr>\n",
              "    <tr>\n",
              "      <th>3</th>\n",
              "      <td>20345174762</td>\n",
              "      <td>10520</td>\n",
              "      <td>22277.156669</td>\n",
              "      <td>875.0</td>\n",
              "      <td>1168.623479</td>\n",
              "      <td>927.0</td>\n",
              "      <td>34.432985</td>\n",
              "      <td>0.0</td>\n",
              "      <td>103</td>\n",
              "      <td>974</td>\n",
              "      <td>3200</td>\n",
              "      <td>1033</td>\n",
              "      <td>76</td>\n",
              "      <td>5893</td>\n",
              "      <td>478</td>\n",
              "      <td>140</td>\n",
              "      <td>1357</td>\n",
              "      <td>0.1</td>\n",
              "      <td>4.8</td>\n",
              "      <td>963.0</td>\n",
              "      <td>18554.0</td>\n",
              "    </tr>\n",
              "    <tr>\n",
              "      <th>4</th>\n",
              "      <td>27190202165</td>\n",
              "      <td>10450</td>\n",
              "      <td>1667.371770</td>\n",
              "      <td>784.0</td>\n",
              "      <td>858.123445</td>\n",
              "      <td>701.0</td>\n",
              "      <td>110.047656</td>\n",
              "      <td>115.0</td>\n",
              "      <td>161</td>\n",
              "      <td>2220</td>\n",
              "      <td>3902</td>\n",
              "      <td>703</td>\n",
              "      <td>93</td>\n",
              "      <td>6907</td>\n",
              "      <td>587</td>\n",
              "      <td>30</td>\n",
              "      <td>437</td>\n",
              "      <td>0.2</td>\n",
              "      <td>4.8</td>\n",
              "      <td>2330.0</td>\n",
              "      <td>17575.0</td>\n",
              "    </tr>\n",
              "  </tbody>\n",
              "</table>\n",
              "</div>"
            ],
            "text/plain": [
              "  provider_cuit  consultas  ...  metrics_sum_puntualidad  metrics_sum_stars\n",
              "0  27955020974   14980      ...  2887.0                   27491.0          \n",
              "1  20953156068   11571      ...  1369.0                   23678.0          \n",
              "2  27952457425   11532      ...  2352.0                   17347.0          \n",
              "3  20345174762   10520      ...  963.0                    18554.0          \n",
              "4  27190202165   10450      ...  2330.0                   17575.0          \n",
              "\n",
              "[5 rows x 21 columns]"
            ]
          },
          "metadata": {
            "tags": []
          },
          "execution_count": 236
        }
      ]
    },
    {
      "cell_type": "code",
      "metadata": {
        "id": "A56qNTe2GnuG"
      },
      "source": [
        "fraud_merged2.to_csv(path + 'providers_dataset_final')"
      ],
      "execution_count": null,
      "outputs": []
    },
    {
      "cell_type": "code",
      "metadata": {
        "id": "VpF7chzF3bRe"
      },
      "source": [
        "fraud_merged2 = pd.read_csv(path + 'providers_dataset_final', index_col=0)"
      ],
      "execution_count": null,
      "outputs": []
    },
    {
      "cell_type": "code",
      "metadata": {
        "colab": {
          "base_uri": "https://localhost:8080/"
        },
        "id": "aJHjUzbGHYLm",
        "outputId": "8865d99f-56a9-4170-babb-a273fe71dcb4"
      },
      "source": [
        "fraud_merged2.info()"
      ],
      "execution_count": null,
      "outputs": [
        {
          "output_type": "stream",
          "text": [
            "<class 'pandas.core.frame.DataFrame'>\n",
            "Int64Index: 274 entries, 0 to 279\n",
            "Data columns (total 21 columns):\n",
            " #   Column                   Non-Null Count  Dtype  \n",
            "---  ------                   --------------  -----  \n",
            " 0   provider_cuit            274 non-null    object \n",
            " 1   consultas                274 non-null    int64  \n",
            " 2   mean_tiempo              274 non-null    float64\n",
            " 3   median_tiempo            274 non-null    float64\n",
            " 4   mean_texto               274 non-null    float64\n",
            " 5   median_texto             274 non-null    float64\n",
            " 6   mean_epicrisis           274 non-null    float64\n",
            " 7   median_epicrisis         274 non-null    float64\n",
            " 8   psicofarmaco             274 non-null    int64  \n",
            " 9   recetas                  274 non-null    int64  \n",
            " 10  reposo                   274 non-null    int64  \n",
            " 11  ausente                  274 non-null    int64  \n",
            " 12  conexion                 274 non-null    int64  \n",
            " 13  domicilio                274 non-null    int64  \n",
            " 14  amarillo                 274 non-null    int64  \n",
            " 15  rojo                     274 non-null    int64  \n",
            " 16  verde                    274 non-null    int64  \n",
            " 17  metrics_puntualidad      274 non-null    float64\n",
            " 18  metrics_stars            274 non-null    float64\n",
            " 19  metrics_sum_puntualidad  274 non-null    float64\n",
            " 20  metrics_sum_stars        274 non-null    float64\n",
            "dtypes: float64(10), int64(10), object(1)\n",
            "memory usage: 47.1+ KB\n"
          ],
          "name": "stdout"
        }
      ]
    },
    {
      "cell_type": "code",
      "metadata": {
        "colab": {
          "base_uri": "https://localhost:8080/"
        },
        "id": "UT0btyDzIH2L",
        "outputId": "b69b9014-2f5b-4f39-bfbd-ccdf673c49e1"
      },
      "source": [
        "fraud_merged2.columns"
      ],
      "execution_count": null,
      "outputs": [
        {
          "output_type": "execute_result",
          "data": {
            "text/plain": [
              "Index(['provider_cuit', 'consultas', 'mean_tiempo', 'median_tiempo',\n",
              "       'mean_texto', 'median_texto', 'mean_epicrisis', 'median_epicrisis',\n",
              "       'psicofarmaco', 'recetas', 'reposo', 'ausente', 'conexion', 'domicilio',\n",
              "       'amarillo', 'rojo', 'verde', 'metrics_puntualidad', 'metrics_stars',\n",
              "       'metrics_sum_puntualidad', 'metrics_sum_stars'],\n",
              "      dtype='object')"
            ]
          },
          "metadata": {
            "tags": []
          },
          "execution_count": 15
        }
      ]
    },
    {
      "cell_type": "code",
      "metadata": {
        "id": "vFhfA1VJIdjR"
      },
      "source": [
        "df_fraude = fraud_merged2"
      ],
      "execution_count": null,
      "outputs": []
    },
    {
      "cell_type": "code",
      "metadata": {
        "id": "bbvyzK1RIRVY"
      },
      "source": [
        "features = ['consultas', 'mean_tiempo', 'median_tiempo',\n",
        "       'mean_texto', 'median_texto', 'mean_epicrisis', 'median_epicrisis',\n",
        "       'psicofarmaco', 'recetas', 'reposo', 'ausente', 'conexion', 'domicilio',\n",
        "       'amarillo', 'rojo', 'verde', 'metrics_puntualidad', 'metrics_stars',\n",
        "       'metrics_sum_puntualidad', 'metrics_sum_stars']"
      ],
      "execution_count": null,
      "outputs": []
    },
    {
      "cell_type": "code",
      "metadata": {
        "id": "8ToxSWUqVn2z"
      },
      "source": [
        "from sklearn.preprocessing import StandardScaler\n",
        "\n",
        "\n",
        "x = df_fraude.loc[:, features].values\n",
        "# Separating out the target\n",
        "y = df_fraude.loc[:,['provider_cuit']].values\n",
        "# Standardizing the features\n",
        "x = StandardScaler().fit_transform(x)"
      ],
      "execution_count": null,
      "outputs": []
    },
    {
      "cell_type": "code",
      "metadata": {
        "id": "4mt6vcENWU24"
      },
      "source": [
        "from sklearn.decomposition import PCA\n",
        "pca = PCA(n_components=2)\n",
        "principalComponents = pca.fit_transform(x)\n",
        "principalDf = pd.DataFrame(data = principalComponents\n",
        "             , columns = ['principal component 1', 'principal component 2'])"
      ],
      "execution_count": null,
      "outputs": []
    },
    {
      "cell_type": "code",
      "metadata": {
        "id": "gCsJ8IuZWd0z"
      },
      "source": [
        "principalDf.index=df_fraude.index\n",
        "finalDf = pd.concat([principalDf, df_fraude[['provider_cuit']]], axis = 1)"
      ],
      "execution_count": null,
      "outputs": []
    },
    {
      "cell_type": "code",
      "metadata": {
        "colab": {
          "base_uri": "https://localhost:8080/",
          "height": 406
        },
        "id": "jbbcNXjZ8Dzu",
        "outputId": "b4df022e-c0d5-41bf-ef99-b73ccd75fd5b"
      },
      "source": [
        "finalDf"
      ],
      "execution_count": null,
      "outputs": [
        {
          "output_type": "execute_result",
          "data": {
            "text/html": [
              "<div>\n",
              "<style scoped>\n",
              "    .dataframe tbody tr th:only-of-type {\n",
              "        vertical-align: middle;\n",
              "    }\n",
              "\n",
              "    .dataframe tbody tr th {\n",
              "        vertical-align: top;\n",
              "    }\n",
              "\n",
              "    .dataframe thead th {\n",
              "        text-align: right;\n",
              "    }\n",
              "</style>\n",
              "<table border=\"1\" class=\"dataframe\">\n",
              "  <thead>\n",
              "    <tr style=\"text-align: right;\">\n",
              "      <th></th>\n",
              "      <th>principal component 1</th>\n",
              "      <th>principal component 2</th>\n",
              "      <th>provider_cuit</th>\n",
              "    </tr>\n",
              "  </thead>\n",
              "  <tbody>\n",
              "    <tr>\n",
              "      <th>0</th>\n",
              "      <td>13.717312</td>\n",
              "      <td>-1.371774</td>\n",
              "      <td>27955020974</td>\n",
              "    </tr>\n",
              "    <tr>\n",
              "      <th>1</th>\n",
              "      <td>9.905192</td>\n",
              "      <td>-2.082164</td>\n",
              "      <td>20953156068</td>\n",
              "    </tr>\n",
              "    <tr>\n",
              "      <th>2</th>\n",
              "      <td>8.723683</td>\n",
              "      <td>-0.130986</td>\n",
              "      <td>27952457425</td>\n",
              "    </tr>\n",
              "    <tr>\n",
              "      <th>3</th>\n",
              "      <td>9.280241</td>\n",
              "      <td>-2.204708</td>\n",
              "      <td>20345174762</td>\n",
              "    </tr>\n",
              "    <tr>\n",
              "      <th>4</th>\n",
              "      <td>8.594480</td>\n",
              "      <td>-0.961832</td>\n",
              "      <td>27190202165</td>\n",
              "    </tr>\n",
              "    <tr>\n",
              "      <th>...</th>\n",
              "      <td>...</td>\n",
              "      <td>...</td>\n",
              "      <td>...</td>\n",
              "    </tr>\n",
              "    <tr>\n",
              "      <th>274</th>\n",
              "      <td>-2.312236</td>\n",
              "      <td>-1.605428</td>\n",
              "      <td>27957277522</td>\n",
              "    </tr>\n",
              "    <tr>\n",
              "      <th>275</th>\n",
              "      <td>-2.304613</td>\n",
              "      <td>-1.779575</td>\n",
              "      <td>27949967552</td>\n",
              "    </tr>\n",
              "    <tr>\n",
              "      <th>277</th>\n",
              "      <td>-2.659752</td>\n",
              "      <td>-3.585740</td>\n",
              "      <td>27954932511</td>\n",
              "    </tr>\n",
              "    <tr>\n",
              "      <th>278</th>\n",
              "      <td>-2.376193</td>\n",
              "      <td>-2.339903</td>\n",
              "      <td>115060382</td>\n",
              "    </tr>\n",
              "    <tr>\n",
              "      <th>279</th>\n",
              "      <td>-2.331374</td>\n",
              "      <td>-2.573833</td>\n",
              "      <td>20359896213</td>\n",
              "    </tr>\n",
              "  </tbody>\n",
              "</table>\n",
              "<p>274 rows × 3 columns</p>\n",
              "</div>"
            ],
            "text/plain": [
              "     principal component 1  principal component 2 provider_cuit\n",
              "0                13.717312              -1.371774   27955020974\n",
              "1                 9.905192              -2.082164   20953156068\n",
              "2                 8.723683              -0.130986   27952457425\n",
              "3                 9.280241              -2.204708   20345174762\n",
              "4                 8.594480              -0.961832   27190202165\n",
              "..                     ...                    ...           ...\n",
              "274              -2.312236              -1.605428   27957277522\n",
              "275              -2.304613              -1.779575   27949967552\n",
              "277              -2.659752              -3.585740   27954932511\n",
              "278              -2.376193              -2.339903     115060382\n",
              "279              -2.331374              -2.573833   20359896213\n",
              "\n",
              "[274 rows x 3 columns]"
            ]
          },
          "metadata": {
            "tags": []
          },
          "execution_count": 21
        }
      ]
    },
    {
      "cell_type": "code",
      "metadata": {
        "id": "4DTv0i5mItH6"
      },
      "source": [
        ""
      ],
      "execution_count": null,
      "outputs": []
    },
    {
      "cell_type": "code",
      "metadata": {
        "id": "_psCkEl5ItQl"
      },
      "source": [
        ""
      ],
      "execution_count": null,
      "outputs": []
    },
    {
      "cell_type": "code",
      "metadata": {
        "id": "UdpIpPBJdpYK"
      },
      "source": [
        "#GENERO PCA\n",
        "from sklearn.metrics import mean_squared_error\n",
        "pca = PCA(n_components=2)\n",
        "pca.fit(x)\n",
        "X_train = pca.transform(x)\n",
        "X_dt = pca.inverse_transform(X_train)\n",
        "rms = mean_squared_error(x, X_dt, squared=True)"
      ],
      "execution_count": null,
      "outputs": []
    },
    {
      "cell_type": "code",
      "metadata": {
        "id": "ZeTyzCyLHCLB"
      },
      "source": [
        "#Armo un score \n",
        "score = []\n",
        "for i in enumerate(x):\n",
        "  rms = mean_squared_error(x[i[0]], X_dt[i[0]], squared=True)\n",
        "  score.append (rms)"
      ],
      "execution_count": null,
      "outputs": []
    },
    {
      "cell_type": "code",
      "metadata": {
        "id": "QxxnTYNLISdf"
      },
      "source": [
        "# genero un dict con score y dni\n",
        "lista_dni = df_fraude.provider_cuit.to_list()\n",
        "data = {'cuit': lista_dni, 'score': score}\n",
        "df_score = pd.DataFrame.from_dict(data)"
      ],
      "execution_count": null,
      "outputs": []
    },
    {
      "cell_type": "code",
      "metadata": {
        "colab": {
          "base_uri": "https://localhost:8080/",
          "height": 497
        },
        "id": "yFthmBX9FZF4",
        "outputId": "49551be9-7ee1-4522-d7ec-56d845cc9d1b"
      },
      "source": [
        "df_score.sort_values(by=['score'], ascending=False).head(15)"
      ],
      "execution_count": null,
      "outputs": [
        {
          "output_type": "execute_result",
          "data": {
            "text/html": [
              "<div>\n",
              "<style scoped>\n",
              "    .dataframe tbody tr th:only-of-type {\n",
              "        vertical-align: middle;\n",
              "    }\n",
              "\n",
              "    .dataframe tbody tr th {\n",
              "        vertical-align: top;\n",
              "    }\n",
              "\n",
              "    .dataframe thead th {\n",
              "        text-align: right;\n",
              "    }\n",
              "</style>\n",
              "<table border=\"1\" class=\"dataframe\">\n",
              "  <thead>\n",
              "    <tr style=\"text-align: right;\">\n",
              "      <th></th>\n",
              "      <th>cuit</th>\n",
              "      <th>score</th>\n",
              "    </tr>\n",
              "  </thead>\n",
              "  <tbody>\n",
              "    <tr>\n",
              "      <th>162</th>\n",
              "      <td>27184458239</td>\n",
              "      <td>25.648615</td>\n",
              "    </tr>\n",
              "    <tr>\n",
              "      <th>8</th>\n",
              "      <td>27954160756</td>\n",
              "      <td>7.114396</td>\n",
              "    </tr>\n",
              "    <tr>\n",
              "      <th>96</th>\n",
              "      <td>27946817312</td>\n",
              "      <td>4.894520</td>\n",
              "    </tr>\n",
              "    <tr>\n",
              "      <th>31</th>\n",
              "      <td>27957577194</td>\n",
              "      <td>4.866491</td>\n",
              "    </tr>\n",
              "    <tr>\n",
              "      <th>9</th>\n",
              "      <td>23187241774</td>\n",
              "      <td>4.188378</td>\n",
              "    </tr>\n",
              "    <tr>\n",
              "      <th>15</th>\n",
              "      <td>27307001824</td>\n",
              "      <td>3.440729</td>\n",
              "    </tr>\n",
              "    <tr>\n",
              "      <th>0</th>\n",
              "      <td>27955020974</td>\n",
              "      <td>2.797624</td>\n",
              "    </tr>\n",
              "    <tr>\n",
              "      <th>3</th>\n",
              "      <td>20345174762</td>\n",
              "      <td>2.204873</td>\n",
              "    </tr>\n",
              "    <tr>\n",
              "      <th>10</th>\n",
              "      <td>20950663198</td>\n",
              "      <td>2.178699</td>\n",
              "    </tr>\n",
              "    <tr>\n",
              "      <th>49</th>\n",
              "      <td>27953661514</td>\n",
              "      <td>1.784554</td>\n",
              "    </tr>\n",
              "    <tr>\n",
              "      <th>239</th>\n",
              "      <td>27958939960</td>\n",
              "      <td>1.509397</td>\n",
              "    </tr>\n",
              "    <tr>\n",
              "      <th>11</th>\n",
              "      <td>27955467154</td>\n",
              "      <td>1.418669</td>\n",
              "    </tr>\n",
              "    <tr>\n",
              "      <th>17</th>\n",
              "      <td>27946998074</td>\n",
              "      <td>1.282178</td>\n",
              "    </tr>\n",
              "    <tr>\n",
              "      <th>95</th>\n",
              "      <td>27959114795</td>\n",
              "      <td>1.221268</td>\n",
              "    </tr>\n",
              "    <tr>\n",
              "      <th>18</th>\n",
              "      <td>20944389408</td>\n",
              "      <td>1.156167</td>\n",
              "    </tr>\n",
              "  </tbody>\n",
              "</table>\n",
              "</div>"
            ],
            "text/plain": [
              "            cuit      score\n",
              "162  27184458239  25.648615\n",
              "8    27954160756   7.114396\n",
              "96   27946817312   4.894520\n",
              "31   27957577194   4.866491\n",
              "9    23187241774   4.188378\n",
              "15   27307001824   3.440729\n",
              "0    27955020974   2.797624\n",
              "3    20345174762   2.204873\n",
              "10   20950663198   2.178699\n",
              "49   27953661514   1.784554\n",
              "239  27958939960   1.509397\n",
              "11   27955467154   1.418669\n",
              "17   27946998074   1.282178\n",
              "95   27959114795   1.221268\n",
              "18   20944389408   1.156167"
            ]
          },
          "metadata": {
            "tags": []
          },
          "execution_count": 25
        }
      ]
    },
    {
      "cell_type": "code",
      "metadata": {
        "id": "CX5Xueowq9LI"
      },
      "source": [
        "df_reindex = df_score.sort_values(by=['score'], ascending=False).reset_index(drop = True)"
      ],
      "execution_count": null,
      "outputs": []
    },
    {
      "cell_type": "code",
      "metadata": {
        "id": "QIsG7J8OItWf"
      },
      "source": [
        "nombres = pd.read_csv (path + 'providers_name.csv')"
      ],
      "execution_count": null,
      "outputs": []
    },
    {
      "cell_type": "code",
      "metadata": {
        "id": "wtOvNoIgItY5"
      },
      "source": [
        "df_nombres = nombres[['cuit', 'fullname']]"
      ],
      "execution_count": null,
      "outputs": []
    },
    {
      "cell_type": "code",
      "metadata": {
        "id": "TP20kUgAMz65"
      },
      "source": [
        "df_nombres.columns = ['provider_cuit', 'fullname']"
      ],
      "execution_count": null,
      "outputs": []
    },
    {
      "cell_type": "code",
      "metadata": {
        "id": "ah_nrWeeMnPO"
      },
      "source": [
        ""
      ],
      "execution_count": null,
      "outputs": []
    },
    {
      "cell_type": "code",
      "metadata": {
        "id": "DdfXNmO0MnjZ"
      },
      "source": [
        "final_merged = pd.merge(df_fraude, df_nombres, on='provider_cuit')"
      ],
      "execution_count": null,
      "outputs": []
    },
    {
      "cell_type": "code",
      "metadata": {
        "id": "EBKpOY-lMnjd"
      },
      "source": [
        "final_merged = final_merged.drop_duplicates()"
      ],
      "execution_count": null,
      "outputs": []
    },
    {
      "cell_type": "code",
      "metadata": {
        "id": "wQw86oUMMnje"
      },
      "source": [
        "final_merged = final_merged.dropna()"
      ],
      "execution_count": null,
      "outputs": []
    },
    {
      "cell_type": "code",
      "metadata": {
        "id": "PgbprAtYsGye"
      },
      "source": [
        "df_score.columns = ['provider_cuit', 'score']"
      ],
      "execution_count": null,
      "outputs": []
    },
    {
      "cell_type": "code",
      "metadata": {
        "id": "yl8ZvpYxr3Ev"
      },
      "source": [
        "final_merged_order = pd.merge(final_merged, df_score, on='provider_cuit')"
      ],
      "execution_count": null,
      "outputs": []
    },
    {
      "cell_type": "code",
      "metadata": {
        "id": "7At7QayECbsV"
      },
      "source": [
        "provider_fraudolentos = [27953661514, 27954160756]"
      ],
      "execution_count": null,
      "outputs": []
    },
    {
      "cell_type": "code",
      "metadata": {
        "colab": {
          "base_uri": "https://localhost:8080/",
          "height": 147
        },
        "id": "5DNpYHDqFbYO",
        "outputId": "dfdd8dfc-4a6c-45d2-daac-403fa48f2957"
      },
      "source": [
        "final_merged[final_merged.provider_cuit == '27953661514']"
      ],
      "execution_count": null,
      "outputs": [
        {
          "output_type": "execute_result",
          "data": {
            "text/html": [
              "<div>\n",
              "<style scoped>\n",
              "    .dataframe tbody tr th:only-of-type {\n",
              "        vertical-align: middle;\n",
              "    }\n",
              "\n",
              "    .dataframe tbody tr th {\n",
              "        vertical-align: top;\n",
              "    }\n",
              "\n",
              "    .dataframe thead th {\n",
              "        text-align: right;\n",
              "    }\n",
              "</style>\n",
              "<table border=\"1\" class=\"dataframe\">\n",
              "  <thead>\n",
              "    <tr style=\"text-align: right;\">\n",
              "      <th></th>\n",
              "      <th>provider_cuit</th>\n",
              "      <th>consultas</th>\n",
              "      <th>mean_tiempo</th>\n",
              "      <th>median_tiempo</th>\n",
              "      <th>mean_texto</th>\n",
              "      <th>median_texto</th>\n",
              "      <th>mean_epicrisis</th>\n",
              "      <th>median_epicrisis</th>\n",
              "      <th>psicofarmaco</th>\n",
              "      <th>recetas</th>\n",
              "      <th>reposo</th>\n",
              "      <th>ausente</th>\n",
              "      <th>conexion</th>\n",
              "      <th>domicilio</th>\n",
              "      <th>amarillo</th>\n",
              "      <th>rojo</th>\n",
              "      <th>verde</th>\n",
              "      <th>metrics_puntualidad</th>\n",
              "      <th>metrics_stars</th>\n",
              "      <th>metrics_sum_puntualidad</th>\n",
              "      <th>metrics_sum_stars</th>\n",
              "      <th>fullname</th>\n",
              "      <th>cluster</th>\n",
              "    </tr>\n",
              "  </thead>\n",
              "  <tbody>\n",
              "    <tr>\n",
              "      <th>49</th>\n",
              "      <td>27953661514</td>\n",
              "      <td>3851</td>\n",
              "      <td>2390.26954</td>\n",
              "      <td>413.0</td>\n",
              "      <td>224.019995</td>\n",
              "      <td>0.0</td>\n",
              "      <td>164.481433</td>\n",
              "      <td>177.0</td>\n",
              "      <td>7</td>\n",
              "      <td>194</td>\n",
              "      <td>1980</td>\n",
              "      <td>65</td>\n",
              "      <td>42</td>\n",
              "      <td>2614</td>\n",
              "      <td>228</td>\n",
              "      <td>8</td>\n",
              "      <td>191</td>\n",
              "      <td>0.2</td>\n",
              "      <td>3.4</td>\n",
              "      <td>975.0</td>\n",
              "      <td>971.0</td>\n",
              "      <td>JOHANNA ANDREA ZAMBRANO MERA</td>\n",
              "      <td>-1</td>\n",
              "    </tr>\n",
              "  </tbody>\n",
              "</table>\n",
              "</div>"
            ],
            "text/plain": [
              "   provider_cuit  consultas  ...                      fullname  cluster\n",
              "49   27953661514       3851  ...  JOHANNA ANDREA ZAMBRANO MERA       -1\n",
              "\n",
              "[1 rows x 23 columns]"
            ]
          },
          "metadata": {
            "tags": []
          },
          "execution_count": 68
        }
      ]
    },
    {
      "cell_type": "code",
      "metadata": {
        "id": "eRzNt_8x4lNc"
      },
      "source": [
        ""
      ],
      "execution_count": null,
      "outputs": []
    },
    {
      "cell_type": "code",
      "metadata": {
        "id": "IOk4FW0tx6Fg"
      },
      "source": [
        ""
      ],
      "execution_count": null,
      "outputs": []
    },
    {
      "cell_type": "code",
      "metadata": {
        "id": "HQzXDzUrx6UA"
      },
      "source": [
        "from sklearn.neighbors import NearestNeighbors\n",
        "nbrs = NearestNeighbors(n_neighbors=2, algorithm='auto').fit(x)\n",
        "distances, indices = nbrs.kneighbors(x)"
      ],
      "execution_count": null,
      "outputs": []
    },
    {
      "cell_type": "code",
      "metadata": {
        "colab": {
          "base_uri": "https://localhost:8080/",
          "height": 167
        },
        "id": "fBOghqx9yFNW",
        "outputId": "62171b61-b19f-4da8-bd3c-4e25694c11ef"
      },
      "source": [
        "X = StandardScaler().fit_transform(X)"
      ],
      "execution_count": null,
      "outputs": [
        {
          "output_type": "error",
          "ename": "NameError",
          "evalue": "ignored",
          "traceback": [
            "\u001b[0;31m---------------------------------------------------------------------------\u001b[0m",
            "\u001b[0;31mNameError\u001b[0m                                 Traceback (most recent call last)",
            "\u001b[0;32m<ipython-input-35-c4b8fb8684e9>\u001b[0m in \u001b[0;36m<module>\u001b[0;34m()\u001b[0m\n\u001b[0;32m----> 1\u001b[0;31m \u001b[0mX\u001b[0m \u001b[0;34m=\u001b[0m \u001b[0mStandardScaler\u001b[0m\u001b[0;34m(\u001b[0m\u001b[0;34m)\u001b[0m\u001b[0;34m.\u001b[0m\u001b[0mfit_transform\u001b[0m\u001b[0;34m(\u001b[0m\u001b[0mX\u001b[0m\u001b[0;34m)\u001b[0m\u001b[0;34m\u001b[0m\u001b[0;34m\u001b[0m\u001b[0m\n\u001b[0m",
            "\u001b[0;31mNameError\u001b[0m: name 'X' is not defined"
          ]
        }
      ]
    },
    {
      "cell_type": "code",
      "metadata": {
        "id": "tPikPsRNymLc"
      },
      "source": [
        "from sklearn.cluster import DBSCAN\n",
        "clustering = DBSCAN(eps=3, min_samples=3).fit(x)\n",
        "c = clustering.labels_.tolist()"
      ],
      "execution_count": null,
      "outputs": []
    },
    {
      "cell_type": "code",
      "metadata": {
        "colab": {
          "base_uri": "https://localhost:8080/"
        },
        "id": "ckZeYICZ5CgH",
        "outputId": "280d8237-15c0-4ffa-daee-29ca28883305"
      },
      "source": [
        "c.count(-1)"
      ],
      "execution_count": null,
      "outputs": [
        {
          "output_type": "execute_result",
          "data": {
            "text/plain": [
              "35"
            ]
          },
          "metadata": {
            "tags": []
          },
          "execution_count": 52
        }
      ]
    },
    {
      "cell_type": "code",
      "metadata": {
        "id": "JDoooGx-7Gae"
      },
      "source": [
        "final_merged ['cluster'] = pd.Series(c) "
      ],
      "execution_count": null,
      "outputs": []
    },
    {
      "cell_type": "code",
      "metadata": {
        "colab": {
          "base_uri": "https://localhost:8080/",
          "height": 211
        },
        "id": "y1QCfb6N7SIy",
        "outputId": "37cf1d59-19e7-4a6d-c73f-4fdf082b18bb"
      },
      "source": [
        "final_merged[final_merged.cluster == 1]"
      ],
      "execution_count": null,
      "outputs": [
        {
          "output_type": "execute_result",
          "data": {
            "text/html": [
              "<div>\n",
              "<style scoped>\n",
              "    .dataframe tbody tr th:only-of-type {\n",
              "        vertical-align: middle;\n",
              "    }\n",
              "\n",
              "    .dataframe tbody tr th {\n",
              "        vertical-align: top;\n",
              "    }\n",
              "\n",
              "    .dataframe thead th {\n",
              "        text-align: right;\n",
              "    }\n",
              "</style>\n",
              "<table border=\"1\" class=\"dataframe\">\n",
              "  <thead>\n",
              "    <tr style=\"text-align: right;\">\n",
              "      <th></th>\n",
              "      <th>provider_cuit</th>\n",
              "      <th>consultas</th>\n",
              "      <th>mean_tiempo</th>\n",
              "      <th>median_tiempo</th>\n",
              "      <th>mean_texto</th>\n",
              "      <th>median_texto</th>\n",
              "      <th>mean_epicrisis</th>\n",
              "      <th>median_epicrisis</th>\n",
              "      <th>psicofarmaco</th>\n",
              "      <th>recetas</th>\n",
              "      <th>reposo</th>\n",
              "      <th>ausente</th>\n",
              "      <th>conexion</th>\n",
              "      <th>domicilio</th>\n",
              "      <th>amarillo</th>\n",
              "      <th>rojo</th>\n",
              "      <th>verde</th>\n",
              "      <th>metrics_puntualidad</th>\n",
              "      <th>metrics_stars</th>\n",
              "      <th>metrics_sum_puntualidad</th>\n",
              "      <th>metrics_sum_stars</th>\n",
              "      <th>fullname</th>\n",
              "      <th>cluster</th>\n",
              "    </tr>\n",
              "  </thead>\n",
              "  <tbody>\n",
              "    <tr>\n",
              "      <th>5</th>\n",
              "      <td>27947930589</td>\n",
              "      <td>10384</td>\n",
              "      <td>1942.477947</td>\n",
              "      <td>712.0</td>\n",
              "      <td>1317.929988</td>\n",
              "      <td>1091.0</td>\n",
              "      <td>145.052196</td>\n",
              "      <td>162.0</td>\n",
              "      <td>117</td>\n",
              "      <td>1524</td>\n",
              "      <td>2894</td>\n",
              "      <td>1028</td>\n",
              "      <td>158</td>\n",
              "      <td>5753</td>\n",
              "      <td>578</td>\n",
              "      <td>121</td>\n",
              "      <td>586</td>\n",
              "      <td>0.4</td>\n",
              "      <td>4.8</td>\n",
              "      <td>1699.0</td>\n",
              "      <td>15883.0</td>\n",
              "      <td>GLADIS OVIEDO DELGADO</td>\n",
              "      <td>1</td>\n",
              "    </tr>\n",
              "    <tr>\n",
              "      <th>7</th>\n",
              "      <td>20947957091</td>\n",
              "      <td>9223</td>\n",
              "      <td>2103.828039</td>\n",
              "      <td>949.0</td>\n",
              "      <td>903.610756</td>\n",
              "      <td>473.0</td>\n",
              "      <td>147.539412</td>\n",
              "      <td>152.0</td>\n",
              "      <td>130</td>\n",
              "      <td>1235</td>\n",
              "      <td>2424</td>\n",
              "      <td>941</td>\n",
              "      <td>163</td>\n",
              "      <td>4990</td>\n",
              "      <td>848</td>\n",
              "      <td>108</td>\n",
              "      <td>501</td>\n",
              "      <td>0.1</td>\n",
              "      <td>4.7</td>\n",
              "      <td>1008.0</td>\n",
              "      <td>15764.0</td>\n",
              "      <td>JIMMY LEONCIO PALOMINO RAMIREZ</td>\n",
              "      <td>1</td>\n",
              "    </tr>\n",
              "  </tbody>\n",
              "</table>\n",
              "</div>"
            ],
            "text/plain": [
              "  provider_cuit  consultas  ...                        fullname  cluster\n",
              "5   27947930589      10384  ...           GLADIS OVIEDO DELGADO        1\n",
              "7   20947957091       9223  ...  JIMMY LEONCIO PALOMINO RAMIREZ        1\n",
              "\n",
              "[2 rows x 23 columns]"
            ]
          },
          "metadata": {
            "tags": []
          },
          "execution_count": 79
        }
      ]
    },
    {
      "cell_type": "code",
      "metadata": {
        "colab": {
          "base_uri": "https://localhost:8080/"
        },
        "id": "lVlyx5HL8bI4",
        "outputId": "0cc86814-3760-43fc-d053-afe337e79032"
      },
      "source": [
        "final_merged.median_tiempo.value_counts().head(30)"
      ],
      "execution_count": null,
      "outputs": [
        {
          "output_type": "execute_result",
          "data": {
            "text/plain": [
              "875.0       3\n",
              "729.0       3\n",
              "512.0       2\n",
              "865.0       2\n",
              "740.0       2\n",
              "1034.0      2\n",
              "767.0       2\n",
              "599.0       2\n",
              "626.0       2\n",
              "759.0       2\n",
              "639.0       2\n",
              "604.0       2\n",
              "477.0       2\n",
              "1124.0      2\n",
              "718.0       2\n",
              "1283.0      2\n",
              "489.0       2\n",
              "614.0       2\n",
              "903.0       2\n",
              "1091.0      2\n",
              "712.0       2\n",
              "592.0       2\n",
              "1110.0      2\n",
              "1038.0      2\n",
              "528.0       2\n",
              "744.0       2\n",
              "608363.0    1\n",
              "1090.0      1\n",
              "621.0       1\n",
              "2108.0      1\n",
              "Name: median_tiempo, dtype: int64"
            ]
          },
          "metadata": {
            "tags": []
          },
          "execution_count": 86
        }
      ]
    },
    {
      "cell_type": "code",
      "metadata": {
        "id": "bBlP76J6FyEs"
      },
      "source": [
        "sabri = final_merged_order.sort_values(by=['score'], ascending=False)"
      ],
      "execution_count": null,
      "outputs": []
    },
    {
      "cell_type": "code",
      "metadata": {
        "colab": {
          "base_uri": "https://localhost:8080/"
        },
        "id": "tNt-BT-vsR_d",
        "outputId": "5e3cac44-7548-4f97-c397-4b97f385d866"
      },
      "source": [
        "sabri.columns"
      ],
      "execution_count": null,
      "outputs": [
        {
          "output_type": "execute_result",
          "data": {
            "text/plain": [
              "Index(['provider_cuit', 'consultas', 'mean_tiempo', 'median_tiempo',\n",
              "       'mean_texto', 'median_texto', 'mean_epicrisis', 'median_epicrisis',\n",
              "       'psicofarmaco', 'recetas', 'reposo', 'ausente', 'conexion', 'domicilio',\n",
              "       'amarillo', 'rojo', 'verde', 'metrics_puntualidad', 'metrics_stars',\n",
              "       'metrics_sum_puntualidad', 'metrics_sum_stars', 'fullname', 'cluster',\n",
              "       'score'],\n",
              "      dtype='object')"
            ]
          },
          "metadata": {
            "tags": []
          },
          "execution_count": 78
        }
      ]
    },
    {
      "cell_type": "code",
      "metadata": {
        "id": "UzadxpzjtIcW"
      },
      "source": [
        "sabri_final = sabri[['score', 'cluster','fullname','provider_cuit', 'consultas', 'mean_tiempo', 'median_tiempo',\n",
        "       'mean_texto', 'median_texto', 'mean_epicrisis', 'median_epicrisis',\n",
        "       'psicofarmaco', 'recetas', 'reposo', 'ausente', 'conexion', 'domicilio',\n",
        "       'amarillo', 'rojo', 'verde', 'metrics_puntualidad', 'metrics_stars',\n",
        "       'metrics_sum_puntualidad', 'metrics_sum_stars']]"
      ],
      "execution_count": null,
      "outputs": []
    },
    {
      "cell_type": "code",
      "metadata": {
        "id": "TYpWOSoTtWBY"
      },
      "source": [
        "sabri = sabri_final.reset_index (drop=True)"
      ],
      "execution_count": null,
      "outputs": []
    },
    {
      "cell_type": "code",
      "metadata": {
        "colab": {
          "base_uri": "https://localhost:8080/",
          "height": 1000
        },
        "id": "YMynb5Fkv1ET",
        "outputId": "24a368fd-6ca8-4404-bde7-8ff0f10bc097"
      },
      "source": [
        "sabri_final.head(20)"
      ],
      "execution_count": null,
      "outputs": [
        {
          "output_type": "execute_result",
          "data": {
            "text/html": [
              "<div>\n",
              "<style scoped>\n",
              "    .dataframe tbody tr th:only-of-type {\n",
              "        vertical-align: middle;\n",
              "    }\n",
              "\n",
              "    .dataframe tbody tr th {\n",
              "        vertical-align: top;\n",
              "    }\n",
              "\n",
              "    .dataframe thead th {\n",
              "        text-align: right;\n",
              "    }\n",
              "</style>\n",
              "<table border=\"1\" class=\"dataframe\">\n",
              "  <thead>\n",
              "    <tr style=\"text-align: right;\">\n",
              "      <th></th>\n",
              "      <th>score</th>\n",
              "      <th>cluster</th>\n",
              "      <th>fullname</th>\n",
              "      <th>provider_cuit</th>\n",
              "      <th>consultas</th>\n",
              "      <th>mean_tiempo</th>\n",
              "      <th>median_tiempo</th>\n",
              "      <th>mean_texto</th>\n",
              "      <th>median_texto</th>\n",
              "      <th>mean_epicrisis</th>\n",
              "      <th>median_epicrisis</th>\n",
              "      <th>psicofarmaco</th>\n",
              "      <th>recetas</th>\n",
              "      <th>reposo</th>\n",
              "      <th>ausente</th>\n",
              "      <th>conexion</th>\n",
              "      <th>domicilio</th>\n",
              "      <th>amarillo</th>\n",
              "      <th>rojo</th>\n",
              "      <th>verde</th>\n",
              "      <th>metrics_puntualidad</th>\n",
              "      <th>metrics_stars</th>\n",
              "      <th>metrics_sum_puntualidad</th>\n",
              "      <th>metrics_sum_stars</th>\n",
              "    </tr>\n",
              "  </thead>\n",
              "  <tbody>\n",
              "    <tr>\n",
              "      <th>162</th>\n",
              "      <td>25.648615</td>\n",
              "      <td>-1</td>\n",
              "      <td>ALEJANDRA VILLAVERDE</td>\n",
              "      <td>27184458239</td>\n",
              "      <td>476</td>\n",
              "      <td>608363.000000</td>\n",
              "      <td>608363.0</td>\n",
              "      <td>1638.670168</td>\n",
              "      <td>126.0</td>\n",
              "      <td>39.344538</td>\n",
              "      <td>9.0</td>\n",
              "      <td>0</td>\n",
              "      <td>5</td>\n",
              "      <td>1</td>\n",
              "      <td>124</td>\n",
              "      <td>48</td>\n",
              "      <td>266</td>\n",
              "      <td>1</td>\n",
              "      <td>0</td>\n",
              "      <td>0</td>\n",
              "      <td>0.3</td>\n",
              "      <td>4.9</td>\n",
              "      <td>145.0</td>\n",
              "      <td>412.0</td>\n",
              "    </tr>\n",
              "    <tr>\n",
              "      <th>8</th>\n",
              "      <td>7.114396</td>\n",
              "      <td>-1</td>\n",
              "      <td>JULISSA ANDREINA SALTOS ARDILA</td>\n",
              "      <td>27954160756</td>\n",
              "      <td>9075</td>\n",
              "      <td>1241.568375</td>\n",
              "      <td>533.0</td>\n",
              "      <td>919.890358</td>\n",
              "      <td>143.0</td>\n",
              "      <td>110.268209</td>\n",
              "      <td>79.0</td>\n",
              "      <td>121</td>\n",
              "      <td>1275</td>\n",
              "      <td>1683</td>\n",
              "      <td>303</td>\n",
              "      <td>2142</td>\n",
              "      <td>4669</td>\n",
              "      <td>692</td>\n",
              "      <td>48</td>\n",
              "      <td>298</td>\n",
              "      <td>0.1</td>\n",
              "      <td>4.8</td>\n",
              "      <td>1584.0</td>\n",
              "      <td>9325.0</td>\n",
              "    </tr>\n",
              "    <tr>\n",
              "      <th>96</th>\n",
              "      <td>4.894520</td>\n",
              "      <td>-1</td>\n",
              "      <td>MONICA DEL CARMEN PERSAND ARCHBOLD</td>\n",
              "      <td>27946817312</td>\n",
              "      <td>1725</td>\n",
              "      <td>2609.939130</td>\n",
              "      <td>558.0</td>\n",
              "      <td>1051.779130</td>\n",
              "      <td>860.0</td>\n",
              "      <td>128.269565</td>\n",
              "      <td>130.0</td>\n",
              "      <td>19</td>\n",
              "      <td>316</td>\n",
              "      <td>242</td>\n",
              "      <td>179</td>\n",
              "      <td>29</td>\n",
              "      <td>1138</td>\n",
              "      <td>58</td>\n",
              "      <td>4</td>\n",
              "      <td>99</td>\n",
              "      <td>8.3</td>\n",
              "      <td>4.7</td>\n",
              "      <td>1282.0</td>\n",
              "      <td>2496.0</td>\n",
              "    </tr>\n",
              "    <tr>\n",
              "      <th>31</th>\n",
              "      <td>4.866491</td>\n",
              "      <td>-1</td>\n",
              "      <td>RAQUEL ABIGAIL CHILAN SANTANA</td>\n",
              "      <td>27957577194</td>\n",
              "      <td>5330</td>\n",
              "      <td>1847.493996</td>\n",
              "      <td>654.0</td>\n",
              "      <td>1797.402814</td>\n",
              "      <td>1472.5</td>\n",
              "      <td>157.683865</td>\n",
              "      <td>173.0</td>\n",
              "      <td>33</td>\n",
              "      <td>674</td>\n",
              "      <td>1599</td>\n",
              "      <td>1552</td>\n",
              "      <td>219</td>\n",
              "      <td>2440</td>\n",
              "      <td>225</td>\n",
              "      <td>33</td>\n",
              "      <td>60</td>\n",
              "      <td>7.0</td>\n",
              "      <td>4.8</td>\n",
              "      <td>4077.0</td>\n",
              "      <td>6054.0</td>\n",
              "    </tr>\n",
              "    <tr>\n",
              "      <th>9</th>\n",
              "      <td>4.188378</td>\n",
              "      <td>-1</td>\n",
              "      <td>ELENA MARIA ZEVALLOS PASTORINI</td>\n",
              "      <td>23187241774</td>\n",
              "      <td>8782</td>\n",
              "      <td>3265.447734</td>\n",
              "      <td>1057.0</td>\n",
              "      <td>1481.109428</td>\n",
              "      <td>983.0</td>\n",
              "      <td>155.770326</td>\n",
              "      <td>159.0</td>\n",
              "      <td>574</td>\n",
              "      <td>2496</td>\n",
              "      <td>3295</td>\n",
              "      <td>500</td>\n",
              "      <td>65</td>\n",
              "      <td>5488</td>\n",
              "      <td>351</td>\n",
              "      <td>35</td>\n",
              "      <td>205</td>\n",
              "      <td>0.1</td>\n",
              "      <td>4.7</td>\n",
              "      <td>1083.0</td>\n",
              "      <td>16265.0</td>\n",
              "    </tr>\n",
              "    <tr>\n",
              "      <th>15</th>\n",
              "      <td>3.440729</td>\n",
              "      <td>-1</td>\n",
              "      <td>NOELIA SOLEDAD GESUALDI</td>\n",
              "      <td>27307001824</td>\n",
              "      <td>7587</td>\n",
              "      <td>2536.991960</td>\n",
              "      <td>799.0</td>\n",
              "      <td>1191.072229</td>\n",
              "      <td>750.0</td>\n",
              "      <td>27.893634</td>\n",
              "      <td>0.0</td>\n",
              "      <td>39</td>\n",
              "      <td>831</td>\n",
              "      <td>1421</td>\n",
              "      <td>1332</td>\n",
              "      <td>90</td>\n",
              "      <td>2989</td>\n",
              "      <td>1916</td>\n",
              "      <td>39</td>\n",
              "      <td>288</td>\n",
              "      <td>0.5</td>\n",
              "      <td>4.9</td>\n",
              "      <td>5050.0</td>\n",
              "      <td>16630.0</td>\n",
              "    </tr>\n",
              "    <tr>\n",
              "      <th>0</th>\n",
              "      <td>2.797624</td>\n",
              "      <td>-1</td>\n",
              "      <td>LELLY VANESSA DUEÑAS BRAVO</td>\n",
              "      <td>27955020974</td>\n",
              "      <td>14980</td>\n",
              "      <td>1011.204139</td>\n",
              "      <td>512.0</td>\n",
              "      <td>728.839386</td>\n",
              "      <td>648.5</td>\n",
              "      <td>117.104740</td>\n",
              "      <td>109.0</td>\n",
              "      <td>169</td>\n",
              "      <td>2640</td>\n",
              "      <td>4705</td>\n",
              "      <td>630</td>\n",
              "      <td>62</td>\n",
              "      <td>9055</td>\n",
              "      <td>2157</td>\n",
              "      <td>187</td>\n",
              "      <td>363</td>\n",
              "      <td>1.3</td>\n",
              "      <td>4.7</td>\n",
              "      <td>2887.0</td>\n",
              "      <td>27491.0</td>\n",
              "    </tr>\n",
              "    <tr>\n",
              "      <th>3</th>\n",
              "      <td>2.204873</td>\n",
              "      <td>-1</td>\n",
              "      <td>WALTER ADRIAN ASSEL</td>\n",
              "      <td>20345174762</td>\n",
              "      <td>10520</td>\n",
              "      <td>22277.156669</td>\n",
              "      <td>875.0</td>\n",
              "      <td>1168.623479</td>\n",
              "      <td>927.0</td>\n",
              "      <td>34.432985</td>\n",
              "      <td>0.0</td>\n",
              "      <td>103</td>\n",
              "      <td>974</td>\n",
              "      <td>3200</td>\n",
              "      <td>1033</td>\n",
              "      <td>76</td>\n",
              "      <td>5893</td>\n",
              "      <td>478</td>\n",
              "      <td>140</td>\n",
              "      <td>1357</td>\n",
              "      <td>0.1</td>\n",
              "      <td>4.8</td>\n",
              "      <td>963.0</td>\n",
              "      <td>18554.0</td>\n",
              "    </tr>\n",
              "    <tr>\n",
              "      <th>10</th>\n",
              "      <td>2.178699</td>\n",
              "      <td>-1</td>\n",
              "      <td>ANDRES ERNESTO LOOR TITUANA</td>\n",
              "      <td>20950663198</td>\n",
              "      <td>8543</td>\n",
              "      <td>4888.174315</td>\n",
              "      <td>621.0</td>\n",
              "      <td>40.097741</td>\n",
              "      <td>0.0</td>\n",
              "      <td>181.722229</td>\n",
              "      <td>191.0</td>\n",
              "      <td>79</td>\n",
              "      <td>738</td>\n",
              "      <td>3943</td>\n",
              "      <td>40</td>\n",
              "      <td>19</td>\n",
              "      <td>5020</td>\n",
              "      <td>894</td>\n",
              "      <td>14</td>\n",
              "      <td>506</td>\n",
              "      <td>0.3</td>\n",
              "      <td>3.9</td>\n",
              "      <td>3367.0</td>\n",
              "      <td>3263.0</td>\n",
              "    </tr>\n",
              "    <tr>\n",
              "      <th>49</th>\n",
              "      <td>1.784554</td>\n",
              "      <td>-1</td>\n",
              "      <td>JOHANNA ANDREA ZAMBRANO MERA</td>\n",
              "      <td>27953661514</td>\n",
              "      <td>3851</td>\n",
              "      <td>2390.269540</td>\n",
              "      <td>413.0</td>\n",
              "      <td>224.019995</td>\n",
              "      <td>0.0</td>\n",
              "      <td>164.481433</td>\n",
              "      <td>177.0</td>\n",
              "      <td>7</td>\n",
              "      <td>194</td>\n",
              "      <td>1980</td>\n",
              "      <td>65</td>\n",
              "      <td>42</td>\n",
              "      <td>2614</td>\n",
              "      <td>228</td>\n",
              "      <td>8</td>\n",
              "      <td>191</td>\n",
              "      <td>0.2</td>\n",
              "      <td>3.4</td>\n",
              "      <td>975.0</td>\n",
              "      <td>971.0</td>\n",
              "    </tr>\n",
              "    <tr>\n",
              "      <th>239</th>\n",
              "      <td>1.509397</td>\n",
              "      <td>-1</td>\n",
              "      <td>MARILIA PAOLA ROYERO ROYERO</td>\n",
              "      <td>27958939960</td>\n",
              "      <td>46</td>\n",
              "      <td>5893.521739</td>\n",
              "      <td>1053.5</td>\n",
              "      <td>2360.239130</td>\n",
              "      <td>2171.0</td>\n",
              "      <td>208.043478</td>\n",
              "      <td>216.0</td>\n",
              "      <td>2</td>\n",
              "      <td>11</td>\n",
              "      <td>14</td>\n",
              "      <td>5</td>\n",
              "      <td>2</td>\n",
              "      <td>29</td>\n",
              "      <td>2</td>\n",
              "      <td>0</td>\n",
              "      <td>0</td>\n",
              "      <td>0.7</td>\n",
              "      <td>3.5</td>\n",
              "      <td>29.0</td>\n",
              "      <td>21.0</td>\n",
              "    </tr>\n",
              "    <tr>\n",
              "      <th>11</th>\n",
              "      <td>1.418669</td>\n",
              "      <td>-1</td>\n",
              "      <td>DIANA CAROLINA MORON ALSINA</td>\n",
              "      <td>27955467154</td>\n",
              "      <td>8422</td>\n",
              "      <td>1189.135241</td>\n",
              "      <td>543.0</td>\n",
              "      <td>1223.662076</td>\n",
              "      <td>382.5</td>\n",
              "      <td>252.849442</td>\n",
              "      <td>226.0</td>\n",
              "      <td>128</td>\n",
              "      <td>1734</td>\n",
              "      <td>2540</td>\n",
              "      <td>995</td>\n",
              "      <td>924</td>\n",
              "      <td>4095</td>\n",
              "      <td>462</td>\n",
              "      <td>77</td>\n",
              "      <td>273</td>\n",
              "      <td>0.1</td>\n",
              "      <td>4.8</td>\n",
              "      <td>606.0</td>\n",
              "      <td>8618.0</td>\n",
              "    </tr>\n",
              "    <tr>\n",
              "      <th>17</th>\n",
              "      <td>1.282178</td>\n",
              "      <td>-1</td>\n",
              "      <td>CRISTIANY SABRINY GOMES BORGES</td>\n",
              "      <td>27946998074</td>\n",
              "      <td>7153</td>\n",
              "      <td>1529.284077</td>\n",
              "      <td>715.0</td>\n",
              "      <td>1811.553334</td>\n",
              "      <td>1277.0</td>\n",
              "      <td>139.784706</td>\n",
              "      <td>149.0</td>\n",
              "      <td>78</td>\n",
              "      <td>1127</td>\n",
              "      <td>1846</td>\n",
              "      <td>913</td>\n",
              "      <td>508</td>\n",
              "      <td>3366</td>\n",
              "      <td>671</td>\n",
              "      <td>209</td>\n",
              "      <td>314</td>\n",
              "      <td>0.4</td>\n",
              "      <td>4.9</td>\n",
              "      <td>3360.0</td>\n",
              "      <td>10276.0</td>\n",
              "    </tr>\n",
              "    <tr>\n",
              "      <th>95</th>\n",
              "      <td>1.221268</td>\n",
              "      <td>-1</td>\n",
              "      <td>IVONNE ELIANA MICOLTA TRIANA</td>\n",
              "      <td>27959114795</td>\n",
              "      <td>1749</td>\n",
              "      <td>1450.100629</td>\n",
              "      <td>398.0</td>\n",
              "      <td>901.177816</td>\n",
              "      <td>710.0</td>\n",
              "      <td>230.914808</td>\n",
              "      <td>146.0</td>\n",
              "      <td>16</td>\n",
              "      <td>198</td>\n",
              "      <td>935</td>\n",
              "      <td>43</td>\n",
              "      <td>10</td>\n",
              "      <td>1272</td>\n",
              "      <td>69</td>\n",
              "      <td>160</td>\n",
              "      <td>1</td>\n",
              "      <td>0.3</td>\n",
              "      <td>4.2</td>\n",
              "      <td>774.0</td>\n",
              "      <td>798.0</td>\n",
              "    </tr>\n",
              "    <tr>\n",
              "      <th>18</th>\n",
              "      <td>1.156167</td>\n",
              "      <td>-1</td>\n",
              "      <td>GONZALO MEDINACELLI SERRUDO</td>\n",
              "      <td>20944389408</td>\n",
              "      <td>7133</td>\n",
              "      <td>984.932137</td>\n",
              "      <td>614.0</td>\n",
              "      <td>671.416094</td>\n",
              "      <td>478.0</td>\n",
              "      <td>60.104024</td>\n",
              "      <td>56.0</td>\n",
              "      <td>82</td>\n",
              "      <td>1214</td>\n",
              "      <td>1969</td>\n",
              "      <td>2029</td>\n",
              "      <td>132</td>\n",
              "      <td>3588</td>\n",
              "      <td>103</td>\n",
              "      <td>6</td>\n",
              "      <td>367</td>\n",
              "      <td>0.1</td>\n",
              "      <td>4.8</td>\n",
              "      <td>939.0</td>\n",
              "      <td>11571.0</td>\n",
              "    </tr>\n",
              "    <tr>\n",
              "      <th>104</th>\n",
              "      <td>1.104598</td>\n",
              "      <td>-1</td>\n",
              "      <td>SHYRLEY PANIAGUA ROCHA</td>\n",
              "      <td>27941295911</td>\n",
              "      <td>1597</td>\n",
              "      <td>2994.973701</td>\n",
              "      <td>2126.0</td>\n",
              "      <td>5759.936130</td>\n",
              "      <td>4676.0</td>\n",
              "      <td>185.668128</td>\n",
              "      <td>182.0</td>\n",
              "      <td>28</td>\n",
              "      <td>518</td>\n",
              "      <td>502</td>\n",
              "      <td>267</td>\n",
              "      <td>23</td>\n",
              "      <td>955</td>\n",
              "      <td>44</td>\n",
              "      <td>28</td>\n",
              "      <td>36</td>\n",
              "      <td>0.2</td>\n",
              "      <td>4.9</td>\n",
              "      <td>429.0</td>\n",
              "      <td>3801.0</td>\n",
              "    </tr>\n",
              "    <tr>\n",
              "      <th>32</th>\n",
              "      <td>1.079565</td>\n",
              "      <td>-1</td>\n",
              "      <td>NICOLAS LEANDRO SANS</td>\n",
              "      <td>20301453443</td>\n",
              "      <td>5234</td>\n",
              "      <td>990.516813</td>\n",
              "      <td>494.0</td>\n",
              "      <td>1164.985862</td>\n",
              "      <td>735.0</td>\n",
              "      <td>78.319259</td>\n",
              "      <td>76.5</td>\n",
              "      <td>83</td>\n",
              "      <td>905</td>\n",
              "      <td>546</td>\n",
              "      <td>772</td>\n",
              "      <td>194</td>\n",
              "      <td>2402</td>\n",
              "      <td>291</td>\n",
              "      <td>190</td>\n",
              "      <td>187</td>\n",
              "      <td>1.5</td>\n",
              "      <td>4.7</td>\n",
              "      <td>1526.0</td>\n",
              "      <td>8270.0</td>\n",
              "    </tr>\n",
              "    <tr>\n",
              "      <th>34</th>\n",
              "      <td>1.025199</td>\n",
              "      <td>-1</td>\n",
              "      <td>PATRICIA DEL CARMEN BERGAMO</td>\n",
              "      <td>27141014973</td>\n",
              "      <td>4990</td>\n",
              "      <td>1845.234669</td>\n",
              "      <td>644.5</td>\n",
              "      <td>1081.464128</td>\n",
              "      <td>623.0</td>\n",
              "      <td>62.219840</td>\n",
              "      <td>52.0</td>\n",
              "      <td>29</td>\n",
              "      <td>378</td>\n",
              "      <td>1204</td>\n",
              "      <td>1759</td>\n",
              "      <td>346</td>\n",
              "      <td>1617</td>\n",
              "      <td>241</td>\n",
              "      <td>25</td>\n",
              "      <td>288</td>\n",
              "      <td>0.2</td>\n",
              "      <td>4.8</td>\n",
              "      <td>1362.0</td>\n",
              "      <td>4041.0</td>\n",
              "    </tr>\n",
              "    <tr>\n",
              "      <th>179</th>\n",
              "      <td>0.948815</td>\n",
              "      <td>0</td>\n",
              "      <td>PEDRO MIGUEL RODRIGUEZ ORTIZ</td>\n",
              "      <td>20955180802</td>\n",
              "      <td>295</td>\n",
              "      <td>831.800000</td>\n",
              "      <td>649.0</td>\n",
              "      <td>127.115254</td>\n",
              "      <td>0.0</td>\n",
              "      <td>352.498305</td>\n",
              "      <td>386.0</td>\n",
              "      <td>2</td>\n",
              "      <td>146</td>\n",
              "      <td>158</td>\n",
              "      <td>31</td>\n",
              "      <td>7</td>\n",
              "      <td>218</td>\n",
              "      <td>9</td>\n",
              "      <td>0</td>\n",
              "      <td>5</td>\n",
              "      <td>0.0</td>\n",
              "      <td>4.6</td>\n",
              "      <td>12.0</td>\n",
              "      <td>771.0</td>\n",
              "    </tr>\n",
              "    <tr>\n",
              "      <th>13</th>\n",
              "      <td>0.893237</td>\n",
              "      <td>-1</td>\n",
              "      <td>KATHERIN LIZETH CASTAÑEZ CASTILLA</td>\n",
              "      <td>27958276503</td>\n",
              "      <td>8019</td>\n",
              "      <td>1059.501559</td>\n",
              "      <td>576.0</td>\n",
              "      <td>1116.698466</td>\n",
              "      <td>778.0</td>\n",
              "      <td>158.692480</td>\n",
              "      <td>147.0</td>\n",
              "      <td>145</td>\n",
              "      <td>1601</td>\n",
              "      <td>2421</td>\n",
              "      <td>911</td>\n",
              "      <td>795</td>\n",
              "      <td>4457</td>\n",
              "      <td>285</td>\n",
              "      <td>43</td>\n",
              "      <td>373</td>\n",
              "      <td>0.1</td>\n",
              "      <td>4.8</td>\n",
              "      <td>777.0</td>\n",
              "      <td>8164.0</td>\n",
              "    </tr>\n",
              "  </tbody>\n",
              "</table>\n",
              "</div>"
            ],
            "text/plain": [
              "         score  cluster  ... metrics_sum_puntualidad metrics_sum_stars\n",
              "162  25.648615       -1  ...                   145.0             412.0\n",
              "8     7.114396       -1  ...                  1584.0            9325.0\n",
              "96    4.894520       -1  ...                  1282.0            2496.0\n",
              "31    4.866491       -1  ...                  4077.0            6054.0\n",
              "9     4.188378       -1  ...                  1083.0           16265.0\n",
              "15    3.440729       -1  ...                  5050.0           16630.0\n",
              "0     2.797624       -1  ...                  2887.0           27491.0\n",
              "3     2.204873       -1  ...                   963.0           18554.0\n",
              "10    2.178699       -1  ...                  3367.0            3263.0\n",
              "49    1.784554       -1  ...                   975.0             971.0\n",
              "239   1.509397       -1  ...                    29.0              21.0\n",
              "11    1.418669       -1  ...                   606.0            8618.0\n",
              "17    1.282178       -1  ...                  3360.0           10276.0\n",
              "95    1.221268       -1  ...                   774.0             798.0\n",
              "18    1.156167       -1  ...                   939.0           11571.0\n",
              "104   1.104598       -1  ...                   429.0            3801.0\n",
              "32    1.079565       -1  ...                  1526.0            8270.0\n",
              "34    1.025199       -1  ...                  1362.0            4041.0\n",
              "179   0.948815        0  ...                    12.0             771.0\n",
              "13    0.893237       -1  ...                   777.0            8164.0\n",
              "\n",
              "[20 rows x 24 columns]"
            ]
          },
          "metadata": {
            "tags": []
          },
          "execution_count": 101
        }
      ]
    },
    {
      "cell_type": "code",
      "metadata": {
        "id": "Fv2eDp2wu4mg"
      },
      "source": [
        "sabri_final.to_csv (path + 'fraudulent_providers.csv', index = False)"
      ],
      "execution_count": null,
      "outputs": []
    },
    {
      "cell_type": "code",
      "metadata": {
        "id": "dLuCC49uxOr5"
      },
      "source": [
        "sabri_final.to_excel (path + 'fraudulent_providers.xlsx', index = False)"
      ],
      "execution_count": null,
      "outputs": []
    },
    {
      "cell_type": "code",
      "metadata": {
        "id": "LC083A5uvRRh"
      },
      "source": [
        "df3 = pd.read_csv (path + 'fraudulent_providers.csv')"
      ],
      "execution_count": null,
      "outputs": []
    },
    {
      "cell_type": "code",
      "metadata": {
        "colab": {
          "base_uri": "https://localhost:8080/",
          "height": 1000
        },
        "id": "VtSPcBUovXH6",
        "outputId": "5600b90c-a3b5-4e90-8971-7035ec4ee2c8"
      },
      "source": [
        "df3.head(15)"
      ],
      "execution_count": null,
      "outputs": [
        {
          "output_type": "execute_result",
          "data": {
            "text/html": [
              "<div>\n",
              "<style scoped>\n",
              "    .dataframe tbody tr th:only-of-type {\n",
              "        vertical-align: middle;\n",
              "    }\n",
              "\n",
              "    .dataframe tbody tr th {\n",
              "        vertical-align: top;\n",
              "    }\n",
              "\n",
              "    .dataframe thead th {\n",
              "        text-align: right;\n",
              "    }\n",
              "</style>\n",
              "<table border=\"1\" class=\"dataframe\">\n",
              "  <thead>\n",
              "    <tr style=\"text-align: right;\">\n",
              "      <th></th>\n",
              "      <th>score</th>\n",
              "      <th>cluster</th>\n",
              "      <th>fullname</th>\n",
              "      <th>provider_cuit</th>\n",
              "      <th>consultas</th>\n",
              "      <th>mean_tiempo</th>\n",
              "      <th>median_tiempo</th>\n",
              "      <th>mean_texto</th>\n",
              "      <th>median_texto</th>\n",
              "      <th>mean_epicrisis</th>\n",
              "      <th>median_epicrisis</th>\n",
              "      <th>psicofarmaco</th>\n",
              "      <th>recetas</th>\n",
              "      <th>reposo</th>\n",
              "      <th>ausente</th>\n",
              "      <th>conexion</th>\n",
              "      <th>domicilio</th>\n",
              "      <th>amarillo</th>\n",
              "      <th>rojo</th>\n",
              "      <th>verde</th>\n",
              "      <th>metrics_puntualidad</th>\n",
              "      <th>metrics_stars</th>\n",
              "      <th>metrics_sum_puntualidad</th>\n",
              "      <th>metrics_sum_stars</th>\n",
              "    </tr>\n",
              "  </thead>\n",
              "  <tbody>\n",
              "    <tr>\n",
              "      <th>0</th>\n",
              "      <td>25.648615</td>\n",
              "      <td>-1</td>\n",
              "      <td>ALEJANDRA VILLAVERDE</td>\n",
              "      <td>27184458239</td>\n",
              "      <td>476</td>\n",
              "      <td>608363.000000</td>\n",
              "      <td>608363.0</td>\n",
              "      <td>1638.670168</td>\n",
              "      <td>126.0</td>\n",
              "      <td>39.344538</td>\n",
              "      <td>9.0</td>\n",
              "      <td>0</td>\n",
              "      <td>5</td>\n",
              "      <td>1</td>\n",
              "      <td>124</td>\n",
              "      <td>48</td>\n",
              "      <td>266</td>\n",
              "      <td>1</td>\n",
              "      <td>0</td>\n",
              "      <td>0</td>\n",
              "      <td>0.3</td>\n",
              "      <td>4.9</td>\n",
              "      <td>145.0</td>\n",
              "      <td>412.0</td>\n",
              "    </tr>\n",
              "    <tr>\n",
              "      <th>1</th>\n",
              "      <td>7.114396</td>\n",
              "      <td>-1</td>\n",
              "      <td>JULISSA ANDREINA SALTOS ARDILA</td>\n",
              "      <td>27954160756</td>\n",
              "      <td>9075</td>\n",
              "      <td>1241.568375</td>\n",
              "      <td>533.0</td>\n",
              "      <td>919.890358</td>\n",
              "      <td>143.0</td>\n",
              "      <td>110.268209</td>\n",
              "      <td>79.0</td>\n",
              "      <td>121</td>\n",
              "      <td>1275</td>\n",
              "      <td>1683</td>\n",
              "      <td>303</td>\n",
              "      <td>2142</td>\n",
              "      <td>4669</td>\n",
              "      <td>692</td>\n",
              "      <td>48</td>\n",
              "      <td>298</td>\n",
              "      <td>0.1</td>\n",
              "      <td>4.8</td>\n",
              "      <td>1584.0</td>\n",
              "      <td>9325.0</td>\n",
              "    </tr>\n",
              "    <tr>\n",
              "      <th>2</th>\n",
              "      <td>4.894520</td>\n",
              "      <td>-1</td>\n",
              "      <td>MONICA DEL CARMEN PERSAND ARCHBOLD</td>\n",
              "      <td>27946817312</td>\n",
              "      <td>1725</td>\n",
              "      <td>2609.939130</td>\n",
              "      <td>558.0</td>\n",
              "      <td>1051.779130</td>\n",
              "      <td>860.0</td>\n",
              "      <td>128.269565</td>\n",
              "      <td>130.0</td>\n",
              "      <td>19</td>\n",
              "      <td>316</td>\n",
              "      <td>242</td>\n",
              "      <td>179</td>\n",
              "      <td>29</td>\n",
              "      <td>1138</td>\n",
              "      <td>58</td>\n",
              "      <td>4</td>\n",
              "      <td>99</td>\n",
              "      <td>8.3</td>\n",
              "      <td>4.7</td>\n",
              "      <td>1282.0</td>\n",
              "      <td>2496.0</td>\n",
              "    </tr>\n",
              "    <tr>\n",
              "      <th>3</th>\n",
              "      <td>4.866491</td>\n",
              "      <td>-1</td>\n",
              "      <td>RAQUEL ABIGAIL CHILAN SANTANA</td>\n",
              "      <td>27957577194</td>\n",
              "      <td>5330</td>\n",
              "      <td>1847.493996</td>\n",
              "      <td>654.0</td>\n",
              "      <td>1797.402814</td>\n",
              "      <td>1472.5</td>\n",
              "      <td>157.683865</td>\n",
              "      <td>173.0</td>\n",
              "      <td>33</td>\n",
              "      <td>674</td>\n",
              "      <td>1599</td>\n",
              "      <td>1552</td>\n",
              "      <td>219</td>\n",
              "      <td>2440</td>\n",
              "      <td>225</td>\n",
              "      <td>33</td>\n",
              "      <td>60</td>\n",
              "      <td>7.0</td>\n",
              "      <td>4.8</td>\n",
              "      <td>4077.0</td>\n",
              "      <td>6054.0</td>\n",
              "    </tr>\n",
              "    <tr>\n",
              "      <th>4</th>\n",
              "      <td>4.188378</td>\n",
              "      <td>-1</td>\n",
              "      <td>ELENA MARIA ZEVALLOS PASTORINI</td>\n",
              "      <td>23187241774</td>\n",
              "      <td>8782</td>\n",
              "      <td>3265.447734</td>\n",
              "      <td>1057.0</td>\n",
              "      <td>1481.109428</td>\n",
              "      <td>983.0</td>\n",
              "      <td>155.770326</td>\n",
              "      <td>159.0</td>\n",
              "      <td>574</td>\n",
              "      <td>2496</td>\n",
              "      <td>3295</td>\n",
              "      <td>500</td>\n",
              "      <td>65</td>\n",
              "      <td>5488</td>\n",
              "      <td>351</td>\n",
              "      <td>35</td>\n",
              "      <td>205</td>\n",
              "      <td>0.1</td>\n",
              "      <td>4.7</td>\n",
              "      <td>1083.0</td>\n",
              "      <td>16265.0</td>\n",
              "    </tr>\n",
              "    <tr>\n",
              "      <th>5</th>\n",
              "      <td>3.440729</td>\n",
              "      <td>-1</td>\n",
              "      <td>NOELIA SOLEDAD GESUALDI</td>\n",
              "      <td>27307001824</td>\n",
              "      <td>7587</td>\n",
              "      <td>2536.991960</td>\n",
              "      <td>799.0</td>\n",
              "      <td>1191.072229</td>\n",
              "      <td>750.0</td>\n",
              "      <td>27.893634</td>\n",
              "      <td>0.0</td>\n",
              "      <td>39</td>\n",
              "      <td>831</td>\n",
              "      <td>1421</td>\n",
              "      <td>1332</td>\n",
              "      <td>90</td>\n",
              "      <td>2989</td>\n",
              "      <td>1916</td>\n",
              "      <td>39</td>\n",
              "      <td>288</td>\n",
              "      <td>0.5</td>\n",
              "      <td>4.9</td>\n",
              "      <td>5050.0</td>\n",
              "      <td>16630.0</td>\n",
              "    </tr>\n",
              "    <tr>\n",
              "      <th>6</th>\n",
              "      <td>2.797624</td>\n",
              "      <td>-1</td>\n",
              "      <td>LELLY VANESSA DUEÑAS BRAVO</td>\n",
              "      <td>27955020974</td>\n",
              "      <td>14980</td>\n",
              "      <td>1011.204139</td>\n",
              "      <td>512.0</td>\n",
              "      <td>728.839386</td>\n",
              "      <td>648.5</td>\n",
              "      <td>117.104740</td>\n",
              "      <td>109.0</td>\n",
              "      <td>169</td>\n",
              "      <td>2640</td>\n",
              "      <td>4705</td>\n",
              "      <td>630</td>\n",
              "      <td>62</td>\n",
              "      <td>9055</td>\n",
              "      <td>2157</td>\n",
              "      <td>187</td>\n",
              "      <td>363</td>\n",
              "      <td>1.3</td>\n",
              "      <td>4.7</td>\n",
              "      <td>2887.0</td>\n",
              "      <td>27491.0</td>\n",
              "    </tr>\n",
              "    <tr>\n",
              "      <th>7</th>\n",
              "      <td>2.204873</td>\n",
              "      <td>-1</td>\n",
              "      <td>WALTER ADRIAN ASSEL</td>\n",
              "      <td>20345174762</td>\n",
              "      <td>10520</td>\n",
              "      <td>22277.156669</td>\n",
              "      <td>875.0</td>\n",
              "      <td>1168.623479</td>\n",
              "      <td>927.0</td>\n",
              "      <td>34.432985</td>\n",
              "      <td>0.0</td>\n",
              "      <td>103</td>\n",
              "      <td>974</td>\n",
              "      <td>3200</td>\n",
              "      <td>1033</td>\n",
              "      <td>76</td>\n",
              "      <td>5893</td>\n",
              "      <td>478</td>\n",
              "      <td>140</td>\n",
              "      <td>1357</td>\n",
              "      <td>0.1</td>\n",
              "      <td>4.8</td>\n",
              "      <td>963.0</td>\n",
              "      <td>18554.0</td>\n",
              "    </tr>\n",
              "    <tr>\n",
              "      <th>8</th>\n",
              "      <td>2.178699</td>\n",
              "      <td>-1</td>\n",
              "      <td>ANDRES ERNESTO LOOR TITUANA</td>\n",
              "      <td>20950663198</td>\n",
              "      <td>8543</td>\n",
              "      <td>4888.174315</td>\n",
              "      <td>621.0</td>\n",
              "      <td>40.097741</td>\n",
              "      <td>0.0</td>\n",
              "      <td>181.722229</td>\n",
              "      <td>191.0</td>\n",
              "      <td>79</td>\n",
              "      <td>738</td>\n",
              "      <td>3943</td>\n",
              "      <td>40</td>\n",
              "      <td>19</td>\n",
              "      <td>5020</td>\n",
              "      <td>894</td>\n",
              "      <td>14</td>\n",
              "      <td>506</td>\n",
              "      <td>0.3</td>\n",
              "      <td>3.9</td>\n",
              "      <td>3367.0</td>\n",
              "      <td>3263.0</td>\n",
              "    </tr>\n",
              "    <tr>\n",
              "      <th>9</th>\n",
              "      <td>1.784554</td>\n",
              "      <td>-1</td>\n",
              "      <td>JOHANNA ANDREA ZAMBRANO MERA</td>\n",
              "      <td>27953661514</td>\n",
              "      <td>3851</td>\n",
              "      <td>2390.269540</td>\n",
              "      <td>413.0</td>\n",
              "      <td>224.019995</td>\n",
              "      <td>0.0</td>\n",
              "      <td>164.481433</td>\n",
              "      <td>177.0</td>\n",
              "      <td>7</td>\n",
              "      <td>194</td>\n",
              "      <td>1980</td>\n",
              "      <td>65</td>\n",
              "      <td>42</td>\n",
              "      <td>2614</td>\n",
              "      <td>228</td>\n",
              "      <td>8</td>\n",
              "      <td>191</td>\n",
              "      <td>0.2</td>\n",
              "      <td>3.4</td>\n",
              "      <td>975.0</td>\n",
              "      <td>971.0</td>\n",
              "    </tr>\n",
              "    <tr>\n",
              "      <th>10</th>\n",
              "      <td>1.509397</td>\n",
              "      <td>-1</td>\n",
              "      <td>MARILIA PAOLA ROYERO ROYERO</td>\n",
              "      <td>27958939960</td>\n",
              "      <td>46</td>\n",
              "      <td>5893.521739</td>\n",
              "      <td>1053.5</td>\n",
              "      <td>2360.239130</td>\n",
              "      <td>2171.0</td>\n",
              "      <td>208.043478</td>\n",
              "      <td>216.0</td>\n",
              "      <td>2</td>\n",
              "      <td>11</td>\n",
              "      <td>14</td>\n",
              "      <td>5</td>\n",
              "      <td>2</td>\n",
              "      <td>29</td>\n",
              "      <td>2</td>\n",
              "      <td>0</td>\n",
              "      <td>0</td>\n",
              "      <td>0.7</td>\n",
              "      <td>3.5</td>\n",
              "      <td>29.0</td>\n",
              "      <td>21.0</td>\n",
              "    </tr>\n",
              "    <tr>\n",
              "      <th>11</th>\n",
              "      <td>1.418669</td>\n",
              "      <td>-1</td>\n",
              "      <td>DIANA CAROLINA MORON ALSINA</td>\n",
              "      <td>27955467154</td>\n",
              "      <td>8422</td>\n",
              "      <td>1189.135241</td>\n",
              "      <td>543.0</td>\n",
              "      <td>1223.662076</td>\n",
              "      <td>382.5</td>\n",
              "      <td>252.849442</td>\n",
              "      <td>226.0</td>\n",
              "      <td>128</td>\n",
              "      <td>1734</td>\n",
              "      <td>2540</td>\n",
              "      <td>995</td>\n",
              "      <td>924</td>\n",
              "      <td>4095</td>\n",
              "      <td>462</td>\n",
              "      <td>77</td>\n",
              "      <td>273</td>\n",
              "      <td>0.1</td>\n",
              "      <td>4.8</td>\n",
              "      <td>606.0</td>\n",
              "      <td>8618.0</td>\n",
              "    </tr>\n",
              "    <tr>\n",
              "      <th>12</th>\n",
              "      <td>1.282178</td>\n",
              "      <td>-1</td>\n",
              "      <td>CRISTIANY SABRINY GOMES BORGES</td>\n",
              "      <td>27946998074</td>\n",
              "      <td>7153</td>\n",
              "      <td>1529.284077</td>\n",
              "      <td>715.0</td>\n",
              "      <td>1811.553334</td>\n",
              "      <td>1277.0</td>\n",
              "      <td>139.784706</td>\n",
              "      <td>149.0</td>\n",
              "      <td>78</td>\n",
              "      <td>1127</td>\n",
              "      <td>1846</td>\n",
              "      <td>913</td>\n",
              "      <td>508</td>\n",
              "      <td>3366</td>\n",
              "      <td>671</td>\n",
              "      <td>209</td>\n",
              "      <td>314</td>\n",
              "      <td>0.4</td>\n",
              "      <td>4.9</td>\n",
              "      <td>3360.0</td>\n",
              "      <td>10276.0</td>\n",
              "    </tr>\n",
              "    <tr>\n",
              "      <th>13</th>\n",
              "      <td>1.221268</td>\n",
              "      <td>-1</td>\n",
              "      <td>IVONNE ELIANA MICOLTA TRIANA</td>\n",
              "      <td>27959114795</td>\n",
              "      <td>1749</td>\n",
              "      <td>1450.100629</td>\n",
              "      <td>398.0</td>\n",
              "      <td>901.177816</td>\n",
              "      <td>710.0</td>\n",
              "      <td>230.914808</td>\n",
              "      <td>146.0</td>\n",
              "      <td>16</td>\n",
              "      <td>198</td>\n",
              "      <td>935</td>\n",
              "      <td>43</td>\n",
              "      <td>10</td>\n",
              "      <td>1272</td>\n",
              "      <td>69</td>\n",
              "      <td>160</td>\n",
              "      <td>1</td>\n",
              "      <td>0.3</td>\n",
              "      <td>4.2</td>\n",
              "      <td>774.0</td>\n",
              "      <td>798.0</td>\n",
              "    </tr>\n",
              "    <tr>\n",
              "      <th>14</th>\n",
              "      <td>1.156167</td>\n",
              "      <td>-1</td>\n",
              "      <td>GONZALO MEDINACELLI SERRUDO</td>\n",
              "      <td>20944389408</td>\n",
              "      <td>7133</td>\n",
              "      <td>984.932137</td>\n",
              "      <td>614.0</td>\n",
              "      <td>671.416094</td>\n",
              "      <td>478.0</td>\n",
              "      <td>60.104024</td>\n",
              "      <td>56.0</td>\n",
              "      <td>82</td>\n",
              "      <td>1214</td>\n",
              "      <td>1969</td>\n",
              "      <td>2029</td>\n",
              "      <td>132</td>\n",
              "      <td>3588</td>\n",
              "      <td>103</td>\n",
              "      <td>6</td>\n",
              "      <td>367</td>\n",
              "      <td>0.1</td>\n",
              "      <td>4.8</td>\n",
              "      <td>939.0</td>\n",
              "      <td>11571.0</td>\n",
              "    </tr>\n",
              "  </tbody>\n",
              "</table>\n",
              "</div>"
            ],
            "text/plain": [
              "        score  cluster  ... metrics_sum_puntualidad metrics_sum_stars\n",
              "0   25.648615       -1  ...                   145.0             412.0\n",
              "1    7.114396       -1  ...                  1584.0            9325.0\n",
              "2    4.894520       -1  ...                  1282.0            2496.0\n",
              "3    4.866491       -1  ...                  4077.0            6054.0\n",
              "4    4.188378       -1  ...                  1083.0           16265.0\n",
              "5    3.440729       -1  ...                  5050.0           16630.0\n",
              "6    2.797624       -1  ...                  2887.0           27491.0\n",
              "7    2.204873       -1  ...                   963.0           18554.0\n",
              "8    2.178699       -1  ...                  3367.0            3263.0\n",
              "9    1.784554       -1  ...                   975.0             971.0\n",
              "10   1.509397       -1  ...                    29.0              21.0\n",
              "11   1.418669       -1  ...                   606.0            8618.0\n",
              "12   1.282178       -1  ...                  3360.0           10276.0\n",
              "13   1.221268       -1  ...                   774.0             798.0\n",
              "14   1.156167       -1  ...                   939.0           11571.0\n",
              "\n",
              "[15 rows x 24 columns]"
            ]
          },
          "metadata": {
            "tags": []
          },
          "execution_count": 100
        }
      ]
    },
    {
      "cell_type": "code",
      "metadata": {
        "id": "Vk5xi5EuvXxe"
      },
      "source": [
        ""
      ],
      "execution_count": null,
      "outputs": []
    }
  ]
}