{
  "nbformat": 4,
  "nbformat_minor": 0,
  "metadata": {
    "colab": {
      "name": "Copia de Antecedentes_17_mayo.ipynb",
      "provenance": [],
      "collapsed_sections": [],
      "include_colab_link": true
    },
    "kernelspec": {
      "name": "python3",
      "display_name": "Python 3"
    },
    "accelerator": "GPU"
  },
  "cells": [
    {
      "cell_type": "markdown",
      "metadata": {
        "id": "view-in-github",
        "colab_type": "text"
      },
      "source": [
        "<a href=\"https://colab.research.google.com/github/daquarti/AI/blob/main/Bidireccional_LSTM_medical_history.ipynb\" target=\"_parent\"><img src=\"https://colab.research.google.com/assets/colab-badge.svg\" alt=\"Open In Colab\"/></a>"
      ]
    },
    {
      "cell_type": "code",
      "metadata": {
        "id": "YbmKHgxTCtL1",
        "colab": {
          "base_uri": "https://localhost:8080/",
          "height": 122
        },
        "outputId": "1f3bdc53-ea76-4a3e-8561-7ac494424d41"
      },
      "source": [
        "from google.colab import drive\n",
        "drive.mount('/content/drive')\n",
        "import sys\n",
        "sys.path.append('/content/drive/My Drive/NLP/antecedentes')"
      ],
      "execution_count": null,
      "outputs": [
        {
          "output_type": "stream",
          "text": [
            "Go to this URL in a browser: https://accounts.google.com/o/oauth2/auth?client_id=947318989803-6bn6qk8qdgf4n4g3pfee6491hc0brc4i.apps.googleusercontent.com&redirect_uri=urn%3aietf%3awg%3aoauth%3a2.0%3aoob&response_type=code&scope=email%20https%3a%2f%2fwww.googleapis.com%2fauth%2fdocs.test%20https%3a%2f%2fwww.googleapis.com%2fauth%2fdrive%20https%3a%2f%2fwww.googleapis.com%2fauth%2fdrive.photos.readonly%20https%3a%2f%2fwww.googleapis.com%2fauth%2fpeopleapi.readonly\n",
            "\n",
            "Enter your authorization code:\n",
            "··········\n",
            "Mounted at /content/drive\n"
          ],
          "name": "stdout"
        }
      ]
    },
    {
      "cell_type": "code",
      "metadata": {
        "id": "3HKMAaKt0umF"
      },
      "source": [
        "import tensorflow as tf"
      ],
      "execution_count": null,
      "outputs": []
    },
    {
      "cell_type": "code",
      "metadata": {
        "id": "KMjpPVGc2bqt",
        "colab": {
          "base_uri": "https://localhost:8080/",
          "height": 34
        },
        "outputId": "f3da33cb-9af0-49a8-dd55-ea5f47d14273"
      },
      "source": [
        " print(tf.__version__) "
      ],
      "execution_count": null,
      "outputs": [
        {
          "output_type": "stream",
          "text": [
            "2.2.0\n"
          ],
          "name": "stdout"
        }
      ]
    },
    {
      "cell_type": "code",
      "metadata": {
        "id": "Zvqn3VGceLBt",
        "colab": {
          "base_uri": "https://localhost:8080/",
          "height": 34
        },
        "outputId": "e5acdab0-d597-46e7-c6fc-3557425e7f56"
      },
      "source": [
        "from google.colab import drive\n",
        "drive.mount('/content/drive')"
      ],
      "execution_count": null,
      "outputs": [
        {
          "output_type": "stream",
          "text": [
            "Drive already mounted at /content/drive; to attempt to forcibly remount, call drive.mount(\"/content/drive\", force_remount=True).\n"
          ],
          "name": "stdout"
        }
      ]
    },
    {
      "cell_type": "code",
      "metadata": {
        "id": "xRnpo5epM5m_"
      },
      "source": [
        "import numpy as np\n",
        "import pandas as pd\n"
      ],
      "execution_count": null,
      "outputs": []
    },
    {
      "cell_type": "code",
      "metadata": {
        "id": "ke6dbOWd3PtY"
      },
      "source": [
        "path = '/content/drive/My Drive/NLP/'"
      ],
      "execution_count": null,
      "outputs": []
    },
    {
      "cell_type": "code",
      "metadata": {
        "id": "KB8Z2IlW2NE6"
      },
      "source": [
        "df = pd.read_csv (path + 'dataframe_antecedente_con_fake_16_4.csv')"
      ],
      "execution_count": null,
      "outputs": []
    },
    {
      "cell_type": "code",
      "metadata": {
        "id": "OKkvWfh1gcUs",
        "colab": {
          "base_uri": "https://localhost:8080/",
          "height": 34
        },
        "outputId": "7a38cd92-7b66-4173-b0c2-13c693e4050e"
      },
      "source": [
        "df.etiqueta.nunique()"
      ],
      "execution_count": null,
      "outputs": [
        {
          "output_type": "execute_result",
          "data": {
            "text/plain": [
              "67"
            ]
          },
          "metadata": {
            "tags": []
          },
          "execution_count": 25
        }
      ]
    },
    {
      "cell_type": "code",
      "metadata": {
        "id": "PXAp__eE33-y"
      },
      "source": [
        "y = pd.get_dummies(df.etiqueta, prefix='etiqueta')"
      ],
      "execution_count": null,
      "outputs": []
    },
    {
      "cell_type": "code",
      "metadata": {
        "id": "JCUzRabU4TtE"
      },
      "source": [
        "Y = y.values"
      ],
      "execution_count": null,
      "outputs": []
    },
    {
      "cell_type": "code",
      "metadata": {
        "id": "wLHmIJuikGnu"
      },
      "source": [
        "labels = y.columns"
      ],
      "execution_count": null,
      "outputs": []
    },
    {
      "cell_type": "code",
      "metadata": {
        "id": "LEBHm8tekKZS",
        "colab": {
          "base_uri": "https://localhost:8080/",
          "height": 34
        },
        "outputId": "501eac4e-1036-4086-c45f-3ec93f4b7544"
      },
      "source": [
        ""
      ],
      "execution_count": null,
      "outputs": [
        {
          "output_type": "execute_result",
          "data": {
            "text/plain": [
              "[<zip at 0x7f35b9b26e88>]"
            ]
          },
          "metadata": {
            "tags": []
          },
          "execution_count": 142
        }
      ]
    },
    {
      "cell_type": "code",
      "metadata": {
        "id": "FaAJkRNg4fEE",
        "colab": {
          "base_uri": "https://localhost:8080/",
          "height": 34
        },
        "outputId": "274fffda-89e8-4ce0-f534-578daa582d1e"
      },
      "source": [
        "Y.shape"
      ],
      "execution_count": null,
      "outputs": [
        {
          "output_type": "execute_result",
          "data": {
            "text/plain": [
              "(1390, 67)"
            ]
          },
          "metadata": {
            "tags": []
          },
          "execution_count": 29
        }
      ]
    },
    {
      "cell_type": "code",
      "metadata": {
        "id": "8c16elvE4-na",
        "colab": {
          "base_uri": "https://localhost:8080/",
          "height": 34
        },
        "outputId": "ca224973-45e8-40e6-81af-88ae502e103d"
      },
      "source": [
        "df.columns"
      ],
      "execution_count": null,
      "outputs": [
        {
          "output_type": "execute_result",
          "data": {
            "text/plain": [
              "Index(['frase', 'etiqueta'], dtype='object')"
            ]
          },
          "metadata": {
            "tags": []
          },
          "execution_count": 30
        }
      ]
    },
    {
      "cell_type": "code",
      "metadata": {
        "id": "Ko_DItft46GV"
      },
      "source": [
        "X = df.frase"
      ],
      "execution_count": null,
      "outputs": []
    },
    {
      "cell_type": "code",
      "metadata": {
        "id": "Ujx45ZBXHwwn",
        "colab": {
          "base_uri": "https://localhost:8080/",
          "height": 34
        },
        "outputId": "a591f64b-50d6-4e82-c687-72e46fd902ee"
      },
      "source": [
        "X[0]"
      ],
      "execution_count": null,
      "outputs": [
        {
          "output_type": "execute_result",
          "data": {
            "text/plain": [
              "'paciente con antecedentes de DLP'"
            ]
          },
          "metadata": {
            "tags": []
          },
          "execution_count": 32
        }
      ]
    },
    {
      "cell_type": "code",
      "metadata": {
        "id": "aNVWKFwQs_xd"
      },
      "source": [
        "max_words = 10\n",
        "max_len = 100\n",
        "embedding_dim = 20"
      ],
      "execution_count": null,
      "outputs": []
    },
    {
      "cell_type": "code",
      "metadata": {
        "id": "5eg8KXE2GqpN"
      },
      "source": [
        "X_train_str = X"
      ],
      "execution_count": null,
      "outputs": []
    },
    {
      "cell_type": "code",
      "metadata": {
        "id": "1s63DC6vtGGb"
      },
      "source": [
        "tokenizer = tf.keras.preprocessing.text.Tokenizer(lower=True)\n",
        "tokenizer.fit_on_texts(X_train_str)\n",
        "X_train_tokenizer = tokenizer.texts_to_sequences(X_train_str)\n",
        "X_train_padding = tf.keras.preprocessing.sequence.pad_sequences(X_train_tokenizer, maxlen=max_len)"
      ],
      "execution_count": null,
      "outputs": []
    },
    {
      "cell_type": "code",
      "metadata": {
        "id": "Loi_rGghHGSS",
        "colab": {
          "base_uri": "https://localhost:8080/",
          "height": 34
        },
        "outputId": "e602692b-ab92-492c-e71e-23c178150d90"
      },
      "source": [
        "X[1] "
      ],
      "execution_count": null,
      "outputs": [
        {
          "output_type": "execute_result",
          "data": {
            "text/plain": [
              "'DLP'"
            ]
          },
          "metadata": {
            "tags": []
          },
          "execution_count": 50
        }
      ]
    },
    {
      "cell_type": "code",
      "metadata": {
        "id": "ElcjWGOoHPqj",
        "colab": {
          "base_uri": "https://localhost:8080/",
          "height": 34
        },
        "outputId": "0cf2da18-a355-4702-e6be-905cb1904901"
      },
      "source": [
        "X_train_tokenizer[1]"
      ],
      "execution_count": null,
      "outputs": [
        {
          "output_type": "execute_result",
          "data": {
            "text/plain": [
              "[365]"
            ]
          },
          "metadata": {
            "tags": []
          },
          "execution_count": 51
        }
      ]
    },
    {
      "cell_type": "code",
      "metadata": {
        "id": "uyj-u4WSEBFC",
        "colab": {
          "base_uri": "https://localhost:8080/",
          "height": 153
        },
        "outputId": "ce9dae84-f46c-400c-f0d4-61c1facc3b58"
      },
      "source": [
        "X_train_padding[1]"
      ],
      "execution_count": null,
      "outputs": [
        {
          "output_type": "execute_result",
          "data": {
            "text/plain": [
              "array([  0,   0,   0,   0,   0,   0,   0,   0,   0,   0,   0,   0,   0,\n",
              "         0,   0,   0,   0,   0,   0,   0,   0,   0,   0,   0,   0,   0,\n",
              "         0,   0,   0,   0,   0,   0,   0,   0,   0,   0,   0,   0,   0,\n",
              "         0,   0,   0,   0,   0,   0,   0,   0,   0,   0,   0,   0,   0,\n",
              "         0,   0,   0,   0,   0,   0,   0,   0,   0,   0,   0,   0,   0,\n",
              "         0,   0,   0,   0,   0,   0,   0,   0,   0,   0,   0,   0,   0,\n",
              "         0,   0,   0,   0,   0,   0,   0,   0,   0,   0,   0,   0,   0,\n",
              "         0,   0,   0,   0,   0,   0,   0,   0, 365], dtype=int32)"
            ]
          },
          "metadata": {
            "tags": []
          },
          "execution_count": 52
        }
      ]
    },
    {
      "cell_type": "code",
      "metadata": {
        "id": "WOwv4JKkfufZ"
      },
      "source": [
        "import numpy as np"
      ],
      "execution_count": null,
      "outputs": []
    },
    {
      "cell_type": "code",
      "metadata": {
        "id": "Lj6d7_katZVz"
      },
      "source": [
        "#Test Glove, ...\n",
        "embeddings_index = {}\n",
        "f = open('/content/drive/My Drive/NLP/antecedentes/models/myModel.txt', 'r', encoding='utf-8')\n",
        "for line in f:\n",
        "    values = line.split()\n",
        "    word = values[0]\n",
        "    coefs = np.asarray(values[1:], dtype='float32')\n",
        "    embeddings_index[word] = coefs\n",
        "f.close()"
      ],
      "execution_count": null,
      "outputs": []
    },
    {
      "cell_type": "code",
      "metadata": {
        "id": "uJDq7MEyT6f2",
        "colab": {
          "base_uri": "https://localhost:8080/",
          "height": 102
        },
        "outputId": "d455f361-2bba-4f9c-e7d2-b4dd73702dc4"
      },
      "source": [
        "embeddings_index['hipertenso']"
      ],
      "execution_count": null,
      "outputs": [
        {
          "output_type": "execute_result",
          "data": {
            "text/plain": [
              "array([ 0.7870297 , -0.10730695, -0.05153625, -0.6942336 , -0.03404878,\n",
              "        0.14566395, -1.2079111 , -0.2572584 ,  0.28956375,  0.48448113,\n",
              "        0.24335562, -0.47889775,  0.14352533, -0.55999714, -0.6780637 ,\n",
              "        0.35730138,  0.98991364, -0.1994929 , -0.29496998,  0.28248915],\n",
              "      dtype=float32)"
            ]
          },
          "metadata": {
            "tags": []
          },
          "execution_count": 55
        }
      ]
    },
    {
      "cell_type": "code",
      "metadata": {
        "id": "AorXs16IAVim",
        "colab": {
          "base_uri": "https://localhost:8080/",
          "height": 102
        },
        "outputId": "e21c3cf6-2c74-4752-fbec-01146c82f3c6"
      },
      "source": [
        "\n",
        "embeddings_index.get (\"domicilio\")"
      ],
      "execution_count": null,
      "outputs": [
        {
          "output_type": "execute_result",
          "data": {
            "text/plain": [
              "array([-0.0611829 ,  0.24114676,  0.6524052 , -0.883787  , -0.05411399,\n",
              "        0.9299469 ,  0.03504966,  0.07336997, -0.2669357 ,  0.30790618,\n",
              "       -0.8039609 , -0.18684183,  0.11913169, -1.103894  ,  0.01974086,\n",
              "        0.16738011, -0.6943712 ,  0.44728225, -0.15371116,  0.6344526 ],\n",
              "      dtype=float32)"
            ]
          },
          "metadata": {
            "tags": []
          },
          "execution_count": 56
        }
      ]
    },
    {
      "cell_type": "code",
      "metadata": {
        "id": "TZ-AGAxStb3s"
      },
      "source": [
        "word_index = tokenizer.word_index\n",
        "num_words = max(max_words, len(word_index) + 1)\n",
        "embedding_matrix = np.zeros((num_words, embedding_dim), dtype='float32')\n",
        "for word, i in word_index.items():\n",
        "    if i >= max_words:\n",
        "        continue\n",
        "    embedding_vector = embeddings_index.get(word)\n",
        "    if embedding_vector is not None:\n",
        "        embedding_matrix[i] = embedding_vector\n",
        "    else:\n",
        "      print (word)"
      ],
      "execution_count": null,
      "outputs": []
    },
    {
      "cell_type": "code",
      "metadata": {
        "id": "vNtn8pnofAN1",
        "colab": {
          "base_uri": "https://localhost:8080/",
          "height": 102
        },
        "outputId": "36289025-1403-4618-f91b-5589b85d6d07"
      },
      "source": [
        "embedding_matrix[1]"
      ],
      "execution_count": null,
      "outputs": [
        {
          "output_type": "execute_result",
          "data": {
            "text/plain": [
              "array([ 0.46234336,  0.26877093,  0.28479466, -0.75451916, -0.75162154,\n",
              "       -0.08058153, -0.40510598,  0.11838973, -1.0390542 , -0.42800787,\n",
              "        0.14885536, -0.17817041,  0.12438817, -0.6117846 ,  0.16640706,\n",
              "       -0.13367772,  0.5405224 , -0.03378943,  0.18248585,  1.1382024 ],\n",
              "      dtype=float32)"
            ]
          },
          "metadata": {
            "tags": []
          },
          "execution_count": 58
        }
      ]
    },
    {
      "cell_type": "code",
      "metadata": {
        "id": "rz3Z_mDta1y3",
        "colab": {
          "base_uri": "https://localhost:8080/",
          "height": 34
        },
        "outputId": "b74af6d9-0ff3-46c0-b5c4-f990a8410490"
      },
      "source": [
        "for key, v in word_index.items():    \n",
        "    if v == 200:\n",
        "        print(key)"
      ],
      "execution_count": null,
      "outputs": [
        {
          "output_type": "stream",
          "text": [
            "angina\n"
          ],
          "name": "stdout"
        }
      ]
    },
    {
      "cell_type": "code",
      "metadata": {
        "id": "Ixc8TA_MX5ly",
        "colab": {
          "base_uri": "https://localhost:8080/",
          "height": 34
        },
        "outputId": "764850d7-76c3-4e8d-a5aa-9f000007c011"
      },
      "source": [
        "len(word_index.items())"
      ],
      "execution_count": null,
      "outputs": [
        {
          "output_type": "execute_result",
          "data": {
            "text/plain": [
              "1142"
            ]
          },
          "metadata": {
            "tags": []
          },
          "execution_count": 60
        }
      ]
    },
    {
      "cell_type": "markdown",
      "metadata": {
        "id": "01U190zlu0Z8"
      },
      "source": [
        "Read about tf.keras.layers.Embedding:\n",
        "\n",
        "https://blog.keras.io/using-pre-trained-word-embeddings-in-a-keras-model.html\n",
        "\n",
        "https://stats.stackexchange.com/questions/270546/how-does-keras-embedding-layer-work"
      ]
    },
    {
      "cell_type": "code",
      "metadata": {
        "id": "xwCG3y99te6D"
      },
      "source": [
        "input = tf.keras.layers.Input(shape=(max_len,))\n",
        "x = tf.keras.layers.Embedding(1143, embedding_dim, weights=[embedding_matrix], trainable=False)(input)"
      ],
      "execution_count": null,
      "outputs": []
    },
    {
      "cell_type": "markdown",
      "metadata": {
        "id": "s70D641W7Rna"
      },
      "source": [
        "Read about Bidirectional GRU/LSTM\n",
        "\n",
        "https://hackernoon.com/multilayer-bidirectional-lstm-gru-for-text-summarization-made-easy-tutorial-4-a63db108b44f"
      ]
    },
    {
      "cell_type": "code",
      "metadata": {
        "id": "c_cHQ94D6YKe"
      },
      "source": [
        "x = tf.keras.layers.Bidirectional(tf.keras.layers.GRU(800, return_sequences=True))(x)"
      ],
      "execution_count": null,
      "outputs": []
    },
    {
      "cell_type": "code",
      "metadata": {
        "id": "ePYlfinr7bcK"
      },
      "source": [
        "x = tf.keras.layers.Conv1D(64, kernel_size=3, padding=\"valid\", kernel_initializer=\"glorot_uniform\")(x)"
      ],
      "execution_count": null,
      "outputs": []
    },
    {
      "cell_type": "markdown",
      "metadata": {
        "id": "kwLiqo4L79CU"
      },
      "source": [
        "Archiquecture notes: \n",
        "\n",
        "https://stackoverflow.com/questions/45563438/hybrid-of-max-pooling-and-average-pooling\n",
        "\n",
        "https://books.google.fr/books?id=-F3SDwAAQBAJ&pg=PA80&lpg=PA80&dq=averagepol+%2B+maxpool+%2B+concatenate&source=bl&ots=w-7eWgfixz&sig=ACfU3U2Q6aY32vhreumAKYc5zv5FZzaOTg&hl=en&sa=X&ved=2ahUKEwiplsWprIjoAhULzoUKHVhaD2kQ6AEwAnoECAgQAQ#v=onepage&q&f=false"
      ]
    },
    {
      "cell_type": "code",
      "metadata": {
        "id": "9ywGNbQX7gBi"
      },
      "source": [
        "avg_pool = tf.keras.layers.GlobalAveragePooling1D()(x)\n",
        "max_pool = tf.keras.layers.GlobalMaxPooling1D()(x)\n",
        "x = tf.keras.layers.concatenate([avg_pool, max_pool])"
      ],
      "execution_count": null,
      "outputs": []
    },
    {
      "cell_type": "code",
      "metadata": {
        "id": "ZZk-aVqU8hwz",
        "colab": {
          "base_uri": "https://localhost:8080/",
          "height": 442
        },
        "outputId": "ea09325a-0201-4201-ec43-350ef532e2b0"
      },
      "source": [
        "preds = tf.keras.layers.Dense(67, activation=\"softmax\")(x)\n",
        "model = tf.keras.Model(input, preds)\n",
        "model.summary()"
      ],
      "execution_count": null,
      "outputs": [
        {
          "output_type": "stream",
          "text": [
            "Model: \"model\"\n",
            "__________________________________________________________________________________________________\n",
            "Layer (type)                    Output Shape         Param #     Connected to                     \n",
            "==================================================================================================\n",
            "input_1 (InputLayer)            [(None, 100)]        0                                            \n",
            "__________________________________________________________________________________________________\n",
            "embedding (Embedding)           (None, 100, 20)      22860       input_1[0][0]                    \n",
            "__________________________________________________________________________________________________\n",
            "bidirectional (Bidirectional)   (None, 100, 1600)    3945600     embedding[0][0]                  \n",
            "__________________________________________________________________________________________________\n",
            "conv1d (Conv1D)                 (None, 98, 64)       307264      bidirectional[0][0]              \n",
            "__________________________________________________________________________________________________\n",
            "global_average_pooling1d (Globa (None, 64)           0           conv1d[0][0]                     \n",
            "__________________________________________________________________________________________________\n",
            "global_max_pooling1d (GlobalMax (None, 64)           0           conv1d[0][0]                     \n",
            "__________________________________________________________________________________________________\n",
            "concatenate (Concatenate)       (None, 128)          0           global_average_pooling1d[0][0]   \n",
            "                                                                 global_max_pooling1d[0][0]       \n",
            "__________________________________________________________________________________________________\n",
            "dense (Dense)                   (None, 67)           8643        concatenate[0][0]                \n",
            "==================================================================================================\n",
            "Total params: 4,284,367\n",
            "Trainable params: 4,261,507\n",
            "Non-trainable params: 22,860\n",
            "__________________________________________________________________________________________________\n"
          ],
          "name": "stdout"
        }
      ]
    },
    {
      "cell_type": "markdown",
      "metadata": {
        "id": "PFS593Zh_ygn"
      },
      "source": [
        "Read about metrics\n",
        "\n",
        "https://stats.stackexchange.com/questions/233275/multilabel-classification-metrics-on-scikit"
      ]
    },
    {
      "cell_type": "code",
      "metadata": {
        "id": "MhQSpsdY_EYz"
      },
      "source": [
        "model.compile(loss='CategoricalCrossentropy', optimizer=tf.keras.optimizers.Adam(lr=1e-3), metrics=['accuracy'])"
      ],
      "execution_count": null,
      "outputs": []
    },
    {
      "cell_type": "code",
      "metadata": {
        "id": "YsSYfu7v_2Th",
        "colab": {
          "base_uri": "https://localhost:8080/",
          "height": 374
        },
        "outputId": "e4846183-f51c-40c5-81f8-1d437f878cb8"
      },
      "source": [
        "model.fit(X_train_padding, Y, batch_size=64,\n",
        "          epochs=10, verbose=1)"
      ],
      "execution_count": null,
      "outputs": [
        {
          "output_type": "stream",
          "text": [
            "Epoch 1/10\n",
            "22/22 [==============================] - 77s 4s/step - loss: 2.5915 - accuracy: 0.2820\n",
            "Epoch 2/10\n",
            "22/22 [==============================] - 77s 3s/step - loss: 2.5672 - accuracy: 0.2748\n",
            "Epoch 3/10\n",
            "22/22 [==============================] - 77s 3s/step - loss: 2.5707 - accuracy: 0.2777\n",
            "Epoch 4/10\n",
            "22/22 [==============================] - 77s 3s/step - loss: 2.5775 - accuracy: 0.2820\n",
            "Epoch 5/10\n",
            "22/22 [==============================] - 78s 4s/step - loss: 2.5744 - accuracy: 0.2763\n",
            "Epoch 6/10\n",
            "22/22 [==============================] - 78s 4s/step - loss: 2.5797 - accuracy: 0.2741\n",
            "Epoch 7/10\n",
            "22/22 [==============================] - 77s 4s/step - loss: 2.5804 - accuracy: 0.2799\n",
            "Epoch 8/10\n",
            "22/22 [==============================] - 77s 4s/step - loss: 2.5778 - accuracy: 0.2719\n",
            "Epoch 9/10\n",
            "22/22 [==============================] - 77s 4s/step - loss: 2.5724 - accuracy: 0.2763\n",
            "Epoch 10/10\n",
            "22/22 [==============================] - 77s 3s/step - loss: 2.5631 - accuracy: 0.2777\n"
          ],
          "name": "stdout"
        },
        {
          "output_type": "execute_result",
          "data": {
            "text/plain": [
              "<tensorflow.python.keras.callbacks.History at 0x7f35b9abccf8>"
            ]
          },
          "metadata": {
            "tags": []
          },
          "execution_count": 73
        }
      ]
    },
    {
      "cell_type": "code",
      "metadata": {
        "id": "K9-7z6wmtPIh",
        "colab": {
          "base_uri": "https://localhost:8080/",
          "height": 136
        },
        "outputId": "de421cc3-f353-4d21-947b-7fdb49b5d9a0"
      },
      "source": [
        "X_train[1]"
      ],
      "execution_count": null,
      "outputs": [
        {
          "output_type": "execute_result",
          "data": {
            "text/plain": [
              "array([15,  1,  9, 58, 49,  0,  0,  0,  0,  0,  0,  0,  0,  0,  0,  0,  0,\n",
              "        0,  0,  0,  0,  0,  0,  0,  0,  0,  0,  0,  0,  0,  0,  0,  0,  0,\n",
              "        0,  0,  0,  0,  0,  0,  0,  0,  0,  0,  0,  0,  0,  0,  0,  0,  0,\n",
              "        0,  0,  0,  0,  0,  0,  0,  0,  0,  0,  0,  0,  0,  0,  0,  0,  0,\n",
              "        0,  0,  0,  0,  0,  0,  0,  0,  0,  0,  0,  0,  0,  0,  0,  0,  0,\n",
              "        0,  0,  0,  0,  0,  0,  0,  0,  0,  0,  0,  0,  0,  0,  0],\n",
              "      dtype=int32)"
            ]
          },
          "metadata": {
            "tags": []
          },
          "execution_count": 113
        }
      ]
    },
    {
      "cell_type": "code",
      "metadata": {
        "id": "s4V1rDKktPey",
        "colab": {
          "base_uri": "https://localhost:8080/",
          "height": 34
        },
        "outputId": "59e45faf-003e-46d6-f816-11bd7463a0b7"
      },
      "source": [
        "np.expand_dims(X_train[1], 0).shape"
      ],
      "execution_count": null,
      "outputs": [
        {
          "output_type": "execute_result",
          "data": {
            "text/plain": [
              "(1, 100)"
            ]
          },
          "metadata": {
            "tags": []
          },
          "execution_count": 114
        }
      ]
    },
    {
      "cell_type": "code",
      "metadata": {
        "id": "wmvrjh3ptPmo"
      },
      "source": [
        ""
      ],
      "execution_count": null,
      "outputs": []
    },
    {
      "cell_type": "code",
      "metadata": {
        "id": "ePmm2_VsyAaq"
      },
      "source": [
        ""
      ],
      "execution_count": null,
      "outputs": []
    },
    {
      "cell_type": "code",
      "metadata": {
        "id": "To5cbXqSJr2y"
      },
      "source": [
        "tokenizer = tf.keras.preprocessing.text.Tokenizer(lower=True)\n",
        "tokenizer.fit_on_texts(X_train_str)"
      ],
      "execution_count": null,
      "outputs": []
    },
    {
      "cell_type": "code",
      "metadata": {
        "id": "vtzt-3pCzV19"
      },
      "source": [
        "X_train_test = tokenizer.texts_to_sequences(['acv'])"
      ],
      "execution_count": null,
      "outputs": []
    },
    {
      "cell_type": "code",
      "metadata": {
        "id": "cao5QlbFhEWk",
        "colab": {
          "base_uri": "https://localhost:8080/",
          "height": 34
        },
        "outputId": "30066357-df73-4653-ec2a-739b007607e3"
      },
      "source": [
        "X_train_test"
      ],
      "execution_count": null,
      "outputs": [
        {
          "output_type": "execute_result",
          "data": {
            "text/plain": [
              "[[155]]"
            ]
          },
          "metadata": {
            "tags": []
          },
          "execution_count": 148
        }
      ]
    },
    {
      "cell_type": "code",
      "metadata": {
        "id": "pAQGAaMNhSXt"
      },
      "source": [
        "X_train_padding_test = tf.keras.preprocessing.sequence.pad_sequences(X_train_test, maxlen=max_len)"
      ],
      "execution_count": null,
      "outputs": []
    },
    {
      "cell_type": "code",
      "metadata": {
        "id": "jmgusqabe2HQ"
      },
      "source": [
        "predictions = model.predict(X_train_padding_test)"
      ],
      "execution_count": null,
      "outputs": []
    },
    {
      "cell_type": "code",
      "metadata": {
        "id": "N3Cn6tz8h9zT"
      },
      "source": [
        "resultado = predictions[0]"
      ],
      "execution_count": null,
      "outputs": []
    },
    {
      "cell_type": "code",
      "metadata": {
        "id": "xISd0vB7itJG"
      },
      "source": [
        "labela = y.columns"
      ],
      "execution_count": null,
      "outputs": []
    },
    {
      "cell_type": "code",
      "metadata": {
        "id": "bYRnI4dTkU5E"
      },
      "source": [
        ""
      ],
      "execution_count": null,
      "outputs": []
    },
    {
      "cell_type": "code",
      "metadata": {
        "id": "D_VckYpMHwiN"
      },
      "source": [
        "fusion = zip(labela, resultado)\n",
        "dictionary = dict(fusion)"
      ],
      "execution_count": null,
      "outputs": []
    },
    {
      "cell_type": "code",
      "metadata": {
        "id": "JXP9Mav4E_k4",
        "colab": {
          "base_uri": "https://localhost:8080/",
          "height": 1000
        },
        "outputId": "47bb476e-3d0e-4569-e133-0f972df988a8"
      },
      "source": [
        "dictionary"
      ],
      "execution_count": null,
      "outputs": [
        {
          "output_type": "execute_result",
          "data": {
            "text/plain": [
              "{'etiqueta_ACV': 0.012588305,\n",
              " 'etiqueta_AIT': 0.012132571,\n",
              " 'etiqueta_ATC con stent': 0.027682118,\n",
              " 'etiqueta_Alergia': 0.025285495,\n",
              " 'etiqueta_Asma': 0.012379086,\n",
              " 'etiqueta_CA mama': 0.00650299,\n",
              " 'etiqueta_CRM': 0.011581504,\n",
              " 'etiqueta_Celiaquía': 0.01607277,\n",
              " 'etiqueta_Chagas': 0.009397269,\n",
              " 'etiqueta_Colon irritable': 0.008058524,\n",
              " 'etiqueta_Convulsiones-epilepsia': 0.03487521,\n",
              " 'etiqueta_DBT': 0.019857822,\n",
              " 'etiqueta_DLP': 0.020352716,\n",
              " 'etiqueta_Demencia': 0.006157337,\n",
              " 'etiqueta_Divertículos': 0.009106306,\n",
              " 'etiqueta_Diálisis': 0.008672727,\n",
              " 'etiqueta_EPOC': 0.0059596226,\n",
              " 'etiqueta_Gastritis': 0.0141546745,\n",
              " 'etiqueta_HIV': 0.008881322,\n",
              " 'etiqueta_HTA': 0.014201869,\n",
              " 'etiqueta_Hepatitis': 0.017746547,\n",
              " 'etiqueta_IAM': 0.019816913,\n",
              " 'etiqueta_ICC': 0.018288577,\n",
              " 'etiqueta_IRC': 0.027862862,\n",
              " 'etiqueta_Litiasis vesicular': 0.006817354,\n",
              " 'etiqueta_Meningitis': 0.028517507,\n",
              " 'etiqueta_Neumonía': 0.015735164,\n",
              " 'etiqueta_Obesidad': 0.018124985,\n",
              " 'etiqueta_Pacientes con trasplante de riñón': 0.006842305,\n",
              " 'etiqueta_Parkinson': 0.0045648026,\n",
              " 'etiqueta_RGE': 0.016342444,\n",
              " 'etiqueta_TBC': 0.010723901,\n",
              " 'etiqueta_TBQ': 0.039421152,\n",
              " 'etiqueta_Vitamina D baja': 0.009581285,\n",
              " 'etiqueta_alteraciones del flujo vaginal': 0.03273762,\n",
              " 'etiqueta_alteraciones menstruales': 0.014313174,\n",
              " 'etiqueta_anemia': 0.0127030825,\n",
              " 'etiqueta_anticoagulado': 0.01926852,\n",
              " 'etiqueta_apendicectomía': 0.012568029,\n",
              " 'etiqueta_arritmia': 0.0533651,\n",
              " 'etiqueta_artrosis': 0.01635482,\n",
              " 'etiqueta_cataratas': 0.0054605403,\n",
              " 'etiqueta_colecistectomía': 0.011377281,\n",
              " 'etiqueta_crisis de ansiedad-ataque de pánico': 0.0030264412,\n",
              " 'etiqueta_cólico renal': 0.015603554,\n",
              " 'etiqueta_dengue': 0.0078345435,\n",
              " 'etiqueta_depresión': 0.015898045,\n",
              " 'etiqueta_dermatitis seborreica': 0.008283339,\n",
              " 'etiqueta_enfermedad coronaria': 0.020476744,\n",
              " 'etiqueta_esquizofrenia': 0.009998219,\n",
              " 'etiqueta_glaucoma': 0.00356584,\n",
              " 'etiqueta_hipertiroidismo': 0.012824316,\n",
              " 'etiqueta_hipotiroidismo': 0.027249787,\n",
              " 'etiqueta_incontinencia urinaria': 0.013471223,\n",
              " 'etiqueta_leucemia/linfoma': 0.022290587,\n",
              " 'etiqueta_lipotimia': 0.01565617,\n",
              " 'etiqueta_lumbalgia': 0.009998955,\n",
              " 'etiqueta_osteoporosis': 0.0044177053,\n",
              " 'etiqueta_poliposis vesical': 0.015141003,\n",
              " 'etiqueta_prostatismo': 0.022619065,\n",
              " 'etiqueta_psoriasis': 0.0069741104,\n",
              " 'etiqueta_remplazo de cadera': 0.005595969,\n",
              " 'etiqueta_remplazo de rodilla': 0.0016451263,\n",
              " 'etiqueta_sonda vesical': 0.009726188,\n",
              " 'etiqueta_sífilis': 0.008631314,\n",
              " 'etiqueta_valvulopatía': 0.030908752,\n",
              " 'etiqueta_vitiligo': 0.0057287444}"
            ]
          },
          "metadata": {
            "tags": []
          },
          "execution_count": 160
        }
      ]
    },
    {
      "cell_type": "code",
      "metadata": {
        "id": "YzQWKLWHD0YV"
      },
      "source": [
        "dict_ordenado = sorted(dictionary.items(), key=lambda x: x[1], reverse=True)"
      ],
      "execution_count": null,
      "outputs": []
    },
    {
      "cell_type": "code",
      "metadata": {
        "id": "-rWCKpThESsa",
        "colab": {
          "base_uri": "https://localhost:8080/",
          "height": 1000
        },
        "outputId": "7919e48d-a0d4-45a1-d163-8ae3582c848b"
      },
      "source": [
        "dict_ordenado"
      ],
      "execution_count": null,
      "outputs": [
        {
          "output_type": "execute_result",
          "data": {
            "text/plain": [
              "[('etiqueta_arritmia', 0.0533651),\n",
              " ('etiqueta_TBQ', 0.039421152),\n",
              " ('etiqueta_Convulsiones-epilepsia', 0.03487521),\n",
              " ('etiqueta_alteraciones del flujo vaginal', 0.03273762),\n",
              " ('etiqueta_valvulopatía', 0.030908752),\n",
              " ('etiqueta_Meningitis', 0.028517507),\n",
              " ('etiqueta_IRC', 0.027862862),\n",
              " ('etiqueta_ATC con stent', 0.027682118),\n",
              " ('etiqueta_hipotiroidismo', 0.027249787),\n",
              " ('etiqueta_Alergia', 0.025285495),\n",
              " ('etiqueta_prostatismo', 0.022619065),\n",
              " ('etiqueta_leucemia/linfoma', 0.022290587),\n",
              " ('etiqueta_enfermedad coronaria', 0.020476744),\n",
              " ('etiqueta_DLP', 0.020352716),\n",
              " ('etiqueta_DBT', 0.019857822),\n",
              " ('etiqueta_IAM', 0.019816913),\n",
              " ('etiqueta_anticoagulado', 0.01926852),\n",
              " ('etiqueta_ICC', 0.018288577),\n",
              " ('etiqueta_Obesidad', 0.018124985),\n",
              " ('etiqueta_Hepatitis', 0.017746547),\n",
              " ('etiqueta_artrosis', 0.01635482),\n",
              " ('etiqueta_RGE', 0.016342444),\n",
              " ('etiqueta_Celiaquía', 0.01607277),\n",
              " ('etiqueta_depresión', 0.015898045),\n",
              " ('etiqueta_Neumonía', 0.015735164),\n",
              " ('etiqueta_lipotimia', 0.01565617),\n",
              " ('etiqueta_cólico renal', 0.015603554),\n",
              " ('etiqueta_poliposis vesical', 0.015141003),\n",
              " ('etiqueta_alteraciones menstruales', 0.014313174),\n",
              " ('etiqueta_HTA', 0.014201869),\n",
              " ('etiqueta_Gastritis', 0.0141546745),\n",
              " ('etiqueta_incontinencia urinaria', 0.013471223),\n",
              " ('etiqueta_hipertiroidismo', 0.012824316),\n",
              " ('etiqueta_anemia', 0.0127030825),\n",
              " ('etiqueta_ACV', 0.012588305),\n",
              " ('etiqueta_apendicectomía', 0.012568029),\n",
              " ('etiqueta_Asma', 0.012379086),\n",
              " ('etiqueta_AIT', 0.012132571),\n",
              " ('etiqueta_CRM', 0.011581504),\n",
              " ('etiqueta_colecistectomía', 0.011377281),\n",
              " ('etiqueta_TBC', 0.010723901),\n",
              " ('etiqueta_lumbalgia', 0.009998955),\n",
              " ('etiqueta_esquizofrenia', 0.009998219),\n",
              " ('etiqueta_sonda vesical', 0.009726188),\n",
              " ('etiqueta_Vitamina D baja', 0.009581285),\n",
              " ('etiqueta_Chagas', 0.009397269),\n",
              " ('etiqueta_Divertículos', 0.009106306),\n",
              " ('etiqueta_HIV', 0.008881322),\n",
              " ('etiqueta_Diálisis', 0.008672727),\n",
              " ('etiqueta_sífilis', 0.008631314),\n",
              " ('etiqueta_dermatitis seborreica', 0.008283339),\n",
              " ('etiqueta_Colon irritable', 0.008058524),\n",
              " ('etiqueta_dengue', 0.0078345435),\n",
              " ('etiqueta_psoriasis', 0.0069741104),\n",
              " ('etiqueta_Pacientes con trasplante de riñón', 0.006842305),\n",
              " ('etiqueta_Litiasis vesicular', 0.006817354),\n",
              " ('etiqueta_CA mama', 0.00650299),\n",
              " ('etiqueta_Demencia', 0.006157337),\n",
              " ('etiqueta_EPOC', 0.0059596226),\n",
              " ('etiqueta_vitiligo', 0.0057287444),\n",
              " ('etiqueta_remplazo de cadera', 0.005595969),\n",
              " ('etiqueta_cataratas', 0.0054605403),\n",
              " ('etiqueta_Parkinson', 0.0045648026),\n",
              " ('etiqueta_osteoporosis', 0.0044177053),\n",
              " ('etiqueta_glaucoma', 0.00356584),\n",
              " ('etiqueta_crisis de ansiedad-ataque de pánico', 0.0030264412),\n",
              " ('etiqueta_remplazo de rodilla', 0.0016451263)]"
            ]
          },
          "metadata": {
            "tags": []
          },
          "execution_count": 162
        }
      ]
    },
    {
      "cell_type": "markdown",
      "metadata": {
        "id": "g9gE4PWJBZhr"
      },
      "source": [
        "TODO ver1\n",
        "\n",
        "1.Dataset split into train/test\n",
        "\n",
        "2.Little play tuning (batch_size, epochs,..)\n",
        "\n",
        "3.Try another metrics\n",
        "\n",
        "\n",
        "\n"
      ]
    },
    {
      "cell_type": "code",
      "metadata": {
        "id": "TDM0EOS_F2U1"
      },
      "source": [
        "labels = y.columns.to_list()"
      ],
      "execution_count": null,
      "outputs": []
    },
    {
      "cell_type": "code",
      "metadata": {
        "id": "sjMCay_EwCc3"
      },
      "source": [
        "def predict (frase):\n",
        "  frase = [frase]\n",
        "  frase_tokenizer = tokenizer.texts_to_sequences(frase)\n",
        "  X_frase_padding = tf.keras.preprocessing.sequence.pad_sequences(frase_tokenizer, maxlen=max_len)\n",
        "  predictions = model.predict(X_frase_padding)\n",
        "  pred = predictions.tolist()\n",
        "  pred = pred[0]\n",
        "  dic = dict(zip(labels, pred))\n",
        "  sorted(dic.items(), key=lambda x: x[1], reverse=True)\n",
        "  for key, proba in dic.items(): \n",
        "    if proba >0.30:\n",
        "        print(key)\n"
      ],
      "execution_count": null,
      "outputs": []
    },
    {
      "cell_type": "code",
      "metadata": {
        "id": "zNZHVzvOEznL",
        "colab": {
          "base_uri": "https://localhost:8080/",
          "height": 34
        },
        "outputId": "56ad0c21-8b08-4604-8efa-8cc804b38e31"
      },
      "source": [
        "print (predict ('paciente hipertenso'))"
      ],
      "execution_count": null,
      "outputs": [
        {
          "output_type": "stream",
          "text": [
            "None\n"
          ],
          "name": "stdout"
        }
      ]
    },
    {
      "cell_type": "code",
      "metadata": {
        "id": "jBqNpGYlE45M"
      },
      "source": [
        ""
      ],
      "execution_count": null,
      "outputs": []
    }
  ]
}