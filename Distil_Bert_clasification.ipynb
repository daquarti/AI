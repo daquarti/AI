{
  "nbformat": 4,
  "nbformat_minor": 0,
  "metadata": {
    "kernelspec": {
      "display_name": "Python 3",
      "language": "python",
      "name": "python3"
    },
    "language_info": {
      "codemirror_mode": {
        "name": "ipython",
        "version": 2
      },
      "file_extension": ".py",
      "mimetype": "text/x-python",
      "name": "python",
      "nbconvert_exporter": "python",
      "pygments_lexer": "ipython2",
      "version": "2.7.6"
    },
    "colab": {
      "name": "Copy of Distil_Bert_V1_JAVI.ipynb",
      "provenance": [],
      "collapsed_sections": [],
      "include_colab_link": true
    },
    "accelerator": "GPU",
    "widgets": {
      "application/vnd.jupyter.widget-state+json": {
        "e123f99cab96405691a16ada9a4df716": {
          "model_module": "@jupyter-widgets/controls",
          "model_name": "HBoxModel",
          "state": {
            "_view_name": "HBoxView",
            "_dom_classes": [],
            "_model_name": "HBoxModel",
            "_view_module": "@jupyter-widgets/controls",
            "_model_module_version": "1.5.0",
            "_view_count": null,
            "_view_module_version": "1.5.0",
            "box_style": "",
            "layout": "IPY_MODEL_f50730aadf28447aadd8ab66f5a29f4f",
            "_model_module": "@jupyter-widgets/controls",
            "children": [
              "IPY_MODEL_1b532264e8554d49a0a6cb85243a614d",
              "IPY_MODEL_4592bf598b2540c5bfdacf2601160b3e"
            ]
          }
        },
        "f50730aadf28447aadd8ab66f5a29f4f": {
          "model_module": "@jupyter-widgets/base",
          "model_name": "LayoutModel",
          "state": {
            "_view_name": "LayoutView",
            "grid_template_rows": null,
            "right": null,
            "justify_content": null,
            "_view_module": "@jupyter-widgets/base",
            "overflow": null,
            "_model_module_version": "1.2.0",
            "_view_count": null,
            "flex_flow": null,
            "width": null,
            "min_width": null,
            "border": null,
            "align_items": null,
            "bottom": null,
            "_model_module": "@jupyter-widgets/base",
            "top": null,
            "grid_column": null,
            "overflow_y": null,
            "overflow_x": null,
            "grid_auto_flow": null,
            "grid_area": null,
            "grid_template_columns": null,
            "flex": null,
            "_model_name": "LayoutModel",
            "justify_items": null,
            "grid_row": null,
            "max_height": null,
            "align_content": null,
            "visibility": null,
            "align_self": null,
            "height": null,
            "min_height": null,
            "padding": null,
            "grid_auto_rows": null,
            "grid_gap": null,
            "max_width": null,
            "order": null,
            "_view_module_version": "1.2.0",
            "grid_template_areas": null,
            "object_position": null,
            "object_fit": null,
            "grid_auto_columns": null,
            "margin": null,
            "display": null,
            "left": null
          }
        },
        "1b532264e8554d49a0a6cb85243a614d": {
          "model_module": "@jupyter-widgets/controls",
          "model_name": "FloatProgressModel",
          "state": {
            "_view_name": "ProgressView",
            "style": "IPY_MODEL_d7404050a1a745c6be3f0891ade25ca2",
            "_dom_classes": [],
            "description": "Downloading: 100%",
            "_model_name": "FloatProgressModel",
            "bar_style": "success",
            "max": 995526,
            "_view_module": "@jupyter-widgets/controls",
            "_model_module_version": "1.5.0",
            "value": 995526,
            "_view_count": null,
            "_view_module_version": "1.5.0",
            "orientation": "horizontal",
            "min": 0,
            "description_tooltip": null,
            "_model_module": "@jupyter-widgets/controls",
            "layout": "IPY_MODEL_796d475b485047788b66c70ea9f2c3df"
          }
        },
        "4592bf598b2540c5bfdacf2601160b3e": {
          "model_module": "@jupyter-widgets/controls",
          "model_name": "HTMLModel",
          "state": {
            "_view_name": "HTMLView",
            "style": "IPY_MODEL_f5d82c5a417e424891f4f42d6847dfa7",
            "_dom_classes": [],
            "description": "",
            "_model_name": "HTMLModel",
            "placeholder": "​",
            "_view_module": "@jupyter-widgets/controls",
            "_model_module_version": "1.5.0",
            "value": " 996k/996k [00:08&lt;00:00, 117kB/s]",
            "_view_count": null,
            "_view_module_version": "1.5.0",
            "description_tooltip": null,
            "_model_module": "@jupyter-widgets/controls",
            "layout": "IPY_MODEL_323b560081674b0fa62046c321736bc8"
          }
        },
        "d7404050a1a745c6be3f0891ade25ca2": {
          "model_module": "@jupyter-widgets/controls",
          "model_name": "ProgressStyleModel",
          "state": {
            "_view_name": "StyleView",
            "_model_name": "ProgressStyleModel",
            "description_width": "initial",
            "_view_module": "@jupyter-widgets/base",
            "_model_module_version": "1.5.0",
            "_view_count": null,
            "_view_module_version": "1.2.0",
            "bar_color": null,
            "_model_module": "@jupyter-widgets/controls"
          }
        },
        "796d475b485047788b66c70ea9f2c3df": {
          "model_module": "@jupyter-widgets/base",
          "model_name": "LayoutModel",
          "state": {
            "_view_name": "LayoutView",
            "grid_template_rows": null,
            "right": null,
            "justify_content": null,
            "_view_module": "@jupyter-widgets/base",
            "overflow": null,
            "_model_module_version": "1.2.0",
            "_view_count": null,
            "flex_flow": null,
            "width": null,
            "min_width": null,
            "border": null,
            "align_items": null,
            "bottom": null,
            "_model_module": "@jupyter-widgets/base",
            "top": null,
            "grid_column": null,
            "overflow_y": null,
            "overflow_x": null,
            "grid_auto_flow": null,
            "grid_area": null,
            "grid_template_columns": null,
            "flex": null,
            "_model_name": "LayoutModel",
            "justify_items": null,
            "grid_row": null,
            "max_height": null,
            "align_content": null,
            "visibility": null,
            "align_self": null,
            "height": null,
            "min_height": null,
            "padding": null,
            "grid_auto_rows": null,
            "grid_gap": null,
            "max_width": null,
            "order": null,
            "_view_module_version": "1.2.0",
            "grid_template_areas": null,
            "object_position": null,
            "object_fit": null,
            "grid_auto_columns": null,
            "margin": null,
            "display": null,
            "left": null
          }
        },
        "f5d82c5a417e424891f4f42d6847dfa7": {
          "model_module": "@jupyter-widgets/controls",
          "model_name": "DescriptionStyleModel",
          "state": {
            "_view_name": "StyleView",
            "_model_name": "DescriptionStyleModel",
            "description_width": "",
            "_view_module": "@jupyter-widgets/base",
            "_model_module_version": "1.5.0",
            "_view_count": null,
            "_view_module_version": "1.2.0",
            "_model_module": "@jupyter-widgets/controls"
          }
        },
        "323b560081674b0fa62046c321736bc8": {
          "model_module": "@jupyter-widgets/base",
          "model_name": "LayoutModel",
          "state": {
            "_view_name": "LayoutView",
            "grid_template_rows": null,
            "right": null,
            "justify_content": null,
            "_view_module": "@jupyter-widgets/base",
            "overflow": null,
            "_model_module_version": "1.2.0",
            "_view_count": null,
            "flex_flow": null,
            "width": null,
            "min_width": null,
            "border": null,
            "align_items": null,
            "bottom": null,
            "_model_module": "@jupyter-widgets/base",
            "top": null,
            "grid_column": null,
            "overflow_y": null,
            "overflow_x": null,
            "grid_auto_flow": null,
            "grid_area": null,
            "grid_template_columns": null,
            "flex": null,
            "_model_name": "LayoutModel",
            "justify_items": null,
            "grid_row": null,
            "max_height": null,
            "align_content": null,
            "visibility": null,
            "align_self": null,
            "height": null,
            "min_height": null,
            "padding": null,
            "grid_auto_rows": null,
            "grid_gap": null,
            "max_width": null,
            "order": null,
            "_view_module_version": "1.2.0",
            "grid_template_areas": null,
            "object_position": null,
            "object_fit": null,
            "grid_auto_columns": null,
            "margin": null,
            "display": null,
            "left": null
          }
        },
        "ed0b983f48b943349eb4f0ac55b3872f": {
          "model_module": "@jupyter-widgets/controls",
          "model_name": "HBoxModel",
          "state": {
            "_view_name": "HBoxView",
            "_dom_classes": [],
            "_model_name": "HBoxModel",
            "_view_module": "@jupyter-widgets/controls",
            "_model_module_version": "1.5.0",
            "_view_count": null,
            "_view_module_version": "1.5.0",
            "box_style": "",
            "layout": "IPY_MODEL_390a76012dc24a14b39f18c0418ee0fc",
            "_model_module": "@jupyter-widgets/controls",
            "children": [
              "IPY_MODEL_2a7169456f904f7685ecbc318bfbfd04",
              "IPY_MODEL_d018a73a01d84e46a6f91b97f129c832"
            ]
          }
        },
        "390a76012dc24a14b39f18c0418ee0fc": {
          "model_module": "@jupyter-widgets/base",
          "model_name": "LayoutModel",
          "state": {
            "_view_name": "LayoutView",
            "grid_template_rows": null,
            "right": null,
            "justify_content": null,
            "_view_module": "@jupyter-widgets/base",
            "overflow": null,
            "_model_module_version": "1.2.0",
            "_view_count": null,
            "flex_flow": null,
            "width": null,
            "min_width": null,
            "border": null,
            "align_items": null,
            "bottom": null,
            "_model_module": "@jupyter-widgets/base",
            "top": null,
            "grid_column": null,
            "overflow_y": null,
            "overflow_x": null,
            "grid_auto_flow": null,
            "grid_area": null,
            "grid_template_columns": null,
            "flex": null,
            "_model_name": "LayoutModel",
            "justify_items": null,
            "grid_row": null,
            "max_height": null,
            "align_content": null,
            "visibility": null,
            "align_self": null,
            "height": null,
            "min_height": null,
            "padding": null,
            "grid_auto_rows": null,
            "grid_gap": null,
            "max_width": null,
            "order": null,
            "_view_module_version": "1.2.0",
            "grid_template_areas": null,
            "object_position": null,
            "object_fit": null,
            "grid_auto_columns": null,
            "margin": null,
            "display": null,
            "left": null
          }
        },
        "2a7169456f904f7685ecbc318bfbfd04": {
          "model_module": "@jupyter-widgets/controls",
          "model_name": "FloatProgressModel",
          "state": {
            "_view_name": "ProgressView",
            "style": "IPY_MODEL_570ec5a7ec464e52bdadcb91ed6c5482",
            "_dom_classes": [],
            "description": "Downloading: 100%",
            "_model_name": "FloatProgressModel",
            "bar_style": "success",
            "max": 466,
            "_view_module": "@jupyter-widgets/controls",
            "_model_module_version": "1.5.0",
            "value": 466,
            "_view_count": null,
            "_view_module_version": "1.5.0",
            "orientation": "horizontal",
            "min": 0,
            "description_tooltip": null,
            "_model_module": "@jupyter-widgets/controls",
            "layout": "IPY_MODEL_fcadde2ef4364432b93256bb1f652906"
          }
        },
        "d018a73a01d84e46a6f91b97f129c832": {
          "model_module": "@jupyter-widgets/controls",
          "model_name": "HTMLModel",
          "state": {
            "_view_name": "HTMLView",
            "style": "IPY_MODEL_742d5b1eae004607aa8f6464bd2efabf",
            "_dom_classes": [],
            "description": "",
            "_model_name": "HTMLModel",
            "placeholder": "​",
            "_view_module": "@jupyter-widgets/controls",
            "_model_module_version": "1.5.0",
            "value": " 466/466 [00:17&lt;00:00, 27.4B/s]",
            "_view_count": null,
            "_view_module_version": "1.5.0",
            "description_tooltip": null,
            "_model_module": "@jupyter-widgets/controls",
            "layout": "IPY_MODEL_254db5691cce477198e9e01be2a03954"
          }
        },
        "570ec5a7ec464e52bdadcb91ed6c5482": {
          "model_module": "@jupyter-widgets/controls",
          "model_name": "ProgressStyleModel",
          "state": {
            "_view_name": "StyleView",
            "_model_name": "ProgressStyleModel",
            "description_width": "initial",
            "_view_module": "@jupyter-widgets/base",
            "_model_module_version": "1.5.0",
            "_view_count": null,
            "_view_module_version": "1.2.0",
            "bar_color": null,
            "_model_module": "@jupyter-widgets/controls"
          }
        },
        "fcadde2ef4364432b93256bb1f652906": {
          "model_module": "@jupyter-widgets/base",
          "model_name": "LayoutModel",
          "state": {
            "_view_name": "LayoutView",
            "grid_template_rows": null,
            "right": null,
            "justify_content": null,
            "_view_module": "@jupyter-widgets/base",
            "overflow": null,
            "_model_module_version": "1.2.0",
            "_view_count": null,
            "flex_flow": null,
            "width": null,
            "min_width": null,
            "border": null,
            "align_items": null,
            "bottom": null,
            "_model_module": "@jupyter-widgets/base",
            "top": null,
            "grid_column": null,
            "overflow_y": null,
            "overflow_x": null,
            "grid_auto_flow": null,
            "grid_area": null,
            "grid_template_columns": null,
            "flex": null,
            "_model_name": "LayoutModel",
            "justify_items": null,
            "grid_row": null,
            "max_height": null,
            "align_content": null,
            "visibility": null,
            "align_self": null,
            "height": null,
            "min_height": null,
            "padding": null,
            "grid_auto_rows": null,
            "grid_gap": null,
            "max_width": null,
            "order": null,
            "_view_module_version": "1.2.0",
            "grid_template_areas": null,
            "object_position": null,
            "object_fit": null,
            "grid_auto_columns": null,
            "margin": null,
            "display": null,
            "left": null
          }
        },
        "742d5b1eae004607aa8f6464bd2efabf": {
          "model_module": "@jupyter-widgets/controls",
          "model_name": "DescriptionStyleModel",
          "state": {
            "_view_name": "StyleView",
            "_model_name": "DescriptionStyleModel",
            "description_width": "",
            "_view_module": "@jupyter-widgets/base",
            "_model_module_version": "1.5.0",
            "_view_count": null,
            "_view_module_version": "1.2.0",
            "_model_module": "@jupyter-widgets/controls"
          }
        },
        "254db5691cce477198e9e01be2a03954": {
          "model_module": "@jupyter-widgets/base",
          "model_name": "LayoutModel",
          "state": {
            "_view_name": "LayoutView",
            "grid_template_rows": null,
            "right": null,
            "justify_content": null,
            "_view_module": "@jupyter-widgets/base",
            "overflow": null,
            "_model_module_version": "1.2.0",
            "_view_count": null,
            "flex_flow": null,
            "width": null,
            "min_width": null,
            "border": null,
            "align_items": null,
            "bottom": null,
            "_model_module": "@jupyter-widgets/base",
            "top": null,
            "grid_column": null,
            "overflow_y": null,
            "overflow_x": null,
            "grid_auto_flow": null,
            "grid_area": null,
            "grid_template_columns": null,
            "flex": null,
            "_model_name": "LayoutModel",
            "justify_items": null,
            "grid_row": null,
            "max_height": null,
            "align_content": null,
            "visibility": null,
            "align_self": null,
            "height": null,
            "min_height": null,
            "padding": null,
            "grid_auto_rows": null,
            "grid_gap": null,
            "max_width": null,
            "order": null,
            "_view_module_version": "1.2.0",
            "grid_template_areas": null,
            "object_position": null,
            "object_fit": null,
            "grid_auto_columns": null,
            "margin": null,
            "display": null,
            "left": null
          }
        },
        "e621d3e7659b4baa98500d114d3cfb2b": {
          "model_module": "@jupyter-widgets/controls",
          "model_name": "HBoxModel",
          "state": {
            "_view_name": "HBoxView",
            "_dom_classes": [],
            "_model_name": "HBoxModel",
            "_view_module": "@jupyter-widgets/controls",
            "_model_module_version": "1.5.0",
            "_view_count": null,
            "_view_module_version": "1.5.0",
            "box_style": "",
            "layout": "IPY_MODEL_32fe4fd361dd4f5a94232b7a275e72c8",
            "_model_module": "@jupyter-widgets/controls",
            "children": [
              "IPY_MODEL_fa9a9972baca43a4bb50ed142f26eef8",
              "IPY_MODEL_05c2839082f64768a4a70e67b2517998"
            ]
          }
        },
        "32fe4fd361dd4f5a94232b7a275e72c8": {
          "model_module": "@jupyter-widgets/base",
          "model_name": "LayoutModel",
          "state": {
            "_view_name": "LayoutView",
            "grid_template_rows": null,
            "right": null,
            "justify_content": null,
            "_view_module": "@jupyter-widgets/base",
            "overflow": null,
            "_model_module_version": "1.2.0",
            "_view_count": null,
            "flex_flow": null,
            "width": null,
            "min_width": null,
            "border": null,
            "align_items": null,
            "bottom": null,
            "_model_module": "@jupyter-widgets/base",
            "top": null,
            "grid_column": null,
            "overflow_y": null,
            "overflow_x": null,
            "grid_auto_flow": null,
            "grid_area": null,
            "grid_template_columns": null,
            "flex": null,
            "_model_name": "LayoutModel",
            "justify_items": null,
            "grid_row": null,
            "max_height": null,
            "align_content": null,
            "visibility": null,
            "align_self": null,
            "height": null,
            "min_height": null,
            "padding": null,
            "grid_auto_rows": null,
            "grid_gap": null,
            "max_width": null,
            "order": null,
            "_view_module_version": "1.2.0",
            "grid_template_areas": null,
            "object_position": null,
            "object_fit": null,
            "grid_auto_columns": null,
            "margin": null,
            "display": null,
            "left": null
          }
        },
        "fa9a9972baca43a4bb50ed142f26eef8": {
          "model_module": "@jupyter-widgets/controls",
          "model_name": "FloatProgressModel",
          "state": {
            "_view_name": "ProgressView",
            "style": "IPY_MODEL_843abcb3a4fa477e849074239dac3855",
            "_dom_classes": [],
            "description": "Downloading: 100%",
            "_model_name": "FloatProgressModel",
            "bar_style": "success",
            "max": 910749124,
            "_view_module": "@jupyter-widgets/controls",
            "_model_module_version": "1.5.0",
            "value": 910749124,
            "_view_count": null,
            "_view_module_version": "1.5.0",
            "orientation": "horizontal",
            "min": 0,
            "description_tooltip": null,
            "_model_module": "@jupyter-widgets/controls",
            "layout": "IPY_MODEL_08d1953da23c4cbebee519462a0eb633"
          }
        },
        "05c2839082f64768a4a70e67b2517998": {
          "model_module": "@jupyter-widgets/controls",
          "model_name": "HTMLModel",
          "state": {
            "_view_name": "HTMLView",
            "style": "IPY_MODEL_a0bd5acf680846ce8c2d6b8a49caac3c",
            "_dom_classes": [],
            "description": "",
            "_model_name": "HTMLModel",
            "placeholder": "​",
            "_view_module": "@jupyter-widgets/controls",
            "_model_module_version": "1.5.0",
            "value": " 911M/911M [00:16&lt;00:00, 55.0MB/s]",
            "_view_count": null,
            "_view_module_version": "1.5.0",
            "description_tooltip": null,
            "_model_module": "@jupyter-widgets/controls",
            "layout": "IPY_MODEL_20acb13b49584dab94c4a76ed0f98eef"
          }
        },
        "843abcb3a4fa477e849074239dac3855": {
          "model_module": "@jupyter-widgets/controls",
          "model_name": "ProgressStyleModel",
          "state": {
            "_view_name": "StyleView",
            "_model_name": "ProgressStyleModel",
            "description_width": "initial",
            "_view_module": "@jupyter-widgets/base",
            "_model_module_version": "1.5.0",
            "_view_count": null,
            "_view_module_version": "1.2.0",
            "bar_color": null,
            "_model_module": "@jupyter-widgets/controls"
          }
        },
        "08d1953da23c4cbebee519462a0eb633": {
          "model_module": "@jupyter-widgets/base",
          "model_name": "LayoutModel",
          "state": {
            "_view_name": "LayoutView",
            "grid_template_rows": null,
            "right": null,
            "justify_content": null,
            "_view_module": "@jupyter-widgets/base",
            "overflow": null,
            "_model_module_version": "1.2.0",
            "_view_count": null,
            "flex_flow": null,
            "width": null,
            "min_width": null,
            "border": null,
            "align_items": null,
            "bottom": null,
            "_model_module": "@jupyter-widgets/base",
            "top": null,
            "grid_column": null,
            "overflow_y": null,
            "overflow_x": null,
            "grid_auto_flow": null,
            "grid_area": null,
            "grid_template_columns": null,
            "flex": null,
            "_model_name": "LayoutModel",
            "justify_items": null,
            "grid_row": null,
            "max_height": null,
            "align_content": null,
            "visibility": null,
            "align_self": null,
            "height": null,
            "min_height": null,
            "padding": null,
            "grid_auto_rows": null,
            "grid_gap": null,
            "max_width": null,
            "order": null,
            "_view_module_version": "1.2.0",
            "grid_template_areas": null,
            "object_position": null,
            "object_fit": null,
            "grid_auto_columns": null,
            "margin": null,
            "display": null,
            "left": null
          }
        },
        "a0bd5acf680846ce8c2d6b8a49caac3c": {
          "model_module": "@jupyter-widgets/controls",
          "model_name": "DescriptionStyleModel",
          "state": {
            "_view_name": "StyleView",
            "_model_name": "DescriptionStyleModel",
            "description_width": "",
            "_view_module": "@jupyter-widgets/base",
            "_model_module_version": "1.5.0",
            "_view_count": null,
            "_view_module_version": "1.2.0",
            "_model_module": "@jupyter-widgets/controls"
          }
        },
        "20acb13b49584dab94c4a76ed0f98eef": {
          "model_module": "@jupyter-widgets/base",
          "model_name": "LayoutModel",
          "state": {
            "_view_name": "LayoutView",
            "grid_template_rows": null,
            "right": null,
            "justify_content": null,
            "_view_module": "@jupyter-widgets/base",
            "overflow": null,
            "_model_module_version": "1.2.0",
            "_view_count": null,
            "flex_flow": null,
            "width": null,
            "min_width": null,
            "border": null,
            "align_items": null,
            "bottom": null,
            "_model_module": "@jupyter-widgets/base",
            "top": null,
            "grid_column": null,
            "overflow_y": null,
            "overflow_x": null,
            "grid_auto_flow": null,
            "grid_area": null,
            "grid_template_columns": null,
            "flex": null,
            "_model_name": "LayoutModel",
            "justify_items": null,
            "grid_row": null,
            "max_height": null,
            "align_content": null,
            "visibility": null,
            "align_self": null,
            "height": null,
            "min_height": null,
            "padding": null,
            "grid_auto_rows": null,
            "grid_gap": null,
            "max_width": null,
            "order": null,
            "_view_module_version": "1.2.0",
            "grid_template_areas": null,
            "object_position": null,
            "object_fit": null,
            "grid_auto_columns": null,
            "margin": null,
            "display": null,
            "left": null
          }
        }
      }
    }
  },
  "cells": [
    {
      "cell_type": "markdown",
      "metadata": {
        "id": "view-in-github",
        "colab_type": "text"
      },
      "source": [
        "<a href=\"https://colab.research.google.com/github/daquarti/AI/blob/main/Distil_Bert_clasification.ipynb\" target=\"_parent\"><img src=\"https://colab.research.google.com/assets/colab-badge.svg\" alt=\"Open In Colab\"/></a>"
      ]
    },
    {
      "cell_type": "code",
      "metadata": {
        "id": "DVJeILEkliMJ"
      },
      "source": [
        ""
      ],
      "execution_count": null,
      "outputs": []
    },
    {
      "cell_type": "code",
      "metadata": {
        "id": "Lmj1Fi7Mgo-b"
      },
      "source": [
        "# Load the Drive helper and mount\n",
        "from google.colab import drive\n",
        "\n",
        "# This will prompt for authorization.menos de 48hs de evolución\n",
        "drive.mount('/content/drive')"
      ],
      "execution_count": null,
      "outputs": []
    },
    {
      "cell_type": "code",
      "metadata": {
        "id": "ax0pTT8Zg2LF"
      },
      "source": [
        "path = \"/content/drive/My Drive/Emergencias/Consultas/\""
      ],
      "execution_count": null,
      "outputs": []
    },
    {
      "cell_type": "code",
      "metadata": {
        "id": "e-UUmzsgO9O-",
        "colab": {
          "base_uri": "https://localhost:8080/"
        },
        "outputId": "43c9a273-cf7c-4bb1-bc10-4228f78f2ca0"
      },
      "source": [
        "import pandas as pd\n",
        "pd.set_option('display.max_colwidth', -1)\n",
        "df = pd.read_csv (path + 'input_distil_v1')\n",
        "df.info()"
      ],
      "execution_count": null,
      "outputs": [
        {
          "output_type": "stream",
          "text": [
            "/usr/local/lib/python3.6/dist-packages/ipykernel_launcher.py:2: FutureWarning: Passing a negative integer is deprecated in version 1.0 and will not be supported in future version. Instead, use None to not limit the column width.\n",
            "  \n"
          ],
          "name": "stderr"
        },
        {
          "output_type": "stream",
          "text": [
            "<class 'pandas.core.frame.DataFrame'>\n",
            "RangeIndex: 99329 entries, 0 to 99328\n",
            "Data columns (total 2 columns):\n",
            " #   Column       Non-Null Count  Dtype \n",
            "---  ------       --------------  ----- \n",
            " 0   resumen      99329 non-null  object\n",
            " 1   diagnostico  99329 non-null  object\n",
            "dtypes: object(2)\n",
            "memory usage: 1.5+ MB\n"
          ],
          "name": "stdout"
        }
      ]
    },
    {
      "cell_type": "code",
      "metadata": {
        "id": "RHkkODVgJwV2",
        "colab": {
          "base_uri": "https://localhost:8080/",
          "height": 1000
        },
        "outputId": "a5241e66-a7c1-45c8-e672-bc1783efbc59"
      },
      "source": [
        "df.head(20)"
      ],
      "execution_count": null,
      "outputs": [
        {
          "output_type": "execute_result",
          "data": {
            "text/html": [
              "<div>\n",
              "<style scoped>\n",
              "    .dataframe tbody tr th:only-of-type {\n",
              "        vertical-align: middle;\n",
              "    }\n",
              "\n",
              "    .dataframe tbody tr th {\n",
              "        vertical-align: top;\n",
              "    }\n",
              "\n",
              "    .dataframe thead th {\n",
              "        text-align: right;\n",
              "    }\n",
              "</style>\n",
              "<table border=\"1\" class=\"dataframe\">\n",
              "  <thead>\n",
              "    <tr style=\"text-align: right;\">\n",
              "      <th></th>\n",
              "      <th>resumen</th>\n",
              "      <th>diagnostico</th>\n",
              "    </tr>\n",
              "  </thead>\n",
              "  <tbody>\n",
              "    <tr>\n",
              "      <th>0</th>\n",
              "      <td>&lt;DNIPACIENTE&gt; 42998688 &lt;SEXOPACIENTE&gt; M &lt;EDADPACIENTE&gt; 2000-12-02 &lt;MOTIVODECONSULTA&gt; Dolor de garganta.  &lt;EPICRISIS&gt; REFIERE DOLOR DE GARGANTA DE 72 HORAS DE EVOLUCION, NIEGA FIEBRE, NIEGA ANOSMIA, NIEGA AGEUSIA,</td>\n",
              "      <td>RES   Faringitis aguda</td>\n",
              "    </tr>\n",
              "    <tr>\n",
              "      <th>1</th>\n",
              "      <td>&lt;DNIPACIENTE&gt; 25231397 &lt;SEXOPACIENTE&gt; F &lt;EDADPACIENTE&gt; 1976-4-2 &lt;MOTIVODECONSULTA&gt; Receta antigripal &lt;EPICRISIS&gt; Se realiza prescripción de vacuna antigripal</td>\n",
              "      <td>OTRO   Medicacion prescripcion renovacion inyeccion   (355)</td>\n",
              "    </tr>\n",
              "    <tr>\n",
              "      <th>2</th>\n",
              "      <td>&lt;DNIPACIENTE&gt; 22269524 &lt;SEXOPACIENTE&gt; F &lt;EDADPACIENTE&gt; 1971-07-14 &lt;MOTIVODECONSULTA&gt; Presion &lt;EPICRISIS&gt; Paciente Femenino de 48 años de edad consulta por , Presion..  MEJORIA CLINICA\\nSE INDICA 5 MG DE LOTRIAL</td>\n",
              "      <td>CARV   Otros signos sintomas cardiovasculares   (466)</td>\n",
              "    </tr>\n",
              "    <tr>\n",
              "      <th>3</th>\n",
              "      <td>&lt;DNIPACIENTE&gt; 35639756 &lt;SEXOPACIENTE&gt; F &lt;EDADPACIENTE&gt; 1990-12-18 &lt;MOTIVODECONSULTA&gt; Vómitos. Diarrea. Dolor de abdomen. Nauseas. Congestión Nasal.  &lt;EPICRISIS&gt; femenino de 29 años con diarrea y vomitos,cefalea,congestion nasal,afebril,se inidca reposo por 72 hs,dieta y tto</td>\n",
              "      <td>DIGES   Dolor abdominal generalizado retortijones   (319)</td>\n",
              "    </tr>\n",
              "    <tr>\n",
              "      <th>4</th>\n",
              "      <td>&lt;DNIPACIENTE&gt; 8704664 &lt;SEXOPACIENTE&gt; M &lt;EDADPACIENTE&gt; 1947-04-26 &lt;MOTIVODECONSULTA&gt; Sospecha de covid.  &lt;EPICRISIS&gt; Paciente consulta por FATIGA, TOS SECA, DOLOR DE PECHO. \\nANTECEDENTES DE HIPERTENSION Y OBESIDAD.\\nFAMILIARES SOLICITAN  HISOPADO EN DOMICILIO CON URGENCIA.</td>\n",
              "      <td>INESP   Confirmado COVID19 x epidemiol</td>\n",
              "    </tr>\n",
              "    <tr>\n",
              "      <th>5</th>\n",
              "      <td>&lt;DNIPACIENTE&gt; 4246046 &lt;SEXOPACIENTE&gt; F &lt;EDADPACIENTE&gt; 1941-10-15 &lt;MOTIVODECONSULTA&gt; Sospecha de covid.  &lt;EPICRISIS&gt; CONSULTA EL HIJO DE LA PACIENTE; DE 78 AÑOS TIENE EPOC MEDICADA CON EL NEUMOTEROL MAS ASPIRE; CON DX DE COVID-19 POR CONTACTO ESTRECHO. PRESENTO DISNEA LEVE; LE DIERON DE ALTA HACE 20 DIAS, SATURA 96% TIENE LABORATORIOS CON  HB: 13, LEUCITOS:  4.800 PLAQUETAS 260.000. GLUCEMIA:  82, HDL:66 - LDL: 33; TRIGLICERIDOS : 137;</td>\n",
              "      <td>RESP   Enfermedad pulmonar obstructiva cronica EPOC   (330)</td>\n",
              "    </tr>\n",
              "    <tr>\n",
              "      <th>6</th>\n",
              "      <td>&lt;DNIPACIENTE&gt; 23146537 &lt;SEXOPACIENTE&gt; F &lt;EDADPACIENTE&gt; 1973-03-03 &lt;MOTIVODECONSULTA&gt; Vómitos. Dolor de abdomen.  &lt;EPICRISIS&gt; refiere que hace 24 horas presento nauseas, malestar general, lo asocia a afectación del estado emocional. app: niega</td>\n",
              "      <td>DIGES   Vomito   (506)</td>\n",
              "    </tr>\n",
              "    <tr>\n",
              "      <th>7</th>\n",
              "      <td>&lt;DNIPACIENTE&gt; 22643928 &lt;SEXOPACIENTE&gt; M &lt;EDADPACIENTE&gt; 1972-09-22 &lt;MOTIVODECONSULTA&gt; Problemas urinarios,Problemas urinarios desde hace Más de 1 semana y menos de 3 meses,Orinando con más frecuencia que de costumbre,Ganas de  orinar todo el tiempo,Ardor o molestias cuando orina,Toma diuréticos &lt;EPICRISIS&gt; refiere dolor  eh irritación  en el pene de 1 semana  de evolución</td>\n",
              "      <td>UROL   Cistitis   (308)</td>\n",
              "    </tr>\n",
              "    <tr>\n",
              "      <th>8</th>\n",
              "      <td>&lt;DNIPACIENTE&gt; 438818 &lt;SEXOPACIENTE&gt; F &lt;EDADPACIENTE&gt; 1929-11-17 &lt;MOTIVODECONSULTA&gt; Presión alta &lt;EPICRISIS&gt; Paciente Femenino de 90 años de edad, refiere cuadro clinico consistente en cifras tensionales elevadas refiere que fue la ambulancia y le dieron medicamento para controlar, aclaran que van en 2h a controlar pero aun no llegan motivo por el cual llaman de forma desesperada.\\nAntecedentes hta, sten coronario.\\nTratada con lorsartan. \\nactualmente asintomatica, refiere que no tiene en casa para tomar nuevamente la presion arterial.\\n</td>\n",
              "      <td>CARV   Elevacion de la presion arterial   (329)</td>\n",
              "    </tr>\n",
              "    <tr>\n",
              "      <th>9</th>\n",
              "      <td>&lt;DNIPACIENTE&gt; 20266682 &lt;SEXOPACIENTE&gt; M &lt;EDADPACIENTE&gt; 1969-07-26 &lt;MOTIVODECONSULTA&gt; Fiebre. Dolor de cabeza. Dolor de abdomen. Nauseas. Congestión Nasal.  &lt;EPICRISIS&gt; Paciente consulta por  control , refiere que persiste con fiebre niega algun otro sintomas \\nantecedentes personal esencial</td>\n",
              "      <td>INESP   Fiebre   (338)</td>\n",
              "    </tr>\n",
              "    <tr>\n",
              "      <th>10</th>\n",
              "      <td>&lt;DNIPACIENTE&gt; 48761722 &lt;SEXOPACIENTE&gt; M &lt;EDADPACIENTE&gt; 2008-05-08 &lt;MOTIVODECONSULTA&gt; Dolor de garganta &lt;EPICRISIS&gt; Antecedentes: niega\\nCuadro de 1 día de odinofagia y disfagia. Niega alzas térmicas u otros síntomas asociados.\\nDx: Amigdalitis\\nIndicaciones: \\nAbundante ingesta de líquidos orales\\nAmoxacilina. Comp x 500 mg. Tomar 1 comp cada 8 horas por 7 días\\nParacetamol. Comp x 500 mg. Tomar 1 comp cada 6 horas por 3 a 5 días\\nRevaloración médica en 72 horas\\nRecomendaciones y signos de alarma</td>\n",
              "      <td>RES   Amigdalitis aguda</td>\n",
              "    </tr>\n",
              "    <tr>\n",
              "      <th>11</th>\n",
              "      <td>&lt;DNIPACIENTE&gt; 26735503 &lt;SEXOPACIENTE&gt; M &lt;EDADPACIENTE&gt; 1978-07-09 &lt;MOTIVODECONSULTA&gt; Dolor de cabeza. Congestión Nasal.  &lt;EPICRISIS&gt; masculino de 42 años con cefalea,diarrea,congestion nasal, actualmente mejoria de los sintomas,se indica reposo por 48 hs y control de sintomas.</td>\n",
              "      <td>RESP   Gripe   (340)</td>\n",
              "    </tr>\n",
              "    <tr>\n",
              "      <th>12</th>\n",
              "      <td>&lt;DNIPACIENTE&gt; 42646455 &lt;SEXOPACIENTE&gt; F &lt;EDADPACIENTE&gt; 2000-04-08 &lt;MOTIVODECONSULTA&gt; Fiebre,Diarrea,Dolor de abdomen &lt;EPICRISIS&gt; Paciente Femenino de 20 años de edad consulta por Fiebre, Dolor de abdomen.</td>\n",
              "      <td>DIGES   Diarrea   (317)</td>\n",
              "    </tr>\n",
              "    <tr>\n",
              "      <th>13</th>\n",
              "      <td>&lt;DNIPACIENTE&gt; 93690637 &lt;SEXOPACIENTE&gt; F &lt;EDADPACIENTE&gt; 1973-07-10 &lt;MOTIVODECONSULTA&gt; Dolor de garganta. Dolor de cabeza. Dolor de espalda.  &lt;EPICRISIS&gt; Paciente consulta por  \"Dolor de garganta\",\"odinofagia\",\"anosmia/disgeusia\",\"cefalea\",\"contacto estrecho\",\"personal esencial\",\"amba\"</td>\n",
              "      <td>INESP   Confirmado COVID19 x epidemiol</td>\n",
              "    </tr>\n",
              "    <tr>\n",
              "      <th>14</th>\n",
              "      <td>&lt;DNIPACIENTE&gt; 38356966 &lt;SEXOPACIENTE&gt; M &lt;EDADPACIENTE&gt; 1994-08-31 &lt;MOTIVODECONSULTA&gt; Sospecha de covid.  &lt;EPICRISIS&gt; Paciente consulta por  \"contacto estrecho\",\"personal esencial\"  refiere contacto estrecho con  compañero covid19. Permanece en domicilio asintomático. Se indica ailsamiento por contacto estrecho 14 dias bajo decreto de ministerio de salud de la nacion. Se dan pautas de alarma y medidas generales.</td>\n",
              "      <td>INESP   Contacto estrecho COVID19</td>\n",
              "    </tr>\n",
              "    <tr>\n",
              "      <th>15</th>\n",
              "      <td>&lt;DNIPACIENTE&gt; 30275578 &lt;SEXOPACIENTE&gt; F &lt;EDADPACIENTE&gt; 1983-08-25 &lt;MOTIVODECONSULTA&gt; Sospecha de covid.  &lt;EPICRISIS&gt; paciente femenino de 36 años de edad quien estuvo en contacto estrecho con compañero con diagnostico de  covid 19 positivo, se le indico aislamiento por 14 dias los cuales cumplio sin presentar alguna sintomatologia, niega fiebre, niega dificultad respiratoria, niega anosmia, niega disgeusia. por lo anterior se indica alta, con recomendaciones y signos de alarma.</td>\n",
              "      <td>INESP   Alta COVID19</td>\n",
              "    </tr>\n",
              "    <tr>\n",
              "      <th>16</th>\n",
              "      <td>&lt;DNIPACIENTE&gt; 282573 &lt;SEXOPACIENTE&gt; M &lt;EDADPACIENTE&gt; 1991-03-12 &lt;MOTIVODECONSULTA&gt; Dolor de cabeza. Congestión Nasal.  &lt;EPICRISIS&gt; masculino de 29 años de edad, consulta por cefalea, lagrimeo ocular y congestión nasal,</td>\n",
              "      <td>RESP   Gripe   (340)</td>\n",
              "    </tr>\n",
              "    <tr>\n",
              "      <th>17</th>\n",
              "      <td>&lt;DNIPACIENTE&gt; 40910553 &lt;SEXOPACIENTE&gt; M &lt;EDADPACIENTE&gt; 1998-01-29 &lt;MOTIVODECONSULTA&gt; Tos. Resfrio &lt;EPICRISIS&gt; pcte masculino de 22 años de edad , en control por cc de 4 días de evolución   dado por cuadro de congestión  nasal , tos,  malestar general,  se indico inhalan, acemuk y anti -histaminico  con mejoría clínica  parcial , niega anosmia, vomito , diarrea, fiebre</td>\n",
              "      <td>RES   Rinofaringitis aguda</td>\n",
              "    </tr>\n",
              "    <tr>\n",
              "      <th>18</th>\n",
              "      <td>&lt;DNIPACIENTE&gt; 52018649 &lt;SEXOPACIENTE&gt; M &lt;EDADPACIENTE&gt; 2012-02-16 &lt;MOTIVODECONSULTA&gt; Tos. Congestión Nasal. Saturación 91 &lt;EPICRISIS&gt; masculino de 8 años con congestion nasal,tos productiva,afebril,fue evaluado ayer por medico indico puff cada 8 hs</td>\n",
              "      <td>RESP   Gripe   (340)</td>\n",
              "    </tr>\n",
              "    <tr>\n",
              "      <th>19</th>\n",
              "      <td>&lt;DNIPACIENTE&gt; 13300531 &lt;SEXOPACIENTE&gt; M &lt;EDADPACIENTE&gt; 1957-06-08 &lt;MOTIVODECONSULTA&gt; Tos. Dolor de abdomen. Mucosidad y dificultad para respirar. Paciente oncológico x cáncer de pulmón. &lt;EPICRISIS&gt; SE COMUNICA FAMILIAR DEL PACIENTE QUE REFIERE DOLOR ABDOMINAL , Y DISNEA MODERADA, ES PACIENTE ONCOLOGICO POR CA DE PULMON (REFIERE DIAGNOSTICO DE ENFISEMA HACE 15 DIAS) EN TTO CON QUIMIOTERAPIA, NIEGA FIEBRE , REFIERE QUE LA DISNEA SE ACENTUO EN LAS ULTIMAS HORAS, EL PACIENTE SE ENCUENTRA SUDOROSO</td>\n",
              "      <td>RESP   Fatiga respiratoria disnea   (337)</td>\n",
              "    </tr>\n",
              "  </tbody>\n",
              "</table>\n",
              "</div>"
            ],
            "text/plain": [
              "                                                                                                                                                                                                                                                                                                                                                                                                                                                                                                                                                             resumen                                                  diagnostico\n",
              "0   <DNIPACIENTE> 42998688 <SEXOPACIENTE> M <EDADPACIENTE> 2000-12-02 <MOTIVODECONSULTA> Dolor de garganta.  <EPICRISIS> REFIERE DOLOR DE GARGANTA DE 72 HORAS DE EVOLUCION, NIEGA FIEBRE, NIEGA ANOSMIA, NIEGA AGEUSIA,                                                                                                                                                                                                                                                                                                                                              RES   Faringitis aguda                                     \n",
              "1   <DNIPACIENTE> 25231397 <SEXOPACIENTE> F <EDADPACIENTE> 1976-4-2 <MOTIVODECONSULTA> Receta antigripal <EPICRISIS> Se realiza prescripción de vacuna antigripal                                                                                                                                                                                                                                                                                                                                                                                                     OTRO   Medicacion prescripcion renovacion inyeccion   (355)\n",
              "2   <DNIPACIENTE> 22269524 <SEXOPACIENTE> F <EDADPACIENTE> 1971-07-14 <MOTIVODECONSULTA> Presion <EPICRISIS> Paciente Femenino de 48 años de edad consulta por , Presion..  MEJORIA CLINICA\\nSE INDICA 5 MG DE LOTRIAL                                                                                                                                                                                                                                                                                                                                                CARV   Otros signos sintomas cardiovasculares   (466)      \n",
              "3   <DNIPACIENTE> 35639756 <SEXOPACIENTE> F <EDADPACIENTE> 1990-12-18 <MOTIVODECONSULTA> Vómitos. Diarrea. Dolor de abdomen. Nauseas. Congestión Nasal.  <EPICRISIS> femenino de 29 años con diarrea y vomitos,cefalea,congestion nasal,afebril,se inidca reposo por 72 hs,dieta y tto                                                                                                                                                                                                                                                                                DIGES   Dolor abdominal generalizado retortijones   (319)  \n",
              "4   <DNIPACIENTE> 8704664 <SEXOPACIENTE> M <EDADPACIENTE> 1947-04-26 <MOTIVODECONSULTA> Sospecha de covid.  <EPICRISIS> Paciente consulta por FATIGA, TOS SECA, DOLOR DE PECHO. \\nANTECEDENTES DE HIPERTENSION Y OBESIDAD.\\nFAMILIARES SOLICITAN  HISOPADO EN DOMICILIO CON URGENCIA.                                                                                                                                                                                                                                                                                 INESP   Confirmado COVID19 x epidemiol                     \n",
              "5   <DNIPACIENTE> 4246046 <SEXOPACIENTE> F <EDADPACIENTE> 1941-10-15 <MOTIVODECONSULTA> Sospecha de covid.  <EPICRISIS> CONSULTA EL HIJO DE LA PACIENTE; DE 78 AÑOS TIENE EPOC MEDICADA CON EL NEUMOTEROL MAS ASPIRE; CON DX DE COVID-19 POR CONTACTO ESTRECHO. PRESENTO DISNEA LEVE; LE DIERON DE ALTA HACE 20 DIAS, SATURA 96% TIENE LABORATORIOS CON  HB: 13, LEUCITOS:  4.800 PLAQUETAS 260.000. GLUCEMIA:  82, HDL:66 - LDL: 33; TRIGLICERIDOS : 137;                                                                                                            RESP   Enfermedad pulmonar obstructiva cronica EPOC   (330)\n",
              "6   <DNIPACIENTE> 23146537 <SEXOPACIENTE> F <EDADPACIENTE> 1973-03-03 <MOTIVODECONSULTA> Vómitos. Dolor de abdomen.  <EPICRISIS> refiere que hace 24 horas presento nauseas, malestar general, lo asocia a afectación del estado emocional. app: niega                                                                                                                                                                                                                                                                                                                DIGES   Vomito   (506)                                     \n",
              "7   <DNIPACIENTE> 22643928 <SEXOPACIENTE> M <EDADPACIENTE> 1972-09-22 <MOTIVODECONSULTA> Problemas urinarios,Problemas urinarios desde hace Más de 1 semana y menos de 3 meses,Orinando con más frecuencia que de costumbre,Ganas de  orinar todo el tiempo,Ardor o molestias cuando orina,Toma diuréticos <EPICRISIS> refiere dolor  eh irritación  en el pene de 1 semana  de evolución                                                                                                                                                                             UROL   Cistitis   (308)                                    \n",
              "8   <DNIPACIENTE> 438818 <SEXOPACIENTE> F <EDADPACIENTE> 1929-11-17 <MOTIVODECONSULTA> Presión alta <EPICRISIS> Paciente Femenino de 90 años de edad, refiere cuadro clinico consistente en cifras tensionales elevadas refiere que fue la ambulancia y le dieron medicamento para controlar, aclaran que van en 2h a controlar pero aun no llegan motivo por el cual llaman de forma desesperada.\\nAntecedentes hta, sten coronario.\\nTratada con lorsartan. \\nactualmente asintomatica, refiere que no tiene en casa para tomar nuevamente la presion arterial.\\n   CARV   Elevacion de la presion arterial   (329)            \n",
              "9   <DNIPACIENTE> 20266682 <SEXOPACIENTE> M <EDADPACIENTE> 1969-07-26 <MOTIVODECONSULTA> Fiebre. Dolor de cabeza. Dolor de abdomen. Nauseas. Congestión Nasal.  <EPICRISIS> Paciente consulta por  control , refiere que persiste con fiebre niega algun otro sintomas \\nantecedentes personal esencial                                                                                                                                                                                                                                                               INESP   Fiebre   (338)                                     \n",
              "10  <DNIPACIENTE> 48761722 <SEXOPACIENTE> M <EDADPACIENTE> 2008-05-08 <MOTIVODECONSULTA> Dolor de garganta <EPICRISIS> Antecedentes: niega\\nCuadro de 1 día de odinofagia y disfagia. Niega alzas térmicas u otros síntomas asociados.\\nDx: Amigdalitis\\nIndicaciones: \\nAbundante ingesta de líquidos orales\\nAmoxacilina. Comp x 500 mg. Tomar 1 comp cada 8 horas por 7 días\\nParacetamol. Comp x 500 mg. Tomar 1 comp cada 6 horas por 3 a 5 días\\nRevaloración médica en 72 horas\\nRecomendaciones y signos de alarma                                            RES   Amigdalitis aguda                                    \n",
              "11  <DNIPACIENTE> 26735503 <SEXOPACIENTE> M <EDADPACIENTE> 1978-07-09 <MOTIVODECONSULTA> Dolor de cabeza. Congestión Nasal.  <EPICRISIS> masculino de 42 años con cefalea,diarrea,congestion nasal, actualmente mejoria de los sintomas,se indica reposo por 48 hs y control de sintomas.                                                                                                                                                                                                                                                                             RESP   Gripe   (340)                                       \n",
              "12  <DNIPACIENTE> 42646455 <SEXOPACIENTE> F <EDADPACIENTE> 2000-04-08 <MOTIVODECONSULTA> Fiebre,Diarrea,Dolor de abdomen <EPICRISIS> Paciente Femenino de 20 años de edad consulta por Fiebre, Dolor de abdomen.                                                                                                                                                                                                                                                                                                                                                      DIGES   Diarrea   (317)                                    \n",
              "13  <DNIPACIENTE> 93690637 <SEXOPACIENTE> F <EDADPACIENTE> 1973-07-10 <MOTIVODECONSULTA> Dolor de garganta. Dolor de cabeza. Dolor de espalda.  <EPICRISIS> Paciente consulta por  \"Dolor de garganta\",\"odinofagia\",\"anosmia/disgeusia\",\"cefalea\",\"contacto estrecho\",\"personal esencial\",\"amba\"                                                                                                                                                                                                                                                                      INESP   Confirmado COVID19 x epidemiol                     \n",
              "14  <DNIPACIENTE> 38356966 <SEXOPACIENTE> M <EDADPACIENTE> 1994-08-31 <MOTIVODECONSULTA> Sospecha de covid.  <EPICRISIS> Paciente consulta por  \"contacto estrecho\",\"personal esencial\"  refiere contacto estrecho con  compañero covid19. Permanece en domicilio asintomático. Se indica ailsamiento por contacto estrecho 14 dias bajo decreto de ministerio de salud de la nacion. Se dan pautas de alarma y medidas generales.                                                                                                                                    INESP   Contacto estrecho COVID19                          \n",
              "15  <DNIPACIENTE> 30275578 <SEXOPACIENTE> F <EDADPACIENTE> 1983-08-25 <MOTIVODECONSULTA> Sospecha de covid.  <EPICRISIS> paciente femenino de 36 años de edad quien estuvo en contacto estrecho con compañero con diagnostico de  covid 19 positivo, se le indico aislamiento por 14 dias los cuales cumplio sin presentar alguna sintomatologia, niega fiebre, niega dificultad respiratoria, niega anosmia, niega disgeusia. por lo anterior se indica alta, con recomendaciones y signos de alarma.                                                                INESP   Alta COVID19                                       \n",
              "16  <DNIPACIENTE> 282573 <SEXOPACIENTE> M <EDADPACIENTE> 1991-03-12 <MOTIVODECONSULTA> Dolor de cabeza. Congestión Nasal.  <EPICRISIS> masculino de 29 años de edad, consulta por cefalea, lagrimeo ocular y congestión nasal,                                                                                                                                                                                                                                                                                                                                        RESP   Gripe   (340)                                       \n",
              "17  <DNIPACIENTE> 40910553 <SEXOPACIENTE> M <EDADPACIENTE> 1998-01-29 <MOTIVODECONSULTA> Tos. Resfrio <EPICRISIS> pcte masculino de 22 años de edad , en control por cc de 4 días de evolución   dado por cuadro de congestión  nasal , tos,  malestar general,  se indico inhalan, acemuk y anti -histaminico  con mejoría clínica  parcial , niega anosmia, vomito , diarrea, fiebre                                                                                                                                                                                RES   Rinofaringitis aguda                                 \n",
              "18  <DNIPACIENTE> 52018649 <SEXOPACIENTE> M <EDADPACIENTE> 2012-02-16 <MOTIVODECONSULTA> Tos. Congestión Nasal. Saturación 91 <EPICRISIS> masculino de 8 años con congestion nasal,tos productiva,afebril,fue evaluado ayer por medico indico puff cada 8 hs                                                                                                                                                                                                                                                                                                          RESP   Gripe   (340)                                       \n",
              "19  <DNIPACIENTE> 13300531 <SEXOPACIENTE> M <EDADPACIENTE> 1957-06-08 <MOTIVODECONSULTA> Tos. Dolor de abdomen. Mucosidad y dificultad para respirar. Paciente oncológico x cáncer de pulmón. <EPICRISIS> SE COMUNICA FAMILIAR DEL PACIENTE QUE REFIERE DOLOR ABDOMINAL , Y DISNEA MODERADA, ES PACIENTE ONCOLOGICO POR CA DE PULMON (REFIERE DIAGNOSTICO DE ENFISEMA HACE 15 DIAS) EN TTO CON QUIMIOTERAPIA, NIEGA FIEBRE , REFIERE QUE LA DISNEA SE ACENTUO EN LAS ULTIMAS HORAS, EL PACIENTE SE ENCUENTRA SUDOROSO                                                 RESP   Fatiga respiratoria disnea   (337)                  "
            ]
          },
          "metadata": {
            "tags": []
          },
          "execution_count": 37
        }
      ]
    },
    {
      "cell_type": "code",
      "metadata": {
        "colab": {
          "base_uri": "https://localhost:8080/",
          "height": 347
        },
        "id": "rNKV_OaYjdeZ",
        "outputId": "d751bf1d-bbb0-4d64-c9fa-b63fc0b1bc14"
      },
      "source": [
        "df.head(20)"
      ],
      "execution_count": null,
      "outputs": [
        {
          "output_type": "execute_result",
          "data": {
            "text/html": [
              "<div>\n",
              "<style scoped>\n",
              "    .dataframe tbody tr th:only-of-type {\n",
              "        vertical-align: middle;\n",
              "    }\n",
              "\n",
              "    .dataframe tbody tr th {\n",
              "        vertical-align: top;\n",
              "    }\n",
              "\n",
              "    .dataframe thead th {\n",
              "        text-align: right;\n",
              "    }\n",
              "</style>\n",
              "<table border=\"1\" class=\"dataframe\">\n",
              "  <thead>\n",
              "    <tr style=\"text-align: right;\">\n",
              "      <th></th>\n",
              "      <th>diagnostico</th>\n",
              "      <th>probabilidad</th>\n",
              "    </tr>\n",
              "  </thead>\n",
              "  <tbody>\n",
              "    <tr>\n",
              "      <th>0</th>\n",
              "      <td>UROL   Cistitis   (308)</td>\n",
              "      <td>0.927375</td>\n",
              "    </tr>\n",
              "    <tr>\n",
              "      <th>1</th>\n",
              "      <td>UROL   Otros signos sintomas del aparato urinario   (480)</td>\n",
              "      <td>0.025778</td>\n",
              "    </tr>\n",
              "    <tr>\n",
              "      <th>2</th>\n",
              "      <td>UROL   Retencion urinaria   (486)</td>\n",
              "      <td>0.011270</td>\n",
              "    </tr>\n",
              "    <tr>\n",
              "      <th>3</th>\n",
              "      <td>METAB   Otros problemas endocrinos metabolicos nutricionales   (474)</td>\n",
              "      <td>0.008152</td>\n",
              "    </tr>\n",
              "    <tr>\n",
              "      <th>4</th>\n",
              "      <td>UROL   Hematuria   (342)</td>\n",
              "      <td>0.006654</td>\n",
              "    </tr>\n",
              "    <tr>\n",
              "      <th>5</th>\n",
              "      <td>OTRO   Medicacion prescripcion renovacion inyeccion   (355)</td>\n",
              "      <td>0.005076</td>\n",
              "    </tr>\n",
              "    <tr>\n",
              "      <th>6</th>\n",
              "      <td>GENIT   Otros signos sintomas del aparato genital del hombre   (471)</td>\n",
              "      <td>0.002487</td>\n",
              "    </tr>\n",
              "    <tr>\n",
              "      <th>7</th>\n",
              "      <td>OTRO   Eval Examen medico parcial Pre-op.   (335)</td>\n",
              "      <td>0.001511</td>\n",
              "    </tr>\n",
              "    <tr>\n",
              "      <th>8</th>\n",
              "      <td>GENIT   Dolor genital femenino   (324)</td>\n",
              "      <td>0.001494</td>\n",
              "    </tr>\n",
              "    <tr>\n",
              "      <th>9</th>\n",
              "      <td>GENIT   Otros signos sintomas genital mamas, mujer   (472)</td>\n",
              "      <td>0.001350</td>\n",
              "    </tr>\n",
              "  </tbody>\n",
              "</table>\n",
              "</div>"
            ],
            "text/plain": [
              "                                                            diagnostico  probabilidad\n",
              "0  UROL   Cistitis   (308)                                               0.927375    \n",
              "1  UROL   Otros signos sintomas del aparato urinario   (480)             0.025778    \n",
              "2  UROL   Retencion urinaria   (486)                                     0.011270    \n",
              "3  METAB   Otros problemas endocrinos metabolicos nutricionales   (474)  0.008152    \n",
              "4  UROL   Hematuria   (342)                                              0.006654    \n",
              "5  OTRO   Medicacion prescripcion renovacion inyeccion   (355)           0.005076    \n",
              "6  GENIT   Otros signos sintomas del aparato genital del hombre   (471)  0.002487    \n",
              "7  OTRO   Eval Examen medico parcial Pre-op.   (335)                     0.001511    \n",
              "8  GENIT   Dolor genital femenino   (324)                                0.001494    \n",
              "9  GENIT   Otros signos sintomas genital mamas, mujer   (472)            0.001350    "
            ]
          },
          "metadata": {
            "tags": []
          },
          "execution_count": 34
        }
      ]
    },
    {
      "cell_type": "code",
      "metadata": {
        "id": "fsfATFWS2l4W"
      },
      "source": [
        "y = df.diagnostico.to_list()\n",
        "X = df.resumen.to_list()"
      ],
      "execution_count": null,
      "outputs": []
    },
    {
      "cell_type": "code",
      "metadata": {
        "id": "mogwPCLL5Asu"
      },
      "source": [
        "from sklearn import preprocessing\n",
        "le = preprocessing.LabelEncoder()\n",
        "le.fit(y)\n",
        "\n",
        "y_encoder = le.transform(y)\n",
        "#len(y_encoder)\n",
        "#len(le.classes_)\n",
        "y = le.transform(y)\n"
      ],
      "execution_count": null,
      "outputs": []
    },
    {
      "cell_type": "code",
      "metadata": {
        "id": "i2vxMGf2kfVf",
        "colab": {
          "base_uri": "https://localhost:8080/"
        },
        "outputId": "e53d1ce8-5c63-4b82-a334-84b3b85b5bcf"
      },
      "source": [
        "len(le.classes_)"
      ],
      "execution_count": null,
      "outputs": [
        {
          "output_type": "execute_result",
          "data": {
            "text/plain": [
              "95"
            ]
          },
          "metadata": {
            "tags": []
          },
          "execution_count": 18
        }
      ]
    },
    {
      "cell_type": "code",
      "metadata": {
        "id": "9upN7PokKLzt"
      },
      "source": [
        "import numpy as np\n",
        "from sklearn.model_selection import train_test_split"
      ],
      "execution_count": null,
      "outputs": []
    },
    {
      "cell_type": "code",
      "metadata": {
        "id": "R3AGK5M5KL34"
      },
      "source": [
        "X_train, X_test, y_train, y_test = train_test_split(X, y, test_size=0.10, random_state=42)\n"
      ],
      "execution_count": null,
      "outputs": []
    },
    {
      "cell_type": "code",
      "metadata": {
        "id": "633fetsKg5cv",
        "colab": {
          "base_uri": "https://localhost:8080/"
        },
        "outputId": "7a4d5ce4-9773-48ef-b9ad-b0aafb2e1197"
      },
      "source": [
        "!pip install transformers==3.1.0"
      ],
      "execution_count": null,
      "outputs": [
        {
          "output_type": "stream",
          "text": [
            "Collecting transformers==3.1.0\n",
            "\u001b[?25l  Downloading https://files.pythonhosted.org/packages/ae/05/c8c55b600308dc04e95100dc8ad8a244dd800fe75dfafcf1d6348c6f6209/transformers-3.1.0-py3-none-any.whl (884kB)\n",
            "\u001b[K     |████████████████████████████████| 890kB 5.8MB/s \n",
            "\u001b[?25hRequirement already satisfied: numpy in /usr/local/lib/python3.6/dist-packages (from transformers==3.1.0) (1.18.5)\n",
            "Collecting sentencepiece!=0.1.92\n",
            "\u001b[?25l  Downloading https://files.pythonhosted.org/packages/e5/2d/6d4ca4bef9a67070fa1cac508606328329152b1df10bdf31fb6e4e727894/sentencepiece-0.1.94-cp36-cp36m-manylinux2014_x86_64.whl (1.1MB)\n",
            "\u001b[K     |████████████████████████████████| 1.1MB 34.8MB/s \n",
            "\u001b[?25hCollecting sacremoses\n",
            "\u001b[?25l  Downloading https://files.pythonhosted.org/packages/7d/34/09d19aff26edcc8eb2a01bed8e98f13a1537005d31e95233fd48216eed10/sacremoses-0.0.43.tar.gz (883kB)\n",
            "\u001b[K     |████████████████████████████████| 890kB 47.1MB/s \n",
            "\u001b[?25hCollecting tokenizers==0.8.1.rc2\n",
            "\u001b[?25l  Downloading https://files.pythonhosted.org/packages/80/83/8b9fccb9e48eeb575ee19179e2bdde0ee9a1904f97de5f02d19016b8804f/tokenizers-0.8.1rc2-cp36-cp36m-manylinux1_x86_64.whl (3.0MB)\n",
            "\u001b[K     |████████████████████████████████| 3.0MB 47.3MB/s \n",
            "\u001b[?25hRequirement already satisfied: requests in /usr/local/lib/python3.6/dist-packages (from transformers==3.1.0) (2.23.0)\n",
            "Requirement already satisfied: packaging in /usr/local/lib/python3.6/dist-packages (from transformers==3.1.0) (20.4)\n",
            "Requirement already satisfied: regex!=2019.12.17 in /usr/local/lib/python3.6/dist-packages (from transformers==3.1.0) (2019.12.20)\n",
            "Requirement already satisfied: tqdm>=4.27 in /usr/local/lib/python3.6/dist-packages (from transformers==3.1.0) (4.41.1)\n",
            "Requirement already satisfied: dataclasses; python_version < \"3.7\" in /usr/local/lib/python3.6/dist-packages (from transformers==3.1.0) (0.7)\n",
            "Requirement already satisfied: filelock in /usr/local/lib/python3.6/dist-packages (from transformers==3.1.0) (3.0.12)\n",
            "Requirement already satisfied: six in /usr/local/lib/python3.6/dist-packages (from sacremoses->transformers==3.1.0) (1.15.0)\n",
            "Requirement already satisfied: click in /usr/local/lib/python3.6/dist-packages (from sacremoses->transformers==3.1.0) (7.1.2)\n",
            "Requirement already satisfied: joblib in /usr/local/lib/python3.6/dist-packages (from sacremoses->transformers==3.1.0) (0.17.0)\n",
            "Requirement already satisfied: idna<3,>=2.5 in /usr/local/lib/python3.6/dist-packages (from requests->transformers==3.1.0) (2.10)\n",
            "Requirement already satisfied: urllib3!=1.25.0,!=1.25.1,<1.26,>=1.21.1 in /usr/local/lib/python3.6/dist-packages (from requests->transformers==3.1.0) (1.24.3)\n",
            "Requirement already satisfied: certifi>=2017.4.17 in /usr/local/lib/python3.6/dist-packages (from requests->transformers==3.1.0) (2020.6.20)\n",
            "Requirement already satisfied: chardet<4,>=3.0.2 in /usr/local/lib/python3.6/dist-packages (from requests->transformers==3.1.0) (3.0.4)\n",
            "Requirement already satisfied: pyparsing>=2.0.2 in /usr/local/lib/python3.6/dist-packages (from packaging->transformers==3.1.0) (2.4.7)\n",
            "Building wheels for collected packages: sacremoses\n",
            "  Building wheel for sacremoses (setup.py) ... \u001b[?25l\u001b[?25hdone\n",
            "  Created wheel for sacremoses: filename=sacremoses-0.0.43-cp36-none-any.whl size=893257 sha256=0c321159ae433338ab08891873babcaf0ead3b37601d660d3707f567b8c4fba8\n",
            "  Stored in directory: /root/.cache/pip/wheels/29/3c/fd/7ce5c3f0666dab31a50123635e6fb5e19ceb42ce38d4e58f45\n",
            "Successfully built sacremoses\n",
            "Installing collected packages: sentencepiece, sacremoses, tokenizers, transformers\n",
            "Successfully installed sacremoses-0.0.43 sentencepiece-0.1.94 tokenizers-0.8.1rc2 transformers-3.1.0\n"
          ],
          "name": "stdout"
        }
      ]
    },
    {
      "cell_type": "code",
      "metadata": {
        "id": "9pi31_2cndZU"
      },
      "source": [
        "from transformers import DistilBertTokenizerFast\n",
        "from transformers import TFDistilBertForSequenceClassification\n",
        "\n",
        "#import tensorflow as tf\n",
        "import json"
      ],
      "execution_count": null,
      "outputs": []
    },
    {
      "cell_type": "code",
      "metadata": {
        "pycharm": {
          "name": "#%%\n"
        },
        "id": "hPvBixCDndZY"
      },
      "source": [
        "#### Import and prepare data"
      ],
      "execution_count": null,
      "outputs": []
    },
    {
      "cell_type": "code",
      "metadata": {
        "id": "yhHP_7L8hOK5",
        "colab": {
          "base_uri": "https://localhost:8080/"
        },
        "outputId": "b77edf8b-0d36-4acf-a04e-b2be4e2a684b"
      },
      "source": [
        "!wget --no-check-certificate \\\n",
        "    https://storage.googleapis.com/laurencemoroney-blog.appspot.com/sarcasm.json \\\n",
        "    -O /tmp/sarcasm.json"
      ],
      "execution_count": null,
      "outputs": [
        {
          "output_type": "stream",
          "text": [
            "--2020-11-12 12:51:09--  https://storage.googleapis.com/laurencemoroney-blog.appspot.com/sarcasm.json\n",
            "Resolving storage.googleapis.com (storage.googleapis.com)... 172.217.15.112, 172.253.122.128, 172.217.2.112, ...\n",
            "Connecting to storage.googleapis.com (storage.googleapis.com)|172.217.15.112|:443... connected.\n",
            "HTTP request sent, awaiting response... 200 OK\n",
            "Length: 5643545 (5.4M) [application/json]\n",
            "Saving to: ‘/tmp/sarcasm.json’\n",
            "\n",
            "\r/tmp/sarcasm.json     0%[                    ]       0  --.-KB/s               \r/tmp/sarcasm.json   100%[===================>]   5.38M  --.-KB/s    in 0.02s   \n",
            "\n",
            "2020-11-12 12:51:09 (290 MB/s) - ‘/tmp/sarcasm.json’ saved [5643545/5643545]\n",
            "\n"
          ],
          "name": "stdout"
        }
      ]
    },
    {
      "cell_type": "code",
      "metadata": {
        "pycharm": {
          "name": "#%%\n"
        },
        "id": "UZsRQ-N8ndZa"
      },
      "source": [
        "training_size = 20000\n",
        "\n",
        "with open(\"/tmp/sarcasm.json\", 'r') as f:\n",
        "    datastore = json.load(f)\n",
        "\n",
        "sentences = []\n",
        "labels = []\n",
        "urls = []\n",
        "for item in datastore:\n",
        "    sentences.append(item['headline'])\n",
        "    labels.append(item['is_sarcastic'])\n",
        "\n",
        "training_sentences = sentences[0:training_size]\n",
        "validation_sentences = sentences[training_size:]\n",
        "training_labels = labels[0:training_size]\n",
        "validation_labels = labels[training_size:]"
      ],
      "execution_count": null,
      "outputs": []
    },
    {
      "cell_type": "code",
      "metadata": {
        "id": "m9KE8xqXLFGA"
      },
      "source": [
        "\n",
        "training_sentences = X_train\n",
        "validation_sentences = X_test\n",
        "training_labels =   y_train\n",
        "validation_labels = y_test"
      ],
      "execution_count": null,
      "outputs": []
    },
    {
      "cell_type": "code",
      "metadata": {
        "pycharm": {
          "name": "#%%\n"
        },
        "id": "8lJzuHmqndZc",
        "colab": {
          "base_uri": "https://localhost:8080/"
        },
        "outputId": "9fcf2b58-16e8-421a-8c01-2e814673bcb7"
      },
      "source": [
        "print(len(training_sentences))\n",
        "print(len(validation_sentences))"
      ],
      "execution_count": null,
      "outputs": [
        {
          "output_type": "stream",
          "text": [
            "89396\n",
            "9933\n"
          ],
          "name": "stdout"
        }
      ]
    },
    {
      "cell_type": "code",
      "metadata": {
        "pycharm": {
          "name": "#%%\n"
        },
        "id": "F7VLxCS8ndZf"
      },
      "source": [
        "#### Setup BERT and run training\n",
        "\n",
        "# https://huggingface.co/transformers/pretrained_models.html\n",
        "# distilbert-base-multilingual-cased"
      ],
      "execution_count": null,
      "outputs": []
    },
    {
      "cell_type": "code",
      "metadata": {
        "pycharm": {
          "name": "#%%\n"
        },
        "id": "jdrxytRKndZh",
        "colab": {
          "base_uri": "https://localhost:8080/",
          "height": 66,
          "referenced_widgets": [
            "e123f99cab96405691a16ada9a4df716",
            "f50730aadf28447aadd8ab66f5a29f4f",
            "1b532264e8554d49a0a6cb85243a614d",
            "4592bf598b2540c5bfdacf2601160b3e",
            "d7404050a1a745c6be3f0891ade25ca2",
            "796d475b485047788b66c70ea9f2c3df",
            "f5d82c5a417e424891f4f42d6847dfa7",
            "323b560081674b0fa62046c321736bc8"
          ]
        },
        "outputId": "6414ed2f-f486-49ee-c120-5b5c51428f99"
      },
      "source": [
        "tokenizer = DistilBertTokenizerFast.from_pretrained('distilbert-base-multilingual-cased')"
      ],
      "execution_count": null,
      "outputs": [
        {
          "output_type": "display_data",
          "data": {
            "application/vnd.jupyter.widget-view+json": {
              "model_id": "e123f99cab96405691a16ada9a4df716",
              "version_minor": 0,
              "version_major": 2
            },
            "text/plain": [
              "HBox(children=(FloatProgress(value=0.0, description='Downloading', max=995526.0, style=ProgressStyle(descripti…"
            ]
          },
          "metadata": {
            "tags": []
          }
        },
        {
          "output_type": "stream",
          "text": [
            "\n"
          ],
          "name": "stdout"
        }
      ]
    },
    {
      "cell_type": "code",
      "metadata": {
        "pycharm": {
          "name": "#%%\n"
        },
        "id": "KCxtcxObndZk"
      },
      "source": [
        "train_encodings = tokenizer(training_sentences,\n",
        "                            truncation=True,\n",
        "                            padding=True)\n",
        "val_encodings = tokenizer(validation_sentences,\n",
        "                            truncation=True,\n",
        "                            padding=True)"
      ],
      "execution_count": null,
      "outputs": []
    },
    {
      "cell_type": "code",
      "metadata": {
        "pycharm": {
          "name": "#%%\n"
        },
        "id": "Tg7zcOpVndZm"
      },
      "source": [
        "train_dataset = tf.data.Dataset.from_tensor_slices((\n",
        "    dict(train_encodings),\n",
        "    training_labels\n",
        "))\n",
        "\n",
        "val_dataset = tf.data.Dataset.from_tensor_slices((\n",
        "    dict(val_encodings),\n",
        "    validation_labels\n",
        "))"
      ],
      "execution_count": null,
      "outputs": []
    },
    {
      "cell_type": "code",
      "metadata": {
        "pycharm": {
          "name": "#%%\n"
        },
        "id": "nWvG7WldndZo",
        "colab": {
          "base_uri": "https://localhost:8080/",
          "height": 222,
          "referenced_widgets": [
            "ed0b983f48b943349eb4f0ac55b3872f",
            "390a76012dc24a14b39f18c0418ee0fc",
            "2a7169456f904f7685ecbc318bfbfd04",
            "d018a73a01d84e46a6f91b97f129c832",
            "570ec5a7ec464e52bdadcb91ed6c5482",
            "fcadde2ef4364432b93256bb1f652906",
            "742d5b1eae004607aa8f6464bd2efabf",
            "254db5691cce477198e9e01be2a03954",
            "e621d3e7659b4baa98500d114d3cfb2b",
            "32fe4fd361dd4f5a94232b7a275e72c8",
            "fa9a9972baca43a4bb50ed142f26eef8",
            "05c2839082f64768a4a70e67b2517998",
            "843abcb3a4fa477e849074239dac3855",
            "08d1953da23c4cbebee519462a0eb633",
            "a0bd5acf680846ce8c2d6b8a49caac3c",
            "20acb13b49584dab94c4a76ed0f98eef"
          ]
        },
        "outputId": "37d4db99-b835-4702-f336-1f4c3a69baf0"
      },
      "source": [
        "# We classify two labels in this example. In case of multiclass classification, adjust num_labels value\n",
        "model = TFDistilBertForSequenceClassification.from_pretrained('distilbert-base-multilingual-cased',\n",
        "                                                              num_labels=95)"
      ],
      "execution_count": null,
      "outputs": [
        {
          "output_type": "display_data",
          "data": {
            "application/vnd.jupyter.widget-view+json": {
              "model_id": "ed0b983f48b943349eb4f0ac55b3872f",
              "version_minor": 0,
              "version_major": 2
            },
            "text/plain": [
              "HBox(children=(FloatProgress(value=0.0, description='Downloading', max=466.0, style=ProgressStyle(description_…"
            ]
          },
          "metadata": {
            "tags": []
          }
        },
        {
          "output_type": "stream",
          "text": [
            "\n"
          ],
          "name": "stdout"
        },
        {
          "output_type": "display_data",
          "data": {
            "application/vnd.jupyter.widget-view+json": {
              "model_id": "e621d3e7659b4baa98500d114d3cfb2b",
              "version_minor": 0,
              "version_major": 2
            },
            "text/plain": [
              "HBox(children=(FloatProgress(value=0.0, description='Downloading', max=910749124.0, style=ProgressStyle(descri…"
            ]
          },
          "metadata": {
            "tags": []
          }
        },
        {
          "output_type": "stream",
          "text": [
            "\n"
          ],
          "name": "stdout"
        },
        {
          "output_type": "stream",
          "text": [
            "Some weights of the model checkpoint at distilbert-base-multilingual-cased were not used when initializing TFDistilBertForSequenceClassification: ['activation_13', 'vocab_transform', 'vocab_layer_norm', 'vocab_projector']\n",
            "- This IS expected if you are initializing TFDistilBertForSequenceClassification from the checkpoint of a model trained on another task or with another architecture (e.g. initializing a BertForSequenceClassification model from a BertForPretraining model).\n",
            "- This IS NOT expected if you are initializing TFDistilBertForSequenceClassification from the checkpoint of a model that you expect to be exactly identical (initializing a BertForSequenceClassification model from a BertForSequenceClassification model).\n",
            "Some weights of TFDistilBertForSequenceClassification were not initialized from the model checkpoint at distilbert-base-multilingual-cased and are newly initialized: ['dropout_19', 'classifier', 'pre_classifier']\n",
            "You should probably TRAIN this model on a down-stream task to be able to use it for predictions and inference.\n"
          ],
          "name": "stderr"
        }
      ]
    },
    {
      "cell_type": "code",
      "metadata": {
        "pycharm": {
          "name": "#%%\n"
        },
        "id": "8_gjepLSndZq",
        "colab": {
          "base_uri": "https://localhost:8080/"
        },
        "outputId": "ee53bfe4-52e9-4b69-9f43-994d7d479ee5"
      },
      "source": [
        "optimizer = tf.keras.optimizers.Adam(learning_rate=5e-5)\n",
        "model.compile(optimizer=optimizer, loss=model.compute_loss, metrics=['accuracy'])\n",
        "model.fit(train_dataset.shuffle(100).batch(16),\n",
        "          epochs=3,\n",
        "          batch_size=16,\n",
        "          validation_data=val_dataset.shuffle(100).batch(16))"
      ],
      "execution_count": null,
      "outputs": [
        {
          "output_type": "stream",
          "text": [
            "Epoch 1/3\n",
            "5588/5588 [==============================] - 5630s 1s/step - loss: 2.2143 - accuracy: 0.4091 - val_loss: 1.7994 - val_accuracy: 0.4979\n",
            "Epoch 2/3\n",
            "5588/5588 [==============================] - 5629s 1s/step - loss: 1.7081 - accuracy: 0.5117 - val_loss: 1.6905 - val_accuracy: 0.5188\n",
            "Epoch 3/3\n",
            "5588/5588 [==============================] - 5629s 1s/step - loss: 1.4815 - accuracy: 0.5685 - val_loss: 1.6734 - val_accuracy: 0.5330\n"
          ],
          "name": "stdout"
        },
        {
          "output_type": "execute_result",
          "data": {
            "text/plain": [
              "<tensorflow.python.keras.callbacks.History at 0x7f7ae93c2c88>"
            ]
          },
          "metadata": {
            "tags": []
          },
          "execution_count": 22
        }
      ]
    },
    {
      "cell_type": "code",
      "metadata": {
        "pycharm": {
          "name": "#%%\n"
        },
        "id": "dmfeNn8hndZs"
      },
      "source": [
        "model.save_pretrained(path + \"destil_v4\")"
      ],
      "execution_count": null,
      "outputs": []
    },
    {
      "cell_type": "code",
      "metadata": {
        "id": "Msf56miz1mIO",
        "colab": {
          "base_uri": "https://localhost:8080/"
        },
        "outputId": "a2ccdd07-4f83-4602-f858-028149ca3144"
      },
      "source": [
        "pip install tensorflow==2.1"
      ],
      "execution_count": null,
      "outputs": [
        {
          "output_type": "stream",
          "text": [
            "Requirement already satisfied: tensorflow==2.1 in /usr/local/lib/python3.6/dist-packages (2.1.0)\n",
            "Requirement already satisfied: keras-preprocessing>=1.1.0 in /usr/local/lib/python3.6/dist-packages (from tensorflow==2.1) (1.1.2)\n",
            "Requirement already satisfied: numpy<2.0,>=1.16.0 in /usr/local/lib/python3.6/dist-packages (from tensorflow==2.1) (1.18.5)\n",
            "Requirement already satisfied: tensorboard<2.2.0,>=2.1.0 in /usr/local/lib/python3.6/dist-packages (from tensorflow==2.1) (2.1.1)\n",
            "Requirement already satisfied: wheel>=0.26; python_version >= \"3\" in /usr/local/lib/python3.6/dist-packages (from tensorflow==2.1) (0.35.1)\n",
            "Requirement already satisfied: google-pasta>=0.1.6 in /usr/local/lib/python3.6/dist-packages (from tensorflow==2.1) (0.2.0)\n",
            "Requirement already satisfied: six>=1.12.0 in /usr/local/lib/python3.6/dist-packages (from tensorflow==2.1) (1.15.0)\n",
            "Requirement already satisfied: absl-py>=0.7.0 in /usr/local/lib/python3.6/dist-packages (from tensorflow==2.1) (0.10.0)\n",
            "Requirement already satisfied: protobuf>=3.8.0 in /usr/local/lib/python3.6/dist-packages (from tensorflow==2.1) (3.12.4)\n",
            "Requirement already satisfied: termcolor>=1.1.0 in /usr/local/lib/python3.6/dist-packages (from tensorflow==2.1) (1.1.0)\n",
            "Requirement already satisfied: wrapt>=1.11.1 in /usr/local/lib/python3.6/dist-packages (from tensorflow==2.1) (1.12.1)\n",
            "Requirement already satisfied: gast==0.2.2 in /usr/local/lib/python3.6/dist-packages (from tensorflow==2.1) (0.2.2)\n",
            "Requirement already satisfied: astor>=0.6.0 in /usr/local/lib/python3.6/dist-packages (from tensorflow==2.1) (0.8.1)\n",
            "Requirement already satisfied: scipy==1.4.1; python_version >= \"3\" in /usr/local/lib/python3.6/dist-packages (from tensorflow==2.1) (1.4.1)\n",
            "Requirement already satisfied: opt-einsum>=2.3.2 in /usr/local/lib/python3.6/dist-packages (from tensorflow==2.1) (3.3.0)\n",
            "Requirement already satisfied: grpcio>=1.8.6 in /usr/local/lib/python3.6/dist-packages (from tensorflow==2.1) (1.33.2)\n",
            "Requirement already satisfied: keras-applications>=1.0.8 in /usr/local/lib/python3.6/dist-packages (from tensorflow==2.1) (1.0.8)\n",
            "Requirement already satisfied: tensorflow-estimator<2.2.0,>=2.1.0rc0 in /usr/local/lib/python3.6/dist-packages (from tensorflow==2.1) (2.1.0)\n",
            "Requirement already satisfied: google-auth<2,>=1.6.3 in /usr/local/lib/python3.6/dist-packages (from tensorboard<2.2.0,>=2.1.0->tensorflow==2.1) (1.17.2)\n",
            "Requirement already satisfied: werkzeug>=0.11.15 in /usr/local/lib/python3.6/dist-packages (from tensorboard<2.2.0,>=2.1.0->tensorflow==2.1) (1.0.1)\n",
            "Requirement already satisfied: requests<3,>=2.21.0 in /usr/local/lib/python3.6/dist-packages (from tensorboard<2.2.0,>=2.1.0->tensorflow==2.1) (2.23.0)\n",
            "Requirement already satisfied: setuptools>=41.0.0 in /usr/local/lib/python3.6/dist-packages (from tensorboard<2.2.0,>=2.1.0->tensorflow==2.1) (50.3.2)\n",
            "Requirement already satisfied: google-auth-oauthlib<0.5,>=0.4.1 in /usr/local/lib/python3.6/dist-packages (from tensorboard<2.2.0,>=2.1.0->tensorflow==2.1) (0.4.2)\n",
            "Requirement already satisfied: markdown>=2.6.8 in /usr/local/lib/python3.6/dist-packages (from tensorboard<2.2.0,>=2.1.0->tensorflow==2.1) (3.3.3)\n",
            "Requirement already satisfied: h5py in /usr/local/lib/python3.6/dist-packages (from keras-applications>=1.0.8->tensorflow==2.1) (2.10.0)\n",
            "Requirement already satisfied: cachetools<5.0,>=2.0.0 in /usr/local/lib/python3.6/dist-packages (from google-auth<2,>=1.6.3->tensorboard<2.2.0,>=2.1.0->tensorflow==2.1) (4.1.1)\n",
            "Requirement already satisfied: pyasn1-modules>=0.2.1 in /usr/local/lib/python3.6/dist-packages (from google-auth<2,>=1.6.3->tensorboard<2.2.0,>=2.1.0->tensorflow==2.1) (0.2.8)\n",
            "Requirement already satisfied: rsa<5,>=3.1.4; python_version >= \"3\" in /usr/local/lib/python3.6/dist-packages (from google-auth<2,>=1.6.3->tensorboard<2.2.0,>=2.1.0->tensorflow==2.1) (4.6)\n",
            "Requirement already satisfied: certifi>=2017.4.17 in /usr/local/lib/python3.6/dist-packages (from requests<3,>=2.21.0->tensorboard<2.2.0,>=2.1.0->tensorflow==2.1) (2020.6.20)\n",
            "Requirement already satisfied: chardet<4,>=3.0.2 in /usr/local/lib/python3.6/dist-packages (from requests<3,>=2.21.0->tensorboard<2.2.0,>=2.1.0->tensorflow==2.1) (3.0.4)\n",
            "Requirement already satisfied: urllib3!=1.25.0,!=1.25.1,<1.26,>=1.21.1 in /usr/local/lib/python3.6/dist-packages (from requests<3,>=2.21.0->tensorboard<2.2.0,>=2.1.0->tensorflow==2.1) (1.24.3)\n",
            "Requirement already satisfied: idna<3,>=2.5 in /usr/local/lib/python3.6/dist-packages (from requests<3,>=2.21.0->tensorboard<2.2.0,>=2.1.0->tensorflow==2.1) (2.10)\n",
            "Requirement already satisfied: requests-oauthlib>=0.7.0 in /usr/local/lib/python3.6/dist-packages (from google-auth-oauthlib<0.5,>=0.4.1->tensorboard<2.2.0,>=2.1.0->tensorflow==2.1) (1.3.0)\n",
            "Requirement already satisfied: importlib-metadata; python_version < \"3.8\" in /usr/local/lib/python3.6/dist-packages (from markdown>=2.6.8->tensorboard<2.2.0,>=2.1.0->tensorflow==2.1) (2.0.0)\n",
            "Requirement already satisfied: pyasn1<0.5.0,>=0.4.6 in /usr/local/lib/python3.6/dist-packages (from pyasn1-modules>=0.2.1->google-auth<2,>=1.6.3->tensorboard<2.2.0,>=2.1.0->tensorflow==2.1) (0.4.8)\n",
            "Requirement already satisfied: oauthlib>=3.0.0 in /usr/local/lib/python3.6/dist-packages (from requests-oauthlib>=0.7.0->google-auth-oauthlib<0.5,>=0.4.1->tensorboard<2.2.0,>=2.1.0->tensorflow==2.1) (3.1.0)\n",
            "Requirement already satisfied: zipp>=0.5 in /usr/local/lib/python3.6/dist-packages (from importlib-metadata; python_version < \"3.8\"->markdown>=2.6.8->tensorboard<2.2.0,>=2.1.0->tensorflow==2.1) (3.4.0)\n"
          ],
          "name": "stdout"
        }
      ]
    },
    {
      "cell_type": "code",
      "metadata": {
        "id": "KsnmNq57zsxw",
        "colab": {
          "base_uri": "https://localhost:8080/"
        },
        "outputId": "618206bf-cd7c-4d5d-b834-93f9655f39d8"
      },
      "source": [
        "distil_save_path = path + 'distil/1/'\n",
        "tf.saved_model.save(loaded_model, distil_save_path)"
      ],
      "execution_count": null,
      "outputs": [
        {
          "output_type": "stream",
          "text": [
            "WARNING:tensorflow:Skipping full serialization of Keras model <transformers.modeling_tf_distilbert.TFDistilBertForSequenceClassification object at 0x7f98294a6fd0>, because its inputs are not defined.\n",
            "WARNING:tensorflow:Skipping full serialization of Keras layer <tensorflow.python.keras.layers.core.Dropout object at 0x7f98294a6470>, because it is not built.\n",
            "WARNING:tensorflow:Skipping full serialization of Keras layer <tensorflow.python.keras.layers.core.Dropout object at 0x7f9827784470>, because it is not built.\n",
            "WARNING:tensorflow:Skipping full serialization of Keras layer <tensorflow.python.keras.layers.core.Dropout object at 0x7f9827714ef0>, because it is not built.\n",
            "WARNING:tensorflow:Skipping full serialization of Keras layer <tensorflow.python.keras.layers.core.Dropout object at 0x7f982772fac8>, because it is not built.\n",
            "WARNING:tensorflow:Skipping full serialization of Keras layer <tensorflow.python.keras.layers.core.Dropout object at 0x7f98277496a0>, because it is not built.\n",
            "WARNING:tensorflow:Skipping full serialization of Keras layer <tensorflow.python.keras.layers.core.Dropout object at 0x7f98276e2278>, because it is not built.\n",
            "INFO:tensorflow:Assets written to: /content/drive/My Drive/Emergencias/Consultas/distil/1/assets\n"
          ],
          "name": "stdout"
        }
      ]
    },
    {
      "cell_type": "code",
      "metadata": {
        "pycharm": {
          "name": "#%%\n"
        },
        "id": "_jwvD6AUndZu"
      },
      "source": [
        "#### Load saved model and run predict function"
      ],
      "execution_count": null,
      "outputs": []
    },
    {
      "cell_type": "code",
      "metadata": {
        "id": "uXxyDWmsGhL0"
      },
      "source": [
        "import tensorflow as tf"
      ],
      "execution_count": null,
      "outputs": []
    },
    {
      "cell_type": "code",
      "metadata": {
        "id": "6YhQUx6GoZt9",
        "colab": {
          "base_uri": "https://localhost:8080/",
          "height": 1000
        },
        "outputId": "f67dfe5e-739e-4ed5-aa4e-863fb5be5935"
      },
      "source": [
        "#!pip install tf-nightly"
      ],
      "execution_count": null,
      "outputs": [
        {
          "output_type": "stream",
          "text": [
            "Collecting tf-nightly\n",
            "\u001b[?25l  Downloading https://files.pythonhosted.org/packages/ba/e4/070791cfec436fe5b8dd084cefe485fc50e202ca180ab619f175faeac6b6/tf_nightly-2.5.0.dev20201113-cp36-cp36m-manylinux2010_x86_64.whl (395.9MB)\n",
            "\u001b[K     |████████████████████████████████| 395.9MB 37kB/s \n",
            "\u001b[?25hCollecting tb-nightly~=2.4.0.a\n",
            "\u001b[?25l  Downloading https://files.pythonhosted.org/packages/ab/c8/e52a84ba3dac0417ede73703a1bd15485f75495f632a462a0878f3d8bbca/tb_nightly-2.4.0a20201112-py3-none-any.whl (10.6MB)\n",
            "\u001b[K     |████████████████████████████████| 10.6MB 35.5MB/s \n",
            "\u001b[?25hRequirement already satisfied: keras-preprocessing~=1.1.2 in /usr/local/lib/python3.6/dist-packages (from tf-nightly) (1.1.2)\n",
            "Requirement already satisfied: h5py~=2.10.0 in /usr/local/lib/python3.6/dist-packages (from tf-nightly) (2.10.0)\n",
            "Requirement already satisfied: opt-einsum~=3.3.0 in /usr/local/lib/python3.6/dist-packages (from tf-nightly) (3.3.0)\n",
            "Collecting tf-estimator-nightly~=2.4.0.dev\n",
            "\u001b[?25l  Downloading https://files.pythonhosted.org/packages/89/d2/2131f5a0f0d14bae7f4d332724748b9ca6746b0d32f5c76145f0707f47d8/tf_estimator_nightly-2.4.0.dev2020102301-py2.py3-none-any.whl (461kB)\n",
            "\u001b[K     |████████████████████████████████| 471kB 40.4MB/s \n",
            "\u001b[?25hRequirement already satisfied: six~=1.15.0 in /usr/local/lib/python3.6/dist-packages (from tf-nightly) (1.15.0)\n",
            "Requirement already satisfied: astunparse~=1.6.3 in /usr/local/lib/python3.6/dist-packages (from tf-nightly) (1.6.3)\n",
            "Requirement already satisfied: absl-py~=0.10 in /usr/local/lib/python3.6/dist-packages (from tf-nightly) (0.10.0)\n",
            "Collecting numpy~=1.19.2\n",
            "\u001b[?25l  Downloading https://files.pythonhosted.org/packages/87/86/753182c9085ba4936c0076269a571613387cdb77ae2bf537448bfd63472c/numpy-1.19.4-cp36-cp36m-manylinux2010_x86_64.whl (14.5MB)\n",
            "\u001b[K     |████████████████████████████████| 14.5MB 333kB/s \n",
            "\u001b[?25hCollecting protobuf~=3.13.0\n",
            "\u001b[?25l  Downloading https://files.pythonhosted.org/packages/30/79/510974552cebff2ba04038544799450defe75e96ea5f1675dbf72cc8744f/protobuf-3.13.0-cp36-cp36m-manylinux1_x86_64.whl (1.3MB)\n",
            "\u001b[K     |████████████████████████████████| 1.3MB 44.6MB/s \n",
            "\u001b[?25hRequirement already satisfied: typing-extensions~=3.7.4 in /usr/local/lib/python3.6/dist-packages (from tf-nightly) (3.7.4.3)\n",
            "Collecting grpcio~=1.32.0\n",
            "\u001b[?25l  Downloading https://files.pythonhosted.org/packages/f0/00/b393f5d0e92b37592a41357ea3077010c95400c907f6b9af01f4f6abe140/grpcio-1.32.0-cp36-cp36m-manylinux2014_x86_64.whl (3.8MB)\n",
            "\u001b[K     |████████████████████████████████| 3.8MB 25.1MB/s \n",
            "\u001b[?25hRequirement already satisfied: google-pasta~=0.2 in /usr/local/lib/python3.6/dist-packages (from tf-nightly) (0.2.0)\n",
            "Requirement already satisfied: gast==0.3.3 in /usr/local/lib/python3.6/dist-packages (from tf-nightly) (0.3.3)\n",
            "Collecting flatbuffers~=1.12.0\n",
            "  Downloading https://files.pythonhosted.org/packages/eb/26/712e578c5f14e26ae3314c39a1bdc4eb2ec2f4ddc89b708cf8e0a0d20423/flatbuffers-1.12-py2.py3-none-any.whl\n",
            "Requirement already satisfied: wrapt~=1.12.1 in /usr/local/lib/python3.6/dist-packages (from tf-nightly) (1.12.1)\n",
            "Requirement already satisfied: wheel~=0.35 in /usr/local/lib/python3.6/dist-packages (from tf-nightly) (0.35.1)\n",
            "Requirement already satisfied: termcolor~=1.1.0 in /usr/local/lib/python3.6/dist-packages (from tf-nightly) (1.1.0)\n",
            "Requirement already satisfied: google-auth<2,>=1.6.3 in /usr/local/lib/python3.6/dist-packages (from tb-nightly~=2.4.0.a->tf-nightly) (1.17.2)\n",
            "Requirement already satisfied: setuptools>=41.0.0 in /usr/local/lib/python3.6/dist-packages (from tb-nightly~=2.4.0.a->tf-nightly) (50.3.2)\n",
            "Requirement already satisfied: requests<3,>=2.21.0 in /usr/local/lib/python3.6/dist-packages (from tb-nightly~=2.4.0.a->tf-nightly) (2.23.0)\n",
            "Requirement already satisfied: tensorboard-plugin-wit>=1.6.0 in /usr/local/lib/python3.6/dist-packages (from tb-nightly~=2.4.0.a->tf-nightly) (1.7.0)\n",
            "Requirement already satisfied: werkzeug>=0.11.15 in /usr/local/lib/python3.6/dist-packages (from tb-nightly~=2.4.0.a->tf-nightly) (1.0.1)\n",
            "Requirement already satisfied: google-auth-oauthlib<0.5,>=0.4.1 in /usr/local/lib/python3.6/dist-packages (from tb-nightly~=2.4.0.a->tf-nightly) (0.4.2)\n",
            "Requirement already satisfied: markdown>=2.6.8 in /usr/local/lib/python3.6/dist-packages (from tb-nightly~=2.4.0.a->tf-nightly) (3.3.3)\n",
            "Requirement already satisfied: rsa<5,>=3.1.4; python_version >= \"3\" in /usr/local/lib/python3.6/dist-packages (from google-auth<2,>=1.6.3->tb-nightly~=2.4.0.a->tf-nightly) (4.6)\n",
            "Requirement already satisfied: pyasn1-modules>=0.2.1 in /usr/local/lib/python3.6/dist-packages (from google-auth<2,>=1.6.3->tb-nightly~=2.4.0.a->tf-nightly) (0.2.8)\n",
            "Requirement already satisfied: cachetools<5.0,>=2.0.0 in /usr/local/lib/python3.6/dist-packages (from google-auth<2,>=1.6.3->tb-nightly~=2.4.0.a->tf-nightly) (4.1.1)\n",
            "Requirement already satisfied: urllib3!=1.25.0,!=1.25.1,<1.26,>=1.21.1 in /usr/local/lib/python3.6/dist-packages (from requests<3,>=2.21.0->tb-nightly~=2.4.0.a->tf-nightly) (1.24.3)\n",
            "Requirement already satisfied: idna<3,>=2.5 in /usr/local/lib/python3.6/dist-packages (from requests<3,>=2.21.0->tb-nightly~=2.4.0.a->tf-nightly) (2.10)\n",
            "Requirement already satisfied: chardet<4,>=3.0.2 in /usr/local/lib/python3.6/dist-packages (from requests<3,>=2.21.0->tb-nightly~=2.4.0.a->tf-nightly) (3.0.4)\n",
            "Requirement already satisfied: certifi>=2017.4.17 in /usr/local/lib/python3.6/dist-packages (from requests<3,>=2.21.0->tb-nightly~=2.4.0.a->tf-nightly) (2020.6.20)\n",
            "Requirement already satisfied: requests-oauthlib>=0.7.0 in /usr/local/lib/python3.6/dist-packages (from google-auth-oauthlib<0.5,>=0.4.1->tb-nightly~=2.4.0.a->tf-nightly) (1.3.0)\n",
            "Requirement already satisfied: importlib-metadata; python_version < \"3.8\" in /usr/local/lib/python3.6/dist-packages (from markdown>=2.6.8->tb-nightly~=2.4.0.a->tf-nightly) (2.0.0)\n",
            "Requirement already satisfied: pyasn1>=0.1.3 in /usr/local/lib/python3.6/dist-packages (from rsa<5,>=3.1.4; python_version >= \"3\"->google-auth<2,>=1.6.3->tb-nightly~=2.4.0.a->tf-nightly) (0.4.8)\n",
            "Requirement already satisfied: oauthlib>=3.0.0 in /usr/local/lib/python3.6/dist-packages (from requests-oauthlib>=0.7.0->google-auth-oauthlib<0.5,>=0.4.1->tb-nightly~=2.4.0.a->tf-nightly) (3.1.0)\n",
            "Requirement already satisfied: zipp>=0.5 in /usr/local/lib/python3.6/dist-packages (from importlib-metadata; python_version < \"3.8\"->markdown>=2.6.8->tb-nightly~=2.4.0.a->tf-nightly) (3.4.0)\n",
            "\u001b[31mERROR: tensorflow 2.3.0 has requirement numpy<1.19.0,>=1.16.0, but you'll have numpy 1.19.4 which is incompatible.\u001b[0m\n",
            "\u001b[31mERROR: datascience 0.10.6 has requirement folium==0.2.1, but you'll have folium 0.8.3 which is incompatible.\u001b[0m\n",
            "\u001b[31mERROR: albumentations 0.1.12 has requirement imgaug<0.2.7,>=0.2.5, but you'll have imgaug 0.2.9 which is incompatible.\u001b[0m\n",
            "Installing collected packages: grpcio, numpy, protobuf, tb-nightly, tf-estimator-nightly, flatbuffers, tf-nightly\n",
            "  Found existing installation: grpcio 1.33.2\n",
            "    Uninstalling grpcio-1.33.2:\n",
            "      Successfully uninstalled grpcio-1.33.2\n",
            "  Found existing installation: numpy 1.18.5\n",
            "    Uninstalling numpy-1.18.5:\n",
            "      Successfully uninstalled numpy-1.18.5\n",
            "  Found existing installation: protobuf 3.12.4\n",
            "    Uninstalling protobuf-3.12.4:\n",
            "      Successfully uninstalled protobuf-3.12.4\n",
            "Successfully installed flatbuffers-1.12 grpcio-1.32.0 numpy-1.19.4 protobuf-3.13.0 tb-nightly-2.4.0a20201112 tf-estimator-nightly-2.4.0.dev2020102301 tf-nightly-2.5.0.dev20201113\n"
          ],
          "name": "stdout"
        },
        {
          "output_type": "display_data",
          "data": {
            "application/vnd.colab-display-data+json": {
              "pip_warning": {
                "packages": [
                  "google",
                  "numpy",
                  "tensorboard",
                  "tensorflow"
                ]
              }
            }
          },
          "metadata": {
            "tags": []
          }
        }
      ]
    },
    {
      "cell_type": "code",
      "metadata": {
        "pycharm": {
          "name": "#%%\n"
        },
        "id": "s71ZiN0bndZw",
        "colab": {
          "base_uri": "https://localhost:8080/"
        },
        "outputId": "911614b8-e7b1-4eed-bd38-df98dc2e1302"
      },
      "source": [
        "loaded_model = TFDistilBertForSequenceClassification.from_pretrained(path + \"destil_v4\")"
      ],
      "execution_count": null,
      "outputs": [
        {
          "output_type": "stream",
          "text": [
            "All model checkpoint weights were used when initializing TFDistilBertForSequenceClassification.\n",
            "\n",
            "All the weights of TFDistilBertForSequenceClassification were initialized from the model checkpoint at /content/drive/My Drive/Emergencias/Consultas/destil_v4.\n",
            "If your task is similar to the task the model of the checkpoint was trained on, you can already use TFDistilBertForSequenceClassification for predictions without further training.\n"
          ],
          "name": "stderr"
        }
      ]
    },
    {
      "cell_type": "code",
      "metadata": {
        "pycharm": {
          "name": "#%%\n"
        },
        "id": "akGTf-l_ndZy",
        "colab": {
          "base_uri": "https://localhost:8080/"
        },
        "outputId": "248acbcd-e522-4f2c-9f9a-1b77ea955b3d"
      },
      "source": [
        "test_sentence = \"dolor abdominal y diarrea de 48hs de evolución. \"\n",
        "\n",
        "# replace to test_sentence_sarcasm variable, if you want to test sarcasm\n",
        "predict_input = tokenizer.encode(test_sentence,\n",
        "                                 truncation=True,\n",
        "                                 padding=True,\n",
        "                                 return_tensors=\"tf\")\n",
        "\n",
        "tf_output = loaded_model.predict(predict_input)[0]\n",
        "print(tf_output)"
      ],
      "execution_count": null,
      "outputs": [
        {
          "output_type": "stream",
          "text": [
            "[[ -6.7827644   -4.596075    -3.4136064  -10.009002    -3.1659057\n",
            "   -6.1328435   -4.1440997   -6.9218693   -3.9723449   -8.05557\n",
            "   -9.250391    -8.87848     -7.7850823  -12.672727    -4.4736977\n",
            "   -4.4045877   -5.2173724   -1.7975782   -1.6966603    4.253529\n",
            "   -0.3589328    1.5330485   -1.0784521   -3.1977475   -0.65819263\n",
            "   -0.29209802  -1.1078176   -3.472383    -0.5081417   -3.2227054\n",
            "   -7.175744    -8.25999     -4.7118363   -7.814339    -5.4637337\n",
            "   -6.5655103   -4.309659    -6.810206    -4.9104176   -5.266899\n",
            "   -4.6783285   -5.149101    -4.442643    -5.042105    -5.3854995\n",
            "   -7.1225834   -3.721198    -2.7120113   -5.498083    -1.9456404\n",
            "   -5.461932    -3.1534257   -4.3245964   -4.554404    -3.7461839\n",
            "   -4.835475    -3.1678214   -3.1737268   -1.8655007   -4.2357216\n",
            "   -6.280741    -7.3637805   -6.0261583   -4.8880644   -5.8364525\n",
            "   -6.3235416   -5.903992    -5.647324    -2.6003199   -2.6073909\n",
            "   -5.0598826   -5.2183185   -3.495697    -8.176301    -7.0593834\n",
            "   -3.3439531   -3.5239713   -4.9087195   -5.1175265   -8.903354\n",
            "   -5.382463    -3.7952108   -3.1874852   -4.698762    -9.006441\n",
            "   -2.7726557   -8.198416    -4.618781    -6.8811984   -8.070287\n",
            "   -6.5146065   -3.0894516   -8.631912    -5.408184    -7.9582934 ]]\n"
          ],
          "name": "stdout"
        }
      ]
    },
    {
      "cell_type": "code",
      "metadata": {
        "pycharm": {
          "name": "#%%\n"
        },
        "id": "qlWFuj7HndZ0",
        "colab": {
          "base_uri": "https://localhost:8080/"
        },
        "outputId": "104a8f26-6b24-46d6-a92f-313bb4e31892"
      },
      "source": [
        "tf_prediction = tf.nn.softmax(tf_output, axis=1).numpy()[0]\n",
        "print(tf_prediction)\n",
        "\n",
        "# 9.9978644e-01 = 0.99978644\n",
        "# 2.1356659e-04 = 0.00021356659\n",
        "# => sentiment = 0"
      ],
      "execution_count": null,
      "outputs": [
        {
          "output_type": "stream",
          "text": [
            "[1.41630198e-05 1.26131345e-04 4.11493063e-04 5.62365130e-07\n",
            " 5.27154072e-04 2.71276858e-05 1.98204361e-04 1.23237651e-05\n",
            " 2.35345215e-04 3.96627820e-06 1.20082370e-06 1.74179786e-06\n",
            " 5.19821833e-06 3.91901906e-08 1.42551187e-04 1.52751149e-04\n",
            " 6.77636490e-05 2.07106839e-03 2.29098648e-03 8.79340470e-01\n",
            " 8.72951746e-03 5.78985140e-02 4.25115600e-03 5.10632759e-04\n",
            " 6.47177454e-03 9.33289342e-03 4.12813388e-03 3.88003857e-04\n",
            " 7.51951430e-03 4.98046284e-04 9.56063104e-06 3.23299241e-06\n",
            " 1.12343594e-04 5.04833815e-06 5.29667886e-05 1.75998084e-05\n",
            " 1.67962178e-04 1.37796442e-05 9.21097890e-05 6.44893225e-05\n",
            " 1.16171715e-04 7.25515638e-05 1.47047336e-04 8.07447650e-05\n",
            " 5.72769823e-05 1.00826428e-05 3.02535977e-04 8.29967845e-04\n",
            " 5.11783001e-05 1.78604294e-03 5.30622456e-05 5.33774029e-04\n",
            " 1.65472069e-04 1.31498382e-04 2.95070524e-04 9.92778878e-05\n",
            " 5.26145042e-04 5.23047231e-04 1.93506735e-03 1.80851668e-04\n",
            " 2.33981536e-05 7.92179435e-06 3.01818127e-05 9.41918261e-05\n",
            " 3.64866428e-05 2.24178439e-05 3.41037121e-05 4.40830008e-05\n",
            " 9.28043446e-04 9.21504339e-04 7.93220097e-05 6.76995696e-05\n",
            " 3.79062578e-04 3.51520134e-06 1.07404330e-05 4.41176555e-04\n",
            " 3.68495064e-04 9.22662803e-05 7.48788734e-05 1.69900716e-06\n",
            " 5.74511687e-05 2.80952896e-04 5.15900087e-04 1.13822018e-04\n",
            " 1.53258782e-06 7.81130628e-04 3.43832039e-06 1.23299556e-04\n",
            " 1.28353095e-05 3.90833338e-06 1.85189092e-05 5.69037860e-04\n",
            " 2.22885183e-06 5.59923319e-05 4.37149401e-06]\n"
          ],
          "name": "stdout"
        }
      ]
    },
    {
      "cell_type": "code",
      "metadata": {
        "pycharm": {
          "name": "#%%\n"
        },
        "id": "zzGLqH_7ndZ2",
        "colab": {
          "base_uri": "https://localhost:8080/"
        },
        "outputId": "2a8b1ebc-8671-4fb3-f442-762101906719"
      },
      "source": [
        "import numpy as np\n",
        "le.inverse_transform([np.argmax(tf_prediction)])"
      ],
      "execution_count": null,
      "outputs": [
        {
          "output_type": "execute_result",
          "data": {
            "text/plain": [
              "array(['DIGES   Diarrea   (317)'], dtype='<U93')"
            ]
          },
          "metadata": {
            "tags": []
          },
          "execution_count": 48
        }
      ]
    },
    {
      "cell_type": "code",
      "metadata": {
        "id": "yHNpstIhX6Wc",
        "colab": {
          "base_uri": "https://localhost:8080/",
          "height": 282
        },
        "outputId": "1f648346-b3e6-4b4e-bd65-d6ee6f9745d7"
      },
      "source": [
        "array_invertido = np.argsort(tf_prediction)[::-1]\n",
        "diagnosticos = le.inverse_transform(array_invertido)\n",
        "probabilidad = np.sort (tf_prediction)[::-1]\n",
        "list_of_tuples = list(zip(diagnosticos, probabilidad))[:10]\n",
        "df = pd.DataFrame(list_of_tuples, columns = ['diagnostico', 'probabilidad']) \n",
        "df.head(10).plot.barh(x='diagnostico')"
      ],
      "execution_count": null,
      "outputs": [
        {
          "output_type": "execute_result",
          "data": {
            "text/plain": [
              "<matplotlib.axes._subplots.AxesSubplot at 0x7f5dcbcd1a58>"
            ]
          },
          "metadata": {
            "tags": []
          },
          "execution_count": 49
        },
        {
          "output_type": "display_data",
          "data": {
            "image/png": "[encoded data removed]",
            "text/plain": [
              "<Figure size 432x288 with 1 Axes>"
            ]
          },
          "metadata": {
            "tags": [],
            "needs_background": "light"
          }
        }
      ]
    },
    {
      "cell_type": "code",
      "metadata": {
        "id": "InH3OBXtYmJt"
      },
      "source": [
        "#Guardar modelo en save model"
      ],
      "execution_count": null,
      "outputs": []
    },
    {
      "cell_type": "code",
      "metadata": {
        "id": "80hod_dMppJT",
        "colab": {
          "base_uri": "https://localhost:8080/"
        },
        "outputId": "f0d32ae6-edd7-4e90-b314-3dbc19d2482f"
      },
      "source": [
        "distil_save_path = path + 'distil/5/'\n",
        "tf.saved_model.save(loaded_model, distil_save_path)"
      ],
      "execution_count": null,
      "outputs": [
        {
          "output_type": "stream",
          "text": [
            "WARNING:tensorflow:Skipping full serialization of Keras layer <tensorflow.python.keras.layers.core.Dropout object at 0x7f1df6a68080>, because it is not built.\n"
          ],
          "name": "stdout"
        },
        {
          "output_type": "stream",
          "text": [
            "WARNING:tensorflow:Skipping full serialization of Keras layer <tensorflow.python.keras.layers.core.Dropout object at 0x7f1df6a68080>, because it is not built.\n"
          ],
          "name": "stderr"
        },
        {
          "output_type": "stream",
          "text": [
            "WARNING:tensorflow:Skipping full serialization of Keras layer <tensorflow.python.keras.layers.core.Dropout object at 0x7f1df6a14400>, because it is not built.\n"
          ],
          "name": "stdout"
        },
        {
          "output_type": "stream",
          "text": [
            "WARNING:tensorflow:Skipping full serialization of Keras layer <tensorflow.python.keras.layers.core.Dropout object at 0x7f1df6a14400>, because it is not built.\n"
          ],
          "name": "stderr"
        },
        {
          "output_type": "stream",
          "text": [
            "WARNING:tensorflow:Skipping full serialization of Keras layer <tensorflow.python.keras.layers.core.Dropout object at 0x7f1df6a29780>, because it is not built.\n"
          ],
          "name": "stdout"
        },
        {
          "output_type": "stream",
          "text": [
            "WARNING:tensorflow:Skipping full serialization of Keras layer <tensorflow.python.keras.layers.core.Dropout object at 0x7f1df6a29780>, because it is not built.\n"
          ],
          "name": "stderr"
        },
        {
          "output_type": "stream",
          "text": [
            "WARNING:tensorflow:Skipping full serialization of Keras layer <tensorflow.python.keras.layers.core.Dropout object at 0x7f1df6a39b00>, because it is not built.\n"
          ],
          "name": "stdout"
        },
        {
          "output_type": "stream",
          "text": [
            "WARNING:tensorflow:Skipping full serialization of Keras layer <tensorflow.python.keras.layers.core.Dropout object at 0x7f1df6a39b00>, because it is not built.\n"
          ],
          "name": "stderr"
        },
        {
          "output_type": "stream",
          "text": [
            "WARNING:tensorflow:Skipping full serialization of Keras layer <tensorflow.python.keras.layers.core.Dropout object at 0x7f1df69c8e80>, because it is not built.\n"
          ],
          "name": "stdout"
        },
        {
          "output_type": "stream",
          "text": [
            "WARNING:tensorflow:Skipping full serialization of Keras layer <tensorflow.python.keras.layers.core.Dropout object at 0x7f1df69c8e80>, because it is not built.\n"
          ],
          "name": "stderr"
        },
        {
          "output_type": "stream",
          "text": [
            "WARNING:tensorflow:Skipping full serialization of Keras layer <tensorflow.python.keras.layers.core.Dropout object at 0x7f1df69e2240>, because it is not built.\n"
          ],
          "name": "stdout"
        },
        {
          "output_type": "stream",
          "text": [
            "WARNING:tensorflow:Skipping full serialization of Keras layer <tensorflow.python.keras.layers.core.Dropout object at 0x7f1df69e2240>, because it is not built.\n",
            "/usr/local/lib/python3.6/dist-packages/tensorflow/python/keras/engine/training.py:2342: UserWarning: `Model.state_updates` will be removed in a future version. This property should not be used in TensorFlow 2.0, as `updates` are applied automatically.\n",
            "  warnings.warn('`Model.state_updates` will be removed in a future version. '\n",
            "/usr/local/lib/python3.6/dist-packages/tensorflow/python/keras/engine/base_layer.py:1395: UserWarning: `layer.updates` will be removed in a future version. This property should not be used in TensorFlow 2.0, as `updates` are applied automatically.\n",
            "  warnings.warn('`layer.updates` will be removed in a future version. '\n",
            "WARNING:absl:Found untraced functions such as embeddings_layer_call_fn, embeddings_layer_call_and_return_conditional_losses, transformer_layer_call_fn, transformer_layer_call_and_return_conditional_losses, position_embeddings_layer_call_fn while saving (showing 5 of 445). These functions will not be directly callable after loading.\n"
          ],
          "name": "stderr"
        },
        {
          "output_type": "stream",
          "text": [
            "WARNING:tensorflow:FOR KERAS USERS: The object that you are saving contains one or more Keras models or layers. If you are loading the SavedModel with `tf.keras.models.load_model`, continue reading (otherwise, you may ignore the following instructions). Please change your code to save with `tf.keras.models.save_model` or `model.save`, and confirm that the file \"keras.metadata\" exists in the export directory. In the future, Keras will only load the SavedModels that have this file. In other words, `tf.saved_model.save` will no longer write SavedModels that can be recovered as Keras models (this will apply in TF 2.5).\n",
            "\n",
            "FOR DEVS: If you are overwriting _tracking_metadata in your class, this property has been used to save metadata in the SavedModel. The metadta field will be deprecated soon, so please move the metadata to a different file.\n"
          ],
          "name": "stdout"
        },
        {
          "output_type": "stream",
          "text": [
            "WARNING:tensorflow:FOR KERAS USERS: The object that you are saving contains one or more Keras models or layers. If you are loading the SavedModel with `tf.keras.models.load_model`, continue reading (otherwise, you may ignore the following instructions). Please change your code to save with `tf.keras.models.save_model` or `model.save`, and confirm that the file \"keras.metadata\" exists in the export directory. In the future, Keras will only load the SavedModels that have this file. In other words, `tf.saved_model.save` will no longer write SavedModels that can be recovered as Keras models (this will apply in TF 2.5).\n",
            "\n",
            "FOR DEVS: If you are overwriting _tracking_metadata in your class, this property has been used to save metadata in the SavedModel. The metadta field will be deprecated soon, so please move the metadata to a different file.\n"
          ],
          "name": "stderr"
        },
        {
          "output_type": "stream",
          "text": [
            "INFO:tensorflow:Assets written to: /content/drive/My Drive/Emergencias/Consultas/distil/5/assets\n"
          ],
          "name": "stdout"
        },
        {
          "output_type": "stream",
          "text": [
            "INFO:tensorflow:Assets written to: /content/drive/My Drive/Emergencias/Consultas/distil/5/assets\n"
          ],
          "name": "stderr"
        }
      ]
    },
    {
      "cell_type": "code",
      "metadata": {
        "id": "GcYPPMuGp0Iu"
      },
      "source": [
        "#Bien, el modelo se guardó sin warnigs"
      ],
      "execution_count": null,
      "outputs": []
    },
    {
      "cell_type": "code",
      "metadata": {
        "id": "gCJGF7z8ytjB",
        "colab": {
          "base_uri": "https://localhost:8080/"
        },
        "outputId": "0838638f-d5a8-4080-bca4-729908414d18"
      },
      "source": [
        "new_model = tf.keras.models.load_model(distil_save_path, compile=True)\n",
        "\n",
        "# Check its architecture\n",
        "new_model.summary()"
      ],
      "execution_count": null,
      "outputs": [
        {
          "output_type": "stream",
          "text": [
            "WARNING:tensorflow:SavedModel saved prior to TF 2.4 detected when loading Keras model. Please ensure that you are saving the model with model.save() or tf.keras.models.save_model(), *NOT* tf.saved_model.save(). To confirm, there should be a file named \"keras_metadata.pb\" in the SavedModel directory.\n"
          ],
          "name": "stdout"
        },
        {
          "output_type": "stream",
          "text": [
            "WARNING:tensorflow:SavedModel saved prior to TF 2.4 detected when loading Keras model. Please ensure that you are saving the model with model.save() or tf.keras.models.save_model(), *NOT* tf.saved_model.save(). To confirm, there should be a file named \"keras_metadata.pb\" in the SavedModel directory.\n"
          ],
          "name": "stderr"
        },
        {
          "output_type": "stream",
          "text": [
            "WARNING:tensorflow:No training configuration found in save file, so the model was *not* compiled. Compile it manually.\n"
          ],
          "name": "stdout"
        },
        {
          "output_type": "stream",
          "text": [
            "WARNING:tensorflow:No training configuration found in save file, so the model was *not* compiled. Compile it manually.\n"
          ],
          "name": "stderr"
        },
        {
          "output_type": "stream",
          "text": [
            "Model: \"tf_distil_bert_for_sequence_classification\"\n",
            "_________________________________________________________________\n",
            "Layer (type)                 Output Shape              Param #   \n",
            "=================================================================\n",
            "distilbert (TFDistilBertMain multiple                  134734080 \n",
            "_________________________________________________________________\n",
            "pre_classifier (Dense)       multiple                  590592    \n",
            "_________________________________________________________________\n",
            "classifier (Dense)           multiple                  73055     \n",
            "_________________________________________________________________\n",
            "dropout_19 (Dropout)         multiple                  0         \n",
            "=================================================================\n",
            "Total params: 135,397,727\n",
            "Trainable params: 135,397,727\n",
            "Non-trainable params: 0\n",
            "_________________________________________________________________\n"
          ],
          "name": "stdout"
        }
      ]
    },
    {
      "cell_type": "code",
      "metadata": {
        "id": "g3vNxPlj0OX8",
        "colab": {
          "base_uri": "https://localhost:8080/"
        },
        "outputId": "81b22f8a-b30e-4270-cbdd-7a8f7998ad49"
      },
      "source": [
        "loaded_model.summary()"
      ],
      "execution_count": null,
      "outputs": [
        {
          "output_type": "stream",
          "text": [
            "Model: \"tf_distil_bert_for_sequence_classification\"\n",
            "_________________________________________________________________\n",
            "Layer (type)                 Output Shape              Param #   \n",
            "=================================================================\n",
            "distilbert (TFDistilBertMain multiple                  134734080 \n",
            "_________________________________________________________________\n",
            "pre_classifier (Dense)       multiple                  590592    \n",
            "_________________________________________________________________\n",
            "classifier (Dense)           multiple                  73055     \n",
            "_________________________________________________________________\n",
            "dropout_19 (Dropout)         multiple                  0         \n",
            "=================================================================\n",
            "Total params: 135,397,727\n",
            "Trainable params: 135,397,727\n",
            "Non-trainable params: 0\n",
            "_________________________________________________________________\n"
          ],
          "name": "stdout"
        }
      ]
    },
    {
      "cell_type": "code",
      "metadata": {
        "id": "HZbmhg1P0aDn",
        "colab": {
          "base_uri": "https://localhost:8080/"
        },
        "outputId": "8fa9e742-46e1-440b-a87e-911e24da47e0"
      },
      "source": [
        "test_sentence = \"Tos. Fiebre y dolor abdominal con muchos vómitos\"\n",
        "test_sentence_sarcasm = \"News anchor hits back at viewer who sent her snarky note about ‘showing too much cleavage’ during broadcast\"\n",
        "\n",
        "# replace to test_sentence_sarcasm variable, if you want to test sarcasm\n",
        "predict_input = tokenizer.encode(test_sentence,\n",
        "                                 truncation=True,\n",
        "                                 padding=True,\n",
        "                                 return_tensors=\"tf\")\n",
        "\n",
        "tf_output = loaded_model.predict(predict_input)[0]\n",
        "print(tf_output)"
      ],
      "execution_count": null,
      "outputs": [
        {
          "output_type": "stream",
          "text": [
            "[[ -9.204406    -4.7185445   -5.1725287  -10.350285    -5.2964535\n",
            "   -5.8102493   -6.871397    -8.007645    -5.7008142   -9.705943\n",
            "  -13.035691    -8.894673    -9.381257   -11.20696     -3.6932333\n",
            "   -5.318144    -6.4413915   -2.2746615   -0.02607657  -0.5589947\n",
            "   -0.6716875   -0.8639523   -1.5805278   -5.721375    -1.0181592\n",
            "   -1.5578027   -7.6253424   -5.078381    -3.7210345    2.174593\n",
            "   -5.221403    -5.2446523   -5.327662    -8.270119    -5.3224897\n",
            "   -7.440607    -7.647394    -7.0605407   -4.3327293   -2.7049246\n",
            "   -1.1261857   -2.977607    -3.1371937   -5.1968117   -4.1283455\n",
            "   -7.4191785    1.4139282   -3.1280818   -5.3376827   -0.11146447\n",
            "   -8.485879    -4.8212      -5.6235504   -5.139789    -7.5577717\n",
            "   -5.843779    -4.901557    -5.826025    -3.5727067   -5.664364\n",
            "   -6.7173405   -8.720171    -7.7939467   -7.4672117   -5.057476\n",
            "   -4.4025903   -7.1316094   -5.491218    -3.2160065   -3.548831\n",
            "   -7.0706472   -6.5795574   -2.319498    -6.041038    -1.7574955\n",
            "   -2.1015453   -1.9399173    0.20325346  -4.858822    -7.060707\n",
            "   -3.5402856    0.37074795   0.7301831   -3.024352    -4.0462213\n",
            "   -0.6552648   -4.6067877   -4.3255696   -7.46793    -10.286549\n",
            "   -5.7215157   -2.5730152  -10.172734    -5.636172    -7.967367  ]]\n"
          ],
          "name": "stdout"
        }
      ]
    },
    {
      "cell_type": "code",
      "metadata": {
        "id": "Gfprthsl059L"
      },
      "source": [
        "optimizer = tf.keras.optimizers.Adam(learning_rate=5e-5)\n",
        "loaded_model.compile(optimizer=optimizer, loss=loaded_model.compute_loss, metrics=['accuracy'])"
      ],
      "execution_count": null,
      "outputs": []
    },
    {
      "cell_type": "code",
      "metadata": {
        "id": "NxY-tLPZ4jdK",
        "colab": {
          "base_uri": "https://localhost:8080/"
        },
        "outputId": "9ed62a49-f6a7-440c-e1dd-c725075b0efa"
      },
      "source": [
        "loaded_model.summary()"
      ],
      "execution_count": null,
      "outputs": [
        {
          "output_type": "stream",
          "text": [
            "Model: \"tf_distil_bert_for_sequence_classification\"\n",
            "_________________________________________________________________\n",
            "Layer (type)                 Output Shape              Param #   \n",
            "=================================================================\n",
            "distilbert (TFDistilBertMain multiple                  134734080 \n",
            "_________________________________________________________________\n",
            "pre_classifier (Dense)       multiple                  590592    \n",
            "_________________________________________________________________\n",
            "classifier (Dense)           multiple                  73055     \n",
            "_________________________________________________________________\n",
            "dropout_19 (Dropout)         multiple                  0         \n",
            "=================================================================\n",
            "Total params: 135,397,727\n",
            "Trainable params: 135,397,727\n",
            "Non-trainable params: 0\n",
            "_________________________________________________________________\n"
          ],
          "name": "stdout"
        }
      ]
    },
    {
      "cell_type": "code",
      "metadata": {
        "id": "iC8IBpQX5NYQ",
        "colab": {
          "base_uri": "https://localhost:8080/",
          "height": 185
        },
        "outputId": "fd50caef-ca6e-4b70-a9de-1a381999cda2"
      },
      "source": [
        "#optimizer = tf.keras.optimizers.Adam(learning_rate=5e-5)\n",
        "#new_model.compile(optimizer=optimizer, loss=new_model.compute_loss, metrics=['accuracy'])"
      ],
      "execution_count": null,
      "outputs": [
        {
          "output_type": "error",
          "ename": "NameError",
          "evalue": "ignored",
          "traceback": [
            "\u001b[0;31m---------------------------------------------------------------------------\u001b[0m",
            "\u001b[0;31mNameError\u001b[0m                                 Traceback (most recent call last)",
            "\u001b[0;32m<ipython-input-23-759d58ca2a73>\u001b[0m in \u001b[0;36m<module>\u001b[0;34m()\u001b[0m\n\u001b[1;32m      1\u001b[0m \u001b[0moptimizer\u001b[0m \u001b[0;34m=\u001b[0m \u001b[0mtf\u001b[0m\u001b[0;34m.\u001b[0m\u001b[0mkeras\u001b[0m\u001b[0;34m.\u001b[0m\u001b[0moptimizers\u001b[0m\u001b[0;34m.\u001b[0m\u001b[0mAdam\u001b[0m\u001b[0;34m(\u001b[0m\u001b[0mlearning_rate\u001b[0m\u001b[0;34m=\u001b[0m\u001b[0;36m5e-5\u001b[0m\u001b[0;34m)\u001b[0m\u001b[0;34m\u001b[0m\u001b[0;34m\u001b[0m\u001b[0m\n\u001b[0;32m----> 2\u001b[0;31m \u001b[0mnew_model\u001b[0m\u001b[0;34m.\u001b[0m\u001b[0mcompile\u001b[0m\u001b[0;34m(\u001b[0m\u001b[0moptimizer\u001b[0m\u001b[0;34m=\u001b[0m\u001b[0moptimizer\u001b[0m\u001b[0;34m,\u001b[0m \u001b[0mloss\u001b[0m\u001b[0;34m=\u001b[0m\u001b[0mnew_model\u001b[0m\u001b[0;34m.\u001b[0m\u001b[0mcompute_loss\u001b[0m\u001b[0;34m,\u001b[0m \u001b[0mmetrics\u001b[0m\u001b[0;34m=\u001b[0m\u001b[0;34m[\u001b[0m\u001b[0;34m'accuracy'\u001b[0m\u001b[0;34m]\u001b[0m\u001b[0;34m)\u001b[0m\u001b[0;34m\u001b[0m\u001b[0;34m\u001b[0m\u001b[0m\n\u001b[0m",
            "\u001b[0;31mNameError\u001b[0m: name 'new_model' is not defined"
          ]
        }
      ]
    },
    {
      "cell_type": "code",
      "metadata": {
        "id": "MkUqJuN95XA5"
      },
      "source": [
        ""
      ],
      "execution_count": null,
      "outputs": []
    }
  ]
}